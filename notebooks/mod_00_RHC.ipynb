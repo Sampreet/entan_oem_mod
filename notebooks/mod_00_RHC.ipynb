{
 "metadata": {
  "language_info": {
   "codemirror_mode": {
    "name": "ipython",
    "version": 3
   },
   "file_extension": ".py",
   "mimetype": "text/x-python",
   "name": "python",
   "nbconvert_exporter": "python",
   "pygments_lexer": "ipython3",
   "version": "3.8.5"
  },
  "orig_nbformat": 2,
  "kernelspec": {
   "name": "python385jvsc74a57bd0b3ba2566441a7c06988d0923437866b63cedc61552a5af99d1f4fb67d367b25f",
   "display_name": "Python 3.8.5 64-bit ('base': conda)"
  }
 },
 "nbformat": 4,
 "nbformat_minor": 2,
 "cells": [
  {
   "source": [],
   "cell_type": "markdown",
   "metadata": {}
  },
  {
   "source": [
    "# Stability Analysis using Routh-Hurwitz Criterion"
   ],
   "cell_type": "markdown",
   "metadata": {}
  },
  {
   "source": [
    "## Imports and Initialization"
   ],
   "cell_type": "markdown",
   "metadata": {}
  },
  {
   "cell_type": "code",
   "execution_count": 1,
   "metadata": {},
   "outputs": [],
   "source": [
    "# dependencies\n",
    "from IPython.display import display, Math\n",
    "from sympy import det, eye, im, latex, Matrix, re, symbols"
   ]
  },
  {
   "cell_type": "code",
   "execution_count": 2,
   "metadata": {},
   "outputs": [],
   "source": [
    "# system parameters\n",
    "omega_0, omega_1, kappa, gamma_0, gamma_1 = symbols('\\\\omega_{0}, \\\\omega_{1}, \\\\kappa, \\\\gamma_{0}, \\\\gamma_{1}', real=True, positive=True)\n",
    "Delta, G_10, G_11, G_0R, G_0I = symbols('\\\\Delta, G_{10}, G_{11}, G_{0R}, G_{0I}', real=True)"
   ]
  },
  {
   "source": [
    "## The Drift Matrix"
   ],
   "cell_type": "markdown",
   "metadata": {}
  },
  {
   "cell_type": "code",
   "execution_count": 3,
   "metadata": {},
   "outputs": [
    {
     "output_type": "display_data",
     "data": {
      "text/plain": "<IPython.core.display.Math object>",
      "text/latex": "$\\displaystyle A = \\left[\\begin{matrix}- \\kappa & \\Delta & - 2 G_{0I} & 0 & 0 & 0\\\\- \\Delta & - \\kappa & 2 G_{0R} & 0 & 0 & 0\\\\0 & 0 & - \\gamma_{0} & \\omega_{0} & 0 & 0\\\\2 G_{0R} & 2 G_{0I} & - \\omega_{0} & - \\gamma_{0} & 4 G_{11} & 0\\\\0 & 0 & 0 & 0 & - \\gamma_{1} & \\omega_{1}\\\\0 & 0 & 4 G_{11} & 0 & 4 G_{10} - \\omega_{1} & - \\gamma_{1}\\end{matrix}\\right]$"
     },
     "metadata": {}
    }
   ],
   "source": [
    "# drift matrix\n",
    "A = [[- kappa, Delta, - 2 * G_0I, 0, 0, 0],\n",
    "    [- Delta, - kappa, 2 * G_0R, 0, 0, 0],\n",
    "    [0, 0, - gamma_0, omega_0, 0, 0],\n",
    "    [2 * G_0R, 2 * G_0I, - omega_0, - gamma_0, 4 * G_11, 0],\n",
    "    [0, 0, 0, 0, - gamma_1, omega_1],\n",
    "    [0, 0, 4 * G_11, 0, - omega_1 + 4 * G_10, - gamma_1]]\n",
    "A = Matrix(A)\n",
    "\n",
    "# remove Math function to display LaTeX script\n",
    "display(Math('A = ' + latex(A)))"
   ]
  },
  {
   "source": [
    "## Characteristic Equation and its Coefficients"
   ],
   "cell_type": "markdown",
   "metadata": {}
  },
  {
   "cell_type": "code",
   "execution_count": 4,
   "metadata": {},
   "outputs": [
    {
     "output_type": "display_data",
     "data": {
      "text/plain": "<IPython.core.display.Math object>",
      "text/latex": "$\\displaystyle 16 G_{0I}^{2} G_{10} \\Delta \\omega_{0} \\omega_{1} - 4 G_{0I}^{2} \\Delta \\gamma_{1}^{2} \\omega_{0} - 4 G_{0I}^{2} \\Delta \\omega_{0} \\omega_{1}^{2} + 16 G_{0R}^{2} G_{10} \\Delta \\omega_{0} \\omega_{1} - 4 G_{0R}^{2} \\Delta \\gamma_{1}^{2} \\omega_{0} - 4 G_{0R}^{2} \\Delta \\omega_{0} \\omega_{1}^{2} - 4 G_{10} \\Delta^{2} \\gamma_{0}^{2} \\omega_{1} - 4 G_{10} \\Delta^{2} \\omega_{0}^{2} \\omega_{1} - 4 G_{10} \\gamma_{0}^{2} \\kappa^{2} \\omega_{1} - 4 G_{10} \\kappa^{2} \\omega_{0}^{2} \\omega_{1} - 16 G_{11}^{2} \\Delta^{2} \\omega_{0} \\omega_{1} - 16 G_{11}^{2} \\kappa^{2} \\omega_{0} \\omega_{1} + \\Delta^{2} \\gamma_{0}^{2} \\gamma_{1}^{2} + \\Delta^{2} \\gamma_{0}^{2} \\omega_{1}^{2} + \\Delta^{2} \\gamma_{1}^{2} \\omega_{0}^{2} + \\Delta^{2} \\omega_{0}^{2} \\omega_{1}^{2} + \\gamma_{0}^{2} \\gamma_{1}^{2} \\kappa^{2} + \\gamma_{0}^{2} \\kappa^{2} \\omega_{1}^{2} + \\gamma_{1}^{2} \\kappa^{2} \\omega_{0}^{2} + \\kappa^{2} \\omega_{0}^{2} \\omega_{1}^{2} + \\lambda^{6} + \\lambda^{5} \\left(2 \\gamma_{0} + 2 \\gamma_{1} + 2 \\kappa\\right) + \\lambda^{4} \\left(- 4 G_{10} \\omega_{1} + \\Delta^{2} + \\gamma_{0}^{2} + 4 \\gamma_{0} \\gamma_{1} + 4 \\gamma_{0} \\kappa + \\gamma_{1}^{2} + 4 \\gamma_{1} \\kappa + \\kappa^{2} + \\omega_{0}^{2} + \\omega_{1}^{2}\\right) + \\lambda^{3} \\left(- 8 G_{10} \\gamma_{0} \\omega_{1} - 8 G_{10} \\kappa \\omega_{1} + 2 \\Delta^{2} \\gamma_{0} + 2 \\Delta^{2} \\gamma_{1} + 2 \\gamma_{0}^{2} \\gamma_{1} + 2 \\gamma_{0}^{2} \\kappa + 2 \\gamma_{0} \\gamma_{1}^{2} + 8 \\gamma_{0} \\gamma_{1} \\kappa + 2 \\gamma_{0} \\kappa^{2} + 2 \\gamma_{0} \\omega_{1}^{2} + 2 \\gamma_{1}^{2} \\kappa + 2 \\gamma_{1} \\kappa^{2} + 2 \\gamma_{1} \\omega_{0}^{2} + 2 \\kappa \\omega_{0}^{2} + 2 \\kappa \\omega_{1}^{2}\\right) + \\lambda^{2} \\left(- 4 G_{0I}^{2} \\Delta \\omega_{0} - 4 G_{0R}^{2} \\Delta \\omega_{0} - 4 G_{10} \\Delta^{2} \\omega_{1} - 4 G_{10} \\gamma_{0}^{2} \\omega_{1} - 16 G_{10} \\gamma_{0} \\kappa \\omega_{1} - 4 G_{10} \\kappa^{2} \\omega_{1} - 4 G_{10} \\omega_{0}^{2} \\omega_{1} - 16 G_{11}^{2} \\omega_{0} \\omega_{1} + \\Delta^{2} \\gamma_{0}^{2} + 4 \\Delta^{2} \\gamma_{0} \\gamma_{1} + \\Delta^{2} \\gamma_{1}^{2} + \\Delta^{2} \\omega_{0}^{2} + \\Delta^{2} \\omega_{1}^{2} + \\gamma_{0}^{2} \\gamma_{1}^{2} + 4 \\gamma_{0}^{2} \\gamma_{1} \\kappa + \\gamma_{0}^{2} \\kappa^{2} + \\gamma_{0}^{2} \\omega_{1}^{2} + 4 \\gamma_{0} \\gamma_{1}^{2} \\kappa + 4 \\gamma_{0} \\gamma_{1} \\kappa^{2} + 4 \\gamma_{0} \\kappa \\omega_{1}^{2} + \\gamma_{1}^{2} \\kappa^{2} + \\gamma_{1}^{2} \\omega_{0}^{2} + 4 \\gamma_{1} \\kappa \\omega_{0}^{2} + \\kappa^{2} \\omega_{0}^{2} + \\kappa^{2} \\omega_{1}^{2} + \\omega_{0}^{2} \\omega_{1}^{2}\\right) + \\lambda \\left(- 8 G_{0I}^{2} \\Delta \\gamma_{1} \\omega_{0} - 8 G_{0R}^{2} \\Delta \\gamma_{1} \\omega_{0} - 8 G_{10} \\Delta^{2} \\gamma_{0} \\omega_{1} - 8 G_{10} \\gamma_{0}^{2} \\kappa \\omega_{1} - 8 G_{10} \\gamma_{0} \\kappa^{2} \\omega_{1} - 8 G_{10} \\kappa \\omega_{0}^{2} \\omega_{1} - 32 G_{11}^{2} \\kappa \\omega_{0} \\omega_{1} + 2 \\Delta^{2} \\gamma_{0}^{2} \\gamma_{1} + 2 \\Delta^{2} \\gamma_{0} \\gamma_{1}^{2} + 2 \\Delta^{2} \\gamma_{0} \\omega_{1}^{2} + 2 \\Delta^{2} \\gamma_{1} \\omega_{0}^{2} + 2 \\gamma_{0}^{2} \\gamma_{1}^{2} \\kappa + 2 \\gamma_{0}^{2} \\gamma_{1} \\kappa^{2} + 2 \\gamma_{0}^{2} \\kappa \\omega_{1}^{2} + 2 \\gamma_{0} \\gamma_{1}^{2} \\kappa^{2} + 2 \\gamma_{0} \\kappa^{2} \\omega_{1}^{2} + 2 \\gamma_{1}^{2} \\kappa \\omega_{0}^{2} + 2 \\gamma_{1} \\kappa^{2} \\omega_{0}^{2} + 2 \\kappa \\omega_{0}^{2} \\omega_{1}^{2}\\right) = 0$"
     },
     "metadata": {}
    }
   ],
   "source": [
    "# eigenvalues\n",
    "lamb = symbols('\\\\lambda', complex=True)\n",
    "\n",
    "# eigenvalue equation\n",
    "eqtn_eig = lamb * eye(6) - A\n",
    "\n",
    "# characteristic equation\n",
    "eqtn_chr = det(eqtn_eig).collect(lamb)\n",
    "\n",
    "# remove Math function to display LaTeX script\n",
    "display(Math(latex(eqtn_chr) + ' = 0'))"
   ]
  },
  {
   "cell_type": "code",
   "execution_count": 5,
   "metadata": {},
   "outputs": [
    {
     "output_type": "display_data",
     "data": {
      "text/plain": "<IPython.core.display.Math object>",
      "text/latex": "$\\displaystyle a_{0} = 1$"
     },
     "metadata": {}
    },
    {
     "output_type": "display_data",
     "data": {
      "text/plain": "<IPython.core.display.Math object>",
      "text/latex": "$\\displaystyle a_{1} = 2 \\gamma_{0} + 2 \\gamma_{1} + 2 \\kappa$"
     },
     "metadata": {}
    },
    {
     "output_type": "display_data",
     "data": {
      "text/plain": "<IPython.core.display.Math object>",
      "text/latex": "$\\displaystyle a_{2} = - 4 G_{10} \\omega_{1} + \\Delta^{2} + \\gamma_{0}^{2} + 4 \\gamma_{0} \\gamma_{1} + 4 \\gamma_{0} \\kappa + \\gamma_{1}^{2} + 4 \\gamma_{1} \\kappa + \\kappa^{2} + \\omega_{0}^{2} + \\omega_{1}^{2}$"
     },
     "metadata": {}
    },
    {
     "output_type": "display_data",
     "data": {
      "text/plain": "<IPython.core.display.Math object>",
      "text/latex": "$\\displaystyle a_{3} = - 8 G_{10} \\gamma_{0} \\omega_{1} - 8 G_{10} \\kappa \\omega_{1} + 2 \\Delta^{2} \\gamma_{0} + 2 \\Delta^{2} \\gamma_{1} + 2 \\gamma_{0}^{2} \\gamma_{1} + 2 \\gamma_{0}^{2} \\kappa + 2 \\gamma_{0} \\gamma_{1}^{2} + 8 \\gamma_{0} \\gamma_{1} \\kappa + 2 \\gamma_{0} \\kappa^{2} + 2 \\gamma_{0} \\omega_{1}^{2} + 2 \\gamma_{1}^{2} \\kappa + 2 \\gamma_{1} \\kappa^{2} + 2 \\gamma_{1} \\omega_{0}^{2} + 2 \\kappa \\omega_{0}^{2} + 2 \\kappa \\omega_{1}^{2}$"
     },
     "metadata": {}
    },
    {
     "output_type": "display_data",
     "data": {
      "text/plain": "<IPython.core.display.Math object>",
      "text/latex": "$\\displaystyle a_{4} = - 4 G_{0I}^{2} \\Delta \\omega_{0} - 4 G_{0R}^{2} \\Delta \\omega_{0} - 4 G_{10} \\Delta^{2} \\omega_{1} - 4 G_{10} \\gamma_{0}^{2} \\omega_{1} - 16 G_{10} \\gamma_{0} \\kappa \\omega_{1} - 4 G_{10} \\kappa^{2} \\omega_{1} - 4 G_{10} \\omega_{0}^{2} \\omega_{1} - 16 G_{11}^{2} \\omega_{0} \\omega_{1} + \\Delta^{2} \\gamma_{0}^{2} + 4 \\Delta^{2} \\gamma_{0} \\gamma_{1} + \\Delta^{2} \\gamma_{1}^{2} + \\Delta^{2} \\omega_{0}^{2} + \\Delta^{2} \\omega_{1}^{2} + \\gamma_{0}^{2} \\gamma_{1}^{2} + 4 \\gamma_{0}^{2} \\gamma_{1} \\kappa + \\gamma_{0}^{2} \\kappa^{2} + \\gamma_{0}^{2} \\omega_{1}^{2} + 4 \\gamma_{0} \\gamma_{1}^{2} \\kappa + 4 \\gamma_{0} \\gamma_{1} \\kappa^{2} + 4 \\gamma_{0} \\kappa \\omega_{1}^{2} + \\gamma_{1}^{2} \\kappa^{2} + \\gamma_{1}^{2} \\omega_{0}^{2} + 4 \\gamma_{1} \\kappa \\omega_{0}^{2} + \\kappa^{2} \\omega_{0}^{2} + \\kappa^{2} \\omega_{1}^{2} + \\omega_{0}^{2} \\omega_{1}^{2}$"
     },
     "metadata": {}
    },
    {
     "output_type": "display_data",
     "data": {
      "text/plain": "<IPython.core.display.Math object>",
      "text/latex": "$\\displaystyle a_{5} = - 8 G_{0I}^{2} \\Delta \\gamma_{1} \\omega_{0} - 8 G_{0R}^{2} \\Delta \\gamma_{1} \\omega_{0} - 8 G_{10} \\Delta^{2} \\gamma_{0} \\omega_{1} - 8 G_{10} \\gamma_{0}^{2} \\kappa \\omega_{1} - 8 G_{10} \\gamma_{0} \\kappa^{2} \\omega_{1} - 8 G_{10} \\kappa \\omega_{0}^{2} \\omega_{1} - 32 G_{11}^{2} \\kappa \\omega_{0} \\omega_{1} + 2 \\Delta^{2} \\gamma_{0}^{2} \\gamma_{1} + 2 \\Delta^{2} \\gamma_{0} \\gamma_{1}^{2} + 2 \\Delta^{2} \\gamma_{0} \\omega_{1}^{2} + 2 \\Delta^{2} \\gamma_{1} \\omega_{0}^{2} + 2 \\gamma_{0}^{2} \\gamma_{1}^{2} \\kappa + 2 \\gamma_{0}^{2} \\gamma_{1} \\kappa^{2} + 2 \\gamma_{0}^{2} \\kappa \\omega_{1}^{2} + 2 \\gamma_{0} \\gamma_{1}^{2} \\kappa^{2} + 2 \\gamma_{0} \\kappa^{2} \\omega_{1}^{2} + 2 \\gamma_{1}^{2} \\kappa \\omega_{0}^{2} + 2 \\gamma_{1} \\kappa^{2} \\omega_{0}^{2} + 2 \\kappa \\omega_{0}^{2} \\omega_{1}^{2}$"
     },
     "metadata": {}
    },
    {
     "output_type": "display_data",
     "data": {
      "text/plain": "<IPython.core.display.Math object>",
      "text/latex": "$\\displaystyle a_{6} = 16 G_{0I}^{2} G_{10} \\Delta \\omega_{0} \\omega_{1} - 4 G_{0I}^{2} \\Delta \\gamma_{1}^{2} \\omega_{0} - 4 G_{0I}^{2} \\Delta \\omega_{0} \\omega_{1}^{2} + 16 G_{0R}^{2} G_{10} \\Delta \\omega_{0} \\omega_{1} - 4 G_{0R}^{2} \\Delta \\gamma_{1}^{2} \\omega_{0} - 4 G_{0R}^{2} \\Delta \\omega_{0} \\omega_{1}^{2} - 4 G_{10} \\Delta^{2} \\gamma_{0}^{2} \\omega_{1} - 4 G_{10} \\Delta^{2} \\omega_{0}^{2} \\omega_{1} - 4 G_{10} \\gamma_{0}^{2} \\kappa^{2} \\omega_{1} - 4 G_{10} \\kappa^{2} \\omega_{0}^{2} \\omega_{1} - 16 G_{11}^{2} \\Delta^{2} \\omega_{0} \\omega_{1} - 16 G_{11}^{2} \\kappa^{2} \\omega_{0} \\omega_{1} + \\Delta^{2} \\gamma_{0}^{2} \\gamma_{1}^{2} + \\Delta^{2} \\gamma_{0}^{2} \\omega_{1}^{2} + \\Delta^{2} \\gamma_{1}^{2} \\omega_{0}^{2} + \\Delta^{2} \\omega_{0}^{2} \\omega_{1}^{2} + \\gamma_{0}^{2} \\gamma_{1}^{2} \\kappa^{2} + \\gamma_{0}^{2} \\kappa^{2} \\omega_{1}^{2} + \\gamma_{1}^{2} \\kappa^{2} \\omega_{0}^{2} + \\kappa^{2} \\omega_{0}^{2} \\omega_{1}^{2}$"
     },
     "metadata": {}
    }
   ],
   "source": [
    "# obtain the coefficients\n",
    "coeffs = list()\n",
    "temp = 0\n",
    "for i in range(6):\n",
    "    coeffs.append(eqtn_chr.coeff(lamb**(6 - i)))\n",
    "    temp += coeffs[i] * lamb**(6 - i)\n",
    "coeffs.append(eqtn_chr - temp)\n",
    "\n",
    "# remove Math function to display LaTeX script\n",
    "for i in range(len(coeffs)):\n",
    "    display(Math('a_{' + str(i) + '} = ' + latex(coeffs[i])))"
   ]
  }
 ]
}