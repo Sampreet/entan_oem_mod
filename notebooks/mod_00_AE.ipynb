{
 "cells": [
  {
   "cell_type": "markdown",
   "source": [
    "# Adiabatic Elimination for the Frequency Modulated OEM System"
   ],
   "metadata": {}
  },
  {
   "cell_type": "markdown",
   "source": [
    "## Imports and Initialization"
   ],
   "metadata": {}
  },
  {
   "cell_type": "code",
   "execution_count": 1,
   "source": [
    "# dependencies\r\n",
    "from IPython.display import display, Math\r\n",
    "from sympy import conjugate, Function, I, latex, Matrix, solve, sqrt, Symbol, symbols\r\n",
    "from sympy.physics.quantum import Dagger"
   ],
   "outputs": [],
   "metadata": {}
  },
  {
   "cell_type": "code",
   "execution_count": 2,
   "source": [
    "# time \r\n",
    "t = symbols('t', real=True, positive=True)\r\n",
    "# real positive\r\n",
    "kappa, g_0, g_1, gamma_0, gamma_1, omega_0, omega_1 = symbols('\\\\kappa, g_{0}, g_{1}, \\\\gamma_{0}, \\\\gamma_{1}, \\\\omega_{0}, \\\\omega_{1}', real=True, positive=True)\r\n",
    "# real\r\n",
    "Delta_t = Function('\\\\Delta', commutative=True, real=True)(t)\r\n",
    "Gamma_0_t = Function('\\\\Gamma_{0}', commutative=True, complex=True)(t)\r\n",
    "Gamma_0I_t = Function('\\\\Gamma_{0I}', commutative=True, real=True)(t)\r\n",
    "eta_0_t = Function('\\\\eta_{0}', commutative=True, complex=True)(t)\r\n",
    "# interaction\r\n",
    "G_0_t = Function('G_{0}', commutative=True, complex=True)(t)\r\n",
    "G_0R_t = Function('G_{0R}', commutative=True, real=True)(t)\r\n",
    "G_0I_t = Function('G_{0I}', commutative=True, real=True)(t)\r\n",
    "G_10_t = Function('G_{10}', commutative=True, real=True)(t)\r\n",
    "G_11_t = Function('G_{11}', commutative=True, real=True)(t)\r\n",
    "\r\n",
    "# input noises\r\n",
    "a_t = Function('\\\\hat{a}^{(in)}', commutative=False)(t)\r\n",
    "b_0_t = Function('\\\\hat{b}_{0}^{(in)}', commutative=False)(t)\r\n",
    "b_1_t = Function('\\\\hat{b}_{1}^{(in)}', commutative=False)(t)\r\n",
    "\r\n",
    "# input noises\r\n",
    "a_in_t = Function('\\\\hat{a}^{(in)}', commutative=False)(t)\r\n",
    "b_0_in_t = Function('\\\\hat{b}_{0}^{(in)}', commutative=False)(t)\r\n",
    "b_1_in_t = Function('\\\\hat{b}_{1}^{(in)}', commutative=False)(t)\r\n",
    "\r\n",
    "# quantum fluctuations\r\n",
    "delta_a_t = Function('\\\\delta \\\\hat{a}', commutative=False)(t)\r\n",
    "delta_b_0_t = Function('\\\\delta \\\\hat{b}_{0}', commutative=False)(t)\r\n",
    "delta_b_1_t = Function('\\\\delta \\\\hat{b}_{1}', commutative=False)(t)\r\n",
    "\r\n",
    "# dimensionless quadratures\r\n",
    "Q_0_t = Function('\\\\hat{Q}_{0}', commutative=False)(t)\r\n",
    "P_0_t = Function('\\\\hat{P}_{0}', commutative=False)(t)\r\n",
    "Q_1_t = Function('\\\\hat{Q}_{1}', commutative=False)(t)\r\n",
    "P_1_t = Function('\\\\hat{P}_{1}', commutative=False)(t)\r\n",
    "\r\n",
    "# quadrature noises\r\n",
    "Q_0_in_t = Function('\\\\hat{Q}_{0}^{(in)}', commutative=False)(t)\r\n",
    "P_0_in_t = Function('\\\\hat{P}_{0}^{(in)}', commutative=False)(t)\r\n",
    "Q_1_in_t = Function('\\\\hat{Q}_{1}^{(in)}', commutative=False)(t)\r\n",
    "P_1_in_t = Function('\\\\hat{P}_{1}^{(in)}', commutative=False)(t)"
   ],
   "outputs": [],
   "metadata": {}
  },
  {
   "cell_type": "markdown",
   "source": [
    "## Quantum Langevin Equations"
   ],
   "metadata": {}
  },
  {
   "cell_type": "code",
   "execution_count": 3,
   "source": [
    "# cavity decay and vaccum fluctuations\r\n",
    "expr_ddelta_a_dt_t_io = ((- kappa - I * Delta_t) * delta_a_t + I * G_0_t * (Dagger(delta_b_0_t) + delta_b_0_t) + sqrt(2 * kappa) * a_in_t).expand()\r\n",
    "display(Math('\\\\frac{d \\\\dot{\\\\delta \\\\hat{a}}}{dt}(t) = ' + latex(expr_ddelta_a_dt_t_io.collect(I * g_0))))\r\n",
    "# mechanical damping and thermal fluctuations\r\n",
    "expr_ddelta_b_0_dt_t_io = ((- gamma_0 - I * omega_0) * delta_b_0_t + I * conjugate(G_0_t) * delta_a_t + I * G_0_t * Dagger(delta_a_t) + 2 * I * G_11_t * (Dagger(delta_b_1_t) + delta_b_1_t) + sqrt(2 * gamma_0) * b_0_in_t).expand()\r\n",
    "display(Math('\\\\frac{d \\\\dot{\\\\delta \\\\hat{b}}_0}{dt}(t) = ' + latex(expr_ddelta_b_0_dt_t_io.collect(I * g_1))))\r\n",
    "# electrical damping and thermal fluctuations\r\n",
    "expr_ddelta_b_1_dt_t_io = ((- gamma_1 - I * omega_1) * delta_b_1_t + 2 * I * G_11_t * (Dagger(delta_b_0_t) + delta_b_0_t) + 2* I * G_10_t * (Dagger(delta_b_1_t) + delta_b_1_t) + sqrt(2 * gamma_1) * b_1_in_t).expand()\r\n",
    "display(Math('\\\\frac{d \\\\dot{\\\\delta \\\\hat{b}}_1}{dt}(t) = ' + latex(expr_ddelta_b_1_dt_t_io.collect(2 * I * g_1))))"
   ],
   "outputs": [
    {
     "output_type": "display_data",
     "data": {
      "text/plain": [
       "<IPython.core.display.Math object>"
      ],
      "text/latex": [
       "$\\displaystyle \\frac{d \\dot{\\delta \\hat{a}}}{dt}(t) = \\sqrt{2} \\sqrt{\\kappa} \\hat{a}^{(in)}{\\left(t \\right)} - \\kappa \\delta \\hat{a}{\\left(t \\right)} + i \\operatorname{G_{0}}{\\left(t \\right)} \\delta \\hat{b}_{0}{\\left(t \\right)} + i \\operatorname{G_{0}}{\\left(t \\right)} \\delta \\hat{b}_{0}{\\left(t \\right)}^{\\dagger} - i \\Delta{\\left(t \\right)} \\delta \\hat{a}{\\left(t \\right)}$"
      ]
     },
     "metadata": {}
    },
    {
     "output_type": "display_data",
     "data": {
      "text/plain": [
       "<IPython.core.display.Math object>"
      ],
      "text/latex": [
       "$\\displaystyle \\frac{d \\dot{\\delta \\hat{b}}_0}{dt}(t) = \\sqrt{2} \\sqrt{\\gamma_{0}} \\hat{b}_{0}^{(in)}{\\left(t \\right)} - \\gamma_{0} \\delta \\hat{b}_{0}{\\left(t \\right)} - i \\omega_{0} \\delta \\hat{b}_{0}{\\left(t \\right)} + i \\operatorname{G_{0}}{\\left(t \\right)} \\delta \\hat{a}{\\left(t \\right)}^{\\dagger} + 2 i \\operatorname{G_{11}}{\\left(t \\right)} \\delta \\hat{b}_{1}{\\left(t \\right)} + 2 i \\operatorname{G_{11}}{\\left(t \\right)} \\delta \\hat{b}_{1}{\\left(t \\right)}^{\\dagger} + i \\overline{\\operatorname{G_{0}}{\\left(t \\right)}} \\delta \\hat{a}{\\left(t \\right)}$"
      ]
     },
     "metadata": {}
    },
    {
     "output_type": "display_data",
     "data": {
      "text/plain": [
       "<IPython.core.display.Math object>"
      ],
      "text/latex": [
       "$\\displaystyle \\frac{d \\dot{\\delta \\hat{b}}_1}{dt}(t) = \\sqrt{2} \\sqrt{\\gamma_{1}} \\hat{b}_{1}^{(in)}{\\left(t \\right)} - \\gamma_{1} \\delta \\hat{b}_{1}{\\left(t \\right)} - i \\omega_{1} \\delta \\hat{b}_{1}{\\left(t \\right)} + 2 i \\operatorname{G_{10}}{\\left(t \\right)} \\delta \\hat{b}_{1}{\\left(t \\right)} + 2 i \\operatorname{G_{10}}{\\left(t \\right)} \\delta \\hat{b}_{1}{\\left(t \\right)}^{\\dagger} + 2 i \\operatorname{G_{11}}{\\left(t \\right)} \\delta \\hat{b}_{0}{\\left(t \\right)} + 2 i \\operatorname{G_{11}}{\\left(t \\right)} \\delta \\hat{b}_{0}{\\left(t \\right)}^{\\dagger}$"
      ]
     },
     "metadata": {}
    }
   ],
   "metadata": {}
  },
  {
   "cell_type": "markdown",
   "source": [
    "## Adiabatic Elimination"
   ],
   "metadata": {}
  },
  {
   "cell_type": "code",
   "execution_count": 4,
   "source": [
    "# obtain solutions for optical modes\r\n",
    "sols = solve(expr_ddelta_a_dt_t_io, delta_a_t)\r\n",
    "expr_delta_a_adia_t = sols[0].expand()\r\n",
    "display(Math('\\\\hat{\\\\delta \\\\tilde{a}} (t) = ' + latex(expr_delta_a_adia_t)))\r\n",
    "\r\n",
    "# substitution list\r\n",
    "list_subs = [\r\n",
    "    (delta_a_t, expr_delta_a_adia_t)\r\n",
    "]\r\n",
    "# mechanical mode equations\r\n",
    "expr_ddelta_b_0_adia_dt_t = expr_ddelta_b_0_dt_t_io.subs(list_subs).expand()\r\n",
    "display(Math('\\\\dot{\\\\delta \\\\hat{b}} (t) = ' + latex(expr_ddelta_b_0_adia_dt_t)))\r\n",
    "expr_ddelta_b_1_adia_dt_t = expr_ddelta_b_1_dt_t_io.subs(list_subs).expand()\r\n",
    "display(Math('\\\\dot{\\\\delta \\\\hat{b}} (t) = ' + latex(expr_ddelta_b_1_adia_dt_t)))"
   ],
   "outputs": [
    {
     "output_type": "display_data",
     "data": {
      "text/plain": [
       "<IPython.core.display.Math object>"
      ],
      "text/latex": [
       "$\\displaystyle \\hat{\\delta \\tilde{a}} (t) = \\frac{\\sqrt{2} \\sqrt{\\kappa} \\hat{a}^{(in)}{\\left(t \\right)}}{\\kappa + i \\Delta{\\left(t \\right)}} + \\frac{i \\operatorname{G_{0}}{\\left(t \\right)} \\delta \\hat{b}_{0}{\\left(t \\right)}}{\\kappa + i \\Delta{\\left(t \\right)}} + \\frac{i \\operatorname{G_{0}}{\\left(t \\right)} \\delta \\hat{b}_{0}{\\left(t \\right)}^{\\dagger}}{\\kappa + i \\Delta{\\left(t \\right)}}$"
      ]
     },
     "metadata": {}
    },
    {
     "output_type": "display_data",
     "data": {
      "text/plain": [
       "<IPython.core.display.Math object>"
      ],
      "text/latex": [
       "$\\displaystyle \\dot{\\delta \\hat{b}} (t) = \\sqrt{2} \\sqrt{\\gamma_{0}} \\hat{b}_{0}^{(in)}{\\left(t \\right)} - \\gamma_{0} \\delta \\hat{b}_{0}{\\left(t \\right)} + \\frac{\\sqrt{2} i \\sqrt{\\kappa} \\overline{\\operatorname{G_{0}}{\\left(t \\right)}} \\hat{a}^{(in)}{\\left(t \\right)}}{\\kappa + i \\Delta{\\left(t \\right)}} + \\frac{\\sqrt{2} i \\sqrt{\\kappa} \\operatorname{G_{0}}{\\left(t \\right)} \\hat{a}^{(in)}{\\left(t \\right)}^{\\dagger}}{\\kappa - i \\Delta{\\left(t \\right)}} - i \\omega_{0} \\delta \\hat{b}_{0}{\\left(t \\right)} + 2 i \\operatorname{G_{11}}{\\left(t \\right)} \\delta \\hat{b}_{1}{\\left(t \\right)} + 2 i \\operatorname{G_{11}}{\\left(t \\right)} \\delta \\hat{b}_{1}{\\left(t \\right)}^{\\dagger} - \\frac{\\operatorname{G_{0}}{\\left(t \\right)} \\overline{\\operatorname{G_{0}}{\\left(t \\right)}} \\delta \\hat{b}_{0}{\\left(t \\right)}}{\\kappa + i \\Delta{\\left(t \\right)}} - \\frac{\\operatorname{G_{0}}{\\left(t \\right)} \\overline{\\operatorname{G_{0}}{\\left(t \\right)}} \\delta \\hat{b}_{0}{\\left(t \\right)}^{\\dagger}}{\\kappa + i \\Delta{\\left(t \\right)}} + \\frac{\\operatorname{G_{0}}{\\left(t \\right)} \\overline{\\operatorname{G_{0}}{\\left(t \\right)}} \\delta \\hat{b}_{0}{\\left(t \\right)}}{\\kappa - i \\Delta{\\left(t \\right)}} + \\frac{\\operatorname{G_{0}}{\\left(t \\right)} \\overline{\\operatorname{G_{0}}{\\left(t \\right)}} \\delta \\hat{b}_{0}{\\left(t \\right)}^{\\dagger}}{\\kappa - i \\Delta{\\left(t \\right)}}$"
      ]
     },
     "metadata": {}
    },
    {
     "output_type": "display_data",
     "data": {
      "text/plain": [
       "<IPython.core.display.Math object>"
      ],
      "text/latex": [
       "$\\displaystyle \\dot{\\delta \\hat{b}} (t) = \\sqrt{2} \\sqrt{\\gamma_{1}} \\hat{b}_{1}^{(in)}{\\left(t \\right)} - \\gamma_{1} \\delta \\hat{b}_{1}{\\left(t \\right)} - i \\omega_{1} \\delta \\hat{b}_{1}{\\left(t \\right)} + 2 i \\operatorname{G_{10}}{\\left(t \\right)} \\delta \\hat{b}_{1}{\\left(t \\right)} + 2 i \\operatorname{G_{10}}{\\left(t \\right)} \\delta \\hat{b}_{1}{\\left(t \\right)}^{\\dagger} + 2 i \\operatorname{G_{11}}{\\left(t \\right)} \\delta \\hat{b}_{0}{\\left(t \\right)} + 2 i \\operatorname{G_{11}}{\\left(t \\right)} \\delta \\hat{b}_{0}{\\left(t \\right)}^{\\dagger}$"
      ]
     },
     "metadata": {}
    }
   ],
   "metadata": {}
  },
  {
   "cell_type": "code",
   "execution_count": 5,
   "source": [
    "# substituted values\r\n",
    "expr_Gamma_0_t = conjugate(G_0_t) * G_0_t / (kappa - I * Delta_t)\r\n",
    "expr_eta_0_t = G_0_t / (kappa - I * Delta_t)\r\n",
    "# substitution list\r\n",
    "list_subs = [\r\n",
    "    (expr_Gamma_0_t, Gamma_0_t),\r\n",
    "    (conjugate(expr_Gamma_0_t), conjugate(Gamma_0_t)),\r\n",
    "    (expr_eta_0_t, eta_0_t),\r\n",
    "    (conjugate(expr_eta_0_t), conjugate(eta_0_t))\r\n",
    "]\r\n",
    "# display\r\n",
    "display(Math(latex(Gamma_0_t) + ' = ' + latex(expr_Gamma_0_t) + ', \\\\quad ' + latex(eta_0_t) + ' = ' + latex(expr_eta_0_t)))\r\n",
    "\r\n",
    "# substituted equations\r\n",
    "expr_ddelta_b_0_adia_dt_t_subs = expr_ddelta_b_0_adia_dt_t.subs(list_subs).expand()\r\n",
    "display(Math('\\\\dot{\\\\hat{\\\\tilde{b}}}_{0} (t) = ' + latex(expr_ddelta_b_0_adia_dt_t_subs)))\r\n",
    "expr_ddelta_b_1_adia_dt_t_subs = expr_ddelta_b_1_adia_dt_t.subs(list_subs).expand()\r\n",
    "display(Math('\\\\dot{\\\\hat{\\\\tilde{b}}}_{1} (t) = ' + latex(expr_ddelta_b_1_adia_dt_t_subs)))"
   ],
   "outputs": [
    {
     "output_type": "display_data",
     "data": {
      "text/plain": [
       "<IPython.core.display.Math object>"
      ],
      "text/latex": [
       "$\\displaystyle \\Gamma_{0}{\\left(t \\right)} = \\frac{\\operatorname{G_{0}}{\\left(t \\right)} \\overline{\\operatorname{G_{0}}{\\left(t \\right)}}}{\\kappa - i \\Delta{\\left(t \\right)}}, \\quad \\eta_{0}{\\left(t \\right)} = \\frac{\\operatorname{G_{0}}{\\left(t \\right)}}{\\kappa - i \\Delta{\\left(t \\right)}}$"
      ]
     },
     "metadata": {}
    },
    {
     "output_type": "display_data",
     "data": {
      "text/plain": [
       "<IPython.core.display.Math object>"
      ],
      "text/latex": [
       "$\\displaystyle \\dot{\\hat{\\tilde{b}}}_{0} (t) = \\sqrt{2} \\sqrt{\\gamma_{0}} \\hat{b}_{0}^{(in)}{\\left(t \\right)} - \\gamma_{0} \\delta \\hat{b}_{0}{\\left(t \\right)} + \\sqrt{2} i \\sqrt{\\kappa} \\eta_{0}{\\left(t \\right)} \\hat{a}^{(in)}{\\left(t \\right)}^{\\dagger} + \\sqrt{2} i \\sqrt{\\kappa} \\overline{\\eta_{0}{\\left(t \\right)}} \\hat{a}^{(in)}{\\left(t \\right)} - i \\omega_{0} \\delta \\hat{b}_{0}{\\left(t \\right)} + 2 i \\operatorname{G_{11}}{\\left(t \\right)} \\delta \\hat{b}_{1}{\\left(t \\right)} + 2 i \\operatorname{G_{11}}{\\left(t \\right)} \\delta \\hat{b}_{1}{\\left(t \\right)}^{\\dagger} + \\Gamma_{0}{\\left(t \\right)} \\delta \\hat{b}_{0}{\\left(t \\right)} + \\Gamma_{0}{\\left(t \\right)} \\delta \\hat{b}_{0}{\\left(t \\right)}^{\\dagger} - \\overline{\\Gamma_{0}{\\left(t \\right)}} \\delta \\hat{b}_{0}{\\left(t \\right)} - \\overline{\\Gamma_{0}{\\left(t \\right)}} \\delta \\hat{b}_{0}{\\left(t \\right)}^{\\dagger}$"
      ]
     },
     "metadata": {}
    },
    {
     "output_type": "display_data",
     "data": {
      "text/plain": [
       "<IPython.core.display.Math object>"
      ],
      "text/latex": [
       "$\\displaystyle \\dot{\\hat{\\tilde{b}}}_{1} (t) = \\sqrt{2} \\sqrt{\\gamma_{1}} \\hat{b}_{1}^{(in)}{\\left(t \\right)} - \\gamma_{1} \\delta \\hat{b}_{1}{\\left(t \\right)} - i \\omega_{1} \\delta \\hat{b}_{1}{\\left(t \\right)} + 2 i \\operatorname{G_{10}}{\\left(t \\right)} \\delta \\hat{b}_{1}{\\left(t \\right)} + 2 i \\operatorname{G_{10}}{\\left(t \\right)} \\delta \\hat{b}_{1}{\\left(t \\right)}^{\\dagger} + 2 i \\operatorname{G_{11}}{\\left(t \\right)} \\delta \\hat{b}_{0}{\\left(t \\right)} + 2 i \\operatorname{G_{11}}{\\left(t \\right)} \\delta \\hat{b}_{0}{\\left(t \\right)}^{\\dagger}$"
      ]
     },
     "metadata": {}
    }
   ],
   "metadata": {}
  },
  {
   "cell_type": "markdown",
   "source": [
    "## Quadrature Rates"
   ],
   "metadata": {}
  },
  {
   "cell_type": "code",
   "execution_count": 6,
   "source": [
    "# rotated quadratures\r\n",
    "expr_delta_b_0_t = (Q_0_t + I * P_0_t) / sqrt(2)\r\n",
    "expr_delta_b_1_t = (Q_1_t + I * P_1_t) / sqrt(2)\r\n",
    "expr_b_0_in_t = (Q_0_in_t + I * P_0_in_t) / sqrt(2)\r\n",
    "expr_b_1_in_t = (Q_1_in_t + I * P_1_in_t) / sqrt(2)\r\n",
    "# substitution list\r\n",
    "list_subs = [\r\n",
    "    (delta_b_0_t, expr_delta_b_0_t),\r\n",
    "    (Dagger(Q_0_t), Q_0_t),\r\n",
    "    (Dagger(P_0_t), P_0_t),\r\n",
    "    (delta_b_1_t, expr_delta_b_1_t),\r\n",
    "    (Dagger(Q_1_t), Q_1_t),\r\n",
    "    (Dagger(P_1_t), P_1_t),\r\n",
    "    (b_0_in_t, expr_b_0_in_t),\r\n",
    "    (Dagger(Q_0_in_t), Q_0_in_t),\r\n",
    "    (Dagger(P_0_in_t), P_0_in_t),\r\n",
    "    (b_1_in_t, expr_b_1_in_t),\r\n",
    "    (Dagger(Q_1_in_t), Q_1_in_t),\r\n",
    "    (Dagger(P_1_in_t), P_1_in_t)\r\n",
    "]\r\n",
    "# display\r\n",
    "display(Math(latex(delta_b_0_t) + ' = ' + latex(expr_delta_b_0_t) + ', \\\\quad ' + latex(delta_b_1_t) + ' = ' + latex(expr_delta_b_1_t)))\r\n",
    "display(Math(latex(b_0_in_t) + ' = ' + latex(expr_b_0_in_t) + ', \\\\quad ' + latex(b_1_in_t) + ' = ' + latex(expr_b_1_in_t)))\r\n",
    "\r\n",
    "# express and substitute\r\n",
    "expr_dQ_0_dt_t = (Dagger(expr_ddelta_b_0_adia_dt_t_subs) + expr_ddelta_b_0_adia_dt_t_subs) / sqrt(2)\r\n",
    "expr_dQ_0_dt_t = expr_dQ_0_dt_t.expand().subs(list_subs).expand()\r\n",
    "display(Math('\\\\dot{\\\\hat{\\\\tilde{Q}}}_{0} (t) = ' + latex(expr_dQ_0_dt_t)))\r\n",
    "expr_dP_0_dt_t = I * (Dagger(expr_ddelta_b_0_adia_dt_t_subs) - expr_ddelta_b_0_adia_dt_t_subs) / sqrt(2)\r\n",
    "expr_dP_0_dt_t = expr_dP_0_dt_t.expand().subs(list_subs).expand()\r\n",
    "display(Math('\\\\dot{\\\\hat{\\\\tilde{P}}}_{0} (t) = ' + latex(expr_dP_0_dt_t)))\r\n",
    "expr_dQ_1_dt_t = (Dagger(expr_ddelta_b_1_adia_dt_t_subs) + expr_ddelta_b_1_adia_dt_t_subs) / sqrt(2)\r\n",
    "expr_dQ_1_dt_t = expr_dQ_1_dt_t.expand().subs(list_subs).expand()\r\n",
    "display(Math('\\\\dot{\\\\hat{\\\\tilde{Q}}}_{1} (t) = ' + latex(expr_dQ_1_dt_t)))\r\n",
    "expr_dP_1_dt_t = I * (Dagger(expr_ddelta_b_1_adia_dt_t_subs) - expr_ddelta_b_1_adia_dt_t_subs) / sqrt(2)\r\n",
    "expr_dP_1_dt_t = expr_dP_1_dt_t.expand().subs(list_subs).expand()\r\n",
    "display(Math('\\\\dot{\\\\hat{\\\\tilde{P}}}_{1} (t) = ' + latex(expr_dP_1_dt_t)))"
   ],
   "outputs": [
    {
     "output_type": "display_data",
     "data": {
      "text/plain": [
       "<IPython.core.display.Math object>"
      ],
      "text/latex": [
       "$\\displaystyle \\delta \\hat{b}_{0}{\\left(t \\right)} = \\frac{\\sqrt{2} \\left(i \\hat{P}_{0}{\\left(t \\right)} + \\hat{Q}_{0}{\\left(t \\right)}\\right)}{2}, \\quad \\delta \\hat{b}_{1}{\\left(t \\right)} = \\frac{\\sqrt{2} \\left(i \\hat{P}_{1}{\\left(t \\right)} + \\hat{Q}_{1}{\\left(t \\right)}\\right)}{2}$"
      ]
     },
     "metadata": {}
    },
    {
     "output_type": "display_data",
     "data": {
      "text/plain": [
       "<IPython.core.display.Math object>"
      ],
      "text/latex": [
       "$\\displaystyle \\hat{b}_{0}^{(in)}{\\left(t \\right)} = \\frac{\\sqrt{2} \\left(i \\hat{P}_{0}^{(in)}{\\left(t \\right)} + \\hat{Q}_{0}^{(in)}{\\left(t \\right)}\\right)}{2}, \\quad \\hat{b}_{1}^{(in)}{\\left(t \\right)} = \\frac{\\sqrt{2} \\left(i \\hat{P}_{1}^{(in)}{\\left(t \\right)} + \\hat{Q}_{1}^{(in)}{\\left(t \\right)}\\right)}{2}$"
      ]
     },
     "metadata": {}
    },
    {
     "output_type": "display_data",
     "data": {
      "text/plain": [
       "<IPython.core.display.Math object>"
      ],
      "text/latex": [
       "$\\displaystyle \\dot{\\hat{\\tilde{Q}}}_{0} (t) = \\sqrt{2} \\sqrt{\\gamma_{0}} \\hat{Q}_{0}^{(in)}{\\left(t \\right)} - \\gamma_{0} \\hat{Q}_{0}{\\left(t \\right)} + \\omega_{0} \\hat{P}_{0}{\\left(t \\right)}$"
      ]
     },
     "metadata": {}
    },
    {
     "output_type": "display_data",
     "data": {
      "text/plain": [
       "<IPython.core.display.Math object>"
      ],
      "text/latex": [
       "$\\displaystyle \\dot{\\hat{\\tilde{P}}}_{0} (t) = \\sqrt{2} \\sqrt{\\gamma_{0}} \\hat{P}_{0}^{(in)}{\\left(t \\right)} - \\gamma_{0} \\hat{P}_{0}{\\left(t \\right)} + 2 \\sqrt{\\kappa} \\eta_{0}{\\left(t \\right)} \\hat{a}^{(in)}{\\left(t \\right)}^{\\dagger} + 2 \\sqrt{\\kappa} \\overline{\\eta_{0}{\\left(t \\right)}} \\hat{a}^{(in)}{\\left(t \\right)} - \\omega_{0} \\hat{Q}_{0}{\\left(t \\right)} + 4 \\operatorname{G_{11}}{\\left(t \\right)} \\hat{Q}_{1}{\\left(t \\right)} - 2 i \\Gamma_{0}{\\left(t \\right)} \\hat{Q}_{0}{\\left(t \\right)} + 2 i \\overline{\\Gamma_{0}{\\left(t \\right)}} \\hat{Q}_{0}{\\left(t \\right)}$"
      ]
     },
     "metadata": {}
    },
    {
     "output_type": "display_data",
     "data": {
      "text/plain": [
       "<IPython.core.display.Math object>"
      ],
      "text/latex": [
       "$\\displaystyle \\dot{\\hat{\\tilde{Q}}}_{1} (t) = \\sqrt{2} \\sqrt{\\gamma_{1}} \\hat{Q}_{1}^{(in)}{\\left(t \\right)} - \\gamma_{1} \\hat{Q}_{1}{\\left(t \\right)} + \\omega_{1} \\hat{P}_{1}{\\left(t \\right)}$"
      ]
     },
     "metadata": {}
    },
    {
     "output_type": "display_data",
     "data": {
      "text/plain": [
       "<IPython.core.display.Math object>"
      ],
      "text/latex": [
       "$\\displaystyle \\dot{\\hat{\\tilde{P}}}_{1} (t) = \\sqrt{2} \\sqrt{\\gamma_{1}} \\hat{P}_{1}^{(in)}{\\left(t \\right)} - \\gamma_{1} \\hat{P}_{1}{\\left(t \\right)} - \\omega_{1} \\hat{Q}_{1}{\\left(t \\right)} + 4 \\operatorname{G_{10}}{\\left(t \\right)} \\hat{Q}_{1}{\\left(t \\right)} + 4 \\operatorname{G_{11}}{\\left(t \\right)} \\hat{Q}_{0}{\\left(t \\right)}$"
      ]
     },
     "metadata": {}
    }
   ],
   "metadata": {}
  },
  {
   "cell_type": "code",
   "execution_count": 7,
   "source": [
    "# drift matrix\r\n",
    "A = Matrix([\r\n",
    "    [- gamma_0, omega_0, 0, 0], \r\n",
    "    [- omega_0 - 4 * Gamma_0I_t, - gamma_0, 4 * G_11_t, 0], \r\n",
    "    [0, 0,  - gamma_1, omega_1], \r\n",
    "    [4 * G_11_t, 0, - omega_1 + 4 * G_10_t, - gamma_1]\r\n",
    "])\r\n",
    "display(Math('A = ' + latex(A)))\r\n",
    "\r\n",
    "# noise matrix\r\n",
    "d_L, d_R = symbols('d_{L}, d_{R}', real=True)\r\n",
    "# diag_L = conjugate(eta_L) * eta_L * (1 + lamb**2 / kappa**2) / 2 + gamma * (2 * n_th + 1)\r\n",
    "# diag_R = conjugate(eta_R) * eta_R * (1 + lamb**2 / kappa**2) / 2 + gamma * (2 * n_th + 1)\r\n",
    "D = Matrix([[gamma_0, 0, 0, 0], [0, gamma_0 + 2 * conjugate(eta_0_t) * eta_0_t, 0, 0], [0, 0, gamma_1, 0], [0, 0, 0, gamma_1]])\r\n",
    "display(Math('D = ' + latex(D)))\r\n",
    "\r\n",
    "# correlation matrix\r\n",
    "u = [Q_0_t, P_0_t, Q_0_t, P_0_t]\r\n",
    "correlations_expect = Matrix([[Symbol('\\\\langle ' + latex(u_i) + latex(u_j) + ' \\\\rangle', real=True) for u_i in u] for u_j in u])\r\n",
    "V = (correlations_expect + correlations_expect.T) / 2\r\n",
    "display(Math('V = ' + latex(V)))"
   ],
   "outputs": [
    {
     "output_type": "display_data",
     "data": {
      "text/plain": [
       "<IPython.core.display.Math object>"
      ],
      "text/latex": [
       "$\\displaystyle A = \\left[\\begin{matrix}- \\gamma_{0} & \\omega_{0} & 0 & 0\\\\- \\omega_{0} - 4 \\Gamma_{0I}{\\left(t \\right)} & - \\gamma_{0} & 4 \\operatorname{G_{11}}{\\left(t \\right)} & 0\\\\0 & 0 & - \\gamma_{1} & \\omega_{1}\\\\4 \\operatorname{G_{11}}{\\left(t \\right)} & 0 & - \\omega_{1} + 4 \\operatorname{G_{10}}{\\left(t \\right)} & - \\gamma_{1}\\end{matrix}\\right]$"
      ]
     },
     "metadata": {}
    },
    {
     "output_type": "display_data",
     "data": {
      "text/plain": [
       "<IPython.core.display.Math object>"
      ],
      "text/latex": [
       "$\\displaystyle D = \\left[\\begin{matrix}\\gamma_{0} & 0 & 0 & 0\\\\0 & \\gamma_{0} + 2 \\eta_{0}{\\left(t \\right)} \\overline{\\eta_{0}{\\left(t \\right)}} & 0 & 0\\\\0 & 0 & \\gamma_{1} & 0\\\\0 & 0 & 0 & \\gamma_{1}\\end{matrix}\\right]$"
      ]
     },
     "metadata": {}
    },
    {
     "output_type": "display_data",
     "data": {
      "text/plain": [
       "<IPython.core.display.Math object>"
      ],
      "text/latex": [
       "$\\displaystyle V = \\left[\\begin{matrix}\\langle \\hat{Q}_{0}{\\left(t \\right)}\\hat{Q}_{0}{\\left(t \\right)} \\rangle & \\frac{\\langle \\hat{P}_{0}{\\left(t \\right)}\\hat{Q}_{0}{\\left(t \\right)} \\rangle}{2} + \\frac{\\langle \\hat{Q}_{0}{\\left(t \\right)}\\hat{P}_{0}{\\left(t \\right)} \\rangle}{2} & \\langle \\hat{Q}_{0}{\\left(t \\right)}\\hat{Q}_{0}{\\left(t \\right)} \\rangle & \\frac{\\langle \\hat{P}_{0}{\\left(t \\right)}\\hat{Q}_{0}{\\left(t \\right)} \\rangle}{2} + \\frac{\\langle \\hat{Q}_{0}{\\left(t \\right)}\\hat{P}_{0}{\\left(t \\right)} \\rangle}{2}\\\\\\frac{\\langle \\hat{P}_{0}{\\left(t \\right)}\\hat{Q}_{0}{\\left(t \\right)} \\rangle}{2} + \\frac{\\langle \\hat{Q}_{0}{\\left(t \\right)}\\hat{P}_{0}{\\left(t \\right)} \\rangle}{2} & \\langle \\hat{P}_{0}{\\left(t \\right)}\\hat{P}_{0}{\\left(t \\right)} \\rangle & \\frac{\\langle \\hat{P}_{0}{\\left(t \\right)}\\hat{Q}_{0}{\\left(t \\right)} \\rangle}{2} + \\frac{\\langle \\hat{Q}_{0}{\\left(t \\right)}\\hat{P}_{0}{\\left(t \\right)} \\rangle}{2} & \\langle \\hat{P}_{0}{\\left(t \\right)}\\hat{P}_{0}{\\left(t \\right)} \\rangle\\\\\\langle \\hat{Q}_{0}{\\left(t \\right)}\\hat{Q}_{0}{\\left(t \\right)} \\rangle & \\frac{\\langle \\hat{P}_{0}{\\left(t \\right)}\\hat{Q}_{0}{\\left(t \\right)} \\rangle}{2} + \\frac{\\langle \\hat{Q}_{0}{\\left(t \\right)}\\hat{P}_{0}{\\left(t \\right)} \\rangle}{2} & \\langle \\hat{Q}_{0}{\\left(t \\right)}\\hat{Q}_{0}{\\left(t \\right)} \\rangle & \\frac{\\langle \\hat{P}_{0}{\\left(t \\right)}\\hat{Q}_{0}{\\left(t \\right)} \\rangle}{2} + \\frac{\\langle \\hat{Q}_{0}{\\left(t \\right)}\\hat{P}_{0}{\\left(t \\right)} \\rangle}{2}\\\\\\frac{\\langle \\hat{P}_{0}{\\left(t \\right)}\\hat{Q}_{0}{\\left(t \\right)} \\rangle}{2} + \\frac{\\langle \\hat{Q}_{0}{\\left(t \\right)}\\hat{P}_{0}{\\left(t \\right)} \\rangle}{2} & \\langle \\hat{P}_{0}{\\left(t \\right)}\\hat{P}_{0}{\\left(t \\right)} \\rangle & \\frac{\\langle \\hat{P}_{0}{\\left(t \\right)}\\hat{Q}_{0}{\\left(t \\right)} \\rangle}{2} + \\frac{\\langle \\hat{Q}_{0}{\\left(t \\right)}\\hat{P}_{0}{\\left(t \\right)} \\rangle}{2} & \\langle \\hat{P}_{0}{\\left(t \\right)}\\hat{P}_{0}{\\left(t \\right)} \\rangle\\end{matrix}\\right]$"
      ]
     },
     "metadata": {}
    }
   ],
   "metadata": {}
  },
  {
   "cell_type": "code",
   "execution_count": 8,
   "source": [
    "# all expressions\r\n",
    "expr_dV_dt = A * V + V * A.T + D\r\n",
    "# unique expressions\r\n",
    "idxs = [(0, 0), (0, 1), (1, 1), (2, 2), (2, 3), (3, 3), (0, 2), (0, 3), (1, 2), (1, 3)]\r\n",
    "expr_unique = [expr_dV_dt[idx[0], idx[1]] for idx in idxs]\r\n",
    "for i in range(len(idxs)):\r\n",
    "    display(Math(latex(expr_unique[i]) + ' = 0'))\r\n"
   ],
   "outputs": [
    {
     "output_type": "display_data",
     "data": {
      "text/plain": [
       "<IPython.core.display.Math object>"
      ],
      "text/latex": [
       "$\\displaystyle - 2 \\gamma_{0} \\langle \\hat{Q}_{0}{\\left(t \\right)}\\hat{Q}_{0}{\\left(t \\right)} \\rangle + \\gamma_{0} + 2 \\omega_{0} \\left(\\frac{\\langle \\hat{P}_{0}{\\left(t \\right)}\\hat{Q}_{0}{\\left(t \\right)} \\rangle}{2} + \\frac{\\langle \\hat{Q}_{0}{\\left(t \\right)}\\hat{P}_{0}{\\left(t \\right)} \\rangle}{2}\\right) = 0$"
      ]
     },
     "metadata": {}
    },
    {
     "output_type": "display_data",
     "data": {
      "text/plain": [
       "<IPython.core.display.Math object>"
      ],
      "text/latex": [
       "$\\displaystyle - 2 \\gamma_{0} \\left(\\frac{\\langle \\hat{P}_{0}{\\left(t \\right)}\\hat{Q}_{0}{\\left(t \\right)} \\rangle}{2} + \\frac{\\langle \\hat{Q}_{0}{\\left(t \\right)}\\hat{P}_{0}{\\left(t \\right)} \\rangle}{2}\\right) + \\langle \\hat{P}_{0}{\\left(t \\right)}\\hat{P}_{0}{\\left(t \\right)} \\rangle \\omega_{0} + \\langle \\hat{Q}_{0}{\\left(t \\right)}\\hat{Q}_{0}{\\left(t \\right)} \\rangle \\left(- \\omega_{0} - 4 \\Gamma_{0I}{\\left(t \\right)}\\right) + 4 \\langle \\hat{Q}_{0}{\\left(t \\right)}\\hat{Q}_{0}{\\left(t \\right)} \\rangle \\operatorname{G_{11}}{\\left(t \\right)} = 0$"
      ]
     },
     "metadata": {}
    },
    {
     "output_type": "display_data",
     "data": {
      "text/plain": [
       "<IPython.core.display.Math object>"
      ],
      "text/latex": [
       "$\\displaystyle - 2 \\gamma_{0} \\langle \\hat{P}_{0}{\\left(t \\right)}\\hat{P}_{0}{\\left(t \\right)} \\rangle + \\gamma_{0} + 2 \\left(\\frac{\\langle \\hat{P}_{0}{\\left(t \\right)}\\hat{Q}_{0}{\\left(t \\right)} \\rangle}{2} + \\frac{\\langle \\hat{Q}_{0}{\\left(t \\right)}\\hat{P}_{0}{\\left(t \\right)} \\rangle}{2}\\right) \\left(- \\omega_{0} - 4 \\Gamma_{0I}{\\left(t \\right)}\\right) + 8 \\left(\\frac{\\langle \\hat{P}_{0}{\\left(t \\right)}\\hat{Q}_{0}{\\left(t \\right)} \\rangle}{2} + \\frac{\\langle \\hat{Q}_{0}{\\left(t \\right)}\\hat{P}_{0}{\\left(t \\right)} \\rangle}{2}\\right) \\operatorname{G_{11}}{\\left(t \\right)} + 2 \\eta_{0}{\\left(t \\right)} \\overline{\\eta_{0}{\\left(t \\right)}} = 0$"
      ]
     },
     "metadata": {}
    },
    {
     "output_type": "display_data",
     "data": {
      "text/plain": [
       "<IPython.core.display.Math object>"
      ],
      "text/latex": [
       "$\\displaystyle - 2 \\gamma_{1} \\langle \\hat{Q}_{0}{\\left(t \\right)}\\hat{Q}_{0}{\\left(t \\right)} \\rangle + \\gamma_{1} + 2 \\omega_{1} \\left(\\frac{\\langle \\hat{P}_{0}{\\left(t \\right)}\\hat{Q}_{0}{\\left(t \\right)} \\rangle}{2} + \\frac{\\langle \\hat{Q}_{0}{\\left(t \\right)}\\hat{P}_{0}{\\left(t \\right)} \\rangle}{2}\\right) = 0$"
      ]
     },
     "metadata": {}
    },
    {
     "output_type": "display_data",
     "data": {
      "text/plain": [
       "<IPython.core.display.Math object>"
      ],
      "text/latex": [
       "$\\displaystyle - 2 \\gamma_{1} \\left(\\frac{\\langle \\hat{P}_{0}{\\left(t \\right)}\\hat{Q}_{0}{\\left(t \\right)} \\rangle}{2} + \\frac{\\langle \\hat{Q}_{0}{\\left(t \\right)}\\hat{P}_{0}{\\left(t \\right)} \\rangle}{2}\\right) + \\langle \\hat{P}_{0}{\\left(t \\right)}\\hat{P}_{0}{\\left(t \\right)} \\rangle \\omega_{1} + \\langle \\hat{Q}_{0}{\\left(t \\right)}\\hat{Q}_{0}{\\left(t \\right)} \\rangle \\left(- \\omega_{1} + 4 \\operatorname{G_{10}}{\\left(t \\right)}\\right) + 4 \\langle \\hat{Q}_{0}{\\left(t \\right)}\\hat{Q}_{0}{\\left(t \\right)} \\rangle \\operatorname{G_{11}}{\\left(t \\right)} = 0$"
      ]
     },
     "metadata": {}
    },
    {
     "output_type": "display_data",
     "data": {
      "text/plain": [
       "<IPython.core.display.Math object>"
      ],
      "text/latex": [
       "$\\displaystyle - 2 \\gamma_{1} \\langle \\hat{P}_{0}{\\left(t \\right)}\\hat{P}_{0}{\\left(t \\right)} \\rangle + \\gamma_{1} + 2 \\left(\\frac{\\langle \\hat{P}_{0}{\\left(t \\right)}\\hat{Q}_{0}{\\left(t \\right)} \\rangle}{2} + \\frac{\\langle \\hat{Q}_{0}{\\left(t \\right)}\\hat{P}_{0}{\\left(t \\right)} \\rangle}{2}\\right) \\left(- \\omega_{1} + 4 \\operatorname{G_{10}}{\\left(t \\right)}\\right) + 8 \\left(\\frac{\\langle \\hat{P}_{0}{\\left(t \\right)}\\hat{Q}_{0}{\\left(t \\right)} \\rangle}{2} + \\frac{\\langle \\hat{Q}_{0}{\\left(t \\right)}\\hat{P}_{0}{\\left(t \\right)} \\rangle}{2}\\right) \\operatorname{G_{11}}{\\left(t \\right)} = 0$"
      ]
     },
     "metadata": {}
    },
    {
     "output_type": "display_data",
     "data": {
      "text/plain": [
       "<IPython.core.display.Math object>"
      ],
      "text/latex": [
       "$\\displaystyle - \\gamma_{0} \\langle \\hat{Q}_{0}{\\left(t \\right)}\\hat{Q}_{0}{\\left(t \\right)} \\rangle - \\gamma_{1} \\langle \\hat{Q}_{0}{\\left(t \\right)}\\hat{Q}_{0}{\\left(t \\right)} \\rangle + \\omega_{0} \\left(\\frac{\\langle \\hat{P}_{0}{\\left(t \\right)}\\hat{Q}_{0}{\\left(t \\right)} \\rangle}{2} + \\frac{\\langle \\hat{Q}_{0}{\\left(t \\right)}\\hat{P}_{0}{\\left(t \\right)} \\rangle}{2}\\right) + \\omega_{1} \\left(\\frac{\\langle \\hat{P}_{0}{\\left(t \\right)}\\hat{Q}_{0}{\\left(t \\right)} \\rangle}{2} + \\frac{\\langle \\hat{Q}_{0}{\\left(t \\right)}\\hat{P}_{0}{\\left(t \\right)} \\rangle}{2}\\right) = 0$"
      ]
     },
     "metadata": {}
    },
    {
     "output_type": "display_data",
     "data": {
      "text/plain": [
       "<IPython.core.display.Math object>"
      ],
      "text/latex": [
       "$\\displaystyle - \\gamma_{0} \\left(\\frac{\\langle \\hat{P}_{0}{\\left(t \\right)}\\hat{Q}_{0}{\\left(t \\right)} \\rangle}{2} + \\frac{\\langle \\hat{Q}_{0}{\\left(t \\right)}\\hat{P}_{0}{\\left(t \\right)} \\rangle}{2}\\right) - \\gamma_{1} \\left(\\frac{\\langle \\hat{P}_{0}{\\left(t \\right)}\\hat{Q}_{0}{\\left(t \\right)} \\rangle}{2} + \\frac{\\langle \\hat{Q}_{0}{\\left(t \\right)}\\hat{P}_{0}{\\left(t \\right)} \\rangle}{2}\\right) + \\langle \\hat{P}_{0}{\\left(t \\right)}\\hat{P}_{0}{\\left(t \\right)} \\rangle \\omega_{0} + \\langle \\hat{Q}_{0}{\\left(t \\right)}\\hat{Q}_{0}{\\left(t \\right)} \\rangle \\left(- \\omega_{1} + 4 \\operatorname{G_{10}}{\\left(t \\right)}\\right) + 4 \\langle \\hat{Q}_{0}{\\left(t \\right)}\\hat{Q}_{0}{\\left(t \\right)} \\rangle \\operatorname{G_{11}}{\\left(t \\right)} = 0$"
      ]
     },
     "metadata": {}
    },
    {
     "output_type": "display_data",
     "data": {
      "text/plain": [
       "<IPython.core.display.Math object>"
      ],
      "text/latex": [
       "$\\displaystyle - \\gamma_{0} \\left(\\frac{\\langle \\hat{P}_{0}{\\left(t \\right)}\\hat{Q}_{0}{\\left(t \\right)} \\rangle}{2} + \\frac{\\langle \\hat{Q}_{0}{\\left(t \\right)}\\hat{P}_{0}{\\left(t \\right)} \\rangle}{2}\\right) - \\gamma_{1} \\left(\\frac{\\langle \\hat{P}_{0}{\\left(t \\right)}\\hat{Q}_{0}{\\left(t \\right)} \\rangle}{2} + \\frac{\\langle \\hat{Q}_{0}{\\left(t \\right)}\\hat{P}_{0}{\\left(t \\right)} \\rangle}{2}\\right) + \\langle \\hat{P}_{0}{\\left(t \\right)}\\hat{P}_{0}{\\left(t \\right)} \\rangle \\omega_{1} + \\langle \\hat{Q}_{0}{\\left(t \\right)}\\hat{Q}_{0}{\\left(t \\right)} \\rangle \\left(- \\omega_{0} - 4 \\Gamma_{0I}{\\left(t \\right)}\\right) + 4 \\langle \\hat{Q}_{0}{\\left(t \\right)}\\hat{Q}_{0}{\\left(t \\right)} \\rangle \\operatorname{G_{11}}{\\left(t \\right)} = 0$"
      ]
     },
     "metadata": {}
    },
    {
     "output_type": "display_data",
     "data": {
      "text/plain": [
       "<IPython.core.display.Math object>"
      ],
      "text/latex": [
       "$\\displaystyle - \\gamma_{0} \\langle \\hat{P}_{0}{\\left(t \\right)}\\hat{P}_{0}{\\left(t \\right)} \\rangle - \\gamma_{1} \\langle \\hat{P}_{0}{\\left(t \\right)}\\hat{P}_{0}{\\left(t \\right)} \\rangle + \\left(\\frac{\\langle \\hat{P}_{0}{\\left(t \\right)}\\hat{Q}_{0}{\\left(t \\right)} \\rangle}{2} + \\frac{\\langle \\hat{Q}_{0}{\\left(t \\right)}\\hat{P}_{0}{\\left(t \\right)} \\rangle}{2}\\right) \\left(- \\omega_{0} - 4 \\Gamma_{0I}{\\left(t \\right)}\\right) + \\left(\\frac{\\langle \\hat{P}_{0}{\\left(t \\right)}\\hat{Q}_{0}{\\left(t \\right)} \\rangle}{2} + \\frac{\\langle \\hat{Q}_{0}{\\left(t \\right)}\\hat{P}_{0}{\\left(t \\right)} \\rangle}{2}\\right) \\left(- \\omega_{1} + 4 \\operatorname{G_{10}}{\\left(t \\right)}\\right) + 8 \\left(\\frac{\\langle \\hat{P}_{0}{\\left(t \\right)}\\hat{Q}_{0}{\\left(t \\right)} \\rangle}{2} + \\frac{\\langle \\hat{Q}_{0}{\\left(t \\right)}\\hat{P}_{0}{\\left(t \\right)} \\rangle}{2}\\right) \\operatorname{G_{11}}{\\left(t \\right)} = 0$"
      ]
     },
     "metadata": {}
    }
   ],
   "metadata": {}
  },
  {
   "cell_type": "code",
   "execution_count": 9,
   "source": [
    "# solutions\r\n",
    "sols = solve(expr_unique, [V[idx[0], idx[1]] for idx in idxs])"
   ],
   "outputs": [],
   "metadata": {}
  },
  {
   "cell_type": "code",
   "execution_count": 10,
   "source": [
    "sols"
   ],
   "outputs": [
    {
     "output_type": "execute_result",
     "data": {
      "text/plain": [
       "[]"
      ]
     },
     "metadata": {},
     "execution_count": 10
    }
   ],
   "metadata": {}
  }
 ],
 "metadata": {
  "orig_nbformat": 4,
  "language_info": {
   "name": "python",
   "version": "3.8.5",
   "mimetype": "text/x-python",
   "codemirror_mode": {
    "name": "ipython",
    "version": 3
   },
   "pygments_lexer": "ipython3",
   "nbconvert_exporter": "python",
   "file_extension": ".py"
  },
  "kernelspec": {
   "name": "python3",
   "display_name": "Python 3.8.5 64-bit ('base': conda)"
  },
  "interpreter": {
   "hash": "b3ba2566441a7c06988d0923437866b63cedc61552a5af99d1f4fb67d367b25f"
  }
 },
 "nbformat": 4,
 "nbformat_minor": 2
}