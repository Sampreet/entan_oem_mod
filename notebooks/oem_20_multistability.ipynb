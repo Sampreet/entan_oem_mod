{
 "cells": [
  {
   "cell_type": "markdown",
   "metadata": {},
   "source": [
    "# Multistability of the OptoElectroMechanical System with multiple modulations (OEM_20)\n",
    "\n",
    "## Imports and Initialization"
   ]
  },
  {
   "cell_type": "code",
   "execution_count": 2,
   "metadata": {},
   "outputs": [],
   "source": [
    "# dependencies\n",
    "from IPython.display import display, Math\n",
    "from sympy import conjugate, det, diff, eye, Function, fraction, I, latex, Matrix, sqrt, symbols\n",
    "from sympy.physics.quantum import Dagger"
   ]
  },
  {
   "cell_type": "code",
   "execution_count": 3,
   "metadata": {},
   "outputs": [],
   "source": [
    "# time \n",
    "t = symbols('t', real=True, positive=True)\n",
    "# real positive\n",
    "Delta_0, kappa, g_0, g_1, gamma_0, gamma_1, omega_0, omega_1 = symbols('\\\\Delta^{(0)}, \\\\kappa, g_{0}, g_{1}, \\\\gamma_{0}, \\\\gamma_{1}, \\\\omega_{0}, \\\\omega_{1}', real=True, positive=True)\n",
    "# drive amplitudes\n",
    "A_l_t = Function('A_{l}', commutative=True, complex=True)(t)\n",
    "A_v_t = Function('A_{v}', commutative=True, complex=True)(t)\n",
    "\n",
    "# classical amplitudes\n",
    "alpha_s_t = Function('{\\\\alpha}_{s}', commutative=True, complex=True)(t)\n",
    "beta_0s_t = Function('{\\\\beta}_{0s}', commutative=True, complex=True)(t)\n",
    "beta_1s_t = Function('{\\\\beta}_{1s}', commutative=True, complex=True)(t)"
   ]
  },
  {
   "cell_type": "markdown",
   "metadata": {},
   "source": [
    "## Steady-state Equations"
   ]
  },
  {
   "cell_type": "code",
   "execution_count": 4,
   "metadata": {},
   "outputs": [
    {
     "data": {
      "text/latex": [
       "$\\displaystyle \\left(- \\kappa - i \\left(\\Delta^{(0)} - g_{0} \\left(\\operatorname{{\\beta}_{0s}}{\\left(t \\right)} + \\overline{\\operatorname{{\\beta}_{0s}}{\\left(t \\right)}}\\right)\\right)\\right) \\operatorname{{\\alpha}_{s}}{\\left(t \\right)} + \\operatorname{A_{l}}{\\left(t \\right)} = 0$"
      ],
      "text/plain": [
       "<IPython.core.display.Math object>"
      ]
     },
     "metadata": {},
     "output_type": "display_data"
    },
    {
     "data": {
      "text/latex": [
       "$\\displaystyle i g_{0} \\operatorname{{\\alpha}_{s}}{\\left(t \\right)} \\overline{\\operatorname{{\\alpha}_{s}}{\\left(t \\right)}} + i g_{1} \\left(\\operatorname{{\\beta}_{1s}}{\\left(t \\right)} + \\overline{\\operatorname{{\\beta}_{1s}}{\\left(t \\right)}}\\right)^{2} + \\left(- \\gamma_{0} - i \\omega_{0}\\right) \\operatorname{{\\beta}_{0s}}{\\left(t \\right)} = 0$"
      ],
      "text/plain": [
       "<IPython.core.display.Math object>"
      ]
     },
     "metadata": {},
     "output_type": "display_data"
    },
    {
     "data": {
      "text/latex": [
       "$\\displaystyle 2 i g_{1} \\left(\\operatorname{{\\beta}_{0s}}{\\left(t \\right)} + \\overline{\\operatorname{{\\beta}_{0s}}{\\left(t \\right)}}\\right) \\left(\\operatorname{{\\beta}_{1s}}{\\left(t \\right)} + \\overline{\\operatorname{{\\beta}_{1s}}{\\left(t \\right)}}\\right) + \\left(- \\gamma_{1} - i \\omega_{1}\\right) \\operatorname{{\\beta}_{1s}}{\\left(t \\right)} + i \\operatorname{A_{v}}{\\left(t \\right)} = 0$"
      ],
      "text/plain": [
       "<IPython.core.display.Math object>"
      ]
     },
     "metadata": {},
     "output_type": "display_data"
    }
   ],
   "source": [
    "# optical steady state\n",
    "eqn_alpha_s_t = - (kappa + I * (Delta_0 - g_0 * (conjugate(beta_0s_t) + beta_0s_t))) * alpha_s_t + A_l_t\n",
    "# mechanical steady state\n",
    "eqn_beta_0s_t = - (gamma_0 + I * omega_0) * beta_0s_t + I * g_0 * conjugate(alpha_s_t) * alpha_s_t + I * g_1 * (conjugate(beta_1s_t) + beta_1s_t)**2\n",
    "# LC circuit steady state\n",
    "eqn_beta_1s_t = - (gamma_1 + I * omega_1) * beta_1s_t + 2 * I * g_1 * (conjugate(beta_0s_t) + beta_0s_t) * (conjugate(beta_1s_t) + beta_1s_t) + I * A_v_t\n",
    "\n",
    "# remove Math function to display LaTeX script\n",
    "display(Math(latex(eqn_alpha_s_t) + ' = 0'))\n",
    "display(Math(latex(eqn_beta_0s_t) + ' = 0'))\n",
    "display(Math(latex(eqn_beta_1s_t) + ' = 0'))"
   ]
  },
  {
   "cell_type": "code",
   "execution_count": 5,
   "metadata": {},
   "outputs": [
    {
     "data": {
      "text/latex": [
       "$\\displaystyle \\operatorname{{\\alpha}_{s}}{\\left(t \\right)} = \\frac{\\operatorname{A_{l}}{\\left(t \\right)}}{i \\Delta^{(0)} + \\kappa - i g_{0} \\left(\\operatorname{{\\beta}_{0s}}{\\left(t \\right)} + \\overline{\\operatorname{{\\beta}_{0s}}{\\left(t \\right)}}\\right)}$"
      ],
      "text/plain": [
       "<IPython.core.display.Math object>"
      ]
     },
     "metadata": {},
     "output_type": "display_data"
    },
    {
     "data": {
      "text/latex": [
       "$\\displaystyle \\Rightarrow \\operatorname{{\\alpha}_{s}}{\\left(t \\right)} \\overline{\\operatorname{{\\alpha}_{s}}{\\left(t \\right)}} = \\frac{\\operatorname{A_{l}}{\\left(t \\right)} \\overline{\\operatorname{A_{l}}{\\left(t \\right)}}}{\\left(\\Delta^{(0)}\\right)^{2} - 2 \\Delta^{(0)} g_{0} \\left(\\operatorname{{\\beta}_{0s}}{\\left(t \\right)} + \\overline{\\operatorname{{\\beta}_{0s}}{\\left(t \\right)}}\\right) + \\kappa^{2} + g_{0}^{2} \\left(\\operatorname{{\\beta}_{0s}}{\\left(t \\right)} + \\overline{\\operatorname{{\\beta}_{0s}}{\\left(t \\right)}}\\right)^{2}}$"
      ],
      "text/plain": [
       "<IPython.core.display.Math object>"
      ]
     },
     "metadata": {},
     "output_type": "display_data"
    }
   ],
   "source": [
    "# expression of alpha_s\n",
    "expr_den_alpha_s_t = - eqn_alpha_s_t.coeff(alpha_s_t).expand().collect(I * g_0)\n",
    "expr_alpha_s_subs_t = (eqn_alpha_s_t + expr_den_alpha_s_t * alpha_s_t).expand() / expr_den_alpha_s_t\n",
    "# remove Math function to display LaTeX script\n",
    "display(Math(latex(alpha_s_t) + ' = ' + latex(expr_alpha_s_subs_t)))\n",
    "\n",
    "# photon number\n",
    "expr_alpha_s_square_t = (conjugate(expr_alpha_s_subs_t) * expr_alpha_s_subs_t).expand().collect([g_0**2, - 2 * g_0 * Delta_0])\n",
    "expr_alpha_s_square_t = expr_alpha_s_square_t.subs([\n",
    "    (beta_0s_t**2 + 2 * beta_0s_t * conjugate(beta_0s_t) + conjugate(beta_0s_t)**2, (beta_0s_t + conjugate(beta_0s_t))**2)\n",
    "])\n",
    "_, expr_den_alpha_s_square_t = fraction(expr_alpha_s_square_t)\n",
    "# remove Math function to display LaTeX script\n",
    "display(Math('\\\\Rightarrow ' + latex(conjugate(alpha_s_t) * alpha_s_t) + ' = ' + latex(expr_alpha_s_square_t)))"
   ]
  },
  {
   "cell_type": "code",
   "execution_count": 6,
   "metadata": {},
   "outputs": [
    {
     "data": {
      "text/latex": [
       "$\\displaystyle i \\gamma_{1} \\operatorname{A_{v}}{\\left(t \\right)} - i \\gamma_{1} \\overline{\\operatorname{A_{v}}{\\left(t \\right)}} + \\omega_{1} \\operatorname{A_{v}}{\\left(t \\right)} + \\omega_{1} \\overline{\\operatorname{A_{v}}{\\left(t \\right)}} + \\left(- \\gamma_{1}^{2} - \\omega_{1}^{2} + 4 \\omega_{1} g_{1} \\operatorname{{\\beta}_{0s}}{\\left(t \\right)} + 4 \\omega_{1} g_{1} \\overline{\\operatorname{{\\beta}_{0s}}{\\left(t \\right)}}\\right) \\operatorname{{\\beta}_{1s}}{\\left(t \\right)} + \\left(- \\gamma_{1}^{2} - \\omega_{1}^{2} + 4 \\omega_{1} g_{1} \\operatorname{{\\beta}_{0s}}{\\left(t \\right)} + 4 \\omega_{1} g_{1} \\overline{\\operatorname{{\\beta}_{0s}}{\\left(t \\right)}}\\right) \\overline{\\operatorname{{\\beta}_{1s}}{\\left(t \\right)}} = 0$"
      ],
      "text/plain": [
       "<IPython.core.display.Math object>"
      ]
     },
     "metadata": {},
     "output_type": "display_data"
    },
    {
     "data": {
      "text/latex": [
       "$\\displaystyle \\Rightarrow \\operatorname{{\\beta}_{1s}}{\\left(t \\right)} + \\overline{\\operatorname{{\\beta}_{1s}}{\\left(t \\right)}} = \\frac{i \\gamma_{1} \\operatorname{A_{v}}{\\left(t \\right)} - i \\gamma_{1} \\overline{\\operatorname{A_{v}}{\\left(t \\right)}} + \\omega_{1} \\operatorname{A_{v}}{\\left(t \\right)} + \\omega_{1} \\overline{\\operatorname{A_{v}}{\\left(t \\right)}}}{\\gamma_{1}^{2} + \\omega_{1}^{2} - 4 \\omega_{1} g_{1} \\left(\\operatorname{{\\beta}_{0s}}{\\left(t \\right)} + \\overline{\\operatorname{{\\beta}_{0s}}{\\left(t \\right)}}\\right)}$"
      ],
      "text/plain": [
       "<IPython.core.display.Math object>"
      ]
     },
     "metadata": {},
     "output_type": "display_data"
    }
   ],
   "source": [
    "# sum of beta_1s  and its conjugate\n",
    "eqn_beta_1s_sum_t = ((gamma_1 - I * omega_1) * eqn_beta_1s_t + (gamma_1 + I * omega_1) * conjugate(eqn_beta_1s_t)).expand().collect([conjugate(beta_1s_t), beta_1s_t])\n",
    "# remove Math function to display LaTeX script\n",
    "display(Math(latex(eqn_beta_1s_sum_t) + ' = 0'))\n",
    "\n",
    "# substitution expresssion\n",
    "assert eqn_beta_1s_sum_t.coeff(beta_1s_t) == eqn_beta_1s_sum_t.coeff(conjugate(beta_1s_t))\n",
    "expr_den_beta_1s_t = - eqn_beta_1s_sum_t.coeff(beta_1s_t).collect(4 * omega_1 * g_1)\n",
    "expr_beta_1s_sum_subs_t = (eqn_beta_1s_sum_t + expr_den_beta_1s_t * (beta_1s_t) + expr_den_beta_1s_t * conjugate(beta_1s_t)).expand() / expr_den_beta_1s_t\n",
    "# remove Math function to display LaTeX script\n",
    "display(Math('\\\\Rightarrow ' + latex(beta_1s_t + conjugate(beta_1s_t)) + ' = ' + latex(expr_beta_1s_sum_subs_t)))"
   ]
  },
  {
   "cell_type": "code",
   "execution_count": 7,
   "metadata": {},
   "outputs": [
    {
     "data": {
      "text/latex": [
       "$\\displaystyle - \\gamma_{0}^{2} \\left(\\operatorname{{\\beta}_{0s}}{\\left(t \\right)} + \\overline{\\operatorname{{\\beta}_{0s}}{\\left(t \\right)}}\\right) - \\omega_{0}^{2} \\left(\\operatorname{{\\beta}_{0s}}{\\left(t \\right)} + \\overline{\\operatorname{{\\beta}_{0s}}{\\left(t \\right)}}\\right) + 2 \\omega_{0} g_{0} \\operatorname{{\\alpha}_{s}}{\\left(t \\right)} \\overline{\\operatorname{{\\alpha}_{s}}{\\left(t \\right)}} + 2 \\omega_{0} g_{1} \\left(\\operatorname{{\\beta}_{1s}}{\\left(t \\right)} + \\overline{\\operatorname{{\\beta}_{1s}}{\\left(t \\right)}}\\right)^{2} = 0$"
      ],
      "text/plain": [
       "<IPython.core.display.Math object>"
      ]
     },
     "metadata": {},
     "output_type": "display_data"
    },
    {
     "data": {
      "text/latex": [
       "$\\displaystyle 2 \\omega_{0} g_{0} \\left(\\gamma_{1}^{2} + \\omega_{1}^{2} - 4 \\omega_{1} g_{1} \\left(\\operatorname{{\\beta}_{0s}}{\\left(t \\right)} + \\overline{\\operatorname{{\\beta}_{0s}}{\\left(t \\right)}}\\right)\\right)^{2} \\operatorname{A_{l}}{\\left(t \\right)} \\overline{\\operatorname{A_{l}}{\\left(t \\right)}} + 2 \\omega_{0} g_{1} \\left(\\left(\\Delta^{(0)}\\right)^{2} - 2 \\Delta^{(0)} g_{0} \\left(\\operatorname{{\\beta}_{0s}}{\\left(t \\right)} + \\overline{\\operatorname{{\\beta}_{0s}}{\\left(t \\right)}}\\right) + \\kappa^{2} + g_{0}^{2} \\left(\\operatorname{{\\beta}_{0s}}{\\left(t \\right)} + \\overline{\\operatorname{{\\beta}_{0s}}{\\left(t \\right)}}\\right)^{2}\\right) \\left(i \\gamma_{1} \\operatorname{A_{v}}{\\left(t \\right)} - i \\gamma_{1} \\overline{\\operatorname{A_{v}}{\\left(t \\right)}} + \\omega_{1} \\operatorname{A_{v}}{\\left(t \\right)} + \\omega_{1} \\overline{\\operatorname{A_{v}}{\\left(t \\right)}}\\right)^{2} - \\left(\\gamma_{0}^{2} + \\omega_{0}^{2}\\right) \\left(\\operatorname{{\\beta}_{0s}}{\\left(t \\right)} + \\overline{\\operatorname{{\\beta}_{0s}}{\\left(t \\right)}}\\right) \\left(\\gamma_{1}^{2} + \\omega_{1}^{2} - 4 \\omega_{1} g_{1} \\left(\\operatorname{{\\beta}_{0s}}{\\left(t \\right)} + \\overline{\\operatorname{{\\beta}_{0s}}{\\left(t \\right)}}\\right)\\right)^{2} \\left(\\left(\\Delta^{(0)}\\right)^{2} - 2 \\Delta^{(0)} g_{0} \\left(\\operatorname{{\\beta}_{0s}}{\\left(t \\right)} + \\overline{\\operatorname{{\\beta}_{0s}}{\\left(t \\right)}}\\right) + \\kappa^{2} + g_{0}^{2} \\left(\\operatorname{{\\beta}_{0s}}{\\left(t \\right)} + \\overline{\\operatorname{{\\beta}_{0s}}{\\left(t \\right)}}\\right)^{2}\\right) = 0$"
      ],
      "text/plain": [
       "<IPython.core.display.Math object>"
      ]
     },
     "metadata": {},
     "output_type": "display_data"
    }
   ],
   "source": [
    "# sum of beta_0s and its conjugate\n",
    "eqn_beta_0s_sum_t = ((gamma_0 - I * omega_0) * eqn_beta_0s_t + (gamma_0 + I * omega_0) * conjugate(eqn_beta_0s_t)).expand().collect([- gamma_0**2, - omega_0**2, 2 * omega_0 * g_1])\n",
    "eqn_beta_0s_sum_t = eqn_beta_0s_sum_t.subs(beta_1s_t**2 + 2 * beta_1s_t * conjugate(beta_1s_t) + conjugate(beta_1s_t)**2, (beta_1s_t + conjugate(beta_1s_t))**2)\n",
    "# remove Math function to display LaTeX script\n",
    "display(Math(latex(eqn_beta_0s_sum_t) + ' = 0'))\n",
    "\n",
    "# substitute beta_1s\n",
    "eqn_beta_0s_sum_t = (eqn_beta_0s_sum_t * expr_den_beta_1s_t**2 * expr_den_alpha_s_square_t).subs([\n",
    "    (beta_1s_t + conjugate(beta_1s_t), expr_beta_1s_sum_subs_t),\n",
    "    (alpha_s_t * conjugate(alpha_s_t), expr_alpha_s_square_t)\n",
    "]).simplify().collect(beta_0s_t + conjugate(beta_0s_t))\n",
    "# remove Math function to display LaTeX script\n",
    "display(Math(latex(eqn_beta_0s_sum_t) + ' = 0'))"
   ]
  },
  {
   "cell_type": "markdown",
   "metadata": {},
   "source": [
    "## Approximation of Drive Amplitudes"
   ]
  },
  {
   "cell_type": "code",
   "execution_count": 8,
   "metadata": {},
   "outputs": [
    {
     "data": {
      "text/latex": [
       "$\\displaystyle 2 A_{l}^{2} \\omega_{0} g_{0} \\left(\\gamma_{1}^{2} + \\omega_{1}^{2} - 4 \\sqrt{2} \\omega_{1} g_{1} q{\\left(t \\right)}\\right)^{2} + 8 A_{v}^{2} \\omega_{0} \\omega_{1}^{2} g_{1} \\left(\\left(\\Delta^{(0)}\\right)^{2} - 2 \\sqrt{2} \\Delta^{(0)} g_{0} q{\\left(t \\right)} + \\kappa^{2} + 2 g_{0}^{2} q^{2}{\\left(t \\right)}\\right) - \\sqrt{2} \\left(\\gamma_{0}^{2} + \\omega_{0}^{2}\\right) \\left(\\gamma_{1}^{2} + \\omega_{1}^{2} - 4 \\sqrt{2} \\omega_{1} g_{1} q{\\left(t \\right)}\\right)^{2} \\left(\\left(\\Delta^{(0)}\\right)^{2} - 2 \\sqrt{2} \\Delta^{(0)} g_{0} q{\\left(t \\right)} + \\kappa^{2} + 2 g_{0}^{2} q^{2}{\\left(t \\right)}\\right) q{\\left(t \\right)} = 0$"
      ],
      "text/plain": [
       "<IPython.core.display.Math object>"
      ]
     },
     "metadata": {},
     "output_type": "display_data"
    }
   ],
   "source": [
    "# drive amplitudes are assumed to be real\n",
    "A_l, A_v = symbols('A_{l}, A_{v}', commutative=True, real=True)\n",
    "\n",
    "# mechanical position\n",
    "q = Function('q', commutative=True, real=True)(t)\n",
    "eqn_beta_0s_sum_quad_t = fraction(eqn_beta_0s_sum_t)[0].subs([(beta_0s_t + conjugate(beta_0s_t), sqrt(2) * q), (A_l_t, A_l), (A_v_t, A_v)]).simplify()\n",
    "list_coll = [\n",
    "    2 * omega_0 * g_1, \n",
    "    2 * omega_0 * g_0 * conjugate(alpha_s_t) * alpha_s_t,\n",
    "    gamma_0**2\n",
    "]\n",
    "eqn_beta_0s_sum_quad_t = eqn_beta_0s_sum_quad_t.collect([q] + list_coll)\n",
    "# remove Math function to display LaTeX script\n",
    "display(Math(latex(eqn_beta_0s_sum_quad_t) + ' = 0'))"
   ]
  },
  {
   "cell_type": "markdown",
   "metadata": {},
   "source": [
    "## Coefficients of $\\left( \\beta_{1s} (t) + \\beta_{1s}^{*} (t) \\right)$"
   ]
  },
  {
   "cell_type": "code",
   "execution_count": 9,
   "metadata": {},
   "outputs": [
    {
     "data": {
      "text/latex": [
       "$\\displaystyle c_0 = 16 \\gamma_{0}^{2} \\omega_{1}^{2} g_{0}^{2} g_{1}^{2} + 16 \\omega_{0}^{2} \\omega_{1}^{2} g_{0}^{2} g_{1}^{2}$"
      ],
      "text/plain": [
       "<IPython.core.display.Math object>"
      ]
     },
     "metadata": {},
     "output_type": "display_data"
    },
    {
     "data": {
      "text/latex": [
       "$\\displaystyle c_1 = - 32 \\Delta^{(0)} \\gamma_{0}^{2} \\omega_{1}^{2} g_{0} g_{1}^{2} - 32 \\Delta^{(0)} \\omega_{0}^{2} \\omega_{1}^{2} g_{0} g_{1}^{2} - 8 \\gamma_{0}^{2} \\gamma_{1}^{2} \\omega_{1} g_{0}^{2} g_{1} - 8 \\gamma_{0}^{2} \\omega_{1}^{3} g_{0}^{2} g_{1} - 8 \\gamma_{1}^{2} \\omega_{0}^{2} \\omega_{1} g_{0}^{2} g_{1} - 8 \\omega_{0}^{2} \\omega_{1}^{3} g_{0}^{2} g_{1}$"
      ],
      "text/plain": [
       "<IPython.core.display.Math object>"
      ]
     },
     "metadata": {},
     "output_type": "display_data"
    },
    {
     "data": {
      "text/latex": [
       "$\\displaystyle c_2 = 16 \\left(\\Delta^{(0)}\\right)^{2} \\gamma_{0}^{2} \\omega_{1}^{2} g_{1}^{2} + 16 \\left(\\Delta^{(0)}\\right)^{2} \\omega_{0}^{2} \\omega_{1}^{2} g_{1}^{2} + 16 \\Delta^{(0)} \\gamma_{0}^{2} \\gamma_{1}^{2} \\omega_{1} g_{0} g_{1} + 16 \\Delta^{(0)} \\gamma_{0}^{2} \\omega_{1}^{3} g_{0} g_{1} + 16 \\Delta^{(0)} \\gamma_{1}^{2} \\omega_{0}^{2} \\omega_{1} g_{0} g_{1} + 16 \\Delta^{(0)} \\omega_{0}^{2} \\omega_{1}^{3} g_{0} g_{1} + \\gamma_{0}^{2} \\gamma_{1}^{4} g_{0}^{2} + 2 \\gamma_{0}^{2} \\gamma_{1}^{2} \\omega_{1}^{2} g_{0}^{2} + 16 \\gamma_{0}^{2} \\kappa^{2} \\omega_{1}^{2} g_{1}^{2} + \\gamma_{0}^{2} \\omega_{1}^{4} g_{0}^{2} + \\gamma_{1}^{4} \\omega_{0}^{2} g_{0}^{2} + 2 \\gamma_{1}^{2} \\omega_{0}^{2} \\omega_{1}^{2} g_{0}^{2} + 16 \\kappa^{2} \\omega_{0}^{2} \\omega_{1}^{2} g_{1}^{2} + \\omega_{0}^{2} \\omega_{1}^{4} g_{0}^{2}$"
      ],
      "text/plain": [
       "<IPython.core.display.Math object>"
      ]
     },
     "metadata": {},
     "output_type": "display_data"
    },
    {
     "data": {
      "text/latex": [
       "$\\displaystyle c_3 = - 32 A_{l}^{2} \\omega_{0} \\omega_{1}^{2} g_{0} g_{1}^{2} - 8 A_{v}^{2} \\omega_{0} \\omega_{1}^{2} g_{0}^{2} g_{1} - 8 \\left(\\Delta^{(0)}\\right)^{2} \\gamma_{0}^{2} \\gamma_{1}^{2} \\omega_{1} g_{1} - 8 \\left(\\Delta^{(0)}\\right)^{2} \\gamma_{0}^{2} \\omega_{1}^{3} g_{1} - 8 \\left(\\Delta^{(0)}\\right)^{2} \\gamma_{1}^{2} \\omega_{0}^{2} \\omega_{1} g_{1} - 8 \\left(\\Delta^{(0)}\\right)^{2} \\omega_{0}^{2} \\omega_{1}^{3} g_{1} - 2 \\Delta^{(0)} \\gamma_{0}^{2} \\gamma_{1}^{4} g_{0} - 4 \\Delta^{(0)} \\gamma_{0}^{2} \\gamma_{1}^{2} \\omega_{1}^{2} g_{0} - 2 \\Delta^{(0)} \\gamma_{0}^{2} \\omega_{1}^{4} g_{0} - 2 \\Delta^{(0)} \\gamma_{1}^{4} \\omega_{0}^{2} g_{0} - 4 \\Delta^{(0)} \\gamma_{1}^{2} \\omega_{0}^{2} \\omega_{1}^{2} g_{0} - 2 \\Delta^{(0)} \\omega_{0}^{2} \\omega_{1}^{4} g_{0} - 8 \\gamma_{0}^{2} \\gamma_{1}^{2} \\kappa^{2} \\omega_{1} g_{1} - 8 \\gamma_{0}^{2} \\kappa^{2} \\omega_{1}^{3} g_{1} - 8 \\gamma_{1}^{2} \\kappa^{2} \\omega_{0}^{2} \\omega_{1} g_{1} - 8 \\kappa^{2} \\omega_{0}^{2} \\omega_{1}^{3} g_{1}$"
      ],
      "text/plain": [
       "<IPython.core.display.Math object>"
      ]
     },
     "metadata": {},
     "output_type": "display_data"
    },
    {
     "data": {
      "text/latex": [
       "$\\displaystyle c_4 = 16 A_{l}^{2} \\gamma_{1}^{2} \\omega_{0} \\omega_{1} g_{0} g_{1} + 16 A_{l}^{2} \\omega_{0} \\omega_{1}^{3} g_{0} g_{1} + 16 A_{v}^{2} \\Delta^{(0)} \\omega_{0} \\omega_{1}^{2} g_{0} g_{1} + \\left(\\Delta^{(0)}\\right)^{2} \\gamma_{0}^{2} \\gamma_{1}^{4} + 2 \\left(\\Delta^{(0)}\\right)^{2} \\gamma_{0}^{2} \\gamma_{1}^{2} \\omega_{1}^{2} + \\left(\\Delta^{(0)}\\right)^{2} \\gamma_{0}^{2} \\omega_{1}^{4} + \\left(\\Delta^{(0)}\\right)^{2} \\gamma_{1}^{4} \\omega_{0}^{2} + 2 \\left(\\Delta^{(0)}\\right)^{2} \\gamma_{1}^{2} \\omega_{0}^{2} \\omega_{1}^{2} + \\left(\\Delta^{(0)}\\right)^{2} \\omega_{0}^{2} \\omega_{1}^{4} + \\gamma_{0}^{2} \\gamma_{1}^{4} \\kappa^{2} + 2 \\gamma_{0}^{2} \\gamma_{1}^{2} \\kappa^{2} \\omega_{1}^{2} + \\gamma_{0}^{2} \\kappa^{2} \\omega_{1}^{4} + \\gamma_{1}^{4} \\kappa^{2} \\omega_{0}^{2} + 2 \\gamma_{1}^{2} \\kappa^{2} \\omega_{0}^{2} \\omega_{1}^{2} + \\kappa^{2} \\omega_{0}^{2} \\omega_{1}^{4}$"
      ],
      "text/plain": [
       "<IPython.core.display.Math object>"
      ]
     },
     "metadata": {},
     "output_type": "display_data"
    },
    {
     "data": {
      "text/latex": [
       "$\\displaystyle c_5 = - 2 A_{l}^{2} \\gamma_{1}^{4} \\omega_{0} g_{0} - 4 A_{l}^{2} \\gamma_{1}^{2} \\omega_{0} \\omega_{1}^{2} g_{0} - 2 A_{l}^{2} \\omega_{0} \\omega_{1}^{4} g_{0} - 8 A_{v}^{2} \\left(\\Delta^{(0)}\\right)^{2} \\omega_{0} \\omega_{1}^{2} g_{1} - 8 A_{v}^{2} \\kappa^{2} \\omega_{0} \\omega_{1}^{2} g_{1}$"
      ],
      "text/plain": [
       "<IPython.core.display.Math object>"
      ]
     },
     "metadata": {},
     "output_type": "display_data"
    }
   ],
   "source": [
    "# polynomial expression\n",
    "expr_beta_0s_sum_poly_t = - eqn_beta_0s_sum_quad_t.expand().collect(q)\n",
    "# coefficients of the polynomial\n",
    "oss_coeffs = list()\n",
    "for i in range(5):\n",
    "    coeff = (expr_beta_0s_sum_poly_t.coeff(q**(5 - i)) / sqrt(2)**(5 - i)).expand()\n",
    "    oss_coeffs.append(coeff)\n",
    "    expr_beta_0s_sum_poly_t -= oss_coeffs[i] * (sqrt(2) * q)**(5 - i)\n",
    "oss_coeffs.append(expr_beta_0s_sum_poly_t.expand())\n",
    "for i in range(len(oss_coeffs)):\n",
    "    # remove Math function to display LaTeX script\n",
    "    display(Math('c_{} = '.format(i) + latex(oss_coeffs[i])))"
   ]
  },
  {
   "cell_type": "markdown",
   "metadata": {},
   "source": [
    "## Simplified Expressions"
   ]
  },
  {
   "cell_type": "code",
   "execution_count": 10,
   "metadata": {},
   "outputs": [
    {
     "data": {
      "text/latex": [
       "$\\displaystyle O_{0} = \\sqrt{\\gamma_{0}^{2} + \\omega_{0}^{2}}\\quad O_{1} = \\sqrt{\\gamma_{1}^{2} + \\omega_{1}^{2}}\\quad D = \\sqrt{\\left(\\Delta^{(0)}\\right)^{2} + \\kappa^{2}}$"
      ],
      "text/plain": [
       "<IPython.core.display.Math object>"
      ]
     },
     "metadata": {},
     "output_type": "display_data"
    },
    {
     "data": {
      "text/latex": [
       "$\\displaystyle c_{0} = 16 O_{0}^{2} \\omega_{1}^{2} g_{0}^{2} g_{1}^{2}$"
      ],
      "text/plain": [
       "<IPython.core.display.Math object>"
      ]
     },
     "metadata": {},
     "output_type": "display_data"
    },
    {
     "data": {
      "text/latex": [
       "$\\displaystyle c_{1} = - 8 O_{0}^{2} O_{1}^{2} \\omega_{1} g_{0}^{2} g_{1} - 32 O_{0}^{2} \\Delta^{(0)} \\omega_{1}^{2} g_{0} g_{1}^{2}$"
      ],
      "text/plain": [
       "<IPython.core.display.Math object>"
      ]
     },
     "metadata": {},
     "output_type": "display_data"
    },
    {
     "data": {
      "text/latex": [
       "$\\displaystyle c_{2} = 16 D^{2} O_{0}^{2} \\omega_{1}^{2} g_{1}^{2} + O_{0}^{2} O_{1}^{4} g_{0}^{2} + 16 O_{0}^{2} O_{1}^{2} \\Delta^{(0)} \\omega_{1} g_{0} g_{1}$"
      ],
      "text/plain": [
       "<IPython.core.display.Math object>"
      ]
     },
     "metadata": {},
     "output_type": "display_data"
    },
    {
     "data": {
      "text/latex": [
       "$\\displaystyle c_{3} = - 32 A_{l}^{2} \\omega_{0} \\omega_{1}^{2} g_{0} g_{1}^{2} - 8 A_{v}^{2} \\omega_{0} \\omega_{1}^{2} g_{0}^{2} g_{1} - 8 D^{2} O_{0}^{2} O_{1}^{2} \\omega_{1} g_{1} - 2 O_{0}^{2} O_{1}^{4} \\Delta^{(0)} g_{0}$"
      ],
      "text/plain": [
       "<IPython.core.display.Math object>"
      ]
     },
     "metadata": {},
     "output_type": "display_data"
    },
    {
     "data": {
      "text/latex": [
       "$\\displaystyle c_{4} = 16 A_{l}^{2} O_{1}^{2} \\omega_{0} \\omega_{1} g_{0} g_{1} + 16 A_{v}^{2} \\Delta^{(0)} \\omega_{0} \\omega_{1}^{2} g_{0} g_{1} + D^{2} O_{0}^{2} O_{1}^{4}$"
      ],
      "text/plain": [
       "<IPython.core.display.Math object>"
      ]
     },
     "metadata": {},
     "output_type": "display_data"
    },
    {
     "data": {
      "text/latex": [
       "$\\displaystyle c_{5} = - 2 A_{l}^{2} O_{1}^{4} \\omega_{0} g_{0} - 8 A_{v}^{2} D^{2} \\omega_{0} \\omega_{1}^{2} g_{1}$"
      ],
      "text/plain": [
       "<IPython.core.display.Math object>"
      ]
     },
     "metadata": {},
     "output_type": "display_data"
    },
    {
     "data": {
      "text/latex": [
       "$\\displaystyle c_{0} \\left(\\operatorname{{\\beta}_{0s}}{\\left(t \\right)} + \\overline{\\operatorname{{\\beta}_{0s}}{\\left(t \\right)}}\\right)^{5} + c_{1} \\left(\\operatorname{{\\beta}_{0s}}{\\left(t \\right)} + \\overline{\\operatorname{{\\beta}_{0s}}{\\left(t \\right)}}\\right)^{4} + c_{2} \\left(\\operatorname{{\\beta}_{0s}}{\\left(t \\right)} + \\overline{\\operatorname{{\\beta}_{0s}}{\\left(t \\right)}}\\right)^{3} + c_{3} \\left(\\operatorname{{\\beta}_{0s}}{\\left(t \\right)} + \\overline{\\operatorname{{\\beta}_{0s}}{\\left(t \\right)}}\\right)^{2} + c_{4} \\left(\\operatorname{{\\beta}_{0s}}{\\left(t \\right)} + \\overline{\\operatorname{{\\beta}_{0s}}{\\left(t \\right)}}\\right) + c_{5} = 0$"
      ],
      "text/plain": [
       "<IPython.core.display.Math object>"
      ]
     },
     "metadata": {},
     "output_type": "display_data"
    }
   ],
   "source": [
    "# simplified parameters\n",
    "O_0, O_1, D= symbols('O_{0}, O_{1}, D', real=True)\n",
    "expr_O_0 = sqrt(gamma_0**2 + omega_0**2)\n",
    "expr_O_1 = sqrt(gamma_1**2 + omega_1**2)\n",
    "expr_D = sqrt(kappa**2 + Delta_0**2)\n",
    "# remove Math function to display LaTeX script\n",
    "display(Math('O_{0} = ' + latex(expr_O_0) + '\\\\quad O_{1} = ' + latex(expr_O_1) + '\\quad D = ' + latex(expr_D)))\n",
    "\n",
    "# substitution list\n",
    "list_subs = [\n",
    "    (kappa**2, D**2 - Delta_0**2),\n",
    "    (gamma_0**2, O_0**2 - omega_0**2),\n",
    "    (gamma_1**2, O_1**2 - omega_1**2),\n",
    "]\n",
    "# calculate coefficients\n",
    "coeffs_subs = list()\n",
    "for i in range(len(oss_coeffs)):\n",
    "    coeffs_subs.append(oss_coeffs[i].subs(list_subs).expand())\n",
    "    # remove Math function to display LaTeX script\n",
    "    display(Math('c_{' + str(i) + '} = ' + latex(coeffs_subs[i])))\n",
    "# display substituted equation\n",
    "expr_beta_0s_sum_poly_t = sum([symbols('c_{}'.format(n)) * (beta_0s_t + conjugate(beta_0s_t))**(5 - n) for n in range(6)])\n",
    "display(Math(latex(expr_beta_0s_sum_poly_t) + ' = 0'))"
   ]
  },
  {
   "cell_type": "code",
   "execution_count": 11,
   "metadata": {},
   "outputs": [
    {
     "data": {
      "text/latex": [
       "$\\displaystyle c_{0} = 80 O_{0}^{2} \\omega_{1}^{2} g_{0}^{2} g_{1}^{2}$"
      ],
      "text/plain": [
       "<IPython.core.display.Math object>"
      ]
     },
     "metadata": {},
     "output_type": "display_data"
    },
    {
     "data": {
      "text/latex": [
       "$\\displaystyle c_{1} = - 32 O_{0}^{2} O_{1}^{2} \\omega_{1} g_{0}^{2} g_{1} - 128 O_{0}^{2} \\Delta^{(0)} \\omega_{1}^{2} g_{0} g_{1}^{2}$"
      ],
      "text/plain": [
       "<IPython.core.display.Math object>"
      ]
     },
     "metadata": {},
     "output_type": "display_data"
    },
    {
     "data": {
      "text/latex": [
       "$\\displaystyle c_{2} = 48 D^{2} O_{0}^{2} \\omega_{1}^{2} g_{1}^{2} + 3 O_{0}^{2} O_{1}^{4} g_{0}^{2} + 48 O_{0}^{2} O_{1}^{2} \\Delta^{(0)} \\omega_{1} g_{0} g_{1}$"
      ],
      "text/plain": [
       "<IPython.core.display.Math object>"
      ]
     },
     "metadata": {},
     "output_type": "display_data"
    },
    {
     "data": {
      "text/latex": [
       "$\\displaystyle c_{3} = - 64 A_{l}^{2} \\omega_{0} \\omega_{1}^{2} g_{0} g_{1}^{2} - 16 A_{v}^{2} \\omega_{0} \\omega_{1}^{2} g_{0}^{2} g_{1} - 16 D^{2} O_{0}^{2} O_{1}^{2} \\omega_{1} g_{1} - 4 O_{0}^{2} O_{1}^{4} \\Delta^{(0)} g_{0}$"
      ],
      "text/plain": [
       "<IPython.core.display.Math object>"
      ]
     },
     "metadata": {},
     "output_type": "display_data"
    },
    {
     "data": {
      "text/latex": [
       "$\\displaystyle c_{4} = 16 A_{l}^{2} O_{1}^{2} \\omega_{0} \\omega_{1} g_{0} g_{1} + 16 A_{v}^{2} \\Delta^{(0)} \\omega_{0} \\omega_{1}^{2} g_{0} g_{1} + D^{2} O_{0}^{2} O_{1}^{4}$"
      ],
      "text/plain": [
       "<IPython.core.display.Math object>"
      ]
     },
     "metadata": {},
     "output_type": "display_data"
    },
    {
     "data": {
      "text/latex": [
       "$\\displaystyle c_{5} = 0$"
      ],
      "text/plain": [
       "<IPython.core.display.Math object>"
      ]
     },
     "metadata": {},
     "output_type": "display_data"
    }
   ],
   "source": [
    "# calculate coefficients of derivatives\n",
    "coeffs_quad = list()\n",
    "for i in range(len(coeffs_subs)):\n",
    "    coeffs_quad.append((5 - i) * coeffs_subs[i].subs(list_subs))\n",
    "    # remove Math function to display LaTeX script\n",
    "    display(Math('c_{' + str(i) + '} = ' + latex(coeffs_quad[i])))"
   ]
  }
 ],
 "metadata": {
  "interpreter": {
   "hash": "bfdb005bc0e10f84f8f84c668626513744d6e3b4c1f7d84a79d5785d1b57766c"
  },
  "kernelspec": {
   "display_name": "Python 3.8.12 ('qom')",
   "language": "python",
   "name": "python3"
  },
  "language_info": {
   "codemirror_mode": {
    "name": "ipython",
    "version": 3
   },
   "file_extension": ".py",
   "mimetype": "text/x-python",
   "name": "python",
   "nbconvert_exporter": "python",
   "pygments_lexer": "ipython3",
   "version": "3.8.12"
  },
  "orig_nbformat": 4
 },
 "nbformat": 4,
 "nbformat_minor": 2
}
