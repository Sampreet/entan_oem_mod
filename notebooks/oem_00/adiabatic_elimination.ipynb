{
 "cells": [
  {
   "cell_type": "markdown",
   "source": [
    "# Adiabatic Elimination for the Frequency Modulated OEM System"
   ],
   "metadata": {}
  },
  {
   "cell_type": "markdown",
   "source": [
    "## Imports and Initialization"
   ],
   "metadata": {}
  },
  {
   "cell_type": "code",
   "execution_count": 1,
   "source": [
    "# dependencies\r\n",
    "from IPython.display import display, Math\r\n",
    "from sympy import conjugate, Function, I, latex, Matrix, solve, sqrt, Symbol, symbols\r\n",
    "from sympy.physics.quantum import Dagger"
   ],
   "outputs": [],
   "metadata": {}
  },
  {
   "cell_type": "code",
   "execution_count": 2,
   "source": [
    "# time \r\n",
    "t = symbols('t', real=True, positive=True)\r\n",
    "# real positive\r\n",
    "kappa, g_0, g_1, gamma_0, gamma_1, omega_0, omega_1 = symbols('\\\\kappa, g_{0}, g_{1}, \\\\gamma_{0}, \\\\gamma_{1}, \\\\omega_{0}, \\\\omega_{1}', real=True, positive=True)\r\n",
    "# real\r\n",
    "Delta_t = Function('\\\\Delta', commutative=True, real=True)(t)\r\n",
    "Gamma_0_t = Function('\\\\Gamma_{0}', commutative=True, complex=True)(t)\r\n",
    "Gamma_0I_t = Function('\\\\Gamma_{0I}', commutative=True, real=True)(t)\r\n",
    "eta_0_t = Function('\\\\eta_{0}', commutative=True, complex=True)(t)\r\n",
    "# interaction\r\n",
    "G_0_t = Function('G_{0}', commutative=True, complex=True)(t)\r\n",
    "G_0R_t = Function('G_{0R}', commutative=True, real=True)(t)\r\n",
    "G_0I_t = Function('G_{0I}', commutative=True, real=True)(t)\r\n",
    "G_10_t = Function('G_{10}', commutative=True, real=True)(t)\r\n",
    "G_11_t = Function('G_{11}', commutative=True, real=True)(t)\r\n",
    "\r\n",
    "# input noises\r\n",
    "a_t = Function('\\\\hat{a}^{(in)}', commutative=False)(t)\r\n",
    "b_0_t = Function('\\\\hat{b}_{0}^{(in)}', commutative=False)(t)\r\n",
    "b_1_t = Function('\\\\hat{b}_{1}^{(in)}', commutative=False)(t)\r\n",
    "\r\n",
    "# input noises\r\n",
    "a_in_t = Function('\\\\hat{a}^{(in)}', commutative=False)(t)\r\n",
    "b_0_in_t = Function('\\\\hat{b}_{0}^{(in)}', commutative=False)(t)\r\n",
    "b_1_in_t = Function('\\\\hat{b}_{1}^{(in)}', commutative=False)(t)\r\n",
    "\r\n",
    "# quantum fluctuations\r\n",
    "delta_a_t = Function('\\\\delta \\\\hat{a}', commutative=False)(t)\r\n",
    "delta_b_0_t = Function('\\\\delta \\\\hat{b}_{0}', commutative=False)(t)\r\n",
    "delta_b_1_t = Function('\\\\delta \\\\hat{b}_{1}', commutative=False)(t)\r\n",
    "\r\n",
    "# dimensionless quadratures\r\n",
    "Q_0_t = Function('\\\\hat{Q}_{0}', commutative=False)(t)\r\n",
    "P_0_t = Function('\\\\hat{P}_{0}', commutative=False)(t)\r\n",
    "Q_1_t = Function('\\\\hat{Q}_{1}', commutative=False)(t)\r\n",
    "P_1_t = Function('\\\\hat{P}_{1}', commutative=False)(t)\r\n",
    "\r\n",
    "# quadrature noises\r\n",
    "Q_0_in_t = Function('\\\\hat{Q}_{0}^{(in)}', commutative=False)(t)\r\n",
    "P_0_in_t = Function('\\\\hat{P}_{0}^{(in)}', commutative=False)(t)\r\n",
    "Q_1_in_t = Function('\\\\hat{Q}_{1}^{(in)}', commutative=False)(t)\r\n",
    "P_1_in_t = Function('\\\\hat{P}_{1}^{(in)}', commutative=False)(t)"
   ],
   "outputs": [],
   "metadata": {}
  },
  {
   "cell_type": "markdown",
   "source": [
    "## Quantum Langevin Equations"
   ],
   "metadata": {}
  },
  {
   "cell_type": "code",
   "execution_count": 3,
   "source": [
    "# cavity decay and vaccum fluctuations\r\n",
    "expr_ddelta_a_dt_t_io = ((- kappa - I * Delta_t) * delta_a_t + I * G_0_t * (Dagger(delta_b_0_t) + delta_b_0_t) + sqrt(2 * kappa) * a_in_t).expand()\r\n",
    "display(Math('\\\\frac{d \\\\dot{\\\\delta \\\\hat{a}}}{dt}(t) = ' + latex(expr_ddelta_a_dt_t_io.collect(I * g_0))))\r\n",
    "# mechanical damping and thermal fluctuations\r\n",
    "expr_ddelta_b_0_dt_t_io = ((- gamma_0 - I * omega_0) * delta_b_0_t + I * conjugate(G_0_t) * delta_a_t + I * G_0_t * Dagger(delta_a_t) + 2 * I * G_11_t * (Dagger(delta_b_1_t) + delta_b_1_t) + sqrt(2 * gamma_0) * b_0_in_t).expand()\r\n",
    "display(Math('\\\\frac{d \\\\dot{\\\\delta \\\\hat{b}}_0}{dt}(t) = ' + latex(expr_ddelta_b_0_dt_t_io.collect(I * g_1))))\r\n",
    "# electrical damping and thermal fluctuations\r\n",
    "expr_ddelta_b_1_dt_t_io = ((- gamma_1 - I * omega_1) * delta_b_1_t + 2 * I * G_11_t * (Dagger(delta_b_0_t) + delta_b_0_t) + 2* I * G_10_t * (Dagger(delta_b_1_t) + delta_b_1_t) + sqrt(2 * gamma_1) * b_1_in_t).expand()\r\n",
    "display(Math('\\\\frac{d \\\\dot{\\\\delta \\\\hat{b}}_1}{dt}(t) = ' + latex(expr_ddelta_b_1_dt_t_io.collect(2 * I * g_1))))"
   ],
   "outputs": [
    {
     "output_type": "display_data",
     "data": {
      "text/plain": [
       "<IPython.core.display.Math object>"
      ],
      "text/latex": [
       "$\\displaystyle \\frac{d \\dot{\\delta \\hat{a}}}{dt}(t) = \\sqrt{2} \\sqrt{\\kappa} \\hat{a}^{(in)}{\\left(t \\right)} - \\kappa \\delta \\hat{a}{\\left(t \\right)} + i \\operatorname{G_{0}}{\\left(t \\right)} \\delta \\hat{b}_{0}{\\left(t \\right)} + i \\operatorname{G_{0}}{\\left(t \\right)} \\delta \\hat{b}_{0}{\\left(t \\right)}^{\\dagger} - i \\Delta{\\left(t \\right)} \\delta \\hat{a}{\\left(t \\right)}$"
      ]
     },
     "metadata": {}
    },
    {
     "output_type": "display_data",
     "data": {
      "text/plain": [
       "<IPython.core.display.Math object>"
      ],
      "text/latex": [
       "$\\displaystyle \\frac{d \\dot{\\delta \\hat{b}}_0}{dt}(t) = \\sqrt{2} \\sqrt{\\gamma_{0}} \\hat{b}_{0}^{(in)}{\\left(t \\right)} - \\gamma_{0} \\delta \\hat{b}_{0}{\\left(t \\right)} - i \\omega_{0} \\delta \\hat{b}_{0}{\\left(t \\right)} + i \\operatorname{G_{0}}{\\left(t \\right)} \\delta \\hat{a}{\\left(t \\right)}^{\\dagger} + 2 i \\operatorname{G_{11}}{\\left(t \\right)} \\delta \\hat{b}_{1}{\\left(t \\right)} + 2 i \\operatorname{G_{11}}{\\left(t \\right)} \\delta \\hat{b}_{1}{\\left(t \\right)}^{\\dagger} + i \\overline{\\operatorname{G_{0}}{\\left(t \\right)}} \\delta \\hat{a}{\\left(t \\right)}$"
      ]
     },
     "metadata": {}
    },
    {
     "output_type": "display_data",
     "data": {
      "text/plain": [
       "<IPython.core.display.Math object>"
      ],
      "text/latex": [
       "$\\displaystyle \\frac{d \\dot{\\delta \\hat{b}}_1}{dt}(t) = \\sqrt{2} \\sqrt{\\gamma_{1}} \\hat{b}_{1}^{(in)}{\\left(t \\right)} - \\gamma_{1} \\delta \\hat{b}_{1}{\\left(t \\right)} - i \\omega_{1} \\delta \\hat{b}_{1}{\\left(t \\right)} + 2 i \\operatorname{G_{10}}{\\left(t \\right)} \\delta \\hat{b}_{1}{\\left(t \\right)} + 2 i \\operatorname{G_{10}}{\\left(t \\right)} \\delta \\hat{b}_{1}{\\left(t \\right)}^{\\dagger} + 2 i \\operatorname{G_{11}}{\\left(t \\right)} \\delta \\hat{b}_{0}{\\left(t \\right)} + 2 i \\operatorname{G_{11}}{\\left(t \\right)} \\delta \\hat{b}_{0}{\\left(t \\right)}^{\\dagger}$"
      ]
     },
     "metadata": {}
    }
   ],
   "metadata": {}
  },
  {
   "cell_type": "markdown",
   "source": [
    "## Adiabatic Elimination"
   ],
   "metadata": {}
  },
  {
   "cell_type": "code",
   "execution_count": 4,
   "source": [
    "# obtain solutions for optical modes\r\n",
    "sols = solve(expr_ddelta_a_dt_t_io, delta_a_t)\r\n",
    "expr_delta_a_adia_t = sols[0].expand()\r\n",
    "display(Math('\\\\hat{\\\\delta \\\\tilde{a}} (t) = ' + latex(expr_delta_a_adia_t)))\r\n",
    "\r\n",
    "# substitution list\r\n",
    "list_subs = [\r\n",
    "    (delta_a_t, expr_delta_a_adia_t)\r\n",
    "]\r\n",
    "# mechanical mode equations\r\n",
    "expr_ddelta_b_0_adia_dt_t = expr_ddelta_b_0_dt_t_io.subs(list_subs).expand()\r\n",
    "display(Math('\\\\dot{\\\\delta \\\\hat{b}} (t) = ' + latex(expr_ddelta_b_0_adia_dt_t)))\r\n",
    "expr_ddelta_b_1_adia_dt_t = expr_ddelta_b_1_dt_t_io.subs(list_subs).expand()\r\n",
    "display(Math('\\\\dot{\\\\delta \\\\hat{b}} (t) = ' + latex(expr_ddelta_b_1_adia_dt_t)))"
   ],
   "outputs": [
    {
     "output_type": "display_data",
     "data": {
      "text/plain": [
       "<IPython.core.display.Math object>"
      ],
      "text/latex": [
       "$\\displaystyle \\hat{\\delta \\tilde{a}} (t) = \\frac{\\sqrt{2} \\sqrt{\\kappa} \\hat{a}^{(in)}{\\left(t \\right)}}{\\kappa + i \\Delta{\\left(t \\right)}} + \\frac{i \\operatorname{G_{0}}{\\left(t \\right)} \\delta \\hat{b}_{0}{\\left(t \\right)}}{\\kappa + i \\Delta{\\left(t \\right)}} + \\frac{i \\operatorname{G_{0}}{\\left(t \\right)} \\delta \\hat{b}_{0}{\\left(t \\right)}^{\\dagger}}{\\kappa + i \\Delta{\\left(t \\right)}}$"
      ]
     },
     "metadata": {}
    },
    {
     "output_type": "display_data",
     "data": {
      "text/plain": [
       "<IPython.core.display.Math object>"
      ],
      "text/latex": [
       "$\\displaystyle \\dot{\\delta \\hat{b}} (t) = \\sqrt{2} \\sqrt{\\gamma_{0}} \\hat{b}_{0}^{(in)}{\\left(t \\right)} - \\gamma_{0} \\delta \\hat{b}_{0}{\\left(t \\right)} + \\frac{\\sqrt{2} i \\sqrt{\\kappa} \\overline{\\operatorname{G_{0}}{\\left(t \\right)}} \\hat{a}^{(in)}{\\left(t \\right)}}{\\kappa + i \\Delta{\\left(t \\right)}} + \\frac{\\sqrt{2} i \\sqrt{\\kappa} \\operatorname{G_{0}}{\\left(t \\right)} \\hat{a}^{(in)}{\\left(t \\right)}^{\\dagger}}{\\kappa - i \\Delta{\\left(t \\right)}} - i \\omega_{0} \\delta \\hat{b}_{0}{\\left(t \\right)} + 2 i \\operatorname{G_{11}}{\\left(t \\right)} \\delta \\hat{b}_{1}{\\left(t \\right)} + 2 i \\operatorname{G_{11}}{\\left(t \\right)} \\delta \\hat{b}_{1}{\\left(t \\right)}^{\\dagger} - \\frac{\\operatorname{G_{0}}{\\left(t \\right)} \\overline{\\operatorname{G_{0}}{\\left(t \\right)}} \\delta \\hat{b}_{0}{\\left(t \\right)}}{\\kappa + i \\Delta{\\left(t \\right)}} - \\frac{\\operatorname{G_{0}}{\\left(t \\right)} \\overline{\\operatorname{G_{0}}{\\left(t \\right)}} \\delta \\hat{b}_{0}{\\left(t \\right)}^{\\dagger}}{\\kappa + i \\Delta{\\left(t \\right)}} + \\frac{\\operatorname{G_{0}}{\\left(t \\right)} \\overline{\\operatorname{G_{0}}{\\left(t \\right)}} \\delta \\hat{b}_{0}{\\left(t \\right)}}{\\kappa - i \\Delta{\\left(t \\right)}} + \\frac{\\operatorname{G_{0}}{\\left(t \\right)} \\overline{\\operatorname{G_{0}}{\\left(t \\right)}} \\delta \\hat{b}_{0}{\\left(t \\right)}^{\\dagger}}{\\kappa - i \\Delta{\\left(t \\right)}}$"
      ]
     },
     "metadata": {}
    },
    {
     "output_type": "display_data",
     "data": {
      "text/plain": [
       "<IPython.core.display.Math object>"
      ],
      "text/latex": [
       "$\\displaystyle \\dot{\\delta \\hat{b}} (t) = \\sqrt{2} \\sqrt{\\gamma_{1}} \\hat{b}_{1}^{(in)}{\\left(t \\right)} - \\gamma_{1} \\delta \\hat{b}_{1}{\\left(t \\right)} - i \\omega_{1} \\delta \\hat{b}_{1}{\\left(t \\right)} + 2 i \\operatorname{G_{10}}{\\left(t \\right)} \\delta \\hat{b}_{1}{\\left(t \\right)} + 2 i \\operatorname{G_{10}}{\\left(t \\right)} \\delta \\hat{b}_{1}{\\left(t \\right)}^{\\dagger} + 2 i \\operatorname{G_{11}}{\\left(t \\right)} \\delta \\hat{b}_{0}{\\left(t \\right)} + 2 i \\operatorname{G_{11}}{\\left(t \\right)} \\delta \\hat{b}_{0}{\\left(t \\right)}^{\\dagger}$"
      ]
     },
     "metadata": {}
    }
   ],
   "metadata": {}
  },
  {
   "cell_type": "code",
   "execution_count": 5,
   "source": [
    "# substituted values\r\n",
    "expr_Gamma_0_t = conjugate(G_0_t) * G_0_t / (kappa - I * Delta_t)\r\n",
    "expr_eta_0_t = G_0_t / (kappa - I * Delta_t)\r\n",
    "# substitution list\r\n",
    "list_subs = [\r\n",
    "    (expr_Gamma_0_t, Gamma_0_t),\r\n",
    "    (conjugate(expr_Gamma_0_t), conjugate(Gamma_0_t)),\r\n",
    "    (expr_eta_0_t, eta_0_t),\r\n",
    "    (conjugate(expr_eta_0_t), conjugate(eta_0_t))\r\n",
    "]\r\n",
    "# display\r\n",
    "display(Math(latex(Gamma_0_t) + ' = ' + latex(expr_Gamma_0_t) + ', \\\\quad ' + latex(eta_0_t) + ' = ' + latex(expr_eta_0_t)))\r\n",
    "\r\n",
    "# substituted equations\r\n",
    "expr_ddelta_b_0_adia_dt_t_subs = expr_ddelta_b_0_adia_dt_t.subs(list_subs).expand()\r\n",
    "display(Math('\\\\dot{\\\\hat{\\\\tilde{b}}}_{0} (t) = ' + latex(expr_ddelta_b_0_adia_dt_t_subs)))\r\n",
    "expr_ddelta_b_1_adia_dt_t_subs = expr_ddelta_b_1_adia_dt_t.subs(list_subs).expand()\r\n",
    "display(Math('\\\\dot{\\\\hat{\\\\tilde{b}}}_{1} (t) = ' + latex(expr_ddelta_b_1_adia_dt_t_subs)))"
   ],
   "outputs": [
    {
     "output_type": "display_data",
     "data": {
      "text/plain": [
       "<IPython.core.display.Math object>"
      ],
      "text/latex": [
       "$\\displaystyle \\Gamma_{0}{\\left(t \\right)} = \\frac{\\operatorname{G_{0}}{\\left(t \\right)} \\overline{\\operatorname{G_{0}}{\\left(t \\right)}}}{\\kappa - i \\Delta{\\left(t \\right)}}, \\quad \\eta_{0}{\\left(t \\right)} = \\frac{\\operatorname{G_{0}}{\\left(t \\right)}}{\\kappa - i \\Delta{\\left(t \\right)}}$"
      ]
     },
     "metadata": {}
    },
    {
     "output_type": "display_data",
     "data": {
      "text/plain": [
       "<IPython.core.display.Math object>"
      ],
      "text/latex": [
       "$\\displaystyle \\dot{\\hat{\\tilde{b}}}_{0} (t) = \\sqrt{2} \\sqrt{\\gamma_{0}} \\hat{b}_{0}^{(in)}{\\left(t \\right)} - \\gamma_{0} \\delta \\hat{b}_{0}{\\left(t \\right)} + \\sqrt{2} i \\sqrt{\\kappa} \\eta_{0}{\\left(t \\right)} \\hat{a}^{(in)}{\\left(t \\right)}^{\\dagger} + \\sqrt{2} i \\sqrt{\\kappa} \\overline{\\eta_{0}{\\left(t \\right)}} \\hat{a}^{(in)}{\\left(t \\right)} - i \\omega_{0} \\delta \\hat{b}_{0}{\\left(t \\right)} + 2 i \\operatorname{G_{11}}{\\left(t \\right)} \\delta \\hat{b}_{1}{\\left(t \\right)} + 2 i \\operatorname{G_{11}}{\\left(t \\right)} \\delta \\hat{b}_{1}{\\left(t \\right)}^{\\dagger} + \\Gamma_{0}{\\left(t \\right)} \\delta \\hat{b}_{0}{\\left(t \\right)} + \\Gamma_{0}{\\left(t \\right)} \\delta \\hat{b}_{0}{\\left(t \\right)}^{\\dagger} - \\overline{\\Gamma_{0}{\\left(t \\right)}} \\delta \\hat{b}_{0}{\\left(t \\right)} - \\overline{\\Gamma_{0}{\\left(t \\right)}} \\delta \\hat{b}_{0}{\\left(t \\right)}^{\\dagger}$"
      ]
     },
     "metadata": {}
    },
    {
     "output_type": "display_data",
     "data": {
      "text/plain": [
       "<IPython.core.display.Math object>"
      ],
      "text/latex": [
       "$\\displaystyle \\dot{\\hat{\\tilde{b}}}_{1} (t) = \\sqrt{2} \\sqrt{\\gamma_{1}} \\hat{b}_{1}^{(in)}{\\left(t \\right)} - \\gamma_{1} \\delta \\hat{b}_{1}{\\left(t \\right)} - i \\omega_{1} \\delta \\hat{b}_{1}{\\left(t \\right)} + 2 i \\operatorname{G_{10}}{\\left(t \\right)} \\delta \\hat{b}_{1}{\\left(t \\right)} + 2 i \\operatorname{G_{10}}{\\left(t \\right)} \\delta \\hat{b}_{1}{\\left(t \\right)}^{\\dagger} + 2 i \\operatorname{G_{11}}{\\left(t \\right)} \\delta \\hat{b}_{0}{\\left(t \\right)} + 2 i \\operatorname{G_{11}}{\\left(t \\right)} \\delta \\hat{b}_{0}{\\left(t \\right)}^{\\dagger}$"
      ]
     },
     "metadata": {}
    }
   ],
   "metadata": {}
  },
  {
   "cell_type": "markdown",
   "source": [
    "## Quadrature Rates"
   ],
   "metadata": {}
  },
  {
   "cell_type": "code",
   "execution_count": 6,
   "source": [
    "# rotated quadratures\r\n",
    "expr_delta_b_0_t = (Q_0_t + I * P_0_t) / sqrt(2)\r\n",
    "expr_delta_b_1_t = (Q_1_t + I * P_1_t) / sqrt(2)\r\n",
    "expr_b_0_in_t = (Q_0_in_t + I * P_0_in_t) / sqrt(2)\r\n",
    "expr_b_1_in_t = (Q_1_in_t + I * P_1_in_t) / sqrt(2)\r\n",
    "# substitution list\r\n",
    "list_subs = [\r\n",
    "    (delta_b_0_t, expr_delta_b_0_t),\r\n",
    "    (Dagger(Q_0_t), Q_0_t),\r\n",
    "    (Dagger(P_0_t), P_0_t),\r\n",
    "    (delta_b_1_t, expr_delta_b_1_t),\r\n",
    "    (Dagger(Q_1_t), Q_1_t),\r\n",
    "    (Dagger(P_1_t), P_1_t),\r\n",
    "    (b_0_in_t, expr_b_0_in_t),\r\n",
    "    (Dagger(Q_0_in_t), Q_0_in_t),\r\n",
    "    (Dagger(P_0_in_t), P_0_in_t),\r\n",
    "    (b_1_in_t, expr_b_1_in_t),\r\n",
    "    (Dagger(Q_1_in_t), Q_1_in_t),\r\n",
    "    (Dagger(P_1_in_t), P_1_in_t)\r\n",
    "]\r\n",
    "# display\r\n",
    "display(Math(latex(delta_b_0_t) + ' = ' + latex(expr_delta_b_0_t) + ', \\\\quad ' + latex(delta_b_1_t) + ' = ' + latex(expr_delta_b_1_t)))\r\n",
    "display(Math(latex(b_0_in_t) + ' = ' + latex(expr_b_0_in_t) + ', \\\\quad ' + latex(b_1_in_t) + ' = ' + latex(expr_b_1_in_t)))\r\n",
    "\r\n",
    "# express and substitute\r\n",
    "expr_dQ_0_dt_t = (Dagger(expr_ddelta_b_0_adia_dt_t_subs) + expr_ddelta_b_0_adia_dt_t_subs) / sqrt(2)\r\n",
    "expr_dQ_0_dt_t = expr_dQ_0_dt_t.expand().subs(list_subs).expand()\r\n",
    "display(Math('\\\\dot{\\\\hat{\\\\tilde{Q}}}_{0} (t) = ' + latex(expr_dQ_0_dt_t)))\r\n",
    "expr_dP_0_dt_t = I * (Dagger(expr_ddelta_b_0_adia_dt_t_subs) - expr_ddelta_b_0_adia_dt_t_subs) / sqrt(2)\r\n",
    "expr_dP_0_dt_t = expr_dP_0_dt_t.expand().subs(list_subs).expand()\r\n",
    "display(Math('\\\\dot{\\\\hat{\\\\tilde{P}}}_{0} (t) = ' + latex(expr_dP_0_dt_t)))\r\n",
    "expr_dQ_1_dt_t = (Dagger(expr_ddelta_b_1_adia_dt_t_subs) + expr_ddelta_b_1_adia_dt_t_subs) / sqrt(2)\r\n",
    "expr_dQ_1_dt_t = expr_dQ_1_dt_t.expand().subs(list_subs).expand()\r\n",
    "display(Math('\\\\dot{\\\\hat{\\\\tilde{Q}}}_{1} (t) = ' + latex(expr_dQ_1_dt_t)))\r\n",
    "expr_dP_1_dt_t = I * (Dagger(expr_ddelta_b_1_adia_dt_t_subs) - expr_ddelta_b_1_adia_dt_t_subs) / sqrt(2)\r\n",
    "expr_dP_1_dt_t = expr_dP_1_dt_t.expand().subs(list_subs).expand()\r\n",
    "display(Math('\\\\dot{\\\\hat{\\\\tilde{P}}}_{1} (t) = ' + latex(expr_dP_1_dt_t)))"
   ],
   "outputs": [
    {
     "output_type": "display_data",
     "data": {
      "text/plain": [
       "<IPython.core.display.Math object>"
      ],
      "text/latex": [
       "$\\displaystyle \\delta \\hat{b}_{0}{\\left(t \\right)} = \\frac{\\sqrt{2} \\left(i \\hat{P}_{0}{\\left(t \\right)} + \\hat{Q}_{0}{\\left(t \\right)}\\right)}{2}, \\quad \\delta \\hat{b}_{1}{\\left(t \\right)} = \\frac{\\sqrt{2} \\left(i \\hat{P}_{1}{\\left(t \\right)} + \\hat{Q}_{1}{\\left(t \\right)}\\right)}{2}$"
      ]
     },
     "metadata": {}
    },
    {
     "output_type": "display_data",
     "data": {
      "text/plain": [
       "<IPython.core.display.Math object>"
      ],
      "text/latex": [
       "$\\displaystyle \\hat{b}_{0}^{(in)}{\\left(t \\right)} = \\frac{\\sqrt{2} \\left(i \\hat{P}_{0}^{(in)}{\\left(t \\right)} + \\hat{Q}_{0}^{(in)}{\\left(t \\right)}\\right)}{2}, \\quad \\hat{b}_{1}^{(in)}{\\left(t \\right)} = \\frac{\\sqrt{2} \\left(i \\hat{P}_{1}^{(in)}{\\left(t \\right)} + \\hat{Q}_{1}^{(in)}{\\left(t \\right)}\\right)}{2}$"
      ]
     },
     "metadata": {}
    },
    {
     "output_type": "display_data",
     "data": {
      "text/plain": [
       "<IPython.core.display.Math object>"
      ],
      "text/latex": [
       "$\\displaystyle \\dot{\\hat{\\tilde{Q}}}_{0} (t) = \\sqrt{2} \\sqrt{\\gamma_{0}} \\hat{Q}_{0}^{(in)}{\\left(t \\right)} - \\gamma_{0} \\hat{Q}_{0}{\\left(t \\right)} + \\omega_{0} \\hat{P}_{0}{\\left(t \\right)}$"
      ]
     },
     "metadata": {}
    },
    {
     "output_type": "display_data",
     "data": {
      "text/plain": [
       "<IPython.core.display.Math object>"
      ],
      "text/latex": [
       "$\\displaystyle \\dot{\\hat{\\tilde{P}}}_{0} (t) = \\sqrt{2} \\sqrt{\\gamma_{0}} \\hat{P}_{0}^{(in)}{\\left(t \\right)} - \\gamma_{0} \\hat{P}_{0}{\\left(t \\right)} + 2 \\sqrt{\\kappa} \\eta_{0}{\\left(t \\right)} \\hat{a}^{(in)}{\\left(t \\right)}^{\\dagger} + 2 \\sqrt{\\kappa} \\overline{\\eta_{0}{\\left(t \\right)}} \\hat{a}^{(in)}{\\left(t \\right)} - \\omega_{0} \\hat{Q}_{0}{\\left(t \\right)} + 4 \\operatorname{G_{11}}{\\left(t \\right)} \\hat{Q}_{1}{\\left(t \\right)} - 2 i \\Gamma_{0}{\\left(t \\right)} \\hat{Q}_{0}{\\left(t \\right)} + 2 i \\overline{\\Gamma_{0}{\\left(t \\right)}} \\hat{Q}_{0}{\\left(t \\right)}$"
      ]
     },
     "metadata": {}
    },
    {
     "output_type": "display_data",
     "data": {
      "text/plain": [
       "<IPython.core.display.Math object>"
      ],
      "text/latex": [
       "$\\displaystyle \\dot{\\hat{\\tilde{Q}}}_{1} (t) = \\sqrt{2} \\sqrt{\\gamma_{1}} \\hat{Q}_{1}^{(in)}{\\left(t \\right)} - \\gamma_{1} \\hat{Q}_{1}{\\left(t \\right)} + \\omega_{1} \\hat{P}_{1}{\\left(t \\right)}$"
      ]
     },
     "metadata": {}
    },
    {
     "output_type": "display_data",
     "data": {
      "text/plain": [
       "<IPython.core.display.Math object>"
      ],
      "text/latex": [
       "$\\displaystyle \\dot{\\hat{\\tilde{P}}}_{1} (t) = \\sqrt{2} \\sqrt{\\gamma_{1}} \\hat{P}_{1}^{(in)}{\\left(t \\right)} - \\gamma_{1} \\hat{P}_{1}{\\left(t \\right)} - \\omega_{1} \\hat{Q}_{1}{\\left(t \\right)} + 4 \\operatorname{G_{10}}{\\left(t \\right)} \\hat{Q}_{1}{\\left(t \\right)} + 4 \\operatorname{G_{11}}{\\left(t \\right)} \\hat{Q}_{0}{\\left(t \\right)}$"
      ]
     },
     "metadata": {}
    }
   ],
   "metadata": {}
  },
  {
   "cell_type": "code",
   "execution_count": 7,
   "source": [
    "# substitutions\r\n",
    "A_10_t = Function('A_{10}', real=True)(t)\r\n",
    "A_32_t = Function('A_{32}', real=True)(t)\r\n",
    "D_11_t = Function('D_{11}', real=True)(t)\r\n",
    "# expressions\r\n",
    "expr_A_10_t = - omega_0 - 4 * Gamma_0I_t\r\n",
    "expr_A_32_t = - omega_1 + 4 * G_10_t\r\n",
    "expr_D_11_t =  gamma_0 + 2 * conjugate(eta_0_t) * eta_0_t\r\n",
    "\r\n",
    "# drift matrix\r\n",
    "A = Matrix([\r\n",
    "    [- gamma_0, omega_0, 0, 0], \r\n",
    "    [- omega_0 - 4 * Gamma_0I_t, - gamma_0, 4 * G_11_t, 0], \r\n",
    "    [0, 0,  - gamma_1, omega_1], \r\n",
    "    [4 * G_11_t, 0, - omega_1 + 4 * G_10_t, - gamma_1]\r\n",
    "]).subs([(expr_A_10_t, A_10_t), (expr_A_32_t, A_32_t), (expr_D_11_t, D_11_t)])\r\n",
    "display(Math('A = ' + latex(A)))\r\n",
    "\r\n",
    "# noise matrix\r\n",
    "d_L, d_R = symbols('d_{L}, d_{R}', real=True)\r\n",
    "# diag_L = conjugate(eta_L) * eta_L * (1 + lamb**2 / kappa**2) / 2 + gamma * (2 * n_th + 1)\r\n",
    "# diag_R = conjugate(eta_R) * eta_R * (1 + lamb**2 / kappa**2) / 2 + gamma * (2 * n_th + 1)\r\n",
    "D = Matrix([[gamma_0, 0, 0, 0], [0, gamma_0 + 2 * conjugate(eta_0_t) * eta_0_t, 0, 0], [0, 0, gamma_1, 0], [0, 0, 0, gamma_1]]).subs(expr_D_11_t, D_11_t)\r\n",
    "display(Math('D = ' + latex(D)))\r\n",
    "\r\n",
    "# correlation matrix\r\n",
    "u = [Q_0_t, P_0_t, Q_1_t, P_1_t]\r\n",
    "correlations_expect = Matrix([[Symbol('\\\\langle ' + latex(u_i) + latex(u_j) + ' \\\\rangle', real=True) for u_i in u] for u_j in u])\r\n",
    "V = (correlations_expect + correlations_expect.T) / 2\r\n",
    "display(Math('V = ' + latex(V)))"
   ],
   "outputs": [
    {
     "output_type": "display_data",
     "data": {
      "text/plain": [
       "<IPython.core.display.Math object>"
      ],
      "text/latex": [
       "$\\displaystyle A = \\left[\\begin{matrix}- \\gamma_{0} & \\omega_{0} & 0 & 0\\\\- \\omega_{0} - 4 \\Gamma_{0I}{\\left(t \\right)} & - \\gamma_{0} & 4 \\operatorname{G_{11}}{\\left(t \\right)} & 0\\\\0 & 0 & - \\gamma_{1} & \\omega_{1}\\\\4 \\operatorname{G_{11}}{\\left(t \\right)} & 0 & - \\omega_{1} + 4 \\operatorname{G_{10}}{\\left(t \\right)} & - \\gamma_{1}\\end{matrix}\\right]$"
      ]
     },
     "metadata": {}
    },
    {
     "output_type": "display_data",
     "data": {
      "text/plain": [
       "<IPython.core.display.Math object>"
      ],
      "text/latex": [
       "$\\displaystyle D = \\left[\\begin{matrix}\\gamma_{0} & 0 & 0 & 0\\\\0 & \\gamma_{0} + 2 \\eta_{0}{\\left(t \\right)} \\overline{\\eta_{0}{\\left(t \\right)}} & 0 & 0\\\\0 & 0 & \\gamma_{1} & 0\\\\0 & 0 & 0 & \\gamma_{1}\\end{matrix}\\right]$"
      ]
     },
     "metadata": {}
    },
    {
     "output_type": "display_data",
     "data": {
      "text/plain": [
       "<IPython.core.display.Math object>"
      ],
      "text/latex": [
       "$\\displaystyle V = \\left[\\begin{matrix}\\langle \\hat{Q}_{0}{\\left(t \\right)}\\hat{Q}_{0}{\\left(t \\right)} \\rangle & \\frac{\\langle \\hat{P}_{0}{\\left(t \\right)}\\hat{Q}_{0}{\\left(t \\right)} \\rangle}{2} + \\frac{\\langle \\hat{Q}_{0}{\\left(t \\right)}\\hat{P}_{0}{\\left(t \\right)} \\rangle}{2} & \\frac{\\langle \\hat{Q}_{0}{\\left(t \\right)}\\hat{Q}_{1}{\\left(t \\right)} \\rangle}{2} + \\frac{\\langle \\hat{Q}_{1}{\\left(t \\right)}\\hat{Q}_{0}{\\left(t \\right)} \\rangle}{2} & \\frac{\\langle \\hat{P}_{1}{\\left(t \\right)}\\hat{Q}_{0}{\\left(t \\right)} \\rangle}{2} + \\frac{\\langle \\hat{Q}_{0}{\\left(t \\right)}\\hat{P}_{1}{\\left(t \\right)} \\rangle}{2}\\\\\\frac{\\langle \\hat{P}_{0}{\\left(t \\right)}\\hat{Q}_{0}{\\left(t \\right)} \\rangle}{2} + \\frac{\\langle \\hat{Q}_{0}{\\left(t \\right)}\\hat{P}_{0}{\\left(t \\right)} \\rangle}{2} & \\langle \\hat{P}_{0}{\\left(t \\right)}\\hat{P}_{0}{\\left(t \\right)} \\rangle & \\frac{\\langle \\hat{P}_{0}{\\left(t \\right)}\\hat{Q}_{1}{\\left(t \\right)} \\rangle}{2} + \\frac{\\langle \\hat{Q}_{1}{\\left(t \\right)}\\hat{P}_{0}{\\left(t \\right)} \\rangle}{2} & \\frac{\\langle \\hat{P}_{0}{\\left(t \\right)}\\hat{P}_{1}{\\left(t \\right)} \\rangle}{2} + \\frac{\\langle \\hat{P}_{1}{\\left(t \\right)}\\hat{P}_{0}{\\left(t \\right)} \\rangle}{2}\\\\\\frac{\\langle \\hat{Q}_{0}{\\left(t \\right)}\\hat{Q}_{1}{\\left(t \\right)} \\rangle}{2} + \\frac{\\langle \\hat{Q}_{1}{\\left(t \\right)}\\hat{Q}_{0}{\\left(t \\right)} \\rangle}{2} & \\frac{\\langle \\hat{P}_{0}{\\left(t \\right)}\\hat{Q}_{1}{\\left(t \\right)} \\rangle}{2} + \\frac{\\langle \\hat{Q}_{1}{\\left(t \\right)}\\hat{P}_{0}{\\left(t \\right)} \\rangle}{2} & \\langle \\hat{Q}_{1}{\\left(t \\right)}\\hat{Q}_{1}{\\left(t \\right)} \\rangle & \\frac{\\langle \\hat{P}_{1}{\\left(t \\right)}\\hat{Q}_{1}{\\left(t \\right)} \\rangle}{2} + \\frac{\\langle \\hat{Q}_{1}{\\left(t \\right)}\\hat{P}_{1}{\\left(t \\right)} \\rangle}{2}\\\\\\frac{\\langle \\hat{P}_{1}{\\left(t \\right)}\\hat{Q}_{0}{\\left(t \\right)} \\rangle}{2} + \\frac{\\langle \\hat{Q}_{0}{\\left(t \\right)}\\hat{P}_{1}{\\left(t \\right)} \\rangle}{2} & \\frac{\\langle \\hat{P}_{0}{\\left(t \\right)}\\hat{P}_{1}{\\left(t \\right)} \\rangle}{2} + \\frac{\\langle \\hat{P}_{1}{\\left(t \\right)}\\hat{P}_{0}{\\left(t \\right)} \\rangle}{2} & \\frac{\\langle \\hat{P}_{1}{\\left(t \\right)}\\hat{Q}_{1}{\\left(t \\right)} \\rangle}{2} + \\frac{\\langle \\hat{Q}_{1}{\\left(t \\right)}\\hat{P}_{1}{\\left(t \\right)} \\rangle}{2} & \\langle \\hat{P}_{1}{\\left(t \\right)}\\hat{P}_{1}{\\left(t \\right)} \\rangle\\end{matrix}\\right]$"
      ]
     },
     "metadata": {}
    }
   ],
   "metadata": {}
  },
  {
   "cell_type": "code",
   "execution_count": 8,
   "source": [
    "# all expressions\r\n",
    "expr_dV_dt = A * V + V * A.T + D\r\n",
    "# unique expressions\r\n",
    "idxs = [(0, 0), (0, 1), (1, 1), (2, 2), (2, 3), (3, 3), (0, 2), (0, 3), (1, 2), (1, 3)]\r\n",
    "expr_unique = [expr_dV_dt[idx[0], idx[1]] for idx in idxs]\r\n",
    "for i in range(len(idxs)):\r\n",
    "    display(Math(latex(expr_unique[i]) + ' = 0'))\r\n"
   ],
   "outputs": [
    {
     "output_type": "display_data",
     "data": {
      "text/plain": [
       "<IPython.core.display.Math object>"
      ],
      "text/latex": [
       "$\\displaystyle - 2 \\gamma_{0} \\langle \\hat{Q}_{0}{\\left(t \\right)}\\hat{Q}_{0}{\\left(t \\right)} \\rangle + \\gamma_{0} + 2 \\omega_{0} \\left(\\frac{\\langle \\hat{P}_{0}{\\left(t \\right)}\\hat{Q}_{0}{\\left(t \\right)} \\rangle}{2} + \\frac{\\langle \\hat{Q}_{0}{\\left(t \\right)}\\hat{P}_{0}{\\left(t \\right)} \\rangle}{2}\\right) = 0$"
      ]
     },
     "metadata": {}
    },
    {
     "output_type": "display_data",
     "data": {
      "text/plain": [
       "<IPython.core.display.Math object>"
      ],
      "text/latex": [
       "$\\displaystyle - 2 \\gamma_{0} \\left(\\frac{\\langle \\hat{P}_{0}{\\left(t \\right)}\\hat{Q}_{0}{\\left(t \\right)} \\rangle}{2} + \\frac{\\langle \\hat{Q}_{0}{\\left(t \\right)}\\hat{P}_{0}{\\left(t \\right)} \\rangle}{2}\\right) + \\langle \\hat{P}_{0}{\\left(t \\right)}\\hat{P}_{0}{\\left(t \\right)} \\rangle \\omega_{0} + \\langle \\hat{Q}_{0}{\\left(t \\right)}\\hat{Q}_{0}{\\left(t \\right)} \\rangle \\left(- \\omega_{0} - 4 \\Gamma_{0I}{\\left(t \\right)}\\right) + 4 \\left(\\frac{\\langle \\hat{Q}_{0}{\\left(t \\right)}\\hat{Q}_{1}{\\left(t \\right)} \\rangle}{2} + \\frac{\\langle \\hat{Q}_{1}{\\left(t \\right)}\\hat{Q}_{0}{\\left(t \\right)} \\rangle}{2}\\right) \\operatorname{G_{11}}{\\left(t \\right)} = 0$"
      ]
     },
     "metadata": {}
    },
    {
     "output_type": "display_data",
     "data": {
      "text/plain": [
       "<IPython.core.display.Math object>"
      ],
      "text/latex": [
       "$\\displaystyle - 2 \\gamma_{0} \\langle \\hat{P}_{0}{\\left(t \\right)}\\hat{P}_{0}{\\left(t \\right)} \\rangle + \\gamma_{0} + 2 \\left(\\frac{\\langle \\hat{P}_{0}{\\left(t \\right)}\\hat{Q}_{0}{\\left(t \\right)} \\rangle}{2} + \\frac{\\langle \\hat{Q}_{0}{\\left(t \\right)}\\hat{P}_{0}{\\left(t \\right)} \\rangle}{2}\\right) \\left(- \\omega_{0} - 4 \\Gamma_{0I}{\\left(t \\right)}\\right) + 8 \\left(\\frac{\\langle \\hat{P}_{0}{\\left(t \\right)}\\hat{Q}_{1}{\\left(t \\right)} \\rangle}{2} + \\frac{\\langle \\hat{Q}_{1}{\\left(t \\right)}\\hat{P}_{0}{\\left(t \\right)} \\rangle}{2}\\right) \\operatorname{G_{11}}{\\left(t \\right)} + 2 \\eta_{0}{\\left(t \\right)} \\overline{\\eta_{0}{\\left(t \\right)}} = 0$"
      ]
     },
     "metadata": {}
    },
    {
     "output_type": "display_data",
     "data": {
      "text/plain": [
       "<IPython.core.display.Math object>"
      ],
      "text/latex": [
       "$\\displaystyle - 2 \\gamma_{1} \\langle \\hat{Q}_{1}{\\left(t \\right)}\\hat{Q}_{1}{\\left(t \\right)} \\rangle + \\gamma_{1} + 2 \\omega_{1} \\left(\\frac{\\langle \\hat{P}_{1}{\\left(t \\right)}\\hat{Q}_{1}{\\left(t \\right)} \\rangle}{2} + \\frac{\\langle \\hat{Q}_{1}{\\left(t \\right)}\\hat{P}_{1}{\\left(t \\right)} \\rangle}{2}\\right) = 0$"
      ]
     },
     "metadata": {}
    },
    {
     "output_type": "display_data",
     "data": {
      "text/plain": [
       "<IPython.core.display.Math object>"
      ],
      "text/latex": [
       "$\\displaystyle - 2 \\gamma_{1} \\left(\\frac{\\langle \\hat{P}_{1}{\\left(t \\right)}\\hat{Q}_{1}{\\left(t \\right)} \\rangle}{2} + \\frac{\\langle \\hat{Q}_{1}{\\left(t \\right)}\\hat{P}_{1}{\\left(t \\right)} \\rangle}{2}\\right) + \\langle \\hat{P}_{1}{\\left(t \\right)}\\hat{P}_{1}{\\left(t \\right)} \\rangle \\omega_{1} + \\langle \\hat{Q}_{1}{\\left(t \\right)}\\hat{Q}_{1}{\\left(t \\right)} \\rangle \\left(- \\omega_{1} + 4 \\operatorname{G_{10}}{\\left(t \\right)}\\right) + 4 \\left(\\frac{\\langle \\hat{Q}_{0}{\\left(t \\right)}\\hat{Q}_{1}{\\left(t \\right)} \\rangle}{2} + \\frac{\\langle \\hat{Q}_{1}{\\left(t \\right)}\\hat{Q}_{0}{\\left(t \\right)} \\rangle}{2}\\right) \\operatorname{G_{11}}{\\left(t \\right)} = 0$"
      ]
     },
     "metadata": {}
    },
    {
     "output_type": "display_data",
     "data": {
      "text/plain": [
       "<IPython.core.display.Math object>"
      ],
      "text/latex": [
       "$\\displaystyle - 2 \\gamma_{1} \\langle \\hat{P}_{1}{\\left(t \\right)}\\hat{P}_{1}{\\left(t \\right)} \\rangle + \\gamma_{1} + 8 \\left(\\frac{\\langle \\hat{P}_{1}{\\left(t \\right)}\\hat{Q}_{0}{\\left(t \\right)} \\rangle}{2} + \\frac{\\langle \\hat{Q}_{0}{\\left(t \\right)}\\hat{P}_{1}{\\left(t \\right)} \\rangle}{2}\\right) \\operatorname{G_{11}}{\\left(t \\right)} + 2 \\left(\\frac{\\langle \\hat{P}_{1}{\\left(t \\right)}\\hat{Q}_{1}{\\left(t \\right)} \\rangle}{2} + \\frac{\\langle \\hat{Q}_{1}{\\left(t \\right)}\\hat{P}_{1}{\\left(t \\right)} \\rangle}{2}\\right) \\left(- \\omega_{1} + 4 \\operatorname{G_{10}}{\\left(t \\right)}\\right) = 0$"
      ]
     },
     "metadata": {}
    },
    {
     "output_type": "display_data",
     "data": {
      "text/plain": [
       "<IPython.core.display.Math object>"
      ],
      "text/latex": [
       "$\\displaystyle - \\gamma_{0} \\left(\\frac{\\langle \\hat{Q}_{0}{\\left(t \\right)}\\hat{Q}_{1}{\\left(t \\right)} \\rangle}{2} + \\frac{\\langle \\hat{Q}_{1}{\\left(t \\right)}\\hat{Q}_{0}{\\left(t \\right)} \\rangle}{2}\\right) - \\gamma_{1} \\left(\\frac{\\langle \\hat{Q}_{0}{\\left(t \\right)}\\hat{Q}_{1}{\\left(t \\right)} \\rangle}{2} + \\frac{\\langle \\hat{Q}_{1}{\\left(t \\right)}\\hat{Q}_{0}{\\left(t \\right)} \\rangle}{2}\\right) + \\omega_{0} \\left(\\frac{\\langle \\hat{P}_{0}{\\left(t \\right)}\\hat{Q}_{1}{\\left(t \\right)} \\rangle}{2} + \\frac{\\langle \\hat{Q}_{1}{\\left(t \\right)}\\hat{P}_{0}{\\left(t \\right)} \\rangle}{2}\\right) + \\omega_{1} \\left(\\frac{\\langle \\hat{P}_{1}{\\left(t \\right)}\\hat{Q}_{0}{\\left(t \\right)} \\rangle}{2} + \\frac{\\langle \\hat{Q}_{0}{\\left(t \\right)}\\hat{P}_{1}{\\left(t \\right)} \\rangle}{2}\\right) = 0$"
      ]
     },
     "metadata": {}
    },
    {
     "output_type": "display_data",
     "data": {
      "text/plain": [
       "<IPython.core.display.Math object>"
      ],
      "text/latex": [
       "$\\displaystyle - \\gamma_{0} \\left(\\frac{\\langle \\hat{P}_{1}{\\left(t \\right)}\\hat{Q}_{0}{\\left(t \\right)} \\rangle}{2} + \\frac{\\langle \\hat{Q}_{0}{\\left(t \\right)}\\hat{P}_{1}{\\left(t \\right)} \\rangle}{2}\\right) - \\gamma_{1} \\left(\\frac{\\langle \\hat{P}_{1}{\\left(t \\right)}\\hat{Q}_{0}{\\left(t \\right)} \\rangle}{2} + \\frac{\\langle \\hat{Q}_{0}{\\left(t \\right)}\\hat{P}_{1}{\\left(t \\right)} \\rangle}{2}\\right) + 4 \\langle \\hat{Q}_{0}{\\left(t \\right)}\\hat{Q}_{0}{\\left(t \\right)} \\rangle \\operatorname{G_{11}}{\\left(t \\right)} + \\omega_{0} \\left(\\frac{\\langle \\hat{P}_{0}{\\left(t \\right)}\\hat{P}_{1}{\\left(t \\right)} \\rangle}{2} + \\frac{\\langle \\hat{P}_{1}{\\left(t \\right)}\\hat{P}_{0}{\\left(t \\right)} \\rangle}{2}\\right) + \\left(\\frac{\\langle \\hat{Q}_{0}{\\left(t \\right)}\\hat{Q}_{1}{\\left(t \\right)} \\rangle}{2} + \\frac{\\langle \\hat{Q}_{1}{\\left(t \\right)}\\hat{Q}_{0}{\\left(t \\right)} \\rangle}{2}\\right) \\left(- \\omega_{1} + 4 \\operatorname{G_{10}}{\\left(t \\right)}\\right) = 0$"
      ]
     },
     "metadata": {}
    },
    {
     "output_type": "display_data",
     "data": {
      "text/plain": [
       "<IPython.core.display.Math object>"
      ],
      "text/latex": [
       "$\\displaystyle - \\gamma_{0} \\left(\\frac{\\langle \\hat{P}_{0}{\\left(t \\right)}\\hat{Q}_{1}{\\left(t \\right)} \\rangle}{2} + \\frac{\\langle \\hat{Q}_{1}{\\left(t \\right)}\\hat{P}_{0}{\\left(t \\right)} \\rangle}{2}\\right) - \\gamma_{1} \\left(\\frac{\\langle \\hat{P}_{0}{\\left(t \\right)}\\hat{Q}_{1}{\\left(t \\right)} \\rangle}{2} + \\frac{\\langle \\hat{Q}_{1}{\\left(t \\right)}\\hat{P}_{0}{\\left(t \\right)} \\rangle}{2}\\right) + 4 \\langle \\hat{Q}_{1}{\\left(t \\right)}\\hat{Q}_{1}{\\left(t \\right)} \\rangle \\operatorname{G_{11}}{\\left(t \\right)} + \\omega_{1} \\left(\\frac{\\langle \\hat{P}_{0}{\\left(t \\right)}\\hat{P}_{1}{\\left(t \\right)} \\rangle}{2} + \\frac{\\langle \\hat{P}_{1}{\\left(t \\right)}\\hat{P}_{0}{\\left(t \\right)} \\rangle}{2}\\right) + \\left(\\frac{\\langle \\hat{Q}_{0}{\\left(t \\right)}\\hat{Q}_{1}{\\left(t \\right)} \\rangle}{2} + \\frac{\\langle \\hat{Q}_{1}{\\left(t \\right)}\\hat{Q}_{0}{\\left(t \\right)} \\rangle}{2}\\right) \\left(- \\omega_{0} - 4 \\Gamma_{0I}{\\left(t \\right)}\\right) = 0$"
      ]
     },
     "metadata": {}
    },
    {
     "output_type": "display_data",
     "data": {
      "text/plain": [
       "<IPython.core.display.Math object>"
      ],
      "text/latex": [
       "$\\displaystyle - \\gamma_{0} \\left(\\frac{\\langle \\hat{P}_{0}{\\left(t \\right)}\\hat{P}_{1}{\\left(t \\right)} \\rangle}{2} + \\frac{\\langle \\hat{P}_{1}{\\left(t \\right)}\\hat{P}_{0}{\\left(t \\right)} \\rangle}{2}\\right) - \\gamma_{1} \\left(\\frac{\\langle \\hat{P}_{0}{\\left(t \\right)}\\hat{P}_{1}{\\left(t \\right)} \\rangle}{2} + \\frac{\\langle \\hat{P}_{1}{\\left(t \\right)}\\hat{P}_{0}{\\left(t \\right)} \\rangle}{2}\\right) + 4 \\left(\\frac{\\langle \\hat{P}_{0}{\\left(t \\right)}\\hat{Q}_{0}{\\left(t \\right)} \\rangle}{2} + \\frac{\\langle \\hat{Q}_{0}{\\left(t \\right)}\\hat{P}_{0}{\\left(t \\right)} \\rangle}{2}\\right) \\operatorname{G_{11}}{\\left(t \\right)} + \\left(\\frac{\\langle \\hat{P}_{0}{\\left(t \\right)}\\hat{Q}_{1}{\\left(t \\right)} \\rangle}{2} + \\frac{\\langle \\hat{Q}_{1}{\\left(t \\right)}\\hat{P}_{0}{\\left(t \\right)} \\rangle}{2}\\right) \\left(- \\omega_{1} + 4 \\operatorname{G_{10}}{\\left(t \\right)}\\right) + \\left(\\frac{\\langle \\hat{P}_{1}{\\left(t \\right)}\\hat{Q}_{0}{\\left(t \\right)} \\rangle}{2} + \\frac{\\langle \\hat{Q}_{0}{\\left(t \\right)}\\hat{P}_{1}{\\left(t \\right)} \\rangle}{2}\\right) \\left(- \\omega_{0} - 4 \\Gamma_{0I}{\\left(t \\right)}\\right) + 4 \\left(\\frac{\\langle \\hat{P}_{1}{\\left(t \\right)}\\hat{Q}_{1}{\\left(t \\right)} \\rangle}{2} + \\frac{\\langle \\hat{Q}_{1}{\\left(t \\right)}\\hat{P}_{1}{\\left(t \\right)} \\rangle}{2}\\right) \\operatorname{G_{11}}{\\left(t \\right)} = 0$"
      ]
     },
     "metadata": {}
    }
   ],
   "metadata": {}
  },
  {
   "cell_type": "code",
   "execution_count": 9,
   "source": [
    "# solutions\r\n",
    "sols = solve(expr_unique, [V[idx[0], idx[1]] for idx in idxs])"
   ],
   "outputs": [
    {
     "output_type": "error",
     "ename": "KeyboardInterrupt",
     "evalue": "",
     "traceback": [
      "\u001b[1;31m---------------------------------------------------------------------------\u001b[0m",
      "\u001b[1;31mKeyboardInterrupt\u001b[0m                         Traceback (most recent call last)",
      "\u001b[1;32m<ipython-input-9-1281662813d9>\u001b[0m in \u001b[0;36m<module>\u001b[1;34m\u001b[0m\n\u001b[0;32m      1\u001b[0m \u001b[1;31m# solutions\u001b[0m\u001b[1;33m\u001b[0m\u001b[1;33m\u001b[0m\u001b[1;33m\u001b[0m\u001b[0m\n\u001b[1;32m----> 2\u001b[1;33m \u001b[0msols\u001b[0m \u001b[1;33m=\u001b[0m \u001b[0msolve\u001b[0m\u001b[1;33m(\u001b[0m\u001b[0mexpr_unique\u001b[0m\u001b[1;33m,\u001b[0m \u001b[1;33m[\u001b[0m\u001b[0mV\u001b[0m\u001b[1;33m[\u001b[0m\u001b[0midx\u001b[0m\u001b[1;33m[\u001b[0m\u001b[1;36m0\u001b[0m\u001b[1;33m]\u001b[0m\u001b[1;33m,\u001b[0m \u001b[0midx\u001b[0m\u001b[1;33m[\u001b[0m\u001b[1;36m1\u001b[0m\u001b[1;33m]\u001b[0m\u001b[1;33m]\u001b[0m \u001b[1;32mfor\u001b[0m \u001b[0midx\u001b[0m \u001b[1;32min\u001b[0m \u001b[0midxs\u001b[0m\u001b[1;33m]\u001b[0m\u001b[1;33m)\u001b[0m\u001b[1;33m\u001b[0m\u001b[1;33m\u001b[0m\u001b[0m\n\u001b[0m",
      "\u001b[1;32mC:\\ProgramData\\Anaconda3\\lib\\site-packages\\sympy\\solvers\\solvers.py\u001b[0m in \u001b[0;36msolve\u001b[1;34m(f, *symbols, **flags)\u001b[0m\n\u001b[0;32m   1095\u001b[0m         \u001b[0msolution\u001b[0m \u001b[1;33m=\u001b[0m \u001b[0m_solve\u001b[0m\u001b[1;33m(\u001b[0m\u001b[0mf\u001b[0m\u001b[1;33m[\u001b[0m\u001b[1;36m0\u001b[0m\u001b[1;33m]\u001b[0m\u001b[1;33m,\u001b[0m \u001b[1;33m*\u001b[0m\u001b[0msymbols\u001b[0m\u001b[1;33m,\u001b[0m \u001b[1;33m**\u001b[0m\u001b[0mflags\u001b[0m\u001b[1;33m)\u001b[0m\u001b[1;33m\u001b[0m\u001b[1;33m\u001b[0m\u001b[0m\n\u001b[0;32m   1096\u001b[0m     \u001b[1;32melse\u001b[0m\u001b[1;33m:\u001b[0m\u001b[1;33m\u001b[0m\u001b[1;33m\u001b[0m\u001b[0m\n\u001b[1;32m-> 1097\u001b[1;33m         \u001b[0msolution\u001b[0m \u001b[1;33m=\u001b[0m \u001b[0m_solve_system\u001b[0m\u001b[1;33m(\u001b[0m\u001b[0mf\u001b[0m\u001b[1;33m,\u001b[0m \u001b[0msymbols\u001b[0m\u001b[1;33m,\u001b[0m \u001b[1;33m**\u001b[0m\u001b[0mflags\u001b[0m\u001b[1;33m)\u001b[0m\u001b[1;33m\u001b[0m\u001b[1;33m\u001b[0m\u001b[0m\n\u001b[0m\u001b[0;32m   1098\u001b[0m \u001b[1;33m\u001b[0m\u001b[0m\n\u001b[0;32m   1099\u001b[0m     \u001b[1;31m#\u001b[0m\u001b[1;33m\u001b[0m\u001b[1;33m\u001b[0m\u001b[1;33m\u001b[0m\u001b[0m\n",
      "\u001b[1;32mC:\\ProgramData\\Anaconda3\\lib\\site-packages\\sympy\\solvers\\solvers.py\u001b[0m in \u001b[0;36m_solve_system\u001b[1;34m(exprs, symbols, **flags)\u001b[0m\n\u001b[0;32m   1828\u001b[0m                 \u001b[0mresult\u001b[0m \u001b[1;33m=\u001b[0m \u001b[0mminsolve_linear_system\u001b[0m\u001b[1;33m(\u001b[0m\u001b[0mmatrix\u001b[0m\u001b[1;33m,\u001b[0m \u001b[1;33m*\u001b[0m\u001b[0msymbols\u001b[0m\u001b[1;33m,\u001b[0m \u001b[1;33m**\u001b[0m\u001b[0mflags\u001b[0m\u001b[1;33m)\u001b[0m\u001b[1;33m\u001b[0m\u001b[1;33m\u001b[0m\u001b[0m\n\u001b[0;32m   1829\u001b[0m             \u001b[1;32melse\u001b[0m\u001b[1;33m:\u001b[0m\u001b[1;33m\u001b[0m\u001b[1;33m\u001b[0m\u001b[0m\n\u001b[1;32m-> 1830\u001b[1;33m                 \u001b[0mresult\u001b[0m \u001b[1;33m=\u001b[0m \u001b[0msolve_linear_system\u001b[0m\u001b[1;33m(\u001b[0m\u001b[0mmatrix\u001b[0m\u001b[1;33m,\u001b[0m \u001b[1;33m*\u001b[0m\u001b[0msymbols\u001b[0m\u001b[1;33m,\u001b[0m \u001b[1;33m**\u001b[0m\u001b[0mflags\u001b[0m\u001b[1;33m)\u001b[0m\u001b[1;33m\u001b[0m\u001b[1;33m\u001b[0m\u001b[0m\n\u001b[0m\u001b[0;32m   1831\u001b[0m             \u001b[1;32mif\u001b[0m \u001b[0mfailed\u001b[0m\u001b[1;33m:\u001b[0m\u001b[1;33m\u001b[0m\u001b[1;33m\u001b[0m\u001b[0m\n\u001b[0;32m   1832\u001b[0m                 \u001b[1;32mif\u001b[0m \u001b[0mresult\u001b[0m\u001b[1;33m:\u001b[0m\u001b[1;33m\u001b[0m\u001b[1;33m\u001b[0m\u001b[0m\n",
      "\u001b[1;32mC:\\ProgramData\\Anaconda3\\lib\\site-packages\\sympy\\solvers\\solvers.py\u001b[0m in \u001b[0;36msolve_linear_system\u001b[1;34m(system, *symbols, **flags)\u001b[0m\n\u001b[0;32m   2302\u001b[0m     \u001b[0meqs\u001b[0m \u001b[1;33m=\u001b[0m \u001b[0mlist\u001b[0m\u001b[1;33m(\u001b[0m\u001b[0msystem\u001b[0m \u001b[1;33m*\u001b[0m \u001b[0mMatrix\u001b[0m\u001b[1;33m(\u001b[0m\u001b[0msymbols\u001b[0m \u001b[1;33m+\u001b[0m \u001b[1;33m(\u001b[0m\u001b[1;33m-\u001b[0m\u001b[1;36m1\u001b[0m\u001b[1;33m,\u001b[0m\u001b[1;33m)\u001b[0m\u001b[1;33m)\u001b[0m\u001b[1;33m)\u001b[0m\u001b[1;33m\u001b[0m\u001b[1;33m\u001b[0m\u001b[0m\n\u001b[0;32m   2303\u001b[0m     \u001b[0meqs\u001b[0m\u001b[1;33m,\u001b[0m \u001b[0mring\u001b[0m \u001b[1;33m=\u001b[0m \u001b[0msympy_eqs_to_ring\u001b[0m\u001b[1;33m(\u001b[0m\u001b[0meqs\u001b[0m\u001b[1;33m,\u001b[0m \u001b[0msymbols\u001b[0m\u001b[1;33m)\u001b[0m\u001b[1;33m\u001b[0m\u001b[1;33m\u001b[0m\u001b[0m\n\u001b[1;32m-> 2304\u001b[1;33m     \u001b[0msol\u001b[0m \u001b[1;33m=\u001b[0m \u001b[0msolve_lin_sys\u001b[0m\u001b[1;33m(\u001b[0m\u001b[0meqs\u001b[0m\u001b[1;33m,\u001b[0m \u001b[0mring\u001b[0m\u001b[1;33m,\u001b[0m \u001b[0m_raw\u001b[0m\u001b[1;33m=\u001b[0m\u001b[1;32mFalse\u001b[0m\u001b[1;33m)\u001b[0m\u001b[1;33m\u001b[0m\u001b[1;33m\u001b[0m\u001b[0m\n\u001b[0m\u001b[0;32m   2305\u001b[0m     \u001b[1;32mif\u001b[0m \u001b[0msol\u001b[0m \u001b[1;32mis\u001b[0m \u001b[1;32mnot\u001b[0m \u001b[1;32mNone\u001b[0m\u001b[1;33m:\u001b[0m\u001b[1;33m\u001b[0m\u001b[1;33m\u001b[0m\u001b[0m\n\u001b[0;32m   2306\u001b[0m         \u001b[0msol\u001b[0m \u001b[1;33m=\u001b[0m \u001b[1;33m{\u001b[0m\u001b[0msym\u001b[0m\u001b[1;33m:\u001b[0m\u001b[0mval\u001b[0m \u001b[1;32mfor\u001b[0m \u001b[0msym\u001b[0m\u001b[1;33m,\u001b[0m \u001b[0mval\u001b[0m \u001b[1;32min\u001b[0m \u001b[0msol\u001b[0m\u001b[1;33m.\u001b[0m\u001b[0mitems\u001b[0m\u001b[1;33m(\u001b[0m\u001b[1;33m)\u001b[0m \u001b[1;32mif\u001b[0m \u001b[0msym\u001b[0m \u001b[1;33m!=\u001b[0m \u001b[0mval\u001b[0m\u001b[1;33m}\u001b[0m\u001b[1;33m\u001b[0m\u001b[1;33m\u001b[0m\u001b[0m\n",
      "\u001b[1;32mC:\\ProgramData\\Anaconda3\\lib\\site-packages\\sympy\\polys\\solvers.py\u001b[0m in \u001b[0;36msolve_lin_sys\u001b[1;34m(eqs, ring, _raw)\u001b[0m\n\u001b[0;32m    225\u001b[0m         \u001b[0meqs_coeffs\u001b[0m\u001b[1;33m.\u001b[0m\u001b[0mappend\u001b[0m\u001b[1;33m(\u001b[0m\u001b[0meq_coeffs\u001b[0m\u001b[1;33m)\u001b[0m\u001b[1;33m\u001b[0m\u001b[1;33m\u001b[0m\u001b[0m\n\u001b[0;32m    226\u001b[0m \u001b[1;33m\u001b[0m\u001b[0m\n\u001b[1;32m--> 227\u001b[1;33m     \u001b[0mresult\u001b[0m \u001b[1;33m=\u001b[0m \u001b[0m_solve_lin_sys\u001b[0m\u001b[1;33m(\u001b[0m\u001b[0meqs_coeffs\u001b[0m\u001b[1;33m,\u001b[0m \u001b[0meqs_rhs\u001b[0m\u001b[1;33m,\u001b[0m \u001b[0mring\u001b[0m\u001b[1;33m)\u001b[0m\u001b[1;33m\u001b[0m\u001b[1;33m\u001b[0m\u001b[0m\n\u001b[0m\u001b[0;32m    228\u001b[0m \u001b[1;33m\u001b[0m\u001b[0m\n\u001b[0;32m    229\u001b[0m     \u001b[1;32mif\u001b[0m \u001b[0mresult\u001b[0m \u001b[1;32mis\u001b[0m \u001b[1;32mnot\u001b[0m \u001b[1;32mNone\u001b[0m \u001b[1;32mand\u001b[0m \u001b[0mas_expr\u001b[0m\u001b[1;33m:\u001b[0m\u001b[1;33m\u001b[0m\u001b[1;33m\u001b[0m\u001b[0m\n",
      "\u001b[1;32mC:\\ProgramData\\Anaconda3\\lib\\site-packages\\sympy\\polys\\solvers.py\u001b[0m in \u001b[0;36m_solve_lin_sys\u001b[1;34m(eqs_coeffs, eqs_rhs, ring)\u001b[0m\n\u001b[0;32m    303\u001b[0m     \u001b[0msol\u001b[0m \u001b[1;33m=\u001b[0m \u001b[1;33m{\u001b[0m\u001b[1;33m}\u001b[0m\u001b[1;33m\u001b[0m\u001b[1;33m\u001b[0m\u001b[0m\n\u001b[0;32m    304\u001b[0m     \u001b[1;32mfor\u001b[0m \u001b[0msubsystem\u001b[0m \u001b[1;32min\u001b[0m \u001b[0msubsystems\u001b[0m\u001b[1;33m:\u001b[0m\u001b[1;33m\u001b[0m\u001b[1;33m\u001b[0m\u001b[0m\n\u001b[1;32m--> 305\u001b[1;33m         \u001b[0msubsol\u001b[0m \u001b[1;33m=\u001b[0m \u001b[0m_solve_lin_sys_component\u001b[0m\u001b[1;33m(\u001b[0m\u001b[0msubsystem\u001b[0m\u001b[1;33m[\u001b[0m\u001b[1;36m0\u001b[0m\u001b[1;33m]\u001b[0m\u001b[1;33m,\u001b[0m \u001b[0msubsystem\u001b[0m\u001b[1;33m[\u001b[0m\u001b[1;36m1\u001b[0m\u001b[1;33m]\u001b[0m\u001b[1;33m,\u001b[0m \u001b[0mring\u001b[0m\u001b[1;33m)\u001b[0m\u001b[1;33m\u001b[0m\u001b[1;33m\u001b[0m\u001b[0m\n\u001b[0m\u001b[0;32m    306\u001b[0m         \u001b[1;32mif\u001b[0m \u001b[0msubsol\u001b[0m \u001b[1;32mis\u001b[0m \u001b[1;32mNone\u001b[0m\u001b[1;33m:\u001b[0m\u001b[1;33m\u001b[0m\u001b[1;33m\u001b[0m\u001b[0m\n\u001b[0;32m    307\u001b[0m             \u001b[1;32mreturn\u001b[0m \u001b[1;32mNone\u001b[0m\u001b[1;33m\u001b[0m\u001b[1;33m\u001b[0m\u001b[0m\n",
      "\u001b[1;32mC:\\ProgramData\\Anaconda3\\lib\\site-packages\\sympy\\polys\\solvers.py\u001b[0m in \u001b[0;36m_solve_lin_sys_component\u001b[1;34m(eqs_coeffs, eqs_rhs, ring)\u001b[0m\n\u001b[0;32m    351\u001b[0m \u001b[1;33m\u001b[0m\u001b[0m\n\u001b[0;32m    352\u001b[0m     \u001b[1;31m# solve by row-reduction\u001b[0m\u001b[1;33m\u001b[0m\u001b[1;33m\u001b[0m\u001b[1;33m\u001b[0m\u001b[0m\n\u001b[1;32m--> 353\u001b[1;33m     \u001b[0mechelon\u001b[0m\u001b[1;33m,\u001b[0m \u001b[0mpivots\u001b[0m \u001b[1;33m=\u001b[0m \u001b[0mmatrix\u001b[0m\u001b[1;33m.\u001b[0m\u001b[0mrref\u001b[0m\u001b[1;33m(\u001b[0m\u001b[1;33m)\u001b[0m\u001b[1;33m\u001b[0m\u001b[1;33m\u001b[0m\u001b[0m\n\u001b[0m\u001b[0;32m    354\u001b[0m \u001b[1;33m\u001b[0m\u001b[0m\n\u001b[0;32m    355\u001b[0m     \u001b[1;31m# construct the returnable form of the solutions\u001b[0m\u001b[1;33m\u001b[0m\u001b[1;33m\u001b[0m\u001b[1;33m\u001b[0m\u001b[0m\n",
      "\u001b[1;32mC:\\ProgramData\\Anaconda3\\lib\\site-packages\\sympy\\polys\\matrices\\domainmatrix.py\u001b[0m in \u001b[0;36mrref\u001b[1;34m(self)\u001b[0m\n\u001b[0;32m    867\u001b[0m         \u001b[1;32mif\u001b[0m \u001b[1;32mnot\u001b[0m \u001b[0mself\u001b[0m\u001b[1;33m.\u001b[0m\u001b[0mdomain\u001b[0m\u001b[1;33m.\u001b[0m\u001b[0mis_Field\u001b[0m\u001b[1;33m:\u001b[0m\u001b[1;33m\u001b[0m\u001b[1;33m\u001b[0m\u001b[0m\n\u001b[0;32m    868\u001b[0m             \u001b[1;32mraise\u001b[0m \u001b[0mValueError\u001b[0m\u001b[1;33m(\u001b[0m\u001b[1;34m'Not a field'\u001b[0m\u001b[1;33m)\u001b[0m\u001b[1;33m\u001b[0m\u001b[1;33m\u001b[0m\u001b[0m\n\u001b[1;32m--> 869\u001b[1;33m         \u001b[0mrref_ddm\u001b[0m\u001b[1;33m,\u001b[0m \u001b[0mpivots\u001b[0m \u001b[1;33m=\u001b[0m \u001b[0mself\u001b[0m\u001b[1;33m.\u001b[0m\u001b[0mrep\u001b[0m\u001b[1;33m.\u001b[0m\u001b[0mrref\u001b[0m\u001b[1;33m(\u001b[0m\u001b[1;33m)\u001b[0m\u001b[1;33m\u001b[0m\u001b[1;33m\u001b[0m\u001b[0m\n\u001b[0m\u001b[0;32m    870\u001b[0m         \u001b[1;32mreturn\u001b[0m \u001b[0mself\u001b[0m\u001b[1;33m.\u001b[0m\u001b[0mfrom_rep\u001b[0m\u001b[1;33m(\u001b[0m\u001b[0mrref_ddm\u001b[0m\u001b[1;33m)\u001b[0m\u001b[1;33m,\u001b[0m \u001b[0mtuple\u001b[0m\u001b[1;33m(\u001b[0m\u001b[0mpivots\u001b[0m\u001b[1;33m)\u001b[0m\u001b[1;33m\u001b[0m\u001b[1;33m\u001b[0m\u001b[0m\n\u001b[0;32m    871\u001b[0m \u001b[1;33m\u001b[0m\u001b[0m\n",
      "\u001b[1;32mC:\\ProgramData\\Anaconda3\\lib\\site-packages\\sympy\\polys\\matrices\\ddm.py\u001b[0m in \u001b[0;36mrref\u001b[1;34m(a)\u001b[0m\n\u001b[0;32m    241\u001b[0m         \u001b[1;34m\"\"\"Reduced-row echelon form of a and list of pivots\"\"\"\u001b[0m\u001b[1;33m\u001b[0m\u001b[1;33m\u001b[0m\u001b[0m\n\u001b[0;32m    242\u001b[0m         \u001b[0mb\u001b[0m \u001b[1;33m=\u001b[0m \u001b[0ma\u001b[0m\u001b[1;33m.\u001b[0m\u001b[0mcopy\u001b[0m\u001b[1;33m(\u001b[0m\u001b[1;33m)\u001b[0m\u001b[1;33m\u001b[0m\u001b[1;33m\u001b[0m\u001b[0m\n\u001b[1;32m--> 243\u001b[1;33m         \u001b[0mpivots\u001b[0m \u001b[1;33m=\u001b[0m \u001b[0mddm_irref\u001b[0m\u001b[1;33m(\u001b[0m\u001b[0mb\u001b[0m\u001b[1;33m)\u001b[0m\u001b[1;33m\u001b[0m\u001b[1;33m\u001b[0m\u001b[0m\n\u001b[0m\u001b[0;32m    244\u001b[0m         \u001b[1;32mreturn\u001b[0m \u001b[0mb\u001b[0m\u001b[1;33m,\u001b[0m \u001b[0mpivots\u001b[0m\u001b[1;33m\u001b[0m\u001b[1;33m\u001b[0m\u001b[0m\n\u001b[0;32m    245\u001b[0m \u001b[1;33m\u001b[0m\u001b[0m\n",
      "\u001b[1;32mC:\\ProgramData\\Anaconda3\\lib\\site-packages\\sympy\\polys\\matrices\\dense.py\u001b[0m in \u001b[0;36mddm_irref\u001b[1;34m(a)\u001b[0m\n\u001b[0;32m    120\u001b[0m             \u001b[0mak\u001b[0m\u001b[1;33m[\u001b[0m\u001b[0mj\u001b[0m\u001b[1;33m]\u001b[0m \u001b[1;33m-=\u001b[0m \u001b[0makj\u001b[0m \u001b[1;31m# ak[j] = zero\u001b[0m\u001b[1;33m\u001b[0m\u001b[1;33m\u001b[0m\u001b[0m\n\u001b[0;32m    121\u001b[0m             \u001b[1;32mfor\u001b[0m \u001b[0ml\u001b[0m \u001b[1;32min\u001b[0m \u001b[0mrange\u001b[0m\u001b[1;33m(\u001b[0m\u001b[0mj\u001b[0m\u001b[1;33m+\u001b[0m\u001b[1;36m1\u001b[0m\u001b[1;33m,\u001b[0m \u001b[0mn\u001b[0m\u001b[1;33m)\u001b[0m\u001b[1;33m:\u001b[0m\u001b[1;33m\u001b[0m\u001b[1;33m\u001b[0m\u001b[0m\n\u001b[1;32m--> 122\u001b[1;33m                 \u001b[0mak\u001b[0m\u001b[1;33m[\u001b[0m\u001b[0ml\u001b[0m\u001b[1;33m]\u001b[0m \u001b[1;33m-=\u001b[0m \u001b[0makj\u001b[0m \u001b[1;33m*\u001b[0m \u001b[0mai\u001b[0m\u001b[1;33m[\u001b[0m\u001b[0ml\u001b[0m\u001b[1;33m]\u001b[0m\u001b[1;33m\u001b[0m\u001b[1;33m\u001b[0m\u001b[0m\n\u001b[0m\u001b[0;32m    123\u001b[0m \u001b[1;33m\u001b[0m\u001b[0m\n\u001b[0;32m    124\u001b[0m         \u001b[1;31m# next row\u001b[0m\u001b[1;33m\u001b[0m\u001b[1;33m\u001b[0m\u001b[1;33m\u001b[0m\u001b[0m\n",
      "\u001b[1;32mC:\\ProgramData\\Anaconda3\\lib\\site-packages\\sympy\\polys\\domains\\expressiondomain.py\u001b[0m in \u001b[0;36m__sub__\u001b[1;34m(f, g)\u001b[0m\n\u001b[0;32m     77\u001b[0m \u001b[1;33m\u001b[0m\u001b[0m\n\u001b[0;32m     78\u001b[0m             \u001b[1;32mif\u001b[0m \u001b[0mg\u001b[0m \u001b[1;32mis\u001b[0m \u001b[1;32mnot\u001b[0m \u001b[1;32mNone\u001b[0m\u001b[1;33m:\u001b[0m\u001b[1;33m\u001b[0m\u001b[1;33m\u001b[0m\u001b[0m\n\u001b[1;32m---> 79\u001b[1;33m                 \u001b[1;32mreturn\u001b[0m \u001b[0mf\u001b[0m\u001b[1;33m.\u001b[0m\u001b[0msimplify\u001b[0m\u001b[1;33m(\u001b[0m\u001b[0mf\u001b[0m\u001b[1;33m.\u001b[0m\u001b[0mex\u001b[0m \u001b[1;33m-\u001b[0m \u001b[0mg\u001b[0m\u001b[1;33m.\u001b[0m\u001b[0mex\u001b[0m\u001b[1;33m)\u001b[0m\u001b[1;33m\u001b[0m\u001b[1;33m\u001b[0m\u001b[0m\n\u001b[0m\u001b[0;32m     80\u001b[0m             \u001b[1;32melse\u001b[0m\u001b[1;33m:\u001b[0m\u001b[1;33m\u001b[0m\u001b[1;33m\u001b[0m\u001b[0m\n\u001b[0;32m     81\u001b[0m                 \u001b[1;32mreturn\u001b[0m \u001b[0mNotImplemented\u001b[0m\u001b[1;33m\u001b[0m\u001b[1;33m\u001b[0m\u001b[0m\n",
      "\u001b[1;32mC:\\ProgramData\\Anaconda3\\lib\\site-packages\\sympy\\polys\\domains\\expressiondomain.py\u001b[0m in \u001b[0;36msimplify\u001b[1;34m(f, ex)\u001b[0m\n\u001b[0;32m     48\u001b[0m \u001b[1;33m\u001b[0m\u001b[0m\n\u001b[0;32m     49\u001b[0m         \u001b[1;32mdef\u001b[0m \u001b[0msimplify\u001b[0m\u001b[1;33m(\u001b[0m\u001b[0mf\u001b[0m\u001b[1;33m,\u001b[0m \u001b[0mex\u001b[0m\u001b[1;33m)\u001b[0m\u001b[1;33m:\u001b[0m\u001b[1;33m\u001b[0m\u001b[1;33m\u001b[0m\u001b[0m\n\u001b[1;32m---> 50\u001b[1;33m             \u001b[1;32mreturn\u001b[0m \u001b[0mf\u001b[0m\u001b[1;33m.\u001b[0m\u001b[0m__class__\u001b[0m\u001b[1;33m(\u001b[0m\u001b[0mex\u001b[0m\u001b[1;33m.\u001b[0m\u001b[0mcancel\u001b[0m\u001b[1;33m(\u001b[0m\u001b[1;33m)\u001b[0m\u001b[1;33m.\u001b[0m\u001b[0mexpand\u001b[0m\u001b[1;33m(\u001b[0m\u001b[1;33m**\u001b[0m\u001b[0meflags\u001b[0m\u001b[1;33m)\u001b[0m\u001b[1;33m)\u001b[0m\u001b[1;33m\u001b[0m\u001b[1;33m\u001b[0m\u001b[0m\n\u001b[0m\u001b[0;32m     51\u001b[0m \u001b[1;33m\u001b[0m\u001b[0m\n\u001b[0;32m     52\u001b[0m         \u001b[1;32mdef\u001b[0m \u001b[0m__abs__\u001b[0m\u001b[1;33m(\u001b[0m\u001b[0mf\u001b[0m\u001b[1;33m)\u001b[0m\u001b[1;33m:\u001b[0m\u001b[1;33m\u001b[0m\u001b[1;33m\u001b[0m\u001b[0m\n",
      "\u001b[1;32mC:\\ProgramData\\Anaconda3\\lib\\site-packages\\sympy\\core\\expr.py\u001b[0m in \u001b[0;36mcancel\u001b[1;34m(self, *gens, **args)\u001b[0m\n\u001b[0;32m   3705\u001b[0m         \u001b[1;34m\"\"\"See the cancel function in sympy.polys\"\"\"\u001b[0m\u001b[1;33m\u001b[0m\u001b[1;33m\u001b[0m\u001b[0m\n\u001b[0;32m   3706\u001b[0m         \u001b[1;32mfrom\u001b[0m \u001b[0msympy\u001b[0m\u001b[1;33m.\u001b[0m\u001b[0mpolys\u001b[0m \u001b[1;32mimport\u001b[0m \u001b[0mcancel\u001b[0m\u001b[1;33m\u001b[0m\u001b[1;33m\u001b[0m\u001b[0m\n\u001b[1;32m-> 3707\u001b[1;33m         \u001b[1;32mreturn\u001b[0m \u001b[0mcancel\u001b[0m\u001b[1;33m(\u001b[0m\u001b[0mself\u001b[0m\u001b[1;33m,\u001b[0m \u001b[1;33m*\u001b[0m\u001b[0mgens\u001b[0m\u001b[1;33m,\u001b[0m \u001b[1;33m**\u001b[0m\u001b[0margs\u001b[0m\u001b[1;33m)\u001b[0m\u001b[1;33m\u001b[0m\u001b[1;33m\u001b[0m\u001b[0m\n\u001b[0m\u001b[0;32m   3708\u001b[0m \u001b[1;33m\u001b[0m\u001b[0m\n\u001b[0;32m   3709\u001b[0m     \u001b[1;32mdef\u001b[0m \u001b[0minvert\u001b[0m\u001b[1;33m(\u001b[0m\u001b[0mself\u001b[0m\u001b[1;33m,\u001b[0m \u001b[0mg\u001b[0m\u001b[1;33m,\u001b[0m \u001b[1;33m*\u001b[0m\u001b[0mgens\u001b[0m\u001b[1;33m,\u001b[0m \u001b[1;33m**\u001b[0m\u001b[0margs\u001b[0m\u001b[1;33m)\u001b[0m\u001b[1;33m:\u001b[0m\u001b[1;33m\u001b[0m\u001b[1;33m\u001b[0m\u001b[0m\n",
      "\u001b[1;32mC:\\ProgramData\\Anaconda3\\lib\\site-packages\\sympy\\polys\\polytools.py\u001b[0m in \u001b[0;36mcancel\u001b[1;34m(f, *gens, **args)\u001b[0m\n\u001b[0;32m   6704\u001b[0m         \u001b[1;32mif\u001b[0m \u001b[0mf\u001b[0m\u001b[1;33m.\u001b[0m\u001b[0mhas\u001b[0m\u001b[1;33m(\u001b[0m\u001b[0mPiecewise\u001b[0m\u001b[1;33m)\u001b[0m\u001b[1;33m:\u001b[0m\u001b[1;33m\u001b[0m\u001b[1;33m\u001b[0m\u001b[0m\n\u001b[0;32m   6705\u001b[0m             \u001b[1;32mraise\u001b[0m \u001b[0mPolynomialError\u001b[0m\u001b[1;33m(\u001b[0m\u001b[1;33m)\u001b[0m\u001b[1;33m\u001b[0m\u001b[1;33m\u001b[0m\u001b[0m\n\u001b[1;32m-> 6706\u001b[1;33m         \u001b[0mR\u001b[0m\u001b[1;33m,\u001b[0m \u001b[1;33m(\u001b[0m\u001b[0mF\u001b[0m\u001b[1;33m,\u001b[0m \u001b[0mG\u001b[0m\u001b[1;33m)\u001b[0m \u001b[1;33m=\u001b[0m \u001b[0msring\u001b[0m\u001b[1;33m(\u001b[0m\u001b[1;33m(\u001b[0m\u001b[0mp\u001b[0m\u001b[1;33m,\u001b[0m \u001b[0mq\u001b[0m\u001b[1;33m)\u001b[0m\u001b[1;33m,\u001b[0m \u001b[1;33m*\u001b[0m\u001b[0mgens\u001b[0m\u001b[1;33m,\u001b[0m \u001b[1;33m**\u001b[0m\u001b[0margs\u001b[0m\u001b[1;33m)\u001b[0m\u001b[1;33m\u001b[0m\u001b[1;33m\u001b[0m\u001b[0m\n\u001b[0m\u001b[0;32m   6707\u001b[0m         \u001b[1;32mif\u001b[0m \u001b[1;32mnot\u001b[0m \u001b[0mR\u001b[0m\u001b[1;33m.\u001b[0m\u001b[0mngens\u001b[0m\u001b[1;33m:\u001b[0m\u001b[1;33m\u001b[0m\u001b[1;33m\u001b[0m\u001b[0m\n\u001b[0;32m   6708\u001b[0m             \u001b[1;32mif\u001b[0m \u001b[1;32mnot\u001b[0m \u001b[0misinstance\u001b[0m\u001b[1;33m(\u001b[0m\u001b[0mf\u001b[0m\u001b[1;33m,\u001b[0m \u001b[1;33m(\u001b[0m\u001b[0mtuple\u001b[0m\u001b[1;33m,\u001b[0m \u001b[0mTuple\u001b[0m\u001b[1;33m)\u001b[0m\u001b[1;33m)\u001b[0m\u001b[1;33m:\u001b[0m\u001b[1;33m\u001b[0m\u001b[1;33m\u001b[0m\u001b[0m\n",
      "\u001b[1;32mC:\\ProgramData\\Anaconda3\\lib\\site-packages\\sympy\\polys\\rings.py\u001b[0m in \u001b[0;36msring\u001b[1;34m(exprs, *symbols, **options)\u001b[0m\n\u001b[0;32m    162\u001b[0m \u001b[1;33m\u001b[0m\u001b[0m\n\u001b[0;32m    163\u001b[0m     \u001b[1;31m# TODO: rewrite this so that it doesn't use expand() (see poly()).\u001b[0m\u001b[1;33m\u001b[0m\u001b[1;33m\u001b[0m\u001b[1;33m\u001b[0m\u001b[0m\n\u001b[1;32m--> 164\u001b[1;33m     \u001b[0mreps\u001b[0m\u001b[1;33m,\u001b[0m \u001b[0mopt\u001b[0m \u001b[1;33m=\u001b[0m \u001b[0m_parallel_dict_from_expr\u001b[0m\u001b[1;33m(\u001b[0m\u001b[0mexprs\u001b[0m\u001b[1;33m,\u001b[0m \u001b[0mopt\u001b[0m\u001b[1;33m)\u001b[0m\u001b[1;33m\u001b[0m\u001b[1;33m\u001b[0m\u001b[0m\n\u001b[0m\u001b[0;32m    165\u001b[0m \u001b[1;33m\u001b[0m\u001b[0m\n\u001b[0;32m    166\u001b[0m     \u001b[1;32mif\u001b[0m \u001b[0mopt\u001b[0m\u001b[1;33m.\u001b[0m\u001b[0mdomain\u001b[0m \u001b[1;32mis\u001b[0m \u001b[1;32mNone\u001b[0m\u001b[1;33m:\u001b[0m\u001b[1;33m\u001b[0m\u001b[1;33m\u001b[0m\u001b[0m\n",
      "\u001b[1;32mC:\\ProgramData\\Anaconda3\\lib\\site-packages\\sympy\\polys\\polyutils.py\u001b[0m in \u001b[0;36m_parallel_dict_from_expr\u001b[1;34m(exprs, opt)\u001b[0m\n\u001b[0;32m    324\u001b[0m     \u001b[1;34m\"\"\"Transform expressions into a multinomial form. \"\"\"\u001b[0m\u001b[1;33m\u001b[0m\u001b[1;33m\u001b[0m\u001b[0m\n\u001b[0;32m    325\u001b[0m     \u001b[1;32mif\u001b[0m \u001b[0mopt\u001b[0m\u001b[1;33m.\u001b[0m\u001b[0mexpand\u001b[0m \u001b[1;32mis\u001b[0m \u001b[1;32mnot\u001b[0m \u001b[1;32mFalse\u001b[0m\u001b[1;33m:\u001b[0m\u001b[1;33m\u001b[0m\u001b[1;33m\u001b[0m\u001b[0m\n\u001b[1;32m--> 326\u001b[1;33m         \u001b[0mexprs\u001b[0m \u001b[1;33m=\u001b[0m \u001b[1;33m[\u001b[0m \u001b[0mexpr\u001b[0m\u001b[1;33m.\u001b[0m\u001b[0mexpand\u001b[0m\u001b[1;33m(\u001b[0m\u001b[1;33m)\u001b[0m \u001b[1;32mfor\u001b[0m \u001b[0mexpr\u001b[0m \u001b[1;32min\u001b[0m \u001b[0mexprs\u001b[0m \u001b[1;33m]\u001b[0m\u001b[1;33m\u001b[0m\u001b[1;33m\u001b[0m\u001b[0m\n\u001b[0m\u001b[0;32m    327\u001b[0m \u001b[1;33m\u001b[0m\u001b[0m\n\u001b[0;32m    328\u001b[0m     \u001b[1;32mif\u001b[0m \u001b[0many\u001b[0m\u001b[1;33m(\u001b[0m\u001b[0mexpr\u001b[0m\u001b[1;33m.\u001b[0m\u001b[0mis_commutative\u001b[0m \u001b[1;32mis\u001b[0m \u001b[1;32mFalse\u001b[0m \u001b[1;32mfor\u001b[0m \u001b[0mexpr\u001b[0m \u001b[1;32min\u001b[0m \u001b[0mexprs\u001b[0m\u001b[1;33m)\u001b[0m\u001b[1;33m:\u001b[0m\u001b[1;33m\u001b[0m\u001b[1;33m\u001b[0m\u001b[0m\n",
      "\u001b[1;32mC:\\ProgramData\\Anaconda3\\lib\\site-packages\\sympy\\polys\\polyutils.py\u001b[0m in \u001b[0;36m<listcomp>\u001b[1;34m(.0)\u001b[0m\n\u001b[0;32m    324\u001b[0m     \u001b[1;34m\"\"\"Transform expressions into a multinomial form. \"\"\"\u001b[0m\u001b[1;33m\u001b[0m\u001b[1;33m\u001b[0m\u001b[0m\n\u001b[0;32m    325\u001b[0m     \u001b[1;32mif\u001b[0m \u001b[0mopt\u001b[0m\u001b[1;33m.\u001b[0m\u001b[0mexpand\u001b[0m \u001b[1;32mis\u001b[0m \u001b[1;32mnot\u001b[0m \u001b[1;32mFalse\u001b[0m\u001b[1;33m:\u001b[0m\u001b[1;33m\u001b[0m\u001b[1;33m\u001b[0m\u001b[0m\n\u001b[1;32m--> 326\u001b[1;33m         \u001b[0mexprs\u001b[0m \u001b[1;33m=\u001b[0m \u001b[1;33m[\u001b[0m \u001b[0mexpr\u001b[0m\u001b[1;33m.\u001b[0m\u001b[0mexpand\u001b[0m\u001b[1;33m(\u001b[0m\u001b[1;33m)\u001b[0m \u001b[1;32mfor\u001b[0m \u001b[0mexpr\u001b[0m \u001b[1;32min\u001b[0m \u001b[0mexprs\u001b[0m \u001b[1;33m]\u001b[0m\u001b[1;33m\u001b[0m\u001b[1;33m\u001b[0m\u001b[0m\n\u001b[0m\u001b[0;32m    327\u001b[0m \u001b[1;33m\u001b[0m\u001b[0m\n\u001b[0;32m    328\u001b[0m     \u001b[1;32mif\u001b[0m \u001b[0many\u001b[0m\u001b[1;33m(\u001b[0m\u001b[0mexpr\u001b[0m\u001b[1;33m.\u001b[0m\u001b[0mis_commutative\u001b[0m \u001b[1;32mis\u001b[0m \u001b[1;32mFalse\u001b[0m \u001b[1;32mfor\u001b[0m \u001b[0mexpr\u001b[0m \u001b[1;32min\u001b[0m \u001b[0mexprs\u001b[0m\u001b[1;33m)\u001b[0m\u001b[1;33m:\u001b[0m\u001b[1;33m\u001b[0m\u001b[1;33m\u001b[0m\u001b[0m\n",
      "\u001b[1;32mC:\\ProgramData\\Anaconda3\\lib\\site-packages\\sympy\\core\\cache.py\u001b[0m in \u001b[0;36mwrapper\u001b[1;34m(*args, **kwargs)\u001b[0m\n\u001b[0;32m     70\u001b[0m         \u001b[1;32mdef\u001b[0m \u001b[0mwrapper\u001b[0m\u001b[1;33m(\u001b[0m\u001b[1;33m*\u001b[0m\u001b[0margs\u001b[0m\u001b[1;33m,\u001b[0m \u001b[1;33m**\u001b[0m\u001b[0mkwargs\u001b[0m\u001b[1;33m)\u001b[0m\u001b[1;33m:\u001b[0m\u001b[1;33m\u001b[0m\u001b[1;33m\u001b[0m\u001b[0m\n\u001b[0;32m     71\u001b[0m             \u001b[1;32mtry\u001b[0m\u001b[1;33m:\u001b[0m\u001b[1;33m\u001b[0m\u001b[1;33m\u001b[0m\u001b[0m\n\u001b[1;32m---> 72\u001b[1;33m                 \u001b[0mretval\u001b[0m \u001b[1;33m=\u001b[0m \u001b[0mcfunc\u001b[0m\u001b[1;33m(\u001b[0m\u001b[1;33m*\u001b[0m\u001b[0margs\u001b[0m\u001b[1;33m,\u001b[0m \u001b[1;33m**\u001b[0m\u001b[0mkwargs\u001b[0m\u001b[1;33m)\u001b[0m\u001b[1;33m\u001b[0m\u001b[1;33m\u001b[0m\u001b[0m\n\u001b[0m\u001b[0;32m     73\u001b[0m             \u001b[1;32mexcept\u001b[0m \u001b[0mTypeError\u001b[0m\u001b[1;33m:\u001b[0m\u001b[1;33m\u001b[0m\u001b[1;33m\u001b[0m\u001b[0m\n\u001b[0;32m     74\u001b[0m                 \u001b[0mretval\u001b[0m \u001b[1;33m=\u001b[0m \u001b[0mfunc\u001b[0m\u001b[1;33m(\u001b[0m\u001b[1;33m*\u001b[0m\u001b[0margs\u001b[0m\u001b[1;33m,\u001b[0m \u001b[1;33m**\u001b[0m\u001b[0mkwargs\u001b[0m\u001b[1;33m)\u001b[0m\u001b[1;33m\u001b[0m\u001b[1;33m\u001b[0m\u001b[0m\n",
      "\u001b[1;32mC:\\ProgramData\\Anaconda3\\lib\\site-packages\\sympy\\core\\expr.py\u001b[0m in \u001b[0;36mexpand\u001b[1;34m(self, deep, modulus, power_base, power_exp, mul, log, multinomial, basic, **hints)\u001b[0m\n\u001b[0;32m   3596\u001b[0m             \u001b[1;32mif\u001b[0m \u001b[0muse_hint\u001b[0m\u001b[1;33m:\u001b[0m\u001b[1;33m\u001b[0m\u001b[1;33m\u001b[0m\u001b[0m\n\u001b[0;32m   3597\u001b[0m                 \u001b[0mhint\u001b[0m \u001b[1;33m=\u001b[0m \u001b[1;34m'_eval_expand_'\u001b[0m \u001b[1;33m+\u001b[0m \u001b[0mhint\u001b[0m\u001b[1;33m\u001b[0m\u001b[1;33m\u001b[0m\u001b[0m\n\u001b[1;32m-> 3598\u001b[1;33m                 \u001b[0mexpr\u001b[0m\u001b[1;33m,\u001b[0m \u001b[0mhit\u001b[0m \u001b[1;33m=\u001b[0m \u001b[0mExpr\u001b[0m\u001b[1;33m.\u001b[0m\u001b[0m_expand_hint\u001b[0m\u001b[1;33m(\u001b[0m\u001b[0mexpr\u001b[0m\u001b[1;33m,\u001b[0m \u001b[0mhint\u001b[0m\u001b[1;33m,\u001b[0m \u001b[0mdeep\u001b[0m\u001b[1;33m=\u001b[0m\u001b[0mdeep\u001b[0m\u001b[1;33m,\u001b[0m \u001b[1;33m**\u001b[0m\u001b[0mhints\u001b[0m\u001b[1;33m)\u001b[0m\u001b[1;33m\u001b[0m\u001b[1;33m\u001b[0m\u001b[0m\n\u001b[0m\u001b[0;32m   3599\u001b[0m \u001b[1;33m\u001b[0m\u001b[0m\n\u001b[0;32m   3600\u001b[0m         \u001b[1;32mwhile\u001b[0m \u001b[1;32mTrue\u001b[0m\u001b[1;33m:\u001b[0m\u001b[1;33m\u001b[0m\u001b[1;33m\u001b[0m\u001b[0m\n",
      "\u001b[1;32mC:\\ProgramData\\Anaconda3\\lib\\site-packages\\sympy\\core\\expr.py\u001b[0m in \u001b[0;36m_expand_hint\u001b[1;34m(expr, hint, deep, **hints)\u001b[0m\n\u001b[0;32m   3529\u001b[0m             \u001b[0msargs\u001b[0m \u001b[1;33m=\u001b[0m \u001b[1;33m[\u001b[0m\u001b[1;33m]\u001b[0m\u001b[1;33m\u001b[0m\u001b[1;33m\u001b[0m\u001b[0m\n\u001b[0;32m   3530\u001b[0m             \u001b[1;32mfor\u001b[0m \u001b[0marg\u001b[0m \u001b[1;32min\u001b[0m \u001b[0mexpr\u001b[0m\u001b[1;33m.\u001b[0m\u001b[0margs\u001b[0m\u001b[1;33m:\u001b[0m\u001b[1;33m\u001b[0m\u001b[1;33m\u001b[0m\u001b[0m\n\u001b[1;32m-> 3531\u001b[1;33m                 \u001b[0marg\u001b[0m\u001b[1;33m,\u001b[0m \u001b[0marghit\u001b[0m \u001b[1;33m=\u001b[0m \u001b[0mExpr\u001b[0m\u001b[1;33m.\u001b[0m\u001b[0m_expand_hint\u001b[0m\u001b[1;33m(\u001b[0m\u001b[0marg\u001b[0m\u001b[1;33m,\u001b[0m \u001b[0mhint\u001b[0m\u001b[1;33m,\u001b[0m \u001b[1;33m**\u001b[0m\u001b[0mhints\u001b[0m\u001b[1;33m)\u001b[0m\u001b[1;33m\u001b[0m\u001b[1;33m\u001b[0m\u001b[0m\n\u001b[0m\u001b[0;32m   3532\u001b[0m                 \u001b[0mhit\u001b[0m \u001b[1;33m|=\u001b[0m \u001b[0marghit\u001b[0m\u001b[1;33m\u001b[0m\u001b[1;33m\u001b[0m\u001b[0m\n\u001b[0;32m   3533\u001b[0m                 \u001b[0msargs\u001b[0m\u001b[1;33m.\u001b[0m\u001b[0mappend\u001b[0m\u001b[1;33m(\u001b[0m\u001b[0marg\u001b[0m\u001b[1;33m)\u001b[0m\u001b[1;33m\u001b[0m\u001b[1;33m\u001b[0m\u001b[0m\n",
      "\u001b[1;32mC:\\ProgramData\\Anaconda3\\lib\\site-packages\\sympy\\core\\expr.py\u001b[0m in \u001b[0;36m_expand_hint\u001b[1;34m(expr, hint, deep, **hints)\u001b[0m\n\u001b[0;32m   3537\u001b[0m \u001b[1;33m\u001b[0m\u001b[0m\n\u001b[0;32m   3538\u001b[0m         \u001b[1;32mif\u001b[0m \u001b[0mhasattr\u001b[0m\u001b[1;33m(\u001b[0m\u001b[0mexpr\u001b[0m\u001b[1;33m,\u001b[0m \u001b[0mhint\u001b[0m\u001b[1;33m)\u001b[0m\u001b[1;33m:\u001b[0m\u001b[1;33m\u001b[0m\u001b[1;33m\u001b[0m\u001b[0m\n\u001b[1;32m-> 3539\u001b[1;33m             \u001b[0mnewexpr\u001b[0m \u001b[1;33m=\u001b[0m \u001b[0mgetattr\u001b[0m\u001b[1;33m(\u001b[0m\u001b[0mexpr\u001b[0m\u001b[1;33m,\u001b[0m \u001b[0mhint\u001b[0m\u001b[1;33m)\u001b[0m\u001b[1;33m(\u001b[0m\u001b[1;33m**\u001b[0m\u001b[0mhints\u001b[0m\u001b[1;33m)\u001b[0m\u001b[1;33m\u001b[0m\u001b[1;33m\u001b[0m\u001b[0m\n\u001b[0m\u001b[0;32m   3540\u001b[0m             \u001b[1;32mif\u001b[0m \u001b[0mnewexpr\u001b[0m \u001b[1;33m!=\u001b[0m \u001b[0mexpr\u001b[0m\u001b[1;33m:\u001b[0m\u001b[1;33m\u001b[0m\u001b[1;33m\u001b[0m\u001b[0m\n\u001b[0;32m   3541\u001b[0m                 \u001b[1;32mreturn\u001b[0m \u001b[1;33m(\u001b[0m\u001b[0mnewexpr\u001b[0m\u001b[1;33m,\u001b[0m \u001b[1;32mTrue\u001b[0m\u001b[1;33m)\u001b[0m\u001b[1;33m\u001b[0m\u001b[1;33m\u001b[0m\u001b[0m\n",
      "\u001b[1;32mC:\\ProgramData\\Anaconda3\\lib\\site-packages\\sympy\\core\\mul.py\u001b[0m in \u001b[0;36m_eval_expand_mul\u001b[1;34m(self, **hints)\u001b[0m\n\u001b[0;32m    959\u001b[0m             \u001b[1;32mif\u001b[0m \u001b[0msums\u001b[0m\u001b[1;33m:\u001b[0m\u001b[1;33m\u001b[0m\u001b[1;33m\u001b[0m\u001b[0m\n\u001b[0;32m    960\u001b[0m                 \u001b[0mdeep\u001b[0m \u001b[1;33m=\u001b[0m \u001b[0mhints\u001b[0m\u001b[1;33m.\u001b[0m\u001b[0mget\u001b[0m\u001b[1;33m(\u001b[0m\u001b[1;34m\"deep\"\u001b[0m\u001b[1;33m,\u001b[0m \u001b[1;32mFalse\u001b[0m\u001b[1;33m)\u001b[0m\u001b[1;33m\u001b[0m\u001b[1;33m\u001b[0m\u001b[0m\n\u001b[1;32m--> 961\u001b[1;33m                 \u001b[0mterms\u001b[0m \u001b[1;33m=\u001b[0m \u001b[0mself\u001b[0m\u001b[1;33m.\u001b[0m\u001b[0mfunc\u001b[0m\u001b[1;33m.\u001b[0m\u001b[0m_expandsums\u001b[0m\u001b[1;33m(\u001b[0m\u001b[0msums\u001b[0m\u001b[1;33m)\u001b[0m\u001b[1;33m\u001b[0m\u001b[1;33m\u001b[0m\u001b[0m\n\u001b[0m\u001b[0;32m    962\u001b[0m                 \u001b[0margs\u001b[0m \u001b[1;33m=\u001b[0m \u001b[1;33m[\u001b[0m\u001b[1;33m]\u001b[0m\u001b[1;33m\u001b[0m\u001b[1;33m\u001b[0m\u001b[0m\n\u001b[0;32m    963\u001b[0m                 \u001b[1;32mfor\u001b[0m \u001b[0mterm\u001b[0m \u001b[1;32min\u001b[0m \u001b[0mterms\u001b[0m\u001b[1;33m:\u001b[0m\u001b[1;33m\u001b[0m\u001b[1;33m\u001b[0m\u001b[0m\n",
      "\u001b[1;32mC:\\ProgramData\\Anaconda3\\lib\\site-packages\\sympy\\core\\mul.py\u001b[0m in \u001b[0;36m_expandsums\u001b[1;34m(sums)\u001b[0m\n\u001b[0;32m    924\u001b[0m         \u001b[0mright\u001b[0m \u001b[1;33m=\u001b[0m \u001b[0mMul\u001b[0m\u001b[1;33m.\u001b[0m\u001b[0m_expandsums\u001b[0m\u001b[1;33m(\u001b[0m\u001b[0msums\u001b[0m\u001b[1;33m[\u001b[0m\u001b[0mL\u001b[0m\u001b[1;33m//\u001b[0m\u001b[1;36m2\u001b[0m\u001b[1;33m:\u001b[0m\u001b[1;33m]\u001b[0m\u001b[1;33m)\u001b[0m\u001b[1;33m\u001b[0m\u001b[1;33m\u001b[0m\u001b[0m\n\u001b[0;32m    925\u001b[0m \u001b[1;33m\u001b[0m\u001b[0m\n\u001b[1;32m--> 926\u001b[1;33m         \u001b[0mterms\u001b[0m \u001b[1;33m=\u001b[0m \u001b[1;33m[\u001b[0m\u001b[0mMul\u001b[0m\u001b[1;33m(\u001b[0m\u001b[0ma\u001b[0m\u001b[1;33m,\u001b[0m \u001b[0mb\u001b[0m\u001b[1;33m)\u001b[0m \u001b[1;32mfor\u001b[0m \u001b[0ma\u001b[0m \u001b[1;32min\u001b[0m \u001b[0mleft\u001b[0m \u001b[1;32mfor\u001b[0m \u001b[0mb\u001b[0m \u001b[1;32min\u001b[0m \u001b[0mright\u001b[0m\u001b[1;33m]\u001b[0m\u001b[1;33m\u001b[0m\u001b[1;33m\u001b[0m\u001b[0m\n\u001b[0m\u001b[0;32m    927\u001b[0m         \u001b[0madded\u001b[0m \u001b[1;33m=\u001b[0m \u001b[0mAdd\u001b[0m\u001b[1;33m(\u001b[0m\u001b[1;33m*\u001b[0m\u001b[0mterms\u001b[0m\u001b[1;33m)\u001b[0m\u001b[1;33m\u001b[0m\u001b[1;33m\u001b[0m\u001b[0m\n\u001b[0;32m    928\u001b[0m         \u001b[1;32mreturn\u001b[0m \u001b[0mAdd\u001b[0m\u001b[1;33m.\u001b[0m\u001b[0mmake_args\u001b[0m\u001b[1;33m(\u001b[0m\u001b[0madded\u001b[0m\u001b[1;33m)\u001b[0m  \u001b[1;31m# it may have collapsed down to one term\u001b[0m\u001b[1;33m\u001b[0m\u001b[1;33m\u001b[0m\u001b[0m\n",
      "\u001b[1;32mC:\\ProgramData\\Anaconda3\\lib\\site-packages\\sympy\\core\\mul.py\u001b[0m in \u001b[0;36m<listcomp>\u001b[1;34m(.0)\u001b[0m\n\u001b[0;32m    924\u001b[0m         \u001b[0mright\u001b[0m \u001b[1;33m=\u001b[0m \u001b[0mMul\u001b[0m\u001b[1;33m.\u001b[0m\u001b[0m_expandsums\u001b[0m\u001b[1;33m(\u001b[0m\u001b[0msums\u001b[0m\u001b[1;33m[\u001b[0m\u001b[0mL\u001b[0m\u001b[1;33m//\u001b[0m\u001b[1;36m2\u001b[0m\u001b[1;33m:\u001b[0m\u001b[1;33m]\u001b[0m\u001b[1;33m)\u001b[0m\u001b[1;33m\u001b[0m\u001b[1;33m\u001b[0m\u001b[0m\n\u001b[0;32m    925\u001b[0m \u001b[1;33m\u001b[0m\u001b[0m\n\u001b[1;32m--> 926\u001b[1;33m         \u001b[0mterms\u001b[0m \u001b[1;33m=\u001b[0m \u001b[1;33m[\u001b[0m\u001b[0mMul\u001b[0m\u001b[1;33m(\u001b[0m\u001b[0ma\u001b[0m\u001b[1;33m,\u001b[0m \u001b[0mb\u001b[0m\u001b[1;33m)\u001b[0m \u001b[1;32mfor\u001b[0m \u001b[0ma\u001b[0m \u001b[1;32min\u001b[0m \u001b[0mleft\u001b[0m \u001b[1;32mfor\u001b[0m \u001b[0mb\u001b[0m \u001b[1;32min\u001b[0m \u001b[0mright\u001b[0m\u001b[1;33m]\u001b[0m\u001b[1;33m\u001b[0m\u001b[1;33m\u001b[0m\u001b[0m\n\u001b[0m\u001b[0;32m    927\u001b[0m         \u001b[0madded\u001b[0m \u001b[1;33m=\u001b[0m \u001b[0mAdd\u001b[0m\u001b[1;33m(\u001b[0m\u001b[1;33m*\u001b[0m\u001b[0mterms\u001b[0m\u001b[1;33m)\u001b[0m\u001b[1;33m\u001b[0m\u001b[1;33m\u001b[0m\u001b[0m\n\u001b[0;32m    928\u001b[0m         \u001b[1;32mreturn\u001b[0m \u001b[0mAdd\u001b[0m\u001b[1;33m.\u001b[0m\u001b[0mmake_args\u001b[0m\u001b[1;33m(\u001b[0m\u001b[0madded\u001b[0m\u001b[1;33m)\u001b[0m  \u001b[1;31m# it may have collapsed down to one term\u001b[0m\u001b[1;33m\u001b[0m\u001b[1;33m\u001b[0m\u001b[0m\n",
      "\u001b[1;32mC:\\ProgramData\\Anaconda3\\lib\\site-packages\\sympy\\core\\cache.py\u001b[0m in \u001b[0;36mwrapper\u001b[1;34m(*args, **kwargs)\u001b[0m\n\u001b[0;32m     70\u001b[0m         \u001b[1;32mdef\u001b[0m \u001b[0mwrapper\u001b[0m\u001b[1;33m(\u001b[0m\u001b[1;33m*\u001b[0m\u001b[0margs\u001b[0m\u001b[1;33m,\u001b[0m \u001b[1;33m**\u001b[0m\u001b[0mkwargs\u001b[0m\u001b[1;33m)\u001b[0m\u001b[1;33m:\u001b[0m\u001b[1;33m\u001b[0m\u001b[1;33m\u001b[0m\u001b[0m\n\u001b[0;32m     71\u001b[0m             \u001b[1;32mtry\u001b[0m\u001b[1;33m:\u001b[0m\u001b[1;33m\u001b[0m\u001b[1;33m\u001b[0m\u001b[0m\n\u001b[1;32m---> 72\u001b[1;33m                 \u001b[0mretval\u001b[0m \u001b[1;33m=\u001b[0m \u001b[0mcfunc\u001b[0m\u001b[1;33m(\u001b[0m\u001b[1;33m*\u001b[0m\u001b[0margs\u001b[0m\u001b[1;33m,\u001b[0m \u001b[1;33m**\u001b[0m\u001b[0mkwargs\u001b[0m\u001b[1;33m)\u001b[0m\u001b[1;33m\u001b[0m\u001b[1;33m\u001b[0m\u001b[0m\n\u001b[0m\u001b[0;32m     73\u001b[0m             \u001b[1;32mexcept\u001b[0m \u001b[0mTypeError\u001b[0m\u001b[1;33m:\u001b[0m\u001b[1;33m\u001b[0m\u001b[1;33m\u001b[0m\u001b[0m\n\u001b[0;32m     74\u001b[0m                 \u001b[0mretval\u001b[0m \u001b[1;33m=\u001b[0m \u001b[0mfunc\u001b[0m\u001b[1;33m(\u001b[0m\u001b[1;33m*\u001b[0m\u001b[0margs\u001b[0m\u001b[1;33m,\u001b[0m \u001b[1;33m**\u001b[0m\u001b[0mkwargs\u001b[0m\u001b[1;33m)\u001b[0m\u001b[1;33m\u001b[0m\u001b[1;33m\u001b[0m\u001b[0m\n",
      "\u001b[1;32mC:\\ProgramData\\Anaconda3\\lib\\site-packages\\sympy\\core\\operations.py\u001b[0m in \u001b[0;36m__new__\u001b[1;34m(cls, evaluate, _sympify, *args)\u001b[0m\n\u001b[0;32m     83\u001b[0m             \u001b[1;32mreturn\u001b[0m \u001b[0margs\u001b[0m\u001b[1;33m[\u001b[0m\u001b[1;36m0\u001b[0m\u001b[1;33m]\u001b[0m\u001b[1;33m\u001b[0m\u001b[1;33m\u001b[0m\u001b[0m\n\u001b[0;32m     84\u001b[0m \u001b[1;33m\u001b[0m\u001b[0m\n\u001b[1;32m---> 85\u001b[1;33m         \u001b[0mc_part\u001b[0m\u001b[1;33m,\u001b[0m \u001b[0mnc_part\u001b[0m\u001b[1;33m,\u001b[0m \u001b[0morder_symbols\u001b[0m \u001b[1;33m=\u001b[0m \u001b[0mcls\u001b[0m\u001b[1;33m.\u001b[0m\u001b[0mflatten\u001b[0m\u001b[1;33m(\u001b[0m\u001b[0margs\u001b[0m\u001b[1;33m)\u001b[0m\u001b[1;33m\u001b[0m\u001b[1;33m\u001b[0m\u001b[0m\n\u001b[0m\u001b[0;32m     86\u001b[0m         \u001b[0mis_commutative\u001b[0m \u001b[1;33m=\u001b[0m \u001b[1;32mnot\u001b[0m \u001b[0mnc_part\u001b[0m\u001b[1;33m\u001b[0m\u001b[1;33m\u001b[0m\u001b[0m\n\u001b[0;32m     87\u001b[0m         \u001b[0mobj\u001b[0m \u001b[1;33m=\u001b[0m \u001b[0mcls\u001b[0m\u001b[1;33m.\u001b[0m\u001b[0m_from_args\u001b[0m\u001b[1;33m(\u001b[0m\u001b[0mc_part\u001b[0m \u001b[1;33m+\u001b[0m \u001b[0mnc_part\u001b[0m\u001b[1;33m,\u001b[0m \u001b[0mis_commutative\u001b[0m\u001b[1;33m)\u001b[0m\u001b[1;33m\u001b[0m\u001b[1;33m\u001b[0m\u001b[0m\n",
      "\u001b[1;32mC:\\ProgramData\\Anaconda3\\lib\\site-packages\\sympy\\core\\mul.py\u001b[0m in \u001b[0;36mflatten\u001b[1;34m(cls, seq)\u001b[0m\n\u001b[0;32m    518\u001b[0m                     \u001b[1;32mif\u001b[0m \u001b[0mp\u001b[0m\u001b[1;33m.\u001b[0m\u001b[0mis_Pow\u001b[0m \u001b[1;32mand\u001b[0m \u001b[1;32mnot\u001b[0m \u001b[0mb\u001b[0m\u001b[1;33m.\u001b[0m\u001b[0mis_Pow\u001b[0m\u001b[1;33m:\u001b[0m\u001b[1;33m\u001b[0m\u001b[1;33m\u001b[0m\u001b[0m\n\u001b[0;32m    519\u001b[0m                         \u001b[0mbi\u001b[0m \u001b[1;33m=\u001b[0m \u001b[0mb\u001b[0m\u001b[1;33m\u001b[0m\u001b[1;33m\u001b[0m\u001b[0m\n\u001b[1;32m--> 520\u001b[1;33m                         \u001b[0mb\u001b[0m\u001b[1;33m,\u001b[0m \u001b[0me\u001b[0m \u001b[1;33m=\u001b[0m \u001b[0mp\u001b[0m\u001b[1;33m.\u001b[0m\u001b[0mas_base_exp\u001b[0m\u001b[1;33m(\u001b[0m\u001b[1;33m)\u001b[0m\u001b[1;33m\u001b[0m\u001b[1;33m\u001b[0m\u001b[0m\n\u001b[0m\u001b[0;32m    521\u001b[0m                         \u001b[1;32mif\u001b[0m \u001b[0mb\u001b[0m \u001b[1;33m!=\u001b[0m \u001b[0mbi\u001b[0m\u001b[1;33m:\u001b[0m\u001b[1;33m\u001b[0m\u001b[1;33m\u001b[0m\u001b[0m\n\u001b[0;32m    522\u001b[0m                             \u001b[0mchanged\u001b[0m \u001b[1;33m=\u001b[0m \u001b[1;32mTrue\u001b[0m\u001b[1;33m\u001b[0m\u001b[1;33m\u001b[0m\u001b[0m\n",
      "\u001b[1;32mC:\\ProgramData\\Anaconda3\\lib\\site-packages\\sympy\\core\\power.py\u001b[0m in \u001b[0;36mas_base_exp\u001b[1;34m(self)\u001b[0m\n\u001b[0;32m    930\u001b[0m         \"\"\"\n\u001b[0;32m    931\u001b[0m \u001b[1;33m\u001b[0m\u001b[0m\n\u001b[1;32m--> 932\u001b[1;33m         \u001b[0mb\u001b[0m\u001b[1;33m,\u001b[0m \u001b[0me\u001b[0m \u001b[1;33m=\u001b[0m \u001b[0mself\u001b[0m\u001b[1;33m.\u001b[0m\u001b[0margs\u001b[0m\u001b[1;33m\u001b[0m\u001b[1;33m\u001b[0m\u001b[0m\n\u001b[0m\u001b[0;32m    933\u001b[0m         \u001b[1;32mif\u001b[0m \u001b[0mb\u001b[0m\u001b[1;33m.\u001b[0m\u001b[0mis_Rational\u001b[0m \u001b[1;32mand\u001b[0m \u001b[0mb\u001b[0m\u001b[1;33m.\u001b[0m\u001b[0mp\u001b[0m \u001b[1;33m==\u001b[0m \u001b[1;36m1\u001b[0m \u001b[1;32mand\u001b[0m \u001b[0mb\u001b[0m\u001b[1;33m.\u001b[0m\u001b[0mq\u001b[0m \u001b[1;33m!=\u001b[0m \u001b[1;36m1\u001b[0m\u001b[1;33m:\u001b[0m\u001b[1;33m\u001b[0m\u001b[1;33m\u001b[0m\u001b[0m\n\u001b[0;32m    934\u001b[0m             \u001b[1;32mreturn\u001b[0m \u001b[0mInteger\u001b[0m\u001b[1;33m(\u001b[0m\u001b[0mb\u001b[0m\u001b[1;33m.\u001b[0m\u001b[0mq\u001b[0m\u001b[1;33m)\u001b[0m\u001b[1;33m,\u001b[0m \u001b[1;33m-\u001b[0m\u001b[0me\u001b[0m\u001b[1;33m\u001b[0m\u001b[1;33m\u001b[0m\u001b[0m\n",
      "\u001b[1;32mC:\\ProgramData\\Anaconda3\\lib\\site-packages\\sympy\\core\\basic.py\u001b[0m in \u001b[0;36margs\u001b[1;34m(self)\u001b[0m\n\u001b[0;32m    740\u001b[0m         change the interface in the future if needed).\n\u001b[0;32m    741\u001b[0m         \"\"\"\n\u001b[1;32m--> 742\u001b[1;33m         \u001b[1;32mreturn\u001b[0m \u001b[0mself\u001b[0m\u001b[1;33m.\u001b[0m\u001b[0m_args\u001b[0m\u001b[1;33m\u001b[0m\u001b[1;33m\u001b[0m\u001b[0m\n\u001b[0m\u001b[0;32m    743\u001b[0m \u001b[1;33m\u001b[0m\u001b[0m\n\u001b[0;32m    744\u001b[0m     \u001b[1;33m@\u001b[0m\u001b[0mproperty\u001b[0m\u001b[1;33m\u001b[0m\u001b[1;33m\u001b[0m\u001b[0m\n",
      "\u001b[1;31mKeyboardInterrupt\u001b[0m: "
     ]
    }
   ],
   "metadata": {}
  },
  {
   "cell_type": "code",
   "execution_count": null,
   "source": [
    "sols"
   ],
   "outputs": [
    {
     "output_type": "execute_result",
     "data": {
      "text/plain": [
       "[]"
      ]
     },
     "metadata": {},
     "execution_count": 10
    }
   ],
   "metadata": {}
  }
 ],
 "metadata": {
  "orig_nbformat": 4,
  "language_info": {
   "name": "python",
   "version": "3.8.5",
   "mimetype": "text/x-python",
   "codemirror_mode": {
    "name": "ipython",
    "version": 3
   },
   "pygments_lexer": "ipython3",
   "nbconvert_exporter": "python",
   "file_extension": ".py"
  },
  "kernelspec": {
   "name": "python3",
   "display_name": "Python 3.8.5 64-bit ('base': conda)"
  },
  "interpreter": {
   "hash": "b3ba2566441a7c06988d0923437866b63cedc61552a5af99d1f4fb67d367b25f"
  }
 },
 "nbformat": 4,
 "nbformat_minor": 2
}