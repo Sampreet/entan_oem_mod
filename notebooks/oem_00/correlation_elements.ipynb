{
 "cells": [
  {
   "cell_type": "markdown",
   "source": [
    "# Correlation Rates of the Frequency Modulated OEM System"
   ],
   "metadata": {}
  },
  {
   "cell_type": "markdown",
   "source": [
    "## Imports and Initialization"
   ],
   "metadata": {}
  },
  {
   "cell_type": "code",
   "execution_count": 1,
   "source": [
    "# dependencies\r\n",
    "from IPython.display import display, Math\r\n",
    "from sympy import Function, latex, Matrix, solve, Symbol, symbols"
   ],
   "outputs": [],
   "metadata": {}
  },
  {
   "cell_type": "code",
   "execution_count": 2,
   "source": [
    "# time \r\n",
    "t = symbols('t', real=True, positive=True)\r\n",
    "# real positive parameters\r\n",
    "kappa, gamma_0, gamma_1, omega_0, omega_1, n_th_0, n_th_1 = symbols('\\\\kappa, \\\\gamma_{0}, \\\\gamma_{1}, \\\\omega_{0}, \\\\omega_{1}, n_{th_{0}}, n_{th_{1}}', real=True, positive=True)\r\n",
    "# real parameters\r\n",
    "Delta, G_0R, G_0I, G_10, G_11 = symbols('\\\\Delta, G_{0R}, G_{0I}, G_{10}, G_{11}', real=True)\r\n",
    "\r\n",
    "# fluctuations quadratures\r\n",
    "delta_X_t = Function('\\\\delta \\\\hat{X}', commutativ=False)(t)\r\n",
    "delta_Y_t = Function('\\\\delta \\\\hat{Y}', commutative=False)(t)\r\n",
    "delta_Q_0_t = Function('\\\\delta \\\\hat{Q}_{0}', commutative=False)(t)\r\n",
    "delta_P_0_t = Function('\\\\delta \\\\hat{P}_{0}', commutative=False)(t)\r\n",
    "delta_Q_1_t = Function('\\\\delta \\\\hat{Q}_{1}', commutative=False)(t)\r\n",
    "delta_P_1_t = Function('\\\\delta \\\\hat{P}_{1}', commutative=False)(t)"
   ],
   "outputs": [],
   "metadata": {}
  },
  {
   "cell_type": "markdown",
   "source": [
    "## Correlation Dynamics"
   ],
   "metadata": {}
  },
  {
   "cell_type": "code",
   "execution_count": 3,
   "source": [
    "# drift matrix\r\n",
    "A = Matrix([[- kappa, Delta, - 2 * G_0I, 0, 0, 0],\r\n",
    "            [- Delta, - kappa, 2 * G_0R, 0, 0, 0],\r\n",
    "            [0, 0, - gamma_0, omega_0, 0, 0],\r\n",
    "            [2 * G_0R, 2 * G_0I, - omega_0, - gamma_0, 4 * G_11, 0],\r\n",
    "            [0, 0, 0, 0, - gamma_1, omega_1],\r\n",
    "            [0, 0, 4 * G_11, 0, - omega_1 + 4 * G_10, - gamma_1]])\r\n",
    "display(Math('A = ' + latex(A)))\r\n",
    "\r\n",
    "# noise matrix\r\n",
    "D = Matrix([[kappa, 0, 0, 0, 0, 0],\r\n",
    "            [0, kappa, 0, 0, 0, 0],\r\n",
    "            [0, 0, gamma_0 * (2 * n_th_0 + 1), 0, 0, 0],\r\n",
    "            [0, 0, 0, gamma_0 * (2 * n_th_0 + 1), 0, 0],\r\n",
    "            [0, 0, 0, 0, gamma_1 * (2 * n_th_1 + 1), 0],\r\n",
    "            [0, 0, 0, 0, 0, gamma_1 * (2 * n_th_1 + 1)]])\r\n",
    "display(Math('D = ' + latex(D)))\r\n",
    "\r\n",
    "# correlation matrix\r\n",
    "u = [delta_X_t, delta_Y_t, delta_Q_0_t, delta_P_0_t, delta_Q_1_t, delta_P_1_t]\r\n",
    "correlations_expect = Matrix([[Symbol('\\\\langle ' + latex(u_i) + latex(u_j) + ' \\\\rangle', real=True) for u_i in u] for u_j in u])\r\n",
    "V = (correlations_expect + correlations_expect.T) / 2\r\n",
    "display(Math('V = ' + latex(V)))"
   ],
   "outputs": [
    {
     "output_type": "display_data",
     "data": {
      "text/plain": [
       "<IPython.core.display.Math object>"
      ],
      "text/latex": [
       "$\\displaystyle A = \\left[\\begin{matrix}- \\kappa & \\Delta & - 2 G_{0I} & 0 & 0 & 0\\\\- \\Delta & - \\kappa & 2 G_{0R} & 0 & 0 & 0\\\\0 & 0 & - \\gamma_{0} & \\omega_{0} & 0 & 0\\\\2 G_{0R} & 2 G_{0I} & - \\omega_{0} & - \\gamma_{0} & 4 G_{11} & 0\\\\0 & 0 & 0 & 0 & - \\gamma_{1} & \\omega_{1}\\\\0 & 0 & 4 G_{11} & 0 & 4 G_{10} - \\omega_{1} & - \\gamma_{1}\\end{matrix}\\right]$"
      ]
     },
     "metadata": {}
    },
    {
     "output_type": "display_data",
     "data": {
      "text/plain": [
       "<IPython.core.display.Math object>"
      ],
      "text/latex": [
       "$\\displaystyle D = \\left[\\begin{matrix}\\kappa & 0 & 0 & 0 & 0 & 0\\\\0 & \\kappa & 0 & 0 & 0 & 0\\\\0 & 0 & \\gamma_{0} \\left(2 n_{th_{0}} + 1\\right) & 0 & 0 & 0\\\\0 & 0 & 0 & \\gamma_{0} \\left(2 n_{th_{0}} + 1\\right) & 0 & 0\\\\0 & 0 & 0 & 0 & \\gamma_{1} \\left(2 n_{th_{1}} + 1\\right) & 0\\\\0 & 0 & 0 & 0 & 0 & \\gamma_{1} \\left(2 n_{th_{1}} + 1\\right)\\end{matrix}\\right]$"
      ]
     },
     "metadata": {}
    },
    {
     "output_type": "display_data",
     "data": {
      "text/plain": [
       "<IPython.core.display.Math object>"
      ],
      "text/latex": [
       "$\\displaystyle V = \\left[\\begin{matrix}\\langle \\delta \\hat{X}{\\left(t \\right)}\\delta \\hat{X}{\\left(t \\right)} \\rangle & \\frac{\\langle \\delta \\hat{X}{\\left(t \\right)}\\delta \\hat{Y}{\\left(t \\right)} \\rangle}{2} + \\frac{\\langle \\delta \\hat{Y}{\\left(t \\right)}\\delta \\hat{X}{\\left(t \\right)} \\rangle}{2} & \\frac{\\langle \\delta \\hat{Q}_{0}{\\left(t \\right)}\\delta \\hat{X}{\\left(t \\right)} \\rangle}{2} + \\frac{\\langle \\delta \\hat{X}{\\left(t \\right)}\\delta \\hat{Q}_{0}{\\left(t \\right)} \\rangle}{2} & \\frac{\\langle \\delta \\hat{P}_{0}{\\left(t \\right)}\\delta \\hat{X}{\\left(t \\right)} \\rangle}{2} + \\frac{\\langle \\delta \\hat{X}{\\left(t \\right)}\\delta \\hat{P}_{0}{\\left(t \\right)} \\rangle}{2} & \\frac{\\langle \\delta \\hat{Q}_{1}{\\left(t \\right)}\\delta \\hat{X}{\\left(t \\right)} \\rangle}{2} + \\frac{\\langle \\delta \\hat{X}{\\left(t \\right)}\\delta \\hat{Q}_{1}{\\left(t \\right)} \\rangle}{2} & \\frac{\\langle \\delta \\hat{P}_{1}{\\left(t \\right)}\\delta \\hat{X}{\\left(t \\right)} \\rangle}{2} + \\frac{\\langle \\delta \\hat{X}{\\left(t \\right)}\\delta \\hat{P}_{1}{\\left(t \\right)} \\rangle}{2}\\\\\\frac{\\langle \\delta \\hat{X}{\\left(t \\right)}\\delta \\hat{Y}{\\left(t \\right)} \\rangle}{2} + \\frac{\\langle \\delta \\hat{Y}{\\left(t \\right)}\\delta \\hat{X}{\\left(t \\right)} \\rangle}{2} & \\langle \\delta \\hat{Y}{\\left(t \\right)}\\delta \\hat{Y}{\\left(t \\right)} \\rangle & \\frac{\\langle \\delta \\hat{Q}_{0}{\\left(t \\right)}\\delta \\hat{Y}{\\left(t \\right)} \\rangle}{2} + \\frac{\\langle \\delta \\hat{Y}{\\left(t \\right)}\\delta \\hat{Q}_{0}{\\left(t \\right)} \\rangle}{2} & \\frac{\\langle \\delta \\hat{P}_{0}{\\left(t \\right)}\\delta \\hat{Y}{\\left(t \\right)} \\rangle}{2} + \\frac{\\langle \\delta \\hat{Y}{\\left(t \\right)}\\delta \\hat{P}_{0}{\\left(t \\right)} \\rangle}{2} & \\frac{\\langle \\delta \\hat{Q}_{1}{\\left(t \\right)}\\delta \\hat{Y}{\\left(t \\right)} \\rangle}{2} + \\frac{\\langle \\delta \\hat{Y}{\\left(t \\right)}\\delta \\hat{Q}_{1}{\\left(t \\right)} \\rangle}{2} & \\frac{\\langle \\delta \\hat{P}_{1}{\\left(t \\right)}\\delta \\hat{Y}{\\left(t \\right)} \\rangle}{2} + \\frac{\\langle \\delta \\hat{Y}{\\left(t \\right)}\\delta \\hat{P}_{1}{\\left(t \\right)} \\rangle}{2}\\\\\\frac{\\langle \\delta \\hat{Q}_{0}{\\left(t \\right)}\\delta \\hat{X}{\\left(t \\right)} \\rangle}{2} + \\frac{\\langle \\delta \\hat{X}{\\left(t \\right)}\\delta \\hat{Q}_{0}{\\left(t \\right)} \\rangle}{2} & \\frac{\\langle \\delta \\hat{Q}_{0}{\\left(t \\right)}\\delta \\hat{Y}{\\left(t \\right)} \\rangle}{2} + \\frac{\\langle \\delta \\hat{Y}{\\left(t \\right)}\\delta \\hat{Q}_{0}{\\left(t \\right)} \\rangle}{2} & \\langle \\delta \\hat{Q}_{0}{\\left(t \\right)}\\delta \\hat{Q}_{0}{\\left(t \\right)} \\rangle & \\frac{\\langle \\delta \\hat{P}_{0}{\\left(t \\right)}\\delta \\hat{Q}_{0}{\\left(t \\right)} \\rangle}{2} + \\frac{\\langle \\delta \\hat{Q}_{0}{\\left(t \\right)}\\delta \\hat{P}_{0}{\\left(t \\right)} \\rangle}{2} & \\frac{\\langle \\delta \\hat{Q}_{0}{\\left(t \\right)}\\delta \\hat{Q}_{1}{\\left(t \\right)} \\rangle}{2} + \\frac{\\langle \\delta \\hat{Q}_{1}{\\left(t \\right)}\\delta \\hat{Q}_{0}{\\left(t \\right)} \\rangle}{2} & \\frac{\\langle \\delta \\hat{P}_{1}{\\left(t \\right)}\\delta \\hat{Q}_{0}{\\left(t \\right)} \\rangle}{2} + \\frac{\\langle \\delta \\hat{Q}_{0}{\\left(t \\right)}\\delta \\hat{P}_{1}{\\left(t \\right)} \\rangle}{2}\\\\\\frac{\\langle \\delta \\hat{P}_{0}{\\left(t \\right)}\\delta \\hat{X}{\\left(t \\right)} \\rangle}{2} + \\frac{\\langle \\delta \\hat{X}{\\left(t \\right)}\\delta \\hat{P}_{0}{\\left(t \\right)} \\rangle}{2} & \\frac{\\langle \\delta \\hat{P}_{0}{\\left(t \\right)}\\delta \\hat{Y}{\\left(t \\right)} \\rangle}{2} + \\frac{\\langle \\delta \\hat{Y}{\\left(t \\right)}\\delta \\hat{P}_{0}{\\left(t \\right)} \\rangle}{2} & \\frac{\\langle \\delta \\hat{P}_{0}{\\left(t \\right)}\\delta \\hat{Q}_{0}{\\left(t \\right)} \\rangle}{2} + \\frac{\\langle \\delta \\hat{Q}_{0}{\\left(t \\right)}\\delta \\hat{P}_{0}{\\left(t \\right)} \\rangle}{2} & \\langle \\delta \\hat{P}_{0}{\\left(t \\right)}\\delta \\hat{P}_{0}{\\left(t \\right)} \\rangle & \\frac{\\langle \\delta \\hat{P}_{0}{\\left(t \\right)}\\delta \\hat{Q}_{1}{\\left(t \\right)} \\rangle}{2} + \\frac{\\langle \\delta \\hat{Q}_{1}{\\left(t \\right)}\\delta \\hat{P}_{0}{\\left(t \\right)} \\rangle}{2} & \\frac{\\langle \\delta \\hat{P}_{0}{\\left(t \\right)}\\delta \\hat{P}_{1}{\\left(t \\right)} \\rangle}{2} + \\frac{\\langle \\delta \\hat{P}_{1}{\\left(t \\right)}\\delta \\hat{P}_{0}{\\left(t \\right)} \\rangle}{2}\\\\\\frac{\\langle \\delta \\hat{Q}_{1}{\\left(t \\right)}\\delta \\hat{X}{\\left(t \\right)} \\rangle}{2} + \\frac{\\langle \\delta \\hat{X}{\\left(t \\right)}\\delta \\hat{Q}_{1}{\\left(t \\right)} \\rangle}{2} & \\frac{\\langle \\delta \\hat{Q}_{1}{\\left(t \\right)}\\delta \\hat{Y}{\\left(t \\right)} \\rangle}{2} + \\frac{\\langle \\delta \\hat{Y}{\\left(t \\right)}\\delta \\hat{Q}_{1}{\\left(t \\right)} \\rangle}{2} & \\frac{\\langle \\delta \\hat{Q}_{0}{\\left(t \\right)}\\delta \\hat{Q}_{1}{\\left(t \\right)} \\rangle}{2} + \\frac{\\langle \\delta \\hat{Q}_{1}{\\left(t \\right)}\\delta \\hat{Q}_{0}{\\left(t \\right)} \\rangle}{2} & \\frac{\\langle \\delta \\hat{P}_{0}{\\left(t \\right)}\\delta \\hat{Q}_{1}{\\left(t \\right)} \\rangle}{2} + \\frac{\\langle \\delta \\hat{Q}_{1}{\\left(t \\right)}\\delta \\hat{P}_{0}{\\left(t \\right)} \\rangle}{2} & \\langle \\delta \\hat{Q}_{1}{\\left(t \\right)}\\delta \\hat{Q}_{1}{\\left(t \\right)} \\rangle & \\frac{\\langle \\delta \\hat{P}_{1}{\\left(t \\right)}\\delta \\hat{Q}_{1}{\\left(t \\right)} \\rangle}{2} + \\frac{\\langle \\delta \\hat{Q}_{1}{\\left(t \\right)}\\delta \\hat{P}_{1}{\\left(t \\right)} \\rangle}{2}\\\\\\frac{\\langle \\delta \\hat{P}_{1}{\\left(t \\right)}\\delta \\hat{X}{\\left(t \\right)} \\rangle}{2} + \\frac{\\langle \\delta \\hat{X}{\\left(t \\right)}\\delta \\hat{P}_{1}{\\left(t \\right)} \\rangle}{2} & \\frac{\\langle \\delta \\hat{P}_{1}{\\left(t \\right)}\\delta \\hat{Y}{\\left(t \\right)} \\rangle}{2} + \\frac{\\langle \\delta \\hat{Y}{\\left(t \\right)}\\delta \\hat{P}_{1}{\\left(t \\right)} \\rangle}{2} & \\frac{\\langle \\delta \\hat{P}_{1}{\\left(t \\right)}\\delta \\hat{Q}_{0}{\\left(t \\right)} \\rangle}{2} + \\frac{\\langle \\delta \\hat{Q}_{0}{\\left(t \\right)}\\delta \\hat{P}_{1}{\\left(t \\right)} \\rangle}{2} & \\frac{\\langle \\delta \\hat{P}_{0}{\\left(t \\right)}\\delta \\hat{P}_{1}{\\left(t \\right)} \\rangle}{2} + \\frac{\\langle \\delta \\hat{P}_{1}{\\left(t \\right)}\\delta \\hat{P}_{0}{\\left(t \\right)} \\rangle}{2} & \\frac{\\langle \\delta \\hat{P}_{1}{\\left(t \\right)}\\delta \\hat{Q}_{1}{\\left(t \\right)} \\rangle}{2} + \\frac{\\langle \\delta \\hat{Q}_{1}{\\left(t \\right)}\\delta \\hat{P}_{1}{\\left(t \\right)} \\rangle}{2} & \\langle \\delta \\hat{P}_{1}{\\left(t \\right)}\\delta \\hat{P}_{1}{\\left(t \\right)} \\rangle\\end{matrix}\\right]$"
      ]
     },
     "metadata": {}
    }
   ],
   "metadata": {}
  },
  {
   "cell_type": "markdown",
   "source": [
    "## Steady State Relations"
   ],
   "metadata": {}
  },
  {
   "cell_type": "code",
   "execution_count": 4,
   "source": [
    "# all expressions\r\n",
    "expr_dV_dt = A * V + V * A.T + D\r\n",
    "# unique expressions\r\n",
    "idxs = list()\r\n",
    "for i in range(6):\r\n",
    "    idxs += [(i, j) for j in range(i)]\r\n",
    "expr_unique = [expr_dV_dt[idx[0], idx[1]] for idx in idxs]\r\n",
    "for i in range(len(idxs)):\r\n",
    "    display(Math(latex(expr_unique[i]) + ' = 0'))"
   ],
   "outputs": [
    {
     "output_type": "display_data",
     "data": {
      "text/plain": [
       "<IPython.core.display.Math object>"
      ],
      "text/latex": [
       "$\\displaystyle - 2 G_{0I} \\left(\\frac{\\langle \\delta \\hat{Q}_{0}{\\left(t \\right)}\\delta \\hat{Y}{\\left(t \\right)} \\rangle}{2} + \\frac{\\langle \\delta \\hat{Y}{\\left(t \\right)}\\delta \\hat{Q}_{0}{\\left(t \\right)} \\rangle}{2}\\right) + 2 G_{0R} \\left(\\frac{\\langle \\delta \\hat{Q}_{0}{\\left(t \\right)}\\delta \\hat{X}{\\left(t \\right)} \\rangle}{2} + \\frac{\\langle \\delta \\hat{X}{\\left(t \\right)}\\delta \\hat{Q}_{0}{\\left(t \\right)} \\rangle}{2}\\right) - \\Delta \\langle \\delta \\hat{X}{\\left(t \\right)}\\delta \\hat{X}{\\left(t \\right)} \\rangle + \\Delta \\langle \\delta \\hat{Y}{\\left(t \\right)}\\delta \\hat{Y}{\\left(t \\right)} \\rangle - 2 \\kappa \\left(\\frac{\\langle \\delta \\hat{X}{\\left(t \\right)}\\delta \\hat{Y}{\\left(t \\right)} \\rangle}{2} + \\frac{\\langle \\delta \\hat{Y}{\\left(t \\right)}\\delta \\hat{X}{\\left(t \\right)} \\rangle}{2}\\right) = 0$"
      ]
     },
     "metadata": {}
    },
    {
     "output_type": "display_data",
     "data": {
      "text/plain": [
       "<IPython.core.display.Math object>"
      ],
      "text/latex": [
       "$\\displaystyle - 2 G_{0I} \\langle \\delta \\hat{Q}_{0}{\\left(t \\right)}\\delta \\hat{Q}_{0}{\\left(t \\right)} \\rangle + \\Delta \\left(\\frac{\\langle \\delta \\hat{Q}_{0}{\\left(t \\right)}\\delta \\hat{Y}{\\left(t \\right)} \\rangle}{2} + \\frac{\\langle \\delta \\hat{Y}{\\left(t \\right)}\\delta \\hat{Q}_{0}{\\left(t \\right)} \\rangle}{2}\\right) - \\gamma_{0} \\left(\\frac{\\langle \\delta \\hat{Q}_{0}{\\left(t \\right)}\\delta \\hat{X}{\\left(t \\right)} \\rangle}{2} + \\frac{\\langle \\delta \\hat{X}{\\left(t \\right)}\\delta \\hat{Q}_{0}{\\left(t \\right)} \\rangle}{2}\\right) - \\kappa \\left(\\frac{\\langle \\delta \\hat{Q}_{0}{\\left(t \\right)}\\delta \\hat{X}{\\left(t \\right)} \\rangle}{2} + \\frac{\\langle \\delta \\hat{X}{\\left(t \\right)}\\delta \\hat{Q}_{0}{\\left(t \\right)} \\rangle}{2}\\right) + \\omega_{0} \\left(\\frac{\\langle \\delta \\hat{P}_{0}{\\left(t \\right)}\\delta \\hat{X}{\\left(t \\right)} \\rangle}{2} + \\frac{\\langle \\delta \\hat{X}{\\left(t \\right)}\\delta \\hat{P}_{0}{\\left(t \\right)} \\rangle}{2}\\right) = 0$"
      ]
     },
     "metadata": {}
    },
    {
     "output_type": "display_data",
     "data": {
      "text/plain": [
       "<IPython.core.display.Math object>"
      ],
      "text/latex": [
       "$\\displaystyle 2 G_{0R} \\langle \\delta \\hat{Q}_{0}{\\left(t \\right)}\\delta \\hat{Q}_{0}{\\left(t \\right)} \\rangle - \\Delta \\left(\\frac{\\langle \\delta \\hat{Q}_{0}{\\left(t \\right)}\\delta \\hat{X}{\\left(t \\right)} \\rangle}{2} + \\frac{\\langle \\delta \\hat{X}{\\left(t \\right)}\\delta \\hat{Q}_{0}{\\left(t \\right)} \\rangle}{2}\\right) - \\gamma_{0} \\left(\\frac{\\langle \\delta \\hat{Q}_{0}{\\left(t \\right)}\\delta \\hat{Y}{\\left(t \\right)} \\rangle}{2} + \\frac{\\langle \\delta \\hat{Y}{\\left(t \\right)}\\delta \\hat{Q}_{0}{\\left(t \\right)} \\rangle}{2}\\right) - \\kappa \\left(\\frac{\\langle \\delta \\hat{Q}_{0}{\\left(t \\right)}\\delta \\hat{Y}{\\left(t \\right)} \\rangle}{2} + \\frac{\\langle \\delta \\hat{Y}{\\left(t \\right)}\\delta \\hat{Q}_{0}{\\left(t \\right)} \\rangle}{2}\\right) + \\omega_{0} \\left(\\frac{\\langle \\delta \\hat{P}_{0}{\\left(t \\right)}\\delta \\hat{Y}{\\left(t \\right)} \\rangle}{2} + \\frac{\\langle \\delta \\hat{Y}{\\left(t \\right)}\\delta \\hat{P}_{0}{\\left(t \\right)} \\rangle}{2}\\right) = 0$"
      ]
     },
     "metadata": {}
    },
    {
     "output_type": "display_data",
     "data": {
      "text/plain": [
       "<IPython.core.display.Math object>"
      ],
      "text/latex": [
       "$\\displaystyle - 2 G_{0I} \\left(\\frac{\\langle \\delta \\hat{P}_{0}{\\left(t \\right)}\\delta \\hat{Q}_{0}{\\left(t \\right)} \\rangle}{2} + \\frac{\\langle \\delta \\hat{Q}_{0}{\\left(t \\right)}\\delta \\hat{P}_{0}{\\left(t \\right)} \\rangle}{2}\\right) + 2 G_{0I} \\left(\\frac{\\langle \\delta \\hat{X}{\\left(t \\right)}\\delta \\hat{Y}{\\left(t \\right)} \\rangle}{2} + \\frac{\\langle \\delta \\hat{Y}{\\left(t \\right)}\\delta \\hat{X}{\\left(t \\right)} \\rangle}{2}\\right) + 2 G_{0R} \\langle \\delta \\hat{X}{\\left(t \\right)}\\delta \\hat{X}{\\left(t \\right)} \\rangle + 4 G_{11} \\left(\\frac{\\langle \\delta \\hat{Q}_{1}{\\left(t \\right)}\\delta \\hat{X}{\\left(t \\right)} \\rangle}{2} + \\frac{\\langle \\delta \\hat{X}{\\left(t \\right)}\\delta \\hat{Q}_{1}{\\left(t \\right)} \\rangle}{2}\\right) + \\Delta \\left(\\frac{\\langle \\delta \\hat{P}_{0}{\\left(t \\right)}\\delta \\hat{Y}{\\left(t \\right)} \\rangle}{2} + \\frac{\\langle \\delta \\hat{Y}{\\left(t \\right)}\\delta \\hat{P}_{0}{\\left(t \\right)} \\rangle}{2}\\right) - \\gamma_{0} \\left(\\frac{\\langle \\delta \\hat{P}_{0}{\\left(t \\right)}\\delta \\hat{X}{\\left(t \\right)} \\rangle}{2} + \\frac{\\langle \\delta \\hat{X}{\\left(t \\right)}\\delta \\hat{P}_{0}{\\left(t \\right)} \\rangle}{2}\\right) - \\kappa \\left(\\frac{\\langle \\delta \\hat{P}_{0}{\\left(t \\right)}\\delta \\hat{X}{\\left(t \\right)} \\rangle}{2} + \\frac{\\langle \\delta \\hat{X}{\\left(t \\right)}\\delta \\hat{P}_{0}{\\left(t \\right)} \\rangle}{2}\\right) - \\omega_{0} \\left(\\frac{\\langle \\delta \\hat{Q}_{0}{\\left(t \\right)}\\delta \\hat{X}{\\left(t \\right)} \\rangle}{2} + \\frac{\\langle \\delta \\hat{X}{\\left(t \\right)}\\delta \\hat{Q}_{0}{\\left(t \\right)} \\rangle}{2}\\right) = 0$"
      ]
     },
     "metadata": {}
    },
    {
     "output_type": "display_data",
     "data": {
      "text/plain": [
       "<IPython.core.display.Math object>"
      ],
      "text/latex": [
       "$\\displaystyle 2 G_{0I} \\langle \\delta \\hat{Y}{\\left(t \\right)}\\delta \\hat{Y}{\\left(t \\right)} \\rangle + 2 G_{0R} \\left(\\frac{\\langle \\delta \\hat{P}_{0}{\\left(t \\right)}\\delta \\hat{Q}_{0}{\\left(t \\right)} \\rangle}{2} + \\frac{\\langle \\delta \\hat{Q}_{0}{\\left(t \\right)}\\delta \\hat{P}_{0}{\\left(t \\right)} \\rangle}{2}\\right) + 2 G_{0R} \\left(\\frac{\\langle \\delta \\hat{X}{\\left(t \\right)}\\delta \\hat{Y}{\\left(t \\right)} \\rangle}{2} + \\frac{\\langle \\delta \\hat{Y}{\\left(t \\right)}\\delta \\hat{X}{\\left(t \\right)} \\rangle}{2}\\right) + 4 G_{11} \\left(\\frac{\\langle \\delta \\hat{Q}_{1}{\\left(t \\right)}\\delta \\hat{Y}{\\left(t \\right)} \\rangle}{2} + \\frac{\\langle \\delta \\hat{Y}{\\left(t \\right)}\\delta \\hat{Q}_{1}{\\left(t \\right)} \\rangle}{2}\\right) - \\Delta \\left(\\frac{\\langle \\delta \\hat{P}_{0}{\\left(t \\right)}\\delta \\hat{X}{\\left(t \\right)} \\rangle}{2} + \\frac{\\langle \\delta \\hat{X}{\\left(t \\right)}\\delta \\hat{P}_{0}{\\left(t \\right)} \\rangle}{2}\\right) - \\gamma_{0} \\left(\\frac{\\langle \\delta \\hat{P}_{0}{\\left(t \\right)}\\delta \\hat{Y}{\\left(t \\right)} \\rangle}{2} + \\frac{\\langle \\delta \\hat{Y}{\\left(t \\right)}\\delta \\hat{P}_{0}{\\left(t \\right)} \\rangle}{2}\\right) - \\kappa \\left(\\frac{\\langle \\delta \\hat{P}_{0}{\\left(t \\right)}\\delta \\hat{Y}{\\left(t \\right)} \\rangle}{2} + \\frac{\\langle \\delta \\hat{Y}{\\left(t \\right)}\\delta \\hat{P}_{0}{\\left(t \\right)} \\rangle}{2}\\right) - \\omega_{0} \\left(\\frac{\\langle \\delta \\hat{Q}_{0}{\\left(t \\right)}\\delta \\hat{Y}{\\left(t \\right)} \\rangle}{2} + \\frac{\\langle \\delta \\hat{Y}{\\left(t \\right)}\\delta \\hat{Q}_{0}{\\left(t \\right)} \\rangle}{2}\\right) = 0$"
      ]
     },
     "metadata": {}
    },
    {
     "output_type": "display_data",
     "data": {
      "text/plain": [
       "<IPython.core.display.Math object>"
      ],
      "text/latex": [
       "$\\displaystyle 2 G_{0I} \\left(\\frac{\\langle \\delta \\hat{Q}_{0}{\\left(t \\right)}\\delta \\hat{Y}{\\left(t \\right)} \\rangle}{2} + \\frac{\\langle \\delta \\hat{Y}{\\left(t \\right)}\\delta \\hat{Q}_{0}{\\left(t \\right)} \\rangle}{2}\\right) + 2 G_{0R} \\left(\\frac{\\langle \\delta \\hat{Q}_{0}{\\left(t \\right)}\\delta \\hat{X}{\\left(t \\right)} \\rangle}{2} + \\frac{\\langle \\delta \\hat{X}{\\left(t \\right)}\\delta \\hat{Q}_{0}{\\left(t \\right)} \\rangle}{2}\\right) + 4 G_{11} \\left(\\frac{\\langle \\delta \\hat{Q}_{0}{\\left(t \\right)}\\delta \\hat{Q}_{1}{\\left(t \\right)} \\rangle}{2} + \\frac{\\langle \\delta \\hat{Q}_{1}{\\left(t \\right)}\\delta \\hat{Q}_{0}{\\left(t \\right)} \\rangle}{2}\\right) - 2 \\gamma_{0} \\left(\\frac{\\langle \\delta \\hat{P}_{0}{\\left(t \\right)}\\delta \\hat{Q}_{0}{\\left(t \\right)} \\rangle}{2} + \\frac{\\langle \\delta \\hat{Q}_{0}{\\left(t \\right)}\\delta \\hat{P}_{0}{\\left(t \\right)} \\rangle}{2}\\right) + \\langle \\delta \\hat{P}_{0}{\\left(t \\right)}\\delta \\hat{P}_{0}{\\left(t \\right)} \\rangle \\omega_{0} - \\langle \\delta \\hat{Q}_{0}{\\left(t \\right)}\\delta \\hat{Q}_{0}{\\left(t \\right)} \\rangle \\omega_{0} = 0$"
      ]
     },
     "metadata": {}
    },
    {
     "output_type": "display_data",
     "data": {
      "text/plain": [
       "<IPython.core.display.Math object>"
      ],
      "text/latex": [
       "$\\displaystyle - 2 G_{0I} \\left(\\frac{\\langle \\delta \\hat{Q}_{0}{\\left(t \\right)}\\delta \\hat{Q}_{1}{\\left(t \\right)} \\rangle}{2} + \\frac{\\langle \\delta \\hat{Q}_{1}{\\left(t \\right)}\\delta \\hat{Q}_{0}{\\left(t \\right)} \\rangle}{2}\\right) + \\Delta \\left(\\frac{\\langle \\delta \\hat{Q}_{1}{\\left(t \\right)}\\delta \\hat{Y}{\\left(t \\right)} \\rangle}{2} + \\frac{\\langle \\delta \\hat{Y}{\\left(t \\right)}\\delta \\hat{Q}_{1}{\\left(t \\right)} \\rangle}{2}\\right) - \\gamma_{1} \\left(\\frac{\\langle \\delta \\hat{Q}_{1}{\\left(t \\right)}\\delta \\hat{X}{\\left(t \\right)} \\rangle}{2} + \\frac{\\langle \\delta \\hat{X}{\\left(t \\right)}\\delta \\hat{Q}_{1}{\\left(t \\right)} \\rangle}{2}\\right) - \\kappa \\left(\\frac{\\langle \\delta \\hat{Q}_{1}{\\left(t \\right)}\\delta \\hat{X}{\\left(t \\right)} \\rangle}{2} + \\frac{\\langle \\delta \\hat{X}{\\left(t \\right)}\\delta \\hat{Q}_{1}{\\left(t \\right)} \\rangle}{2}\\right) + \\omega_{1} \\left(\\frac{\\langle \\delta \\hat{P}_{1}{\\left(t \\right)}\\delta \\hat{X}{\\left(t \\right)} \\rangle}{2} + \\frac{\\langle \\delta \\hat{X}{\\left(t \\right)}\\delta \\hat{P}_{1}{\\left(t \\right)} \\rangle}{2}\\right) = 0$"
      ]
     },
     "metadata": {}
    },
    {
     "output_type": "display_data",
     "data": {
      "text/plain": [
       "<IPython.core.display.Math object>"
      ],
      "text/latex": [
       "$\\displaystyle 2 G_{0R} \\left(\\frac{\\langle \\delta \\hat{Q}_{0}{\\left(t \\right)}\\delta \\hat{Q}_{1}{\\left(t \\right)} \\rangle}{2} + \\frac{\\langle \\delta \\hat{Q}_{1}{\\left(t \\right)}\\delta \\hat{Q}_{0}{\\left(t \\right)} \\rangle}{2}\\right) - \\Delta \\left(\\frac{\\langle \\delta \\hat{Q}_{1}{\\left(t \\right)}\\delta \\hat{X}{\\left(t \\right)} \\rangle}{2} + \\frac{\\langle \\delta \\hat{X}{\\left(t \\right)}\\delta \\hat{Q}_{1}{\\left(t \\right)} \\rangle}{2}\\right) - \\gamma_{1} \\left(\\frac{\\langle \\delta \\hat{Q}_{1}{\\left(t \\right)}\\delta \\hat{Y}{\\left(t \\right)} \\rangle}{2} + \\frac{\\langle \\delta \\hat{Y}{\\left(t \\right)}\\delta \\hat{Q}_{1}{\\left(t \\right)} \\rangle}{2}\\right) - \\kappa \\left(\\frac{\\langle \\delta \\hat{Q}_{1}{\\left(t \\right)}\\delta \\hat{Y}{\\left(t \\right)} \\rangle}{2} + \\frac{\\langle \\delta \\hat{Y}{\\left(t \\right)}\\delta \\hat{Q}_{1}{\\left(t \\right)} \\rangle}{2}\\right) + \\omega_{1} \\left(\\frac{\\langle \\delta \\hat{P}_{1}{\\left(t \\right)}\\delta \\hat{Y}{\\left(t \\right)} \\rangle}{2} + \\frac{\\langle \\delta \\hat{Y}{\\left(t \\right)}\\delta \\hat{P}_{1}{\\left(t \\right)} \\rangle}{2}\\right) = 0$"
      ]
     },
     "metadata": {}
    },
    {
     "output_type": "display_data",
     "data": {
      "text/plain": [
       "<IPython.core.display.Math object>"
      ],
      "text/latex": [
       "$\\displaystyle - \\gamma_{0} \\left(\\frac{\\langle \\delta \\hat{Q}_{0}{\\left(t \\right)}\\delta \\hat{Q}_{1}{\\left(t \\right)} \\rangle}{2} + \\frac{\\langle \\delta \\hat{Q}_{1}{\\left(t \\right)}\\delta \\hat{Q}_{0}{\\left(t \\right)} \\rangle}{2}\\right) - \\gamma_{1} \\left(\\frac{\\langle \\delta \\hat{Q}_{0}{\\left(t \\right)}\\delta \\hat{Q}_{1}{\\left(t \\right)} \\rangle}{2} + \\frac{\\langle \\delta \\hat{Q}_{1}{\\left(t \\right)}\\delta \\hat{Q}_{0}{\\left(t \\right)} \\rangle}{2}\\right) + \\omega_{0} \\left(\\frac{\\langle \\delta \\hat{P}_{0}{\\left(t \\right)}\\delta \\hat{Q}_{1}{\\left(t \\right)} \\rangle}{2} + \\frac{\\langle \\delta \\hat{Q}_{1}{\\left(t \\right)}\\delta \\hat{P}_{0}{\\left(t \\right)} \\rangle}{2}\\right) + \\omega_{1} \\left(\\frac{\\langle \\delta \\hat{P}_{1}{\\left(t \\right)}\\delta \\hat{Q}_{0}{\\left(t \\right)} \\rangle}{2} + \\frac{\\langle \\delta \\hat{Q}_{0}{\\left(t \\right)}\\delta \\hat{P}_{1}{\\left(t \\right)} \\rangle}{2}\\right) = 0$"
      ]
     },
     "metadata": {}
    },
    {
     "output_type": "display_data",
     "data": {
      "text/plain": [
       "<IPython.core.display.Math object>"
      ],
      "text/latex": [
       "$\\displaystyle 2 G_{0I} \\left(\\frac{\\langle \\delta \\hat{Q}_{1}{\\left(t \\right)}\\delta \\hat{Y}{\\left(t \\right)} \\rangle}{2} + \\frac{\\langle \\delta \\hat{Y}{\\left(t \\right)}\\delta \\hat{Q}_{1}{\\left(t \\right)} \\rangle}{2}\\right) + 2 G_{0R} \\left(\\frac{\\langle \\delta \\hat{Q}_{1}{\\left(t \\right)}\\delta \\hat{X}{\\left(t \\right)} \\rangle}{2} + \\frac{\\langle \\delta \\hat{X}{\\left(t \\right)}\\delta \\hat{Q}_{1}{\\left(t \\right)} \\rangle}{2}\\right) + 4 G_{11} \\langle \\delta \\hat{Q}_{1}{\\left(t \\right)}\\delta \\hat{Q}_{1}{\\left(t \\right)} \\rangle - \\gamma_{0} \\left(\\frac{\\langle \\delta \\hat{P}_{0}{\\left(t \\right)}\\delta \\hat{Q}_{1}{\\left(t \\right)} \\rangle}{2} + \\frac{\\langle \\delta \\hat{Q}_{1}{\\left(t \\right)}\\delta \\hat{P}_{0}{\\left(t \\right)} \\rangle}{2}\\right) - \\gamma_{1} \\left(\\frac{\\langle \\delta \\hat{P}_{0}{\\left(t \\right)}\\delta \\hat{Q}_{1}{\\left(t \\right)} \\rangle}{2} + \\frac{\\langle \\delta \\hat{Q}_{1}{\\left(t \\right)}\\delta \\hat{P}_{0}{\\left(t \\right)} \\rangle}{2}\\right) - \\omega_{0} \\left(\\frac{\\langle \\delta \\hat{Q}_{0}{\\left(t \\right)}\\delta \\hat{Q}_{1}{\\left(t \\right)} \\rangle}{2} + \\frac{\\langle \\delta \\hat{Q}_{1}{\\left(t \\right)}\\delta \\hat{Q}_{0}{\\left(t \\right)} \\rangle}{2}\\right) + \\omega_{1} \\left(\\frac{\\langle \\delta \\hat{P}_{0}{\\left(t \\right)}\\delta \\hat{P}_{1}{\\left(t \\right)} \\rangle}{2} + \\frac{\\langle \\delta \\hat{P}_{1}{\\left(t \\right)}\\delta \\hat{P}_{0}{\\left(t \\right)} \\rangle}{2}\\right) = 0$"
      ]
     },
     "metadata": {}
    },
    {
     "output_type": "display_data",
     "data": {
      "text/plain": [
       "<IPython.core.display.Math object>"
      ],
      "text/latex": [
       "$\\displaystyle - 2 G_{0I} \\left(\\frac{\\langle \\delta \\hat{P}_{1}{\\left(t \\right)}\\delta \\hat{Q}_{0}{\\left(t \\right)} \\rangle}{2} + \\frac{\\langle \\delta \\hat{Q}_{0}{\\left(t \\right)}\\delta \\hat{P}_{1}{\\left(t \\right)} \\rangle}{2}\\right) + 4 G_{11} \\left(\\frac{\\langle \\delta \\hat{Q}_{0}{\\left(t \\right)}\\delta \\hat{X}{\\left(t \\right)} \\rangle}{2} + \\frac{\\langle \\delta \\hat{X}{\\left(t \\right)}\\delta \\hat{Q}_{0}{\\left(t \\right)} \\rangle}{2}\\right) + \\Delta \\left(\\frac{\\langle \\delta \\hat{P}_{1}{\\left(t \\right)}\\delta \\hat{Y}{\\left(t \\right)} \\rangle}{2} + \\frac{\\langle \\delta \\hat{Y}{\\left(t \\right)}\\delta \\hat{P}_{1}{\\left(t \\right)} \\rangle}{2}\\right) - \\gamma_{1} \\left(\\frac{\\langle \\delta \\hat{P}_{1}{\\left(t \\right)}\\delta \\hat{X}{\\left(t \\right)} \\rangle}{2} + \\frac{\\langle \\delta \\hat{X}{\\left(t \\right)}\\delta \\hat{P}_{1}{\\left(t \\right)} \\rangle}{2}\\right) - \\kappa \\left(\\frac{\\langle \\delta \\hat{P}_{1}{\\left(t \\right)}\\delta \\hat{X}{\\left(t \\right)} \\rangle}{2} + \\frac{\\langle \\delta \\hat{X}{\\left(t \\right)}\\delta \\hat{P}_{1}{\\left(t \\right)} \\rangle}{2}\\right) + \\left(4 G_{10} - \\omega_{1}\\right) \\left(\\frac{\\langle \\delta \\hat{Q}_{1}{\\left(t \\right)}\\delta \\hat{X}{\\left(t \\right)} \\rangle}{2} + \\frac{\\langle \\delta \\hat{X}{\\left(t \\right)}\\delta \\hat{Q}_{1}{\\left(t \\right)} \\rangle}{2}\\right) = 0$"
      ]
     },
     "metadata": {}
    },
    {
     "output_type": "display_data",
     "data": {
      "text/plain": [
       "<IPython.core.display.Math object>"
      ],
      "text/latex": [
       "$\\displaystyle 2 G_{0R} \\left(\\frac{\\langle \\delta \\hat{P}_{1}{\\left(t \\right)}\\delta \\hat{Q}_{0}{\\left(t \\right)} \\rangle}{2} + \\frac{\\langle \\delta \\hat{Q}_{0}{\\left(t \\right)}\\delta \\hat{P}_{1}{\\left(t \\right)} \\rangle}{2}\\right) + 4 G_{11} \\left(\\frac{\\langle \\delta \\hat{Q}_{0}{\\left(t \\right)}\\delta \\hat{Y}{\\left(t \\right)} \\rangle}{2} + \\frac{\\langle \\delta \\hat{Y}{\\left(t \\right)}\\delta \\hat{Q}_{0}{\\left(t \\right)} \\rangle}{2}\\right) - \\Delta \\left(\\frac{\\langle \\delta \\hat{P}_{1}{\\left(t \\right)}\\delta \\hat{X}{\\left(t \\right)} \\rangle}{2} + \\frac{\\langle \\delta \\hat{X}{\\left(t \\right)}\\delta \\hat{P}_{1}{\\left(t \\right)} \\rangle}{2}\\right) - \\gamma_{1} \\left(\\frac{\\langle \\delta \\hat{P}_{1}{\\left(t \\right)}\\delta \\hat{Y}{\\left(t \\right)} \\rangle}{2} + \\frac{\\langle \\delta \\hat{Y}{\\left(t \\right)}\\delta \\hat{P}_{1}{\\left(t \\right)} \\rangle}{2}\\right) - \\kappa \\left(\\frac{\\langle \\delta \\hat{P}_{1}{\\left(t \\right)}\\delta \\hat{Y}{\\left(t \\right)} \\rangle}{2} + \\frac{\\langle \\delta \\hat{Y}{\\left(t \\right)}\\delta \\hat{P}_{1}{\\left(t \\right)} \\rangle}{2}\\right) + \\left(4 G_{10} - \\omega_{1}\\right) \\left(\\frac{\\langle \\delta \\hat{Q}_{1}{\\left(t \\right)}\\delta \\hat{Y}{\\left(t \\right)} \\rangle}{2} + \\frac{\\langle \\delta \\hat{Y}{\\left(t \\right)}\\delta \\hat{Q}_{1}{\\left(t \\right)} \\rangle}{2}\\right) = 0$"
      ]
     },
     "metadata": {}
    },
    {
     "output_type": "display_data",
     "data": {
      "text/plain": [
       "<IPython.core.display.Math object>"
      ],
      "text/latex": [
       "$\\displaystyle 4 G_{11} \\langle \\delta \\hat{Q}_{0}{\\left(t \\right)}\\delta \\hat{Q}_{0}{\\left(t \\right)} \\rangle - \\gamma_{0} \\left(\\frac{\\langle \\delta \\hat{P}_{1}{\\left(t \\right)}\\delta \\hat{Q}_{0}{\\left(t \\right)} \\rangle}{2} + \\frac{\\langle \\delta \\hat{Q}_{0}{\\left(t \\right)}\\delta \\hat{P}_{1}{\\left(t \\right)} \\rangle}{2}\\right) - \\gamma_{1} \\left(\\frac{\\langle \\delta \\hat{P}_{1}{\\left(t \\right)}\\delta \\hat{Q}_{0}{\\left(t \\right)} \\rangle}{2} + \\frac{\\langle \\delta \\hat{Q}_{0}{\\left(t \\right)}\\delta \\hat{P}_{1}{\\left(t \\right)} \\rangle}{2}\\right) + \\omega_{0} \\left(\\frac{\\langle \\delta \\hat{P}_{0}{\\left(t \\right)}\\delta \\hat{P}_{1}{\\left(t \\right)} \\rangle}{2} + \\frac{\\langle \\delta \\hat{P}_{1}{\\left(t \\right)}\\delta \\hat{P}_{0}{\\left(t \\right)} \\rangle}{2}\\right) + \\left(4 G_{10} - \\omega_{1}\\right) \\left(\\frac{\\langle \\delta \\hat{Q}_{0}{\\left(t \\right)}\\delta \\hat{Q}_{1}{\\left(t \\right)} \\rangle}{2} + \\frac{\\langle \\delta \\hat{Q}_{1}{\\left(t \\right)}\\delta \\hat{Q}_{0}{\\left(t \\right)} \\rangle}{2}\\right) = 0$"
      ]
     },
     "metadata": {}
    },
    {
     "output_type": "display_data",
     "data": {
      "text/plain": [
       "<IPython.core.display.Math object>"
      ],
      "text/latex": [
       "$\\displaystyle 2 G_{0I} \\left(\\frac{\\langle \\delta \\hat{P}_{1}{\\left(t \\right)}\\delta \\hat{Y}{\\left(t \\right)} \\rangle}{2} + \\frac{\\langle \\delta \\hat{Y}{\\left(t \\right)}\\delta \\hat{P}_{1}{\\left(t \\right)} \\rangle}{2}\\right) + 2 G_{0R} \\left(\\frac{\\langle \\delta \\hat{P}_{1}{\\left(t \\right)}\\delta \\hat{X}{\\left(t \\right)} \\rangle}{2} + \\frac{\\langle \\delta \\hat{X}{\\left(t \\right)}\\delta \\hat{P}_{1}{\\left(t \\right)} \\rangle}{2}\\right) + 4 G_{11} \\left(\\frac{\\langle \\delta \\hat{P}_{0}{\\left(t \\right)}\\delta \\hat{Q}_{0}{\\left(t \\right)} \\rangle}{2} + \\frac{\\langle \\delta \\hat{Q}_{0}{\\left(t \\right)}\\delta \\hat{P}_{0}{\\left(t \\right)} \\rangle}{2}\\right) + 4 G_{11} \\left(\\frac{\\langle \\delta \\hat{P}_{1}{\\left(t \\right)}\\delta \\hat{Q}_{1}{\\left(t \\right)} \\rangle}{2} + \\frac{\\langle \\delta \\hat{Q}_{1}{\\left(t \\right)}\\delta \\hat{P}_{1}{\\left(t \\right)} \\rangle}{2}\\right) - \\gamma_{0} \\left(\\frac{\\langle \\delta \\hat{P}_{0}{\\left(t \\right)}\\delta \\hat{P}_{1}{\\left(t \\right)} \\rangle}{2} + \\frac{\\langle \\delta \\hat{P}_{1}{\\left(t \\right)}\\delta \\hat{P}_{0}{\\left(t \\right)} \\rangle}{2}\\right) - \\gamma_{1} \\left(\\frac{\\langle \\delta \\hat{P}_{0}{\\left(t \\right)}\\delta \\hat{P}_{1}{\\left(t \\right)} \\rangle}{2} + \\frac{\\langle \\delta \\hat{P}_{1}{\\left(t \\right)}\\delta \\hat{P}_{0}{\\left(t \\right)} \\rangle}{2}\\right) - \\omega_{0} \\left(\\frac{\\langle \\delta \\hat{P}_{1}{\\left(t \\right)}\\delta \\hat{Q}_{0}{\\left(t \\right)} \\rangle}{2} + \\frac{\\langle \\delta \\hat{Q}_{0}{\\left(t \\right)}\\delta \\hat{P}_{1}{\\left(t \\right)} \\rangle}{2}\\right) + \\left(4 G_{10} - \\omega_{1}\\right) \\left(\\frac{\\langle \\delta \\hat{P}_{0}{\\left(t \\right)}\\delta \\hat{Q}_{1}{\\left(t \\right)} \\rangle}{2} + \\frac{\\langle \\delta \\hat{Q}_{1}{\\left(t \\right)}\\delta \\hat{P}_{0}{\\left(t \\right)} \\rangle}{2}\\right) = 0$"
      ]
     },
     "metadata": {}
    },
    {
     "output_type": "display_data",
     "data": {
      "text/plain": [
       "<IPython.core.display.Math object>"
      ],
      "text/latex": [
       "$\\displaystyle 4 G_{11} \\left(\\frac{\\langle \\delta \\hat{Q}_{0}{\\left(t \\right)}\\delta \\hat{Q}_{1}{\\left(t \\right)} \\rangle}{2} + \\frac{\\langle \\delta \\hat{Q}_{1}{\\left(t \\right)}\\delta \\hat{Q}_{0}{\\left(t \\right)} \\rangle}{2}\\right) - 2 \\gamma_{1} \\left(\\frac{\\langle \\delta \\hat{P}_{1}{\\left(t \\right)}\\delta \\hat{Q}_{1}{\\left(t \\right)} \\rangle}{2} + \\frac{\\langle \\delta \\hat{Q}_{1}{\\left(t \\right)}\\delta \\hat{P}_{1}{\\left(t \\right)} \\rangle}{2}\\right) + \\langle \\delta \\hat{P}_{1}{\\left(t \\right)}\\delta \\hat{P}_{1}{\\left(t \\right)} \\rangle \\omega_{1} + \\langle \\delta \\hat{Q}_{1}{\\left(t \\right)}\\delta \\hat{Q}_{1}{\\left(t \\right)} \\rangle \\left(4 G_{10} - \\omega_{1}\\right) = 0$"
      ]
     },
     "metadata": {}
    }
   ],
   "metadata": {}
  },
  {
   "cell_type": "code",
   "execution_count": 5,
   "source": [
    "# # solutions\r\n",
    "# sols = solve(expr_unique, [V[idx[0], idx[1]] for idx in idxs])\r\n",
    "# for idx in idxs:\r\n",
    "#     display(Math(latex(V[idx[0], idx[1]]) + ' = ' + latex(sols[V[idx[0], idx[1]]])))"
   ],
   "outputs": [],
   "metadata": {}
  }
 ],
 "metadata": {
  "orig_nbformat": 4,
  "language_info": {
   "name": "python",
   "version": "3.8.5",
   "mimetype": "text/x-python",
   "codemirror_mode": {
    "name": "ipython",
    "version": 3
   },
   "pygments_lexer": "ipython3",
   "nbconvert_exporter": "python",
   "file_extension": ".py"
  },
  "kernelspec": {
   "name": "python3",
   "display_name": "Python 3.8.5 64-bit ('base': conda)"
  },
  "interpreter": {
   "hash": "b3ba2566441a7c06988d0923437866b63cedc61552a5af99d1f4fb67d367b25f"
  }
 },
 "nbformat": 4,
 "nbformat_minor": 2
}