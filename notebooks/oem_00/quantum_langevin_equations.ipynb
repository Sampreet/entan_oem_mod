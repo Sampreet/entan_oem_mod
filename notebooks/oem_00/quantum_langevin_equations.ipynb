{
 "metadata": {
  "language_info": {
   "codemirror_mode": {
    "name": "ipython",
    "version": 3
   },
   "file_extension": ".py",
   "mimetype": "text/x-python",
   "name": "python",
   "nbconvert_exporter": "python",
   "pygments_lexer": "ipython3",
   "version": "3.8.5"
  },
  "orig_nbformat": 4,
  "kernelspec": {
   "name": "python3",
   "display_name": "Python 3.8.5 64-bit ('base': conda)"
  },
  "interpreter": {
   "hash": "b3ba2566441a7c06988d0923437866b63cedc61552a5af99d1f4fb67d367b25f"
  }
 },
 "nbformat": 4,
 "nbformat_minor": 2,
 "cells": [
  {
   "cell_type": "markdown",
   "source": [
    "# Quantum Langevin Equations for Frequency Modulated OEM Systems"
   ],
   "metadata": {}
  },
  {
   "cell_type": "markdown",
   "source": [
    "## Imports and Initialization"
   ],
   "metadata": {}
  },
  {
   "cell_type": "code",
   "execution_count": 1,
   "source": [
    "# dependencies\r\n",
    "from IPython.display import display, Math\r\n",
    "from sympy import conjugate, exp, Function, I, latex, sqrt, symbols\r\n",
    "from sympy.physics.quantum import Commutator, Dagger, hbar"
   ],
   "outputs": [],
   "metadata": {}
  },
  {
   "cell_type": "code",
   "execution_count": 2,
   "source": [
    "# time \r\n",
    "t = symbols('t', real=True, positive=True)\r\n",
    "# laser\r\n",
    "A_l, kappa, omega_l = symbols('A_{l}, \\\\kappa, \\\\omega_{l}', real=True, positive=True)\r\n",
    "# cavity\r\n",
    "gamma_0, l, omega_c = symbols('\\\\gamma_{0}, l, \\\\omega_{c}', real=True, positive=True)\r\n",
    "Delta_0 = symbols('\\\\Delta^{(0)}', real=True)\r\n",
    "Delta_t = Function('\\\\Delta', commutative=True, real=True)(t)\r\n",
    "# mechanical\r\n",
    "gamma_1, m, omega_0 = symbols('\\\\gamma_{1}, m, \\\\omega_{0}', real=True, positive=True)\r\n",
    "# LC circuit\r\n",
    "C_b, C_p, d, L, omega_1, r = symbols('C_{b}, C_{p}, d, L, \\\\omega_{1}, r', real=True, positive=True)\r\n",
    "A_v, V_DC = symbols('A_{v}, V_{DC}', real=True)\r\n",
    "# interaction\r\n",
    "G, g_0, g_1 = symbols('G, g_{0}, g_{1}', real=True, positive=True)\r\n",
    "G_0_t = Function('G_{0}', commutative=True, complex=True)(t)\r\n",
    "G_0R_t = Function('G_{0R}', commutative=True, real=True)(t)\r\n",
    "G_0I_t = Function('G_{0I}', commutative=True, real=True)(t)\r\n",
    "G_10_t = Function('G_{10}', commutative=True, real=True)(t)\r\n",
    "G_11_t = Function('G_{11}', commutative=True, real=True)(t)\r\n",
    "\r\n",
    "# modes\r\n",
    "a_t = Function('\\\\hat{a}', commutative=False)(t)\r\n",
    "b_0_t = Function('\\\\hat{b}_{0}', commutative=False)(t)\r\n",
    "b_1_t = Function('\\\\hat{b}_{1}', commutative=False)(t)\r\n",
    "\r\n",
    "# quadratures\r\n",
    "q_0_t = Function('\\\\hat{q}_{0}', commutative=False)(t)\r\n",
    "p_0_t = Function('\\\\hat{p}_{0}', commutative=False)(t)\r\n",
    "q_1_t = Function('\\\\hat{q}_{1}', commutative=False)(t)\r\n",
    "p_1_t = Function('\\\\hat{p}_{1}', commutative=False)(t)\r\n",
    "\r\n",
    "# dimensionless quadratures\r\n",
    "Q_0_t = Function('\\\\hat{Q}_{0}', commutative=False)(t)\r\n",
    "P_0_t = Function('\\\\hat{P}_{0}', commutative=False)(t)\r\n",
    "Q_1_t = Function('\\\\hat{Q}_{1}', commutative=False)(t)\r\n",
    "P_1_t = Function('\\\\hat{P}_{1}', commutative=False)(t)\r\n",
    "\r\n",
    "# input noises\r\n",
    "a_in_t = Function('\\\\hat{a}^{(in)}', commutative=False)(t)\r\n",
    "b_0_in_t = Function('\\\\hat{b}_{0}^{(in)}', commutative=False)(t)\r\n",
    "b_1_in_t = Function('\\\\hat{b}_{1}^{(in)}', commutative=False)(t)\r\n",
    "\r\n",
    "# classical amplitudes\r\n",
    "alpha_t = Function('\\\\alpha', commutative=True, complex=True)(t)\r\n",
    "beta_0_t = Function('\\\\beta_{0}', commutative=True, complex=True)(t)\r\n",
    "beta_1_t = Function('\\\\beta_{1}', commutative=True, complex=True)(t)\r\n",
    "\r\n",
    "# quantum fluctuations\r\n",
    "delta_a_t = Function('\\\\delta \\\\hat{a}', commutative=False)(t)\r\n",
    "delta_b_0_t = Function('\\\\delta \\\\hat{b}_{0}', commutative=False)(t)\r\n",
    "delta_b_1_t = Function('\\\\delta \\\\hat{b}_{1}', commutative=False)(t)\r\n",
    "\r\n",
    "# fluctuations quadratures\r\n",
    "delta_X_t = Function('\\\\delta \\\\hat{X}', commutativ=False)(t)\r\n",
    "delta_Y_t = Function('\\\\delta \\\\hat{Y}', commutative=False)(t)\r\n",
    "delta_Q_0_t = Function('\\\\delta \\\\hat{Q}_{0}', commutative=False)(t)\r\n",
    "delta_P_0_t = Function('\\\\delta \\\\hat{P}_{0}', commutative=False)(t)\r\n",
    "delta_Q_1_t = Function('\\\\delta \\\\hat{Q}_{1}', commutative=False)(t)\r\n",
    "delta_P_1_t = Function('\\\\delta \\\\hat{P}_{1}', commutative=False)(t)\r\n",
    "\r\n",
    "# quadrature noises\r\n",
    "X_in_t = Function('\\\\hat{X}^{(in)}', commutative=False)(t)\r\n",
    "Y_in_t = Function('\\\\hat{Y}^{(in)}', commutative=False)(t)\r\n",
    "Q_0_in_t = Function('\\\\hat{Q}_{0}^{(in)}', commutative=False)(t)\r\n",
    "P_0_in_t = Function('\\\\hat{P}_{0}^{(in)}', commutative=False)(t)\r\n",
    "Q_1_in_t = Function('\\\\hat{Q}_{1}^{(in)}', commutative=False)(t)\r\n",
    "P_1_in_t = Function('\\\\hat{P}_{1}^{(in)}', commutative=False)(t)"
   ],
   "outputs": [],
   "metadata": {}
  },
  {
   "cell_type": "markdown",
   "source": [
    "## Capacitance"
   ],
   "metadata": {}
  },
  {
   "cell_type": "code",
   "execution_count": 3,
   "source": [
    "# capacitance\n",
    "expr_C_num = C_p * (1 - q_0_t / d) + C_b\n",
    "expr_C_den = 1 - q_0_t / d\n",
    "display(Math('\\\\frac{1}{C} = ' + latex(expr_C_den / expr_C_num)))\n",
    "\n",
    "# substitute participation ratio\n",
    "expr_C_num = (expr_C_num * r / C_b).subs(C_p, C_b * (1 - r) / r).expand() * C_b / r\n",
    "expr_C_inv = expr_C_den / expr_C_num\n",
    "display(Math('\\\\Rightarrow \\\\frac{1}{C} = ' + latex(expr_C_inv)))\n",
    "\n",
    "# binomial approximation\n",
    "expr_C_inv_approx = expr_C_inv.subs((1 + r * q_0_t / d - q_0_t / d)**-1, 1 - r * q_0_t / d + q_0_t / d).expand()\n",
    "display(Math('\\\\Rightarrow \\\\frac{1}{C} \\\\approx ' + latex(expr_C_inv_approx)))\n",
    "\n",
    "# neglect quadratic terms\n",
    "expr_C_inv_approx = expr_C_inv_approx.subs(q_0_t**2 / d**2, 0).expand()\n",
    "display(Math('\\\\Rightarrow \\\\frac{1}{C} \\\\approx ' + latex(expr_C_inv_approx)))"
   ],
   "outputs": [
    {
     "output_type": "display_data",
     "data": {
      "text/plain": [
       "<IPython.core.display.Math object>"
      ],
      "text/latex": [
       "$\\displaystyle \\frac{1}{C} = \\left(1 - \\frac{\\hat{q}_{0}{\\left(t \\right)}}{d}\\right) \\left(C_{b} + C_{p} \\left(1 - \\frac{\\hat{q}_{0}{\\left(t \\right)}}{d}\\right)\\right)^{-1}$"
      ]
     },
     "metadata": {}
    },
    {
     "output_type": "display_data",
     "data": {
      "text/plain": [
       "<IPython.core.display.Math object>"
      ],
      "text/latex": [
       "$\\displaystyle \\Rightarrow \\frac{1}{C} = \\frac{r \\left(1 - \\frac{\\hat{q}_{0}{\\left(t \\right)}}{d}\\right) \\left(1 + \\frac{r \\hat{q}_{0}{\\left(t \\right)}}{d} - \\frac{\\hat{q}_{0}{\\left(t \\right)}}{d}\\right)^{-1}}{C_{b}}$"
      ]
     },
     "metadata": {}
    },
    {
     "output_type": "display_data",
     "data": {
      "text/plain": [
       "<IPython.core.display.Math object>"
      ],
      "text/latex": [
       "$\\displaystyle \\Rightarrow \\frac{1}{C} \\approx \\frac{r}{C_{b}} - \\frac{r^{2} \\hat{q}_{0}{\\left(t \\right)}}{C_{b} d} + \\frac{r^{2} \\hat{q}_{0}^{2}{\\left(t \\right)}}{C_{b} d^{2}} - \\frac{r \\hat{q}_{0}^{2}{\\left(t \\right)}}{C_{b} d^{2}}$"
      ]
     },
     "metadata": {}
    },
    {
     "output_type": "display_data",
     "data": {
      "text/plain": [
       "<IPython.core.display.Math object>"
      ],
      "text/latex": [
       "$\\displaystyle \\Rightarrow \\frac{1}{C} \\approx \\frac{r}{C_{b}} - \\frac{r^{2} \\hat{q}_{0}{\\left(t \\right)}}{C_{b} d}$"
      ]
     },
     "metadata": {}
    }
   ],
   "metadata": {}
  },
  {
   "cell_type": "markdown",
   "source": [
    "## Hamiltonian in the Interaction Picture"
   ],
   "metadata": {}
  },
  {
   "cell_type": "code",
   "execution_count": 4,
   "source": [
    "# laser Hamiltonian\n",
    "expr_H_l = I * hbar * A_l * (Dagger(a_t) * exp(- I * omega_l * t) - a_t * exp(I * omega_l * t))\n",
    "# cavity Hamiltonian\n",
    "expr_H_c = hbar * omega_c * Dagger(a_t) * a_t\n",
    "# mechanical Hamiltonian\n",
    "expr_H_0 = m * omega_0**2 * q_0_t**2 / 2 + p_0_t**2 / 2 / m\n",
    "# LC circuit Hamiltonian\n",
    "expr_H_1 = r * q_1_t**2 / 2 / C_b + p_1_t**2 / 2 / L - q_1_t * V_DC\n",
    "# interaction Hamiltonians\n",
    "expr_H_om = - hbar * omega_c / l * q_0_t * Dagger(a_t) * a_t\n",
    "expr_H_em = - r**2 / 2 / C_b / d * q_0_t * q_1_t**2\n",
    "# total Hamiltonian\n",
    "expr_H_tot = expr_H_c + expr_H_0 + expr_H_om + expr_H_1 + expr_H_em + expr_H_l\n",
    "display(Math('H_{tot} = ' + latex(expr_H_tot)))\n",
    "\n",
    "# hamiltonian in the interaction picture\n",
    "list_subs = [\n",
    "    (a_t, a_t * exp(- I * omega_l * t)), \n",
    "    (omega_c / l, G), \n",
    "    (omega_c, omega_l + Delta_0)\n",
    "]\n",
    "expr_H_int = expr_H_tot.subs(list_subs).expand() - hbar * omega_l * Dagger(a_t) * a_t\n",
    "display(Math('\\\\Rightarrow H_{int} = ' + latex(expr_H_int)))"
   ],
   "outputs": [
    {
     "output_type": "display_data",
     "data": {
      "text/plain": [
       "<IPython.core.display.Math object>"
      ],
      "text/latex": [
       "$\\displaystyle H_{tot} = \\hbar i A_{l} \\left(- e^{i \\omega_{l} t} \\hat{a}{\\left(t \\right)} + e^{- i \\omega_{l} t} \\hat{a}{\\left(t \\right)}^{\\dagger}\\right) - V_{DC} \\hat{q}_{1}{\\left(t \\right)} + \\frac{\\omega_{0}^{2} m \\hat{q}_{0}^{2}{\\left(t \\right)}}{2} + \\hbar \\omega_{c} \\hat{a}{\\left(t \\right)}^{\\dagger} \\hat{a}{\\left(t \\right)} - \\frac{\\hbar \\omega_{c} \\hat{q}_{0}{\\left(t \\right)} \\hat{a}{\\left(t \\right)}^{\\dagger} \\hat{a}{\\left(t \\right)}}{l} + \\frac{\\hat{p}_{0}^{2}{\\left(t \\right)}}{2 m} + \\frac{\\hat{p}_{1}^{2}{\\left(t \\right)}}{2 L} + \\frac{r \\hat{q}_{1}^{2}{\\left(t \\right)}}{2 C_{b}} - \\frac{r^{2} \\hat{q}_{0}{\\left(t \\right)} \\hat{q}_{1}^{2}{\\left(t \\right)}}{2 C_{b} d}$"
      ]
     },
     "metadata": {}
    },
    {
     "output_type": "display_data",
     "data": {
      "text/plain": [
       "<IPython.core.display.Math object>"
      ],
      "text/latex": [
       "$\\displaystyle \\Rightarrow H_{int} = - \\hbar i A_{l} \\hat{a}{\\left(t \\right)} + \\hbar i A_{l} \\hat{a}{\\left(t \\right)}^{\\dagger} - \\hbar G \\hat{q}_{0}{\\left(t \\right)} \\hat{a}{\\left(t \\right)}^{\\dagger} \\hat{a}{\\left(t \\right)} - V_{DC} \\hat{q}_{1}{\\left(t \\right)} + \\hbar \\Delta^{(0)} \\hat{a}{\\left(t \\right)}^{\\dagger} \\hat{a}{\\left(t \\right)} + \\frac{\\omega_{0}^{2} m \\hat{q}_{0}^{2}{\\left(t \\right)}}{2} + \\frac{\\hat{p}_{0}^{2}{\\left(t \\right)}}{2 m} + \\frac{\\hat{p}_{1}^{2}{\\left(t \\right)}}{2 L} + \\frac{r \\hat{q}_{1}^{2}{\\left(t \\right)}}{2 C_{b}} - \\frac{r^{2} \\hat{q}_{0}{\\left(t \\right)} \\hat{q}_{1}^{2}{\\left(t \\right)}}{2 C_{b} d}$"
      ]
     },
     "metadata": {}
    }
   ],
   "metadata": {}
  },
  {
   "cell_type": "markdown",
   "source": [
    "## Hamiltonian in terms of Dimensionless Quadratures"
   ],
   "metadata": {}
  },
  {
   "cell_type": "code",
   "execution_count": 5,
   "source": [
    "# zero point fluctuations\n",
    "expr_q_0_zpf = sqrt(hbar / m / omega_0)\n",
    "expr_p_0_zpf = sqrt(hbar * m * omega_0)\n",
    "expr_q_1_zpf = sqrt(hbar / L / omega_1)\n",
    "expr_p_1_zpf = sqrt(hbar * L * omega_1)\n",
    "list_subs = [\n",
    "    (q_0_t, expr_q_0_zpf * Q_0_t), \n",
    "    (p_0_t, expr_p_0_zpf * P_0_t), \n",
    "    (q_1_t, expr_q_1_zpf * Q_1_t), \n",
    "    (p_1_t, expr_p_1_zpf * P_1_t)\n",
    "]\n",
    "expr_H_dim = expr_H_int.subs(list_subs).expand()\n",
    "display(Math('q_{0_{zpf}} = ' + latex(expr_q_0_zpf) + ', \\\\quad p_{0_{zpf}} = ' + latex(expr_p_0_zpf)))\n",
    "display(Math('q_{1_{zpf}} = ' + latex(expr_q_1_zpf) + ', \\\\quad p_{1_{zpf}} = ' + latex(expr_p_1_zpf)))\n",
    "display(Math('\\\\Rightarrow H_{dim} = ' + latex(expr_H_dim)))\n",
    "\n",
    "# coupling coefficients\n",
    "expr_g_0 = G * expr_q_0_zpf / sqrt(2)\n",
    "expr_g_1 = expr_q_0_zpf * expr_q_1_zpf**2 * r**2 / 4 / sqrt(2) / hbar / C_b / d\n",
    "expr_A_v = expr_q_1_zpf * V_DC / sqrt(2) / hbar\n",
    "expr_L_inv = C_b / r * omega_1**2\n",
    "list_subs = [\n",
    "    (sqrt(2) * expr_g_0, sqrt(2) * g_0), \n",
    "    (2 * sqrt(2) * expr_g_1, 2 * sqrt(2) * g_1), \n",
    "    (sqrt(2) * hbar * expr_A_v, sqrt(2) * hbar * A_v), \n",
    "    (1 / L, expr_L_inv)\n",
    "]\n",
    "expr_H_dim = expr_H_dim.subs(list_subs).expand()\n",
    "display(Math('g_{0} = ' + latex(expr_g_0) + ',\\\\quad g_{1} = ' + latex(expr_g_1) + ', \\\\quad A_{v} = ' + latex(expr_A_v)))\n",
    "display(Math('\\\\Rightarrow H_{dim} \\\\approx ' + latex(expr_H_dim.collect([I * hbar * A_l, hbar * omega_0, hbar * omega_1]))))"
   ],
   "outputs": [
    {
     "output_type": "display_data",
     "data": {
      "text/plain": [
       "<IPython.core.display.Math object>"
      ],
      "text/latex": [
       "$\\displaystyle q_{0_{zpf}} = \\frac{\\sqrt{\\hbar}}{\\sqrt{\\omega_{0}} \\sqrt{m}}, \\quad p_{0_{zpf}} = \\sqrt{\\hbar} \\sqrt{\\omega_{0}} \\sqrt{m}$"
      ]
     },
     "metadata": {}
    },
    {
     "output_type": "display_data",
     "data": {
      "text/plain": [
       "<IPython.core.display.Math object>"
      ],
      "text/latex": [
       "$\\displaystyle q_{1_{zpf}} = \\frac{\\sqrt{\\hbar}}{\\sqrt{L} \\sqrt{\\omega_{1}}}, \\quad p_{1_{zpf}} = \\sqrt{\\hbar} \\sqrt{L} \\sqrt{\\omega_{1}}$"
      ]
     },
     "metadata": {}
    },
    {
     "output_type": "display_data",
     "data": {
      "text/plain": [
       "<IPython.core.display.Math object>"
      ],
      "text/latex": [
       "$\\displaystyle \\Rightarrow H_{dim} = - \\hbar i A_{l} \\hat{a}{\\left(t \\right)} + \\hbar i A_{l} \\hat{a}{\\left(t \\right)}^{\\dagger} - \\frac{\\hbar^{\\frac{3}{2}} G \\hat{Q}_{0}{\\left(t \\right)} \\hat{a}{\\left(t \\right)}^{\\dagger} \\hat{a}{\\left(t \\right)}}{\\sqrt{\\omega_{0}} \\sqrt{m}} + \\hbar \\Delta^{(0)} \\hat{a}{\\left(t \\right)}^{\\dagger} \\hat{a}{\\left(t \\right)} + \\frac{\\hbar \\omega_{0} \\hat{P}_{0}^{2}{\\left(t \\right)}}{2} + \\frac{\\hbar \\omega_{0} \\hat{Q}_{0}^{2}{\\left(t \\right)}}{2} + \\frac{\\hbar \\omega_{1} \\hat{P}_{1}^{2}{\\left(t \\right)}}{2} - \\frac{\\sqrt{\\hbar} V_{DC} \\hat{Q}_{1}{\\left(t \\right)}}{\\sqrt{L} \\sqrt{\\omega_{1}}} + \\frac{\\hbar r \\hat{Q}_{1}^{2}{\\left(t \\right)}}{2 C_{b} L \\omega_{1}} - \\frac{\\hbar^{\\frac{3}{2}} r^{2} \\hat{Q}_{0}{\\left(t \\right)} \\hat{Q}_{1}^{2}{\\left(t \\right)}}{2 C_{b} L \\sqrt{\\omega_{0}} \\omega_{1} d \\sqrt{m}}$"
      ]
     },
     "metadata": {}
    },
    {
     "output_type": "display_data",
     "data": {
      "text/plain": [
       "<IPython.core.display.Math object>"
      ],
      "text/latex": [
       "$\\displaystyle g_{0} = \\frac{\\sqrt{2} \\sqrt{\\hbar} G}{2 \\sqrt{\\omega_{0}} \\sqrt{m}},\\quad g_{1} = \\frac{\\sqrt{2} \\sqrt{\\hbar} r^{2}}{8 C_{b} L \\sqrt{\\omega_{0}} \\omega_{1} d \\sqrt{m}}, \\quad A_{v} = \\frac{\\sqrt{2} V_{DC}}{2 \\sqrt{\\hbar} \\sqrt{L} \\sqrt{\\omega_{1}}}$"
      ]
     },
     "metadata": {}
    },
    {
     "output_type": "display_data",
     "data": {
      "text/plain": [
       "<IPython.core.display.Math object>"
      ],
      "text/latex": [
       "$\\displaystyle \\Rightarrow H_{dim} \\approx \\hbar i A_{l} \\left(- \\hat{a}{\\left(t \\right)} + \\hat{a}{\\left(t \\right)}^{\\dagger}\\right) - \\sqrt{2} \\hbar A_{v} \\hat{Q}_{1}{\\left(t \\right)} + \\hbar \\Delta^{(0)} \\hat{a}{\\left(t \\right)}^{\\dagger} \\hat{a}{\\left(t \\right)} + \\hbar \\omega_{0} \\left(\\frac{\\hat{P}_{0}^{2}{\\left(t \\right)}}{2} + \\frac{\\hat{Q}_{0}^{2}{\\left(t \\right)}}{2}\\right) + \\hbar \\omega_{1} \\left(\\frac{\\hat{P}_{1}^{2}{\\left(t \\right)}}{2} + \\frac{\\hat{Q}_{1}^{2}{\\left(t \\right)}}{2}\\right) - \\sqrt{2} \\hbar g_{0} \\hat{Q}_{0}{\\left(t \\right)} \\hat{a}{\\left(t \\right)}^{\\dagger} \\hat{a}{\\left(t \\right)} - 2 \\sqrt{2} \\hbar g_{1} \\hat{Q}_{0}{\\left(t \\right)} \\hat{Q}_{1}^{2}{\\left(t \\right)}$"
      ]
     },
     "metadata": {}
    }
   ],
   "metadata": {}
  },
  {
   "cell_type": "markdown",
   "source": [
    "## Hamiltonian in terms of the Modes"
   ],
   "metadata": {}
  },
  {
   "cell_type": "code",
   "execution_count": 6,
   "source": [
    "# energies and quadratures\n",
    "list_subs = [\n",
    "    (Q_0_t**2 / 2 + P_0_t**2 / 2, Dagger(b_0_t) * b_0_t),\n",
    "    (Q_1_t**2 / 2 + P_1_t**2 / 2, Dagger(b_1_t) * b_1_t),\n",
    "    (Q_0_t, (Dagger(b_0_t) + b_0_t) / sqrt(2)), \n",
    "    (P_0_t, I * (Dagger(b_0_t) - b_0_t) / sqrt(2)), \n",
    "    (Q_1_t, (Dagger(b_1_t) + b_1_t) / sqrt(2)), \n",
    "    (P_1_t, I * (Dagger(b_1_t) - b_1_t) / sqrt(2))\n",
    "]\n",
    "expr_H = expr_H_dim.collect([hbar * omega_0, hbar * omega_1]).subs(list_subs)\n",
    "display(Math('H = ' + latex(expr_H.collect([I * hbar * A_l, - hbar * A_v]))))"
   ],
   "outputs": [
    {
     "output_type": "display_data",
     "data": {
      "text/plain": [
       "<IPython.core.display.Math object>"
      ],
      "text/latex": [
       "$\\displaystyle H = \\hbar i A_{l} \\left(- \\hat{a}{\\left(t \\right)} + \\hat{a}{\\left(t \\right)}^{\\dagger}\\right) - \\hbar A_{v} \\left(\\hat{b}_{1}{\\left(t \\right)} + \\hat{b}_{1}{\\left(t \\right)}^{\\dagger}\\right) + \\hbar \\Delta^{(0)} \\hat{a}{\\left(t \\right)}^{\\dagger} \\hat{a}{\\left(t \\right)} + \\hbar \\omega_{0} \\hat{b}_{0}{\\left(t \\right)}^{\\dagger} \\hat{b}_{0}{\\left(t \\right)} + \\hbar \\omega_{1} \\hat{b}_{1}{\\left(t \\right)}^{\\dagger} \\hat{b}_{1}{\\left(t \\right)} - \\hbar g_{0} \\left(\\hat{b}_{0}{\\left(t \\right)} + \\hat{b}_{0}{\\left(t \\right)}^{\\dagger}\\right) \\hat{a}{\\left(t \\right)}^{\\dagger} \\hat{a}{\\left(t \\right)} - \\hbar g_{1} \\left(\\hat{b}_{0}{\\left(t \\right)} + \\hat{b}_{0}{\\left(t \\right)}^{\\dagger}\\right) \\left(\\hat{b}_{1}{\\left(t \\right)} + \\hat{b}_{1}{\\left(t \\right)}^{\\dagger}\\right)^{2}$"
      ]
     },
     "metadata": {}
    }
   ],
   "metadata": {}
  },
  {
   "cell_type": "markdown",
   "source": [
    "## Heisenberg Equations of Motion"
   ],
   "metadata": {}
  },
  {
   "cell_type": "code",
   "execution_count": 7,
   "source": [
    "# mode rates\n",
    "expr_da_dt_t = (- I / hbar * Commutator(a_t, expr_H)).doit().expand()\n",
    "expr_db_0_dt_t = (- I / hbar * Commutator(b_0_t, expr_H)).doit().expand()\n",
    "expr_db_1_dt_t = (- I / hbar * Commutator(b_1_t, expr_H)).doit().expand()\n",
    "\n",
    "# commutation relations\n",
    "list_subs = [\n",
    "    (a_t * b_0_t, b_0_t * a_t), \n",
    "    (a_t * Dagger(b_0_t), Dagger(b_0_t) * a_t), \n",
    "    (a_t * b_1_t, b_1_t * a_t), \n",
    "    (a_t * Dagger(b_1_t), Dagger(b_1_t) * a_t),\n",
    "    (Dagger(a_t) * b_0_t, b_0_t * Dagger(a_t)), \n",
    "    (Dagger(a_t) * Dagger(b_0_t), Dagger(b_0_t) * Dagger(a_t)), \n",
    "    (Dagger(a_t) * b_1_t, b_1_t * Dagger(a_t)), \n",
    "    (Dagger(a_t) * Dagger(b_1_t), Dagger(b_1_t) * Dagger(a_t)),\n",
    "    (b_0_t * b_1_t, b_1_t * b_0_t), \n",
    "    (b_0_t * Dagger(b_1_t), Dagger(b_1_t) * b_0_t),\n",
    "    (Dagger(b_0_t) * b_1_t, b_1_t * Dagger(b_0_t)), \n",
    "    (Dagger(b_0_t) * Dagger(b_1_t), Dagger(b_1_t) * Dagger(b_0_t))\n",
    "]\n",
    "# cavity mode\n",
    "list_subs += [(a_t * Dagger(a_t), 1 + Dagger(a_t) * a_t)]\n",
    "expr_da_dt_t = expr_da_dt_t.subs(list_subs).expand()\n",
    "expr_da_dt_t = expr_da_dt_t.subs(list_subs).expand()\n",
    "display(Math('\\\\frac{d \\\\dot{\\\\hat{a}}}{dt}(t) = ' + latex(expr_da_dt_t.collect(I * g_0))))\n",
    "# mechanical mode\n",
    "list_subs += [(b_0_t * Dagger(b_0_t), 1 + Dagger(b_0_t) * b_0_t)]\n",
    "expr_db_0_dt_t = expr_db_0_dt_t.subs(list_subs).expand()\n",
    "expr_db_0_dt_t = expr_db_0_dt_t.subs(list_subs).expand()\n",
    "expr_db_0_dt_t = expr_db_0_dt_t.subs(list_subs).expand()\n",
    "display(Math('\\\\frac{d \\\\dot{\\\\hat{b}}_0}{dt}(t) = ' + latex(expr_db_0_dt_t.collect(I * g_1))))\n",
    "# LC circuit mode\n",
    "list_subs += [(b_1_t * Dagger(b_1_t), 1 + Dagger(b_1_t) * b_1_t)]\n",
    "expr_db_1_dt_t = expr_db_1_dt_t.subs(list_subs).expand()\n",
    "expr_db_1_dt_t = expr_db_1_dt_t.subs(list_subs).expand()\n",
    "expr_db_1_dt_t = expr_db_1_dt_t.subs(list_subs).expand()\n",
    "display(Math('\\\\frac{d \\\\dot{\\\\hat{b}}_1}{dt}(t) = ' + latex(expr_db_1_dt_t.collect(2 * I * g_1))))"
   ],
   "outputs": [
    {
     "output_type": "display_data",
     "data": {
      "text/plain": [
       "<IPython.core.display.Math object>"
      ],
      "text/latex": [
       "$\\displaystyle \\frac{d \\dot{\\hat{a}}}{dt}(t) = A_{l} - i \\Delta^{(0)} \\hat{a}{\\left(t \\right)} + i g_{0} \\left(\\hat{b}_{0}{\\left(t \\right)} \\hat{a}{\\left(t \\right)} + \\hat{b}_{0}{\\left(t \\right)}^{\\dagger} \\hat{a}{\\left(t \\right)}\\right)$"
      ]
     },
     "metadata": {}
    },
    {
     "output_type": "display_data",
     "data": {
      "text/plain": [
       "<IPython.core.display.Math object>"
      ],
      "text/latex": [
       "$\\displaystyle \\frac{d \\dot{\\hat{b}}_0}{dt}(t) = - i \\omega_{0} \\hat{b}_{0}{\\left(t \\right)} + i g_{0} \\hat{a}{\\left(t \\right)}^{\\dagger} \\hat{a}{\\left(t \\right)} + i g_{1} \\left(\\hat{b}_{1}{\\left(t \\right)} \\hat{b}_{1}{\\left(t \\right)}^{\\dagger} + \\hat{b}_{1}^{2}{\\left(t \\right)} + \\hat{b}_{1}{\\left(t \\right)}^{\\dagger} \\hat{b}_{1}{\\left(t \\right)} + \\left(\\hat{b}_{1}{\\left(t \\right)}^{\\dagger}\\right)^{2}\\right)$"
      ]
     },
     "metadata": {}
    },
    {
     "output_type": "display_data",
     "data": {
      "text/plain": [
       "<IPython.core.display.Math object>"
      ],
      "text/latex": [
       "$\\displaystyle \\frac{d \\dot{\\hat{b}}_1}{dt}(t) = i A_{v} - i \\omega_{1} \\hat{b}_{1}{\\left(t \\right)} + 2 i g_{1} \\left(\\hat{b}_{1}{\\left(t \\right)} \\hat{b}_{0}{\\left(t \\right)} + \\hat{b}_{1}{\\left(t \\right)} \\hat{b}_{0}{\\left(t \\right)}^{\\dagger} + \\hat{b}_{1}{\\left(t \\right)}^{\\dagger} \\hat{b}_{0}{\\left(t \\right)} + \\hat{b}_{1}{\\left(t \\right)}^{\\dagger} \\hat{b}_{0}{\\left(t \\right)}^{\\dagger}\\right)$"
      ]
     },
     "metadata": {}
    }
   ],
   "metadata": {}
  },
  {
   "cell_type": "markdown",
   "source": [
    "## Quantum Langevin Equations"
   ],
   "metadata": {}
  },
  {
   "cell_type": "code",
   "execution_count": 8,
   "source": [
    "# cavity decay and vaccum fluctuations\n",
    "expr_da_dt_t_io = expr_da_dt_t - kappa * a_t + sqrt(2 * kappa) * a_in_t\n",
    "display(Math('\\\\frac{d \\\\dot{\\\\hat{a}}}{dt}(t) = ' + latex(expr_da_dt_t_io.collect(I * g_0))))\n",
    "# mechanical damping and thermal fluctuations\n",
    "expr_db_0_dt_t_io = expr_db_0_dt_t - gamma_0 * b_0_t + sqrt(2 * gamma_0) * b_0_in_t\n",
    "display(Math('\\\\frac{d \\\\dot{\\\\hat{b}}_0}{dt}(t) = ' + latex(expr_db_0_dt_t_io.collect(I * g_1))))\n",
    "# electrical damping and thermal fluctuations\n",
    "expr_db_1_dt_t_io = expr_db_1_dt_t - gamma_1 * b_1_t + sqrt(2 * gamma_1) * b_1_in_t\n",
    "display(Math('\\\\frac{d \\\\dot{\\\\hat{b}}_1}{dt}(t) = ' + latex(expr_db_1_dt_t_io.collect(2 * I * g_1))))"
   ],
   "outputs": [
    {
     "output_type": "display_data",
     "data": {
      "text/plain": [
       "<IPython.core.display.Math object>"
      ],
      "text/latex": [
       "$\\displaystyle \\frac{d \\dot{\\hat{a}}}{dt}(t) = A_{l} - i \\Delta^{(0)} \\hat{a}{\\left(t \\right)} + \\sqrt{2} \\sqrt{\\kappa} \\hat{a}^{(in)}{\\left(t \\right)} - \\kappa \\hat{a}{\\left(t \\right)} + i g_{0} \\left(\\hat{b}_{0}{\\left(t \\right)} \\hat{a}{\\left(t \\right)} + \\hat{b}_{0}{\\left(t \\right)}^{\\dagger} \\hat{a}{\\left(t \\right)}\\right)$"
      ]
     },
     "metadata": {}
    },
    {
     "output_type": "display_data",
     "data": {
      "text/plain": [
       "<IPython.core.display.Math object>"
      ],
      "text/latex": [
       "$\\displaystyle \\frac{d \\dot{\\hat{b}}_0}{dt}(t) = \\sqrt{2} \\sqrt{\\gamma_{0}} \\hat{b}_{0}^{(in)}{\\left(t \\right)} - \\gamma_{0} \\hat{b}_{0}{\\left(t \\right)} - i \\omega_{0} \\hat{b}_{0}{\\left(t \\right)} + i g_{0} \\hat{a}{\\left(t \\right)}^{\\dagger} \\hat{a}{\\left(t \\right)} + i g_{1} \\left(\\hat{b}_{1}{\\left(t \\right)} \\hat{b}_{1}{\\left(t \\right)}^{\\dagger} + \\hat{b}_{1}^{2}{\\left(t \\right)} + \\hat{b}_{1}{\\left(t \\right)}^{\\dagger} \\hat{b}_{1}{\\left(t \\right)} + \\left(\\hat{b}_{1}{\\left(t \\right)}^{\\dagger}\\right)^{2}\\right)$"
      ]
     },
     "metadata": {}
    },
    {
     "output_type": "display_data",
     "data": {
      "text/plain": [
       "<IPython.core.display.Math object>"
      ],
      "text/latex": [
       "$\\displaystyle \\frac{d \\dot{\\hat{b}}_1}{dt}(t) = i A_{v} + \\sqrt{2} \\sqrt{\\gamma_{1}} \\hat{b}_{1}^{(in)}{\\left(t \\right)} - \\gamma_{1} \\hat{b}_{1}{\\left(t \\right)} - i \\omega_{1} \\hat{b}_{1}{\\left(t \\right)} + 2 i g_{1} \\left(\\hat{b}_{1}{\\left(t \\right)} \\hat{b}_{0}{\\left(t \\right)} + \\hat{b}_{1}{\\left(t \\right)} \\hat{b}_{0}{\\left(t \\right)}^{\\dagger} + \\hat{b}_{1}{\\left(t \\right)}^{\\dagger} \\hat{b}_{0}{\\left(t \\right)} + \\hat{b}_{1}{\\left(t \\right)}^{\\dagger} \\hat{b}_{0}{\\left(t \\right)}^{\\dagger}\\right)$"
      ]
     },
     "metadata": {}
    }
   ],
   "metadata": {}
  },
  {
   "cell_type": "markdown",
   "source": [
    "## Classical Amplitudes"
   ],
   "metadata": {}
  },
  {
   "cell_type": "code",
   "execution_count": 9,
   "source": [
    "# effective detuning\n",
    "list_subs = [\n",
    "    (a_t, alpha_t), (a_in_t, 0),\n",
    "    (b_0_t, beta_0_t), (b_0_in_t, 0),\n",
    "    (b_1_t, beta_1_t), (b_1_in_t, 0),\n",
    "    (Delta_0, Delta_t + g_0 * (beta_0_t + conjugate(beta_0_t)))\n",
    "]\n",
    "display(Math(latex(Delta_t) + ' = ' + latex(Delta_0 - g_0 * (beta_0_t + conjugate(beta_0_t)))))\n",
    "# cavity mode\n",
    "expr_dalpha_dt_t = expr_da_dt_t_io.subs(list_subs).expand()\n",
    "display(Math('\\\\frac{d \\\\dot{\\\\alpha}}{dt}(t) = ' + latex(expr_dalpha_dt_t.collect(- alpha_t))))\n",
    "# mechanical mode\n",
    "expr_dbeta_0_dt_t = expr_db_0_dt_t_io.subs(list_subs).expand()\n",
    "display(Math('\\\\frac{d \\\\dot{\\\\beta}_{0}}{dt}(t) = ' + latex(expr_dbeta_0_dt_t.collect([- beta_0_t, I * g_1]))))\n",
    "# LC circuit mode\n",
    "expr_dbeta_1_dt_t = expr_db_1_dt_t_io.subs(list_subs)\n",
    "display(Math('\\\\frac{d \\\\dot{\\\\beta}_{1}}{dt}(t) = ' + latex(expr_dbeta_1_dt_t.collect([- beta_1_t, 2 * I * g_1]))))"
   ],
   "outputs": [
    {
     "output_type": "display_data",
     "data": {
      "text/plain": [
       "<IPython.core.display.Math object>"
      ],
      "text/latex": [
       "$\\displaystyle \\Delta{\\left(t \\right)} = \\Delta^{(0)} - g_{0} \\left(\\beta_{0}{\\left(t \\right)} + \\overline{\\beta_{0}{\\left(t \\right)}}\\right)$"
      ]
     },
     "metadata": {}
    },
    {
     "output_type": "display_data",
     "data": {
      "text/plain": [
       "<IPython.core.display.Math object>"
      ],
      "text/latex": [
       "$\\displaystyle \\frac{d \\dot{\\alpha}}{dt}(t) = A_{l} - \\left(\\kappa + i \\Delta{\\left(t \\right)}\\right) \\alpha{\\left(t \\right)}$"
      ]
     },
     "metadata": {}
    },
    {
     "output_type": "display_data",
     "data": {
      "text/plain": [
       "<IPython.core.display.Math object>"
      ],
      "text/latex": [
       "$\\displaystyle \\frac{d \\dot{\\beta}_{0}}{dt}(t) = i g_{0} \\alpha{\\left(t \\right)} \\overline{\\alpha{\\left(t \\right)}} + i g_{1} \\left(\\beta_{1}^{2}{\\left(t \\right)} + 2 \\beta_{1}{\\left(t \\right)} \\overline{\\beta_{1}{\\left(t \\right)}} + \\overline{\\beta_{1}{\\left(t \\right)}}^{2}\\right) - \\left(\\gamma_{0} + i \\omega_{0}\\right) \\beta_{0}{\\left(t \\right)}$"
      ]
     },
     "metadata": {}
    },
    {
     "output_type": "display_data",
     "data": {
      "text/plain": [
       "<IPython.core.display.Math object>"
      ],
      "text/latex": [
       "$\\displaystyle \\frac{d \\dot{\\beta}_{1}}{dt}(t) = i A_{v} + 2 i g_{1} \\left(\\beta_{0}{\\left(t \\right)} \\beta_{1}{\\left(t \\right)} + \\beta_{0}{\\left(t \\right)} \\overline{\\beta_{1}{\\left(t \\right)}} + \\beta_{1}{\\left(t \\right)} \\overline{\\beta_{0}{\\left(t \\right)}} + \\overline{\\beta_{0}{\\left(t \\right)}} \\overline{\\beta_{1}{\\left(t \\right)}}\\right) - \\left(\\gamma_{1} + i \\omega_{1}\\right) \\beta_{1}{\\left(t \\right)}$"
      ]
     },
     "metadata": {}
    }
   ],
   "metadata": {}
  },
  {
   "cell_type": "markdown",
   "source": [
    "## Quantum Fluctuations"
   ],
   "metadata": {}
  },
  {
   "cell_type": "code",
   "execution_count": 10,
   "source": [
    "# mode description\n",
    "list_subs_0 = [\n",
    "    (a_t, alpha_t + delta_a_t),\n",
    "    (b_0_t, beta_0_t + delta_b_0_t),\n",
    "    (b_1_t, beta_1_t + delta_b_1_t),\n",
    "    (Delta_0, Delta_t + g_0 * (beta_0_t + conjugate(beta_0_t)))\n",
    "]\n",
    "display(Math(latex(Delta_t) + ' = ' + latex(Delta_0 - g_0 * (beta_0_t + conjugate(beta_0_t)))))\n",
    "# linearization\n",
    "list_subs_1 = [\n",
    "    (delta_a_t * delta_a_t, 0),\n",
    "    (delta_a_t * Dagger(delta_a_t), 0),\n",
    "    (Dagger(delta_a_t) * delta_a_t, 0),\n",
    "    (Dagger(delta_a_t) * Dagger(delta_a_t), 0),\n",
    "    (delta_b_0_t * delta_a_t, 0),\n",
    "    (delta_b_0_t * Dagger(delta_a_t), 0),\n",
    "    (delta_b_0_t * delta_b_0_t, 0),\n",
    "    (delta_b_0_t * Dagger(delta_b_0_t), 0),\n",
    "    (Dagger(delta_b_0_t) * delta_a_t, 0),\n",
    "    (Dagger(delta_b_0_t) * Dagger(delta_a_t), 0),\n",
    "    (Dagger(delta_b_0_t) * delta_b_0_t, 0),\n",
    "    (Dagger(delta_b_0_t) * Dagger(delta_b_0_t), 0),\n",
    "    (delta_b_1_t * delta_a_t, 0),\n",
    "    (delta_b_1_t * Dagger(delta_a_t), 0),\n",
    "    (delta_b_1_t * delta_b_0_t, 0),\n",
    "    (delta_b_1_t * Dagger(delta_b_0_t), 0),\n",
    "    (delta_b_1_t * delta_b_1_t, 0),\n",
    "    (delta_b_1_t * Dagger(delta_b_1_t), 0),\n",
    "    (Dagger(delta_b_1_t) * delta_a_t, 0),\n",
    "    (Dagger(delta_b_1_t) * Dagger(delta_a_t), 0),\n",
    "    (Dagger(delta_b_1_t) * delta_b_0_t, 0),\n",
    "    (Dagger(delta_b_1_t) * Dagger(delta_b_0_t), 0),\n",
    "    (Dagger(delta_b_1_t) * delta_b_1_t, 0),\n",
    "    (Dagger(delta_b_1_t) * Dagger(delta_b_1_t), 0)\n",
    "]\n",
    "# new variables\n",
    "list_subs_2 = [\n",
    "    (g_0 * alpha_t, G_0_t),\n",
    "    (g_0 * conjugate(alpha_t), conjugate(G_0_t)),\n",
    "    (g_1 * beta_0_t, G_10_t - g_1 * conjugate(beta_0_t)),\n",
    "    (g_1 * beta_1_t, G_11_t - g_1 * conjugate(beta_1_t))\n",
    "]\n",
    "display(Math(latex(G_0_t) + ' = ' + latex(g_0 * alpha_t) + ', \\\\quad ' + latex(G_10_t) + ' = ' + latex(g_1 * (conjugate(beta_0_t) + beta_0_t)) + ', \\\\quad ' + latex(G_11_t) + ' = ' + latex(g_1 * (conjugate(beta_1_t) + beta_1_t))))\n",
    "# common terms\n",
    "list_coll = [\n",
    "    I * G_0_t,\n",
    "    I * g_0 * alpha_t, \n",
    "    I * g_0 * conjugate(alpha_t), \n",
    "    I * g_0, \n",
    "    2 * I * G_10_t, \n",
    "    2 * I * g_1 * beta_0_t, \n",
    "    2 * I * g_1 * conjugate(beta_0_t), \n",
    "    2 * I * G_11_t, \n",
    "    2 * I * g_1 * beta_1_t, \n",
    "    2 * I * g_1 * conjugate(beta_1_t), \n",
    "    2 * I * g_1,\n",
    "    I * g_1\n",
    "]\n",
    "# cavity mode\n",
    "expr_ddelta_a_dt_t = expr_da_dt_t_io.subs(list_subs_0).expand() - expr_dalpha_dt_t\n",
    "display(Math('\\\\frac{d \\\\delta \\\\dot{a}}{dt}(t) = ' + latex(expr_ddelta_a_dt_t.collect(list_coll))))\n",
    "expr_ddelta_a_dt_t_lin = expr_ddelta_a_dt_t.subs(list_subs_1).expand().subs(list_subs_2).expand()\n",
    "display(Math('\\\\Rightarrow \\\\frac{d \\\\delta \\\\dot{a}}{dt}(t) \\\\approx ' + latex(expr_ddelta_a_dt_t_lin.collect(list_coll))))\n",
    "# mechanical mode\n",
    "expr_ddelta_b_0_dt_t = expr_db_0_dt_t_io.subs(list_subs_0).expand() - expr_dbeta_0_dt_t.expand()\n",
    "display(Math('\\\\frac{d \\\\delta \\\\dot{b}_{0}}{dt}(t) = ' + latex(expr_ddelta_b_0_dt_t.collect(list_coll))))\n",
    "expr_ddelta_b_0_dt_t_lin = expr_ddelta_b_0_dt_t.subs(list_subs_1).expand().subs(list_subs_2).expand()\n",
    "display(Math('\\\\Rightarrow \\\\frac{d \\\\delta \\\\dot{b}_{0}}{dt}(t) \\\\approx ' + latex(expr_ddelta_b_0_dt_t_lin.collect(list_coll))))\n",
    "# LC circuit mode\n",
    "expr_ddelta_b_1_dt_t = expr_db_1_dt_t_io.subs(list_subs_0).expand() - expr_dbeta_1_dt_t.expand()\n",
    "display(Math('\\\\frac{d \\\\delta \\\\dot{b}_{1}}{dt}(t) = ' + latex(expr_ddelta_b_1_dt_t.collect(list_coll))))\n",
    "expr_ddelta_b_1_dt_t_lin = expr_ddelta_b_1_dt_t.subs(list_subs_1).expand().subs(list_subs_2).expand()\n",
    "display(Math('\\\\Rightarrow \\\\frac{d \\\\delta \\\\dot{b}_{1}}{dt}(t) \\\\approx ' + latex(expr_ddelta_b_1_dt_t_lin.collect(list_coll))))"
   ],
   "outputs": [
    {
     "output_type": "display_data",
     "data": {
      "text/plain": [
       "<IPython.core.display.Math object>"
      ],
      "text/latex": [
       "$\\displaystyle \\Delta{\\left(t \\right)} = \\Delta^{(0)} - g_{0} \\left(\\beta_{0}{\\left(t \\right)} + \\overline{\\beta_{0}{\\left(t \\right)}}\\right)$"
      ]
     },
     "metadata": {}
    },
    {
     "output_type": "display_data",
     "data": {
      "text/plain": [
       "<IPython.core.display.Math object>"
      ],
      "text/latex": [
       "$\\displaystyle \\operatorname{G_{0}}{\\left(t \\right)} = g_{0} \\alpha{\\left(t \\right)}, \\quad \\operatorname{G_{10}}{\\left(t \\right)} = g_{1} \\left(\\beta_{0}{\\left(t \\right)} + \\overline{\\beta_{0}{\\left(t \\right)}}\\right), \\quad \\operatorname{G_{11}}{\\left(t \\right)} = g_{1} \\left(\\beta_{1}{\\left(t \\right)} + \\overline{\\beta_{1}{\\left(t \\right)}}\\right)$"
      ]
     },
     "metadata": {}
    },
    {
     "output_type": "display_data",
     "data": {
      "text/plain": [
       "<IPython.core.display.Math object>"
      ],
      "text/latex": [
       "$\\displaystyle \\frac{d \\delta \\dot{a}}{dt}(t) = \\sqrt{2} \\sqrt{\\kappa} \\hat{a}^{(in)}{\\left(t \\right)} - \\kappa \\delta \\hat{a}{\\left(t \\right)} + i g_{0} \\alpha{\\left(t \\right)} \\left(\\delta \\hat{b}_{0}{\\left(t \\right)} + \\delta \\hat{b}_{0}{\\left(t \\right)}^{\\dagger}\\right) + i g_{0} \\left(\\delta \\hat{b}_{0}{\\left(t \\right)} \\delta \\hat{a}{\\left(t \\right)} + \\delta \\hat{b}_{0}{\\left(t \\right)}^{\\dagger} \\delta \\hat{a}{\\left(t \\right)}\\right) - i \\Delta{\\left(t \\right)} \\delta \\hat{a}{\\left(t \\right)}$"
      ]
     },
     "metadata": {}
    },
    {
     "output_type": "display_data",
     "data": {
      "text/plain": [
       "<IPython.core.display.Math object>"
      ],
      "text/latex": [
       "$\\displaystyle \\Rightarrow \\frac{d \\delta \\dot{a}}{dt}(t) \\approx \\sqrt{2} \\sqrt{\\kappa} \\hat{a}^{(in)}{\\left(t \\right)} - \\kappa \\delta \\hat{a}{\\left(t \\right)} + i \\operatorname{G_{0}}{\\left(t \\right)} \\left(\\delta \\hat{b}_{0}{\\left(t \\right)} + \\delta \\hat{b}_{0}{\\left(t \\right)}^{\\dagger}\\right) - i \\Delta{\\left(t \\right)} \\delta \\hat{a}{\\left(t \\right)}$"
      ]
     },
     "metadata": {}
    },
    {
     "output_type": "display_data",
     "data": {
      "text/plain": [
       "<IPython.core.display.Math object>"
      ],
      "text/latex": [
       "$\\displaystyle \\frac{d \\delta \\dot{b}_{0}}{dt}(t) = \\sqrt{2} \\sqrt{\\gamma_{0}} \\hat{b}_{0}^{(in)}{\\left(t \\right)} - \\gamma_{0} \\delta \\hat{b}_{0}{\\left(t \\right)} - i \\omega_{0} \\delta \\hat{b}_{0}{\\left(t \\right)} + i g_{0} \\alpha{\\left(t \\right)} \\delta \\hat{a}{\\left(t \\right)}^{\\dagger} + i g_{0} \\overline{\\alpha{\\left(t \\right)}} \\delta \\hat{a}{\\left(t \\right)} + i g_{0} \\delta \\hat{a}{\\left(t \\right)}^{\\dagger} \\delta \\hat{a}{\\left(t \\right)} + 2 i g_{1} \\beta_{1}{\\left(t \\right)} \\left(\\delta \\hat{b}_{1}{\\left(t \\right)} + \\delta \\hat{b}_{1}{\\left(t \\right)}^{\\dagger}\\right) + 2 i g_{1} \\overline{\\beta_{1}{\\left(t \\right)}} \\left(\\delta \\hat{b}_{1}{\\left(t \\right)} + \\delta \\hat{b}_{1}{\\left(t \\right)}^{\\dagger}\\right) + i g_{1} \\left(\\delta \\hat{b}_{1}{\\left(t \\right)} \\delta \\hat{b}_{1}{\\left(t \\right)}^{\\dagger} + \\delta \\hat{b}_{1}^{2}{\\left(t \\right)} + \\delta \\hat{b}_{1}{\\left(t \\right)}^{\\dagger} \\delta \\hat{b}_{1}{\\left(t \\right)} + \\left(\\delta \\hat{b}_{1}{\\left(t \\right)}^{\\dagger}\\right)^{2}\\right)$"
      ]
     },
     "metadata": {}
    },
    {
     "output_type": "display_data",
     "data": {
      "text/plain": [
       "<IPython.core.display.Math object>"
      ],
      "text/latex": [
       "$\\displaystyle \\Rightarrow \\frac{d \\delta \\dot{b}_{0}}{dt}(t) \\approx \\sqrt{2} \\sqrt{\\gamma_{0}} \\hat{b}_{0}^{(in)}{\\left(t \\right)} - \\gamma_{0} \\delta \\hat{b}_{0}{\\left(t \\right)} - i \\omega_{0} \\delta \\hat{b}_{0}{\\left(t \\right)} + i \\operatorname{G_{0}}{\\left(t \\right)} \\delta \\hat{a}{\\left(t \\right)}^{\\dagger} + 2 i \\operatorname{G_{11}}{\\left(t \\right)} \\left(\\delta \\hat{b}_{1}{\\left(t \\right)} + \\delta \\hat{b}_{1}{\\left(t \\right)}^{\\dagger}\\right) + i \\overline{\\operatorname{G_{0}}{\\left(t \\right)}} \\delta \\hat{a}{\\left(t \\right)}$"
      ]
     },
     "metadata": {}
    },
    {
     "output_type": "display_data",
     "data": {
      "text/plain": [
       "<IPython.core.display.Math object>"
      ],
      "text/latex": [
       "$\\displaystyle \\frac{d \\delta \\dot{b}_{1}}{dt}(t) = \\sqrt{2} \\sqrt{\\gamma_{1}} \\hat{b}_{1}^{(in)}{\\left(t \\right)} - \\gamma_{1} \\delta \\hat{b}_{1}{\\left(t \\right)} - i \\omega_{1} \\delta \\hat{b}_{1}{\\left(t \\right)} + 2 i g_{1} \\beta_{0}{\\left(t \\right)} \\left(\\delta \\hat{b}_{1}{\\left(t \\right)} + \\delta \\hat{b}_{1}{\\left(t \\right)}^{\\dagger}\\right) + 2 i g_{1} \\beta_{1}{\\left(t \\right)} \\left(\\delta \\hat{b}_{0}{\\left(t \\right)} + \\delta \\hat{b}_{0}{\\left(t \\right)}^{\\dagger}\\right) + 2 i g_{1} \\overline{\\beta_{0}{\\left(t \\right)}} \\left(\\delta \\hat{b}_{1}{\\left(t \\right)} + \\delta \\hat{b}_{1}{\\left(t \\right)}^{\\dagger}\\right) + 2 i g_{1} \\overline{\\beta_{1}{\\left(t \\right)}} \\left(\\delta \\hat{b}_{0}{\\left(t \\right)} + \\delta \\hat{b}_{0}{\\left(t \\right)}^{\\dagger}\\right) + 2 i g_{1} \\left(\\delta \\hat{b}_{1}{\\left(t \\right)} \\delta \\hat{b}_{0}{\\left(t \\right)} + \\delta \\hat{b}_{1}{\\left(t \\right)} \\delta \\hat{b}_{0}{\\left(t \\right)}^{\\dagger} + \\delta \\hat{b}_{1}{\\left(t \\right)}^{\\dagger} \\delta \\hat{b}_{0}{\\left(t \\right)} + \\delta \\hat{b}_{1}{\\left(t \\right)}^{\\dagger} \\delta \\hat{b}_{0}{\\left(t \\right)}^{\\dagger}\\right)$"
      ]
     },
     "metadata": {}
    },
    {
     "output_type": "display_data",
     "data": {
      "text/plain": [
       "<IPython.core.display.Math object>"
      ],
      "text/latex": [
       "$\\displaystyle \\Rightarrow \\frac{d \\delta \\dot{b}_{1}}{dt}(t) \\approx \\sqrt{2} \\sqrt{\\gamma_{1}} \\hat{b}_{1}^{(in)}{\\left(t \\right)} - \\gamma_{1} \\delta \\hat{b}_{1}{\\left(t \\right)} - i \\omega_{1} \\delta \\hat{b}_{1}{\\left(t \\right)} + 2 i \\operatorname{G_{10}}{\\left(t \\right)} \\left(\\delta \\hat{b}_{1}{\\left(t \\right)} + \\delta \\hat{b}_{1}{\\left(t \\right)}^{\\dagger}\\right) + 2 i \\operatorname{G_{11}}{\\left(t \\right)} \\left(\\delta \\hat{b}_{0}{\\left(t \\right)} + \\delta \\hat{b}_{0}{\\left(t \\right)}^{\\dagger}\\right)$"
      ]
     },
     "metadata": {}
    }
   ],
   "metadata": {}
  },
  {
   "cell_type": "markdown",
   "source": [
    "## Fluctuation Quadratures"
   ],
   "metadata": {}
  },
  {
   "cell_type": "code",
   "execution_count": 11,
   "source": [
    "# quadratures\n",
    "expr_delta_a_t = (delta_X_t + I * delta_Y_t) / sqrt(2)\n",
    "expr_delta_b_0_t = (delta_Q_0_t + I * delta_P_0_t) / sqrt(2)\n",
    "expr_delta_b_1_t = (delta_Q_1_t + I * delta_P_1_t) / sqrt(2)\n",
    "display(Math(latex(delta_a_t) + ' = ' + latex(expr_delta_a_t) + ', \\\\quad ' + latex(delta_b_0_t) + ' = ' + latex(expr_delta_b_0_t) + ', \\\\quad ' + latex(delta_b_1_t) + ' = ' + latex(expr_delta_b_1_t)))\n",
    "# noises\n",
    "expr_a_in_t = (X_in_t + I * Y_in_t) / sqrt(2)\n",
    "expr_b_0_in_t = (Q_0_in_t + I * P_0_in_t) / sqrt(2)\n",
    "expr_b_1_in_t = (Q_1_in_t + I * P_1_in_t) / sqrt(2)\n",
    "display(Math(latex(a_in_t) + ' = ' + latex(expr_a_in_t) + ', \\\\quad ' + latex(b_0_in_t) + ' = ' + latex(expr_b_0_in_t) + ', \\\\quad ' + latex(b_1_in_t) + ' = ' + latex(expr_b_1_in_t)))\n",
    "# substitutions\n",
    "list_subs = [\n",
    "    (G_0_t, G_0R_t + I * G_0I_t),\n",
    "    (delta_a_t, expr_delta_a_t),\n",
    "    (a_in_t, expr_a_in_t),\n",
    "    (Dagger(delta_X_t), delta_X_t),\n",
    "    (Dagger(delta_Y_t), delta_Y_t),\n",
    "    (Dagger(X_in_t), X_in_t),\n",
    "    (Dagger(Y_in_t), Y_in_t),\n",
    "    (delta_b_0_t, expr_delta_b_0_t),\n",
    "    (b_0_in_t, expr_b_0_in_t),\n",
    "    (Dagger(delta_Q_0_t), delta_Q_0_t),\n",
    "    (Dagger(delta_P_0_t), delta_P_0_t),\n",
    "    (Dagger(Q_0_in_t), Q_0_in_t),\n",
    "    (Dagger(P_0_in_t), P_0_in_t),\n",
    "    (delta_b_1_t, expr_delta_b_1_t),\n",
    "    (b_1_in_t, expr_b_1_in_t),\n",
    "    (Dagger(delta_Q_1_t), delta_Q_1_t),\n",
    "    (Dagger(delta_P_1_t), delta_P_1_t),\n",
    "    (Dagger(Q_1_in_t), Q_1_in_t),\n",
    "    (Dagger(P_1_in_t), P_1_in_t)\n",
    "]\n",
    "# cavity quadratures\n",
    "expr_ddelta_X_dt_t = (Dagger(expr_ddelta_a_dt_t_lin) + expr_ddelta_a_dt_t_lin) / sqrt(2)\n",
    "expr_ddelta_X_dt_t = expr_ddelta_X_dt_t.subs(list_subs).expand()\n",
    "display(Math('\\\\frac{d \\\\delta \\\\dot{X}}{dt}(t) = ' + latex(expr_ddelta_X_dt_t)))\n",
    "expr_ddelta_Y_dt_t = I * (Dagger(expr_ddelta_a_dt_t_lin) - expr_ddelta_a_dt_t_lin) / sqrt(2)\n",
    "expr_ddelta_Y_dt_t = expr_ddelta_Y_dt_t.subs(list_subs).expand()\n",
    "display(Math('\\\\frac{d \\\\delta \\\\dot{Y}}{dt}(t) = ' + latex(expr_ddelta_Y_dt_t)))\n",
    "# mechanical quadratures\n",
    "expr_ddelta_Q_0_dt_t = (Dagger(expr_ddelta_b_0_dt_t_lin) + expr_ddelta_b_0_dt_t_lin) / sqrt(2)\n",
    "expr_ddelta_Q_0_dt_t = expr_ddelta_Q_0_dt_t.subs(list_subs).expand()\n",
    "display(Math('\\\\frac{d \\\\delta \\\\dot{Q}_{0}}{dt}(t) = ' + latex(expr_ddelta_Q_0_dt_t)))\n",
    "expr_ddelta_P_0_dt_t = I * (Dagger(expr_ddelta_b_0_dt_t_lin) - expr_ddelta_b_0_dt_t_lin) / sqrt(2)\n",
    "expr_ddelta_P_0_dt_t = expr_ddelta_P_0_dt_t.subs(list_subs).expand()\n",
    "display(Math('\\\\frac{d \\\\delta \\\\dot{P}_{0}}{dt}(t) = ' + latex(expr_ddelta_P_0_dt_t)))\n",
    "# LC circuit quadratures\n",
    "expr_ddelta_Q_1_dt_t = (Dagger(expr_ddelta_b_1_dt_t_lin) + expr_ddelta_b_1_dt_t_lin) / sqrt(2)\n",
    "expr_ddelta_Q_1_dt_t = expr_ddelta_Q_1_dt_t.subs(list_subs).expand()\n",
    "display(Math('\\\\frac{d \\\\delta \\\\dot{Q}_{1}}{dt}(t) = ' + latex(expr_ddelta_Q_1_dt_t)))\n",
    "expr_ddelta_P_1_dt_t = I * (Dagger(expr_ddelta_b_1_dt_t_lin) - expr_ddelta_b_1_dt_t_lin) / sqrt(2)\n",
    "expr_ddelta_P_1_dt_t = expr_ddelta_P_1_dt_t.subs(list_subs).expand()\n",
    "display(Math('\\\\frac{d \\\\delta \\\\dot{P}_{1}}{dt}(t) = ' + latex(expr_ddelta_P_1_dt_t)))"
   ],
   "outputs": [
    {
     "output_type": "display_data",
     "data": {
      "text/plain": [
       "<IPython.core.display.Math object>"
      ],
      "text/latex": [
       "$\\displaystyle \\delta \\hat{a}{\\left(t \\right)} = \\frac{\\sqrt{2} \\left(\\delta \\hat{X}{\\left(t \\right)} + i \\delta \\hat{Y}{\\left(t \\right)}\\right)}{2}, \\quad \\delta \\hat{b}_{0}{\\left(t \\right)} = \\frac{\\sqrt{2} \\left(i \\delta \\hat{P}_{0}{\\left(t \\right)} + \\delta \\hat{Q}_{0}{\\left(t \\right)}\\right)}{2}, \\quad \\delta \\hat{b}_{1}{\\left(t \\right)} = \\frac{\\sqrt{2} \\left(i \\delta \\hat{P}_{1}{\\left(t \\right)} + \\delta \\hat{Q}_{1}{\\left(t \\right)}\\right)}{2}$"
      ]
     },
     "metadata": {}
    },
    {
     "output_type": "display_data",
     "data": {
      "text/plain": [
       "<IPython.core.display.Math object>"
      ],
      "text/latex": [
       "$\\displaystyle \\hat{a}^{(in)}{\\left(t \\right)} = \\frac{\\sqrt{2} \\left(\\hat{X}^{(in)}{\\left(t \\right)} + i \\hat{Y}^{(in)}{\\left(t \\right)}\\right)}{2}, \\quad \\hat{b}_{0}^{(in)}{\\left(t \\right)} = \\frac{\\sqrt{2} \\left(i \\hat{P}_{0}^{(in)}{\\left(t \\right)} + \\hat{Q}_{0}^{(in)}{\\left(t \\right)}\\right)}{2}, \\quad \\hat{b}_{1}^{(in)}{\\left(t \\right)} = \\frac{\\sqrt{2} \\left(i \\hat{P}_{1}^{(in)}{\\left(t \\right)} + \\hat{Q}_{1}^{(in)}{\\left(t \\right)}\\right)}{2}$"
      ]
     },
     "metadata": {}
    },
    {
     "output_type": "display_data",
     "data": {
      "text/plain": [
       "<IPython.core.display.Math object>"
      ],
      "text/latex": [
       "$\\displaystyle \\frac{d \\delta \\dot{X}}{dt}(t) = \\sqrt{2} \\sqrt{\\kappa} \\hat{X}^{(in)}{\\left(t \\right)} - \\kappa \\delta \\hat{X}{\\left(t \\right)} - 2 \\operatorname{G_{0I}}{\\left(t \\right)} \\delta \\hat{Q}_{0}{\\left(t \\right)} + \\Delta{\\left(t \\right)} \\delta \\hat{Y}{\\left(t \\right)}$"
      ]
     },
     "metadata": {}
    },
    {
     "output_type": "display_data",
     "data": {
      "text/plain": [
       "<IPython.core.display.Math object>"
      ],
      "text/latex": [
       "$\\displaystyle \\frac{d \\delta \\dot{Y}}{dt}(t) = \\sqrt{2} \\sqrt{\\kappa} \\hat{Y}^{(in)}{\\left(t \\right)} - \\kappa \\delta \\hat{Y}{\\left(t \\right)} + 2 \\operatorname{G_{0R}}{\\left(t \\right)} \\delta \\hat{Q}_{0}{\\left(t \\right)} - \\Delta{\\left(t \\right)} \\delta \\hat{X}{\\left(t \\right)}$"
      ]
     },
     "metadata": {}
    },
    {
     "output_type": "display_data",
     "data": {
      "text/plain": [
       "<IPython.core.display.Math object>"
      ],
      "text/latex": [
       "$\\displaystyle \\frac{d \\delta \\dot{Q}_{0}}{dt}(t) = \\sqrt{2} \\sqrt{\\gamma_{0}} \\hat{Q}_{0}^{(in)}{\\left(t \\right)} - \\gamma_{0} \\delta \\hat{Q}_{0}{\\left(t \\right)} + \\omega_{0} \\delta \\hat{P}_{0}{\\left(t \\right)}$"
      ]
     },
     "metadata": {}
    },
    {
     "output_type": "display_data",
     "data": {
      "text/plain": [
       "<IPython.core.display.Math object>"
      ],
      "text/latex": [
       "$\\displaystyle \\frac{d \\delta \\dot{P}_{0}}{dt}(t) = \\sqrt{2} \\sqrt{\\gamma_{0}} \\hat{P}_{0}^{(in)}{\\left(t \\right)} - \\gamma_{0} \\delta \\hat{P}_{0}{\\left(t \\right)} - \\omega_{0} \\delta \\hat{Q}_{0}{\\left(t \\right)} + 2 \\operatorname{G_{0I}}{\\left(t \\right)} \\delta \\hat{Y}{\\left(t \\right)} + 2 \\operatorname{G_{0R}}{\\left(t \\right)} \\delta \\hat{X}{\\left(t \\right)} + 4 \\operatorname{G_{11}}{\\left(t \\right)} \\delta \\hat{Q}_{1}{\\left(t \\right)}$"
      ]
     },
     "metadata": {}
    },
    {
     "output_type": "display_data",
     "data": {
      "text/plain": [
       "<IPython.core.display.Math object>"
      ],
      "text/latex": [
       "$\\displaystyle \\frac{d \\delta \\dot{Q}_{1}}{dt}(t) = \\sqrt{2} \\sqrt{\\gamma_{1}} \\hat{Q}_{1}^{(in)}{\\left(t \\right)} - \\gamma_{1} \\delta \\hat{Q}_{1}{\\left(t \\right)} + \\omega_{1} \\delta \\hat{P}_{1}{\\left(t \\right)}$"
      ]
     },
     "metadata": {}
    },
    {
     "output_type": "display_data",
     "data": {
      "text/plain": [
       "<IPython.core.display.Math object>"
      ],
      "text/latex": [
       "$\\displaystyle \\frac{d \\delta \\dot{P}_{1}}{dt}(t) = \\sqrt{2} \\sqrt{\\gamma_{1}} \\hat{P}_{1}^{(in)}{\\left(t \\right)} - \\gamma_{1} \\delta \\hat{P}_{1}{\\left(t \\right)} - \\omega_{1} \\delta \\hat{Q}_{1}{\\left(t \\right)} + 4 \\operatorname{G_{10}}{\\left(t \\right)} \\delta \\hat{Q}_{1}{\\left(t \\right)} + 4 \\operatorname{G_{11}}{\\left(t \\right)} \\delta \\hat{Q}_{0}{\\left(t \\right)}$"
      ]
     },
     "metadata": {}
    }
   ],
   "metadata": {}
  }
 ]
}