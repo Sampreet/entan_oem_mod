{
 "metadata": {
  "language_info": {
   "codemirror_mode": {
    "name": "ipython",
    "version": 3
   },
   "file_extension": ".py",
   "mimetype": "text/x-python",
   "name": "python",
   "nbconvert_exporter": "python",
   "pygments_lexer": "ipython3",
   "version": "3.8.5"
  },
  "orig_nbformat": 4,
  "kernelspec": {
   "name": "python3",
   "display_name": "Python 3.8.5 64-bit ('base': conda)"
  },
  "interpreter": {
   "hash": "b3ba2566441a7c06988d0923437866b63cedc61552a5af99d1f4fb67d367b25f"
  }
 },
 "nbformat": 4,
 "nbformat_minor": 2,
 "cells": [
  {
   "source": [
    "# Quantum Langevin Equations for Modulated Optoelectromechanical Systems"
   ],
   "cell_type": "markdown",
   "metadata": {}
  },
  {
   "source": [
    "## Initialization"
   ],
   "cell_type": "markdown",
   "metadata": {}
  },
  {
   "cell_type": "code",
   "execution_count": 1,
   "metadata": {},
   "outputs": [],
   "source": [
    "# dependencies\n",
    "from IPython.display import display, Math\n",
    "from sympy import exp, Function, I, im, latex, re, sqrt, symbols\n",
    "from sympy.physics.quantum import Commutator, Dagger, hbar, Operator"
   ]
  },
  {
   "cell_type": "code",
   "execution_count": 54,
   "metadata": {},
   "outputs": [],
   "source": [
    "# laser\n",
    "A_l, kappa, omega_l = symbols('A_{l}, \\\\kappa, \\\\omega_{l}', real=True, positive=True)\n",
    "# cavity\n",
    "gamma_0, l, omega_c = symbols('\\\\gamma_{0}, l, \\\\omega_{c}', real=True, positive=True)\n",
    "Delta_0 = symbols('\\\\Delta^{(0)}', real=True)\n",
    "# mechanical\n",
    "gamma_1, m, omega_0 = symbols('\\\\gamma_{1}, m, \\\\omega_{0}', real=True, positive=True)\n",
    "# LC circuit\n",
    "C_b, C_p, d, L, omega_1, r = symbols('C_{b}, C_{p}, d, L, \\\\omega_{1}, r', real=True, positive=True)\n",
    "A_v, V_DC = symbols('A_{v}, V_{DC}', real=True)\n",
    "# interaction\n",
    "G, g_0, g_1, g_1_0, g_1_1 = symbols('G, g_{0}, g_{1}, g_{1}^{(0)}, g_{1}^{(1)}', real=True, positive=True)\n",
    "# time \n",
    "t = symbols('t', real=True, positive=True)\n",
    "\n",
    "# modes\n",
    "a_t = Function('\\\\hat{a}', commutative=False)(t)\n",
    "b_0_t = Function('\\\\hat{b}_{0}', commutative=False)(t)\n",
    "b_1_t = Function('\\\\hat{b}_{1}', commutative=False)(t)\n",
    "\n",
    "# quadratures\n",
    "q_0_t = Function('\\\\hat{q}_{0}', commutative=False)(t)\n",
    "p_0_t = Function('\\\\hat{p}_{0}', commutative=False)(t)\n",
    "q_1_t = Function('\\\\hat{q}_{1}', commutative=False)(t)\n",
    "p_1_t = Function('\\\\hat{p}_{1}', commutative=False)(t)\n",
    "\n",
    "# dimensionless quadratures\n",
    "Q_0_t = Function('\\\\hat{Q}_{0}', commutative=False)(t)\n",
    "P_0_t = Function('\\\\hat{P}_{0}', commutative=False)(t)\n",
    "Q_1_t = Function('\\\\hat{Q}_{1}', commutative=False)(t)\n",
    "P_1_t = Function('\\\\hat{P}_{1}', commutative=False)(t)\n",
    "\n",
    "# fluctuations\n",
    "a_in_t = Function('\\\\hat{a}^{(in)}', commutative=False)(t)\n",
    "b_0_in_t = Function('\\\\hat{b}_{0}^{(in)}', commutative=False)(t)\n",
    "b_1_in_t = Function('\\\\hat{b}_{1}^{(in)}', commutative=False)(t)"
   ]
  },
  {
   "source": [
    "## Capacitance"
   ],
   "cell_type": "markdown",
   "metadata": {}
  },
  {
   "cell_type": "code",
   "execution_count": 3,
   "metadata": {},
   "outputs": [
    {
     "output_type": "display_data",
     "data": {
      "text/plain": "<IPython.core.display.Math object>",
      "text/latex": "$\\displaystyle \\frac{1}{C} = \\left(1 - \\frac{\\hat{q}_{0}{\\left(t \\right)}}{d}\\right) \\left(C_{b} + C_{p} \\left(1 - \\frac{\\hat{q}_{0}{\\left(t \\right)}}{d}\\right)\\right)^{-1}$"
     },
     "metadata": {}
    },
    {
     "output_type": "display_data",
     "data": {
      "text/plain": "<IPython.core.display.Math object>",
      "text/latex": "$\\displaystyle \\Rightarrow \\frac{1}{C} = \\frac{r \\left(1 - \\frac{\\hat{q}_{0}{\\left(t \\right)}}{d}\\right) \\left(1 + \\frac{r \\hat{q}_{0}{\\left(t \\right)}}{d} - \\frac{\\hat{q}_{0}{\\left(t \\right)}}{d}\\right)^{-1}}{C_{b}}$"
     },
     "metadata": {}
    },
    {
     "output_type": "display_data",
     "data": {
      "text/plain": "<IPython.core.display.Math object>",
      "text/latex": "$\\displaystyle \\Rightarrow \\frac{1}{C} \\approx \\frac{r}{C_{b}} - \\frac{r^{2} \\hat{q}_{0}{\\left(t \\right)}}{C_{b} d} + \\frac{r^{2} \\hat{q}_{0}^{2}{\\left(t \\right)}}{C_{b} d^{2}} - \\frac{r \\hat{q}_{0}^{2}{\\left(t \\right)}}{C_{b} d^{2}}$"
     },
     "metadata": {}
    },
    {
     "output_type": "display_data",
     "data": {
      "text/plain": "<IPython.core.display.Math object>",
      "text/latex": "$\\displaystyle \\Rightarrow \\frac{1}{C} \\approx \\frac{r}{C_{b}} - \\frac{r^{2} \\hat{q}_{0}{\\left(t \\right)}}{C_{b} d}$"
     },
     "metadata": {}
    }
   ],
   "source": [
    "# capacitance\n",
    "expr_C_num = C_p * (1 - q_0_t / d) + C_b\n",
    "expr_C_den = 1 - q_0_t / d\n",
    "display(Math('\\\\frac{1}{C} = ' + latex(expr_C_den / expr_C_num)))\n",
    "\n",
    "# substitute participation ratio\n",
    "expr_C_num = (expr_C_num * r / C_b).subs(C_p, C_b * (1 - r) / r).expand() * C_b / r\n",
    "expr_C_inv = expr_C_den / expr_C_num\n",
    "display(Math('\\\\Rightarrow \\\\frac{1}{C} = ' + latex(expr_C_inv)))\n",
    "\n",
    "# binomial approximation\n",
    "expr_C_inv_approx = expr_C_inv.subs((1 + r * q_0_t / d - q_0_t / d)**-1, 1 - r * q_0_t / d + q_0_t / d).expand()\n",
    "display(Math('\\\\Rightarrow \\\\frac{1}{C} \\\\approx ' + latex(expr_C_inv_approx)))\n",
    "\n",
    "# neglect quadratic terms\n",
    "expr_C_inv_approx = expr_C_inv_approx.subs(q_0_t**2 / d**2, 0).expand()\n",
    "display(Math('\\\\Rightarrow \\\\frac{1}{C} \\\\approx ' + latex(expr_C_inv_approx)))"
   ]
  },
  {
   "source": [
    "## Inductance"
   ],
   "cell_type": "markdown",
   "metadata": {}
  },
  {
   "cell_type": "code",
   "execution_count": 4,
   "metadata": {},
   "outputs": [
    {
     "output_type": "display_data",
     "data": {
      "text/plain": "<IPython.core.display.Math object>",
      "text/latex": "$\\displaystyle \\frac{1}{L} = \\frac{C_{b} \\omega_{1}^{2} \\left(1 + \\frac{r \\hat{q}_{0}{\\left(t \\right)}}{d} - \\frac{\\hat{q}_{0}{\\left(t \\right)}}{d}\\right) \\left(1 - \\frac{\\hat{q}_{0}{\\left(t \\right)}}{d}\\right)^{-1}}{r}$"
     },
     "metadata": {}
    },
    {
     "output_type": "display_data",
     "data": {
      "text/plain": "<IPython.core.display.Math object>",
      "text/latex": "$\\displaystyle \\Rightarrow \\frac{1}{L} \\approx \\frac{C_{b} \\omega_{1}^{2}}{r} + \\frac{C_{b} \\omega_{1}^{2} \\hat{q}_{0}{\\left(t \\right)}}{d} + \\frac{C_{b} \\omega_{1}^{2} \\hat{q}_{0}^{2}{\\left(t \\right)}}{d^{2}} - \\frac{C_{b} \\omega_{1}^{2} \\hat{q}_{0}^{2}{\\left(t \\right)}}{d^{2} r}$"
     },
     "metadata": {}
    },
    {
     "output_type": "display_data",
     "data": {
      "text/plain": "<IPython.core.display.Math object>",
      "text/latex": "$\\displaystyle \\Rightarrow \\frac{1}{L} \\approx \\frac{C_{b} \\omega_{1}^{2}}{r} + \\frac{C_{b} \\omega_{1}^{2} \\hat{q}_{0}{\\left(t \\right)}}{d}$"
     },
     "metadata": {}
    }
   ],
   "source": [
    "# inductance\n",
    "expr_L_inv = omega_1**2 * (expr_C_num / expr_C_den)\n",
    "display(Math('\\\\frac{1}{L} = ' + latex(expr_L_inv)))\n",
    "\n",
    "# binomial approximation\n",
    "expr_L_inv_approx = expr_L_inv.subs((1 - q_0_t / d)**-1, 1 + q_0_t / d).expand()\n",
    "display(Math('\\\\Rightarrow \\\\frac{1}{L} \\\\approx ' + latex(expr_L_inv_approx)))\n",
    "\n",
    "# neglect quadratic terms\n",
    "expr_L_inv_approx = expr_L_inv_approx.subs((q_0_t / d)**2, 0)\n",
    "display(Math('\\\\Rightarrow \\\\frac{1}{L} \\\\approx ' + latex(expr_L_inv_approx)))"
   ]
  },
  {
   "source": [
    "## Hamiltonian in the Interaction Picture"
   ],
   "cell_type": "markdown",
   "metadata": {}
  },
  {
   "cell_type": "code",
   "execution_count": 5,
   "metadata": {},
   "outputs": [
    {
     "output_type": "display_data",
     "data": {
      "text/plain": "<IPython.core.display.Math object>",
      "text/latex": "$\\displaystyle H_{tot} = \\hbar i A_{l} \\left(- e^{i \\omega_{l} t} \\hat{a}{\\left(t \\right)} + e^{- i \\omega_{l} t} \\hat{a}{\\left(t \\right)}^{\\dagger}\\right) - V_{DC} \\hat{q}_{1}{\\left(t \\right)} + \\frac{\\omega_{0}^{2} m \\hat{q}_{0}^{2}{\\left(t \\right)}}{2} + \\hbar \\omega_{c} \\hat{a}{\\left(t \\right)}^{\\dagger} \\hat{a}{\\left(t \\right)} - \\frac{\\hbar \\omega_{c} \\hat{q}_{0}{\\left(t \\right)} \\hat{a}{\\left(t \\right)}^{\\dagger} \\hat{a}{\\left(t \\right)}}{l} + \\frac{\\hat{p}_{0}^{2}{\\left(t \\right)}}{2 m} + \\frac{\\hat{p}_{1}^{2}{\\left(t \\right)}}{2 L} + \\frac{r \\hat{q}_{1}^{2}{\\left(t \\right)}}{2 C_{b}} - \\frac{r^{2} \\hat{q}_{0}{\\left(t \\right)} \\hat{q}_{1}^{2}{\\left(t \\right)}}{2 C_{b} d}$"
     },
     "metadata": {}
    },
    {
     "output_type": "display_data",
     "data": {
      "text/plain": "<IPython.core.display.Math object>",
      "text/latex": "$\\displaystyle \\Rightarrow H_{int} = - \\hbar i A_{l} \\hat{a}{\\left(t \\right)} + \\hbar i A_{l} \\hat{a}{\\left(t \\right)}^{\\dagger} - \\hbar G \\hat{q}_{0}{\\left(t \\right)} \\hat{a}{\\left(t \\right)}^{\\dagger} \\hat{a}{\\left(t \\right)} - V_{DC} \\hat{q}_{1}{\\left(t \\right)} + \\hbar \\Delta^{(0)} \\hat{a}{\\left(t \\right)}^{\\dagger} \\hat{a}{\\left(t \\right)} + \\frac{\\omega_{0}^{2} m \\hat{q}_{0}^{2}{\\left(t \\right)}}{2} + \\frac{\\hat{p}_{0}^{2}{\\left(t \\right)}}{2 m} + \\frac{\\hat{p}_{1}^{2}{\\left(t \\right)}}{2 L} + \\frac{r \\hat{q}_{1}^{2}{\\left(t \\right)}}{2 C_{b}} - \\frac{r^{2} \\hat{q}_{0}{\\left(t \\right)} \\hat{q}_{1}^{2}{\\left(t \\right)}}{2 C_{b} d}$"
     },
     "metadata": {}
    }
   ],
   "source": [
    "# laser Hamiltonian\n",
    "expr_H_l = I * hbar * A_l * (Dagger(a_t) * exp(- I * omega_l * t) - a_t * exp(I * omega_l * t))\n",
    "# cavity Hamiltonian\n",
    "expr_H_c = hbar * omega_c * Dagger(a_t) * a_t\n",
    "# mechanical Hamiltonian\n",
    "expr_H_0 = m * omega_0**2 * q_0_t**2 / 2 + p_0_t**2 / 2 / m\n",
    "# LC circuit Hamiltonian\n",
    "expr_H_1 = r * q_1_t**2 / 2 / C_b + p_1_t**2 / 2 / L - q_1_t * V_DC\n",
    "# interaction Hamiltonians\n",
    "expr_H_om = - hbar * omega_c / l * q_0_t * Dagger(a_t) * a_t\n",
    "expr_H_em = - r**2 / 2 / C_b / d * q_0_t * q_1_t**2\n",
    "# total Hamiltonian\n",
    "expr_H_tot = expr_H_c + expr_H_0 + expr_H_om + expr_H_1 + expr_H_em + expr_H_l\n",
    "display(Math('H_{tot} = ' + latex(expr_H_tot)))\n",
    "\n",
    "# hamiltonian in the interaction picture\n",
    "list_subs = [\n",
    "    (a_t, a_t * exp(- I * omega_l * t)), \n",
    "    (omega_c / l, G), \n",
    "    (omega_c, omega_l + Delta_0)\n",
    "]\n",
    "expr_H_int = expr_H_tot.subs(list_subs).expand() - hbar * omega_l * Dagger(a_t) * a_t\n",
    "display(Math('\\\\Rightarrow H_{int} = ' + latex(expr_H_int)))"
   ]
  },
  {
   "source": [
    "## Hamiltonian in terms of Dimensionless Quadratures"
   ],
   "cell_type": "markdown",
   "metadata": {}
  },
  {
   "cell_type": "code",
   "execution_count": 6,
   "metadata": {},
   "outputs": [
    {
     "output_type": "display_data",
     "data": {
      "text/plain": "<IPython.core.display.Math object>",
      "text/latex": "$\\displaystyle q_{0_{zpf}} = \\frac{\\sqrt{\\hbar}}{\\sqrt{\\omega_{0}} \\sqrt{m}},\\quad p_{0_{zpf}} = \\sqrt{\\hbar} \\sqrt{\\omega_{0}} \\sqrt{m}$"
     },
     "metadata": {}
    },
    {
     "output_type": "display_data",
     "data": {
      "text/plain": "<IPython.core.display.Math object>",
      "text/latex": "$\\displaystyle q_{1_{zpf}} = \\frac{\\sqrt{\\hbar}}{\\sqrt{L} \\sqrt{\\omega_{1}}},\\quad p_{1_{zpf}} = \\sqrt{\\hbar} \\sqrt{L} \\sqrt{\\omega_{1}}$"
     },
     "metadata": {}
    },
    {
     "output_type": "display_data",
     "data": {
      "text/plain": "<IPython.core.display.Math object>",
      "text/latex": "$\\displaystyle g_{0} = \\frac{\\sqrt{2} \\sqrt{\\hbar} G}{2 \\sqrt{\\omega_{0}} \\sqrt{m}},\\quad g_{1}^{(0)} = \\frac{\\sqrt{2} \\sqrt{\\hbar} r^{2}}{8 C_{b} L \\sqrt{\\omega_{0}} \\omega_{1} d \\sqrt{m}},\\quad A_{v} = \\frac{\\sqrt{2} V_{DC}}{2 \\sqrt{\\hbar} \\sqrt{L} \\sqrt{\\omega_{1}}}$"
     },
     "metadata": {}
    },
    {
     "output_type": "display_data",
     "data": {
      "text/plain": "<IPython.core.display.Math object>",
      "text/latex": "$\\displaystyle \\frac{1}{L} = \\frac{C_{b} \\omega_{1}^{2} \\left(1 + \\frac{\\sqrt{\\hbar} r \\hat{Q}_{0}{\\left(t \\right)}}{\\sqrt{\\omega_{0}} d \\sqrt{m}} - \\frac{\\sqrt{\\hbar} \\hat{Q}_{0}{\\left(t \\right)}}{\\sqrt{\\omega_{0}} d \\sqrt{m}}\\right) \\left(1 - \\frac{\\sqrt{\\hbar} \\hat{Q}_{0}{\\left(t \\right)}}{\\sqrt{\\omega_{0}} d \\sqrt{m}}\\right)^{-1}}{r} \\approx \\frac{C_{b} \\omega_{1}^{2}}{r} + \\frac{\\sqrt{\\hbar} C_{b} \\omega_{1}^{2} \\hat{Q}_{0}{\\left(t \\right)}}{\\sqrt{\\omega_{0}} d \\sqrt{m}}$"
     },
     "metadata": {}
    },
    {
     "output_type": "display_data",
     "data": {
      "text/plain": "<IPython.core.display.Math object>",
      "text/latex": "$\\displaystyle g_{1}^{(1)} = \\frac{\\sqrt{2} \\sqrt{\\hbar} \\omega_{1} r}{8 \\sqrt{\\omega_{0}} d \\sqrt{m}},\\quad g_{1} = g_{1}^{(0)} - g_{1}^{(1)}$"
     },
     "metadata": {}
    },
    {
     "output_type": "display_data",
     "data": {
      "text/plain": "<IPython.core.display.Math object>",
      "text/latex": "$\\displaystyle \\Rightarrow H_{dim} \\approx \\hbar i A_{l} \\left(- \\hat{a}{\\left(t \\right)} + \\hat{a}{\\left(t \\right)}^{\\dagger}\\right) - \\sqrt{2} \\hbar A_{v} \\hat{Q}_{1}{\\left(t \\right)} + \\hbar \\Delta^{(0)} \\hat{a}{\\left(t \\right)}^{\\dagger} \\hat{a}{\\left(t \\right)} + \\hbar \\omega_{0} \\left(\\frac{\\hat{P}_{0}^{2}{\\left(t \\right)}}{2} + \\frac{\\hat{Q}_{0}^{2}{\\left(t \\right)}}{2}\\right) + \\hbar \\omega_{1} \\left(\\frac{\\hat{P}_{1}^{2}{\\left(t \\right)}}{2} + \\frac{\\hat{Q}_{1}^{2}{\\left(t \\right)}}{2}\\right) - \\sqrt{2} \\hbar g_{0} \\hat{Q}_{0}{\\left(t \\right)} \\hat{a}{\\left(t \\right)}^{\\dagger} \\hat{a}{\\left(t \\right)} - 2 \\sqrt{2} \\hbar g_{1} \\hat{Q}_{0}{\\left(t \\right)} \\hat{Q}_{1}^{2}{\\left(t \\right)}$"
     },
     "metadata": {}
    }
   ],
   "source": [
    "# zero point fluctuations\n",
    "expr_q_0_zpf = sqrt(hbar / m / omega_0)\n",
    "expr_p_0_zpf = sqrt(hbar * m * omega_0)\n",
    "expr_q_1_zpf = sqrt(hbar / L / omega_1)\n",
    "expr_p_1_zpf = sqrt(hbar * L * omega_1)\n",
    "list_subs = [\n",
    "    (q_0_t, expr_q_0_zpf * Q_0_t), \n",
    "    (p_0_t, expr_p_0_zpf * P_0_t), \n",
    "    (q_1_t, expr_q_1_zpf * Q_1_t), \n",
    "    (p_1_t, expr_p_1_zpf * P_1_t)\n",
    "]\n",
    "expr_H_dim = expr_H_int.subs(list_subs).expand()\n",
    "display(Math('q_{0_{zpf}} = ' + latex(expr_q_0_zpf) + ',\\\\quad p_{0_{zpf}} = ' + latex(expr_p_0_zpf)))\n",
    "display(Math('q_{1_{zpf}} = ' + latex(expr_q_1_zpf) + ',\\\\quad p_{1_{zpf}} = ' + latex(expr_p_1_zpf)))\n",
    "# display(Math('\\\\Rightarrow H_{dim} = ' + latex(expr_H_dim)))\n",
    "\n",
    "# coupling coefficients\n",
    "expr_g_0 = G * expr_q_0_zpf / sqrt(2)\n",
    "expr_g_1_0 = expr_q_0_zpf * expr_q_1_zpf**2 * r**2 / 4 / sqrt(2) / hbar / C_b / d\n",
    "expr_A_v = expr_q_1_zpf * V_DC / sqrt(2) / hbar\n",
    "expr_L_inv_dim = expr_L_inv.subs(q_0_t, expr_q_0_zpf * Q_0_t)\n",
    "expr_L_inv_approx_dim = expr_L_inv_approx.subs(q_0_t, expr_q_0_zpf * Q_0_t)\n",
    "list_subs = [\n",
    "    (sqrt(2) * expr_g_0, sqrt(2) * g_0), \n",
    "    (2 * sqrt(2) * expr_g_1_0, 2 * sqrt(2) * g_1_0), \n",
    "    (sqrt(2) * hbar * expr_A_v, sqrt(2) * hbar * A_v), \n",
    "    (1 / L, expr_L_inv_approx_dim)\n",
    "]\n",
    "expr_H_dim = expr_H_dim.subs(list_subs).expand()\n",
    "display(Math('g_{0} = ' + latex(expr_g_0) + ',\\\\quad g_{1}^{(0)} = ' + latex(expr_g_1_0) + ',\\\\quad A_{v} = ' + latex(expr_A_v)))\n",
    "display(Math('\\\\frac{1}{L} = ' + latex(expr_L_inv_dim) + ' \\\\approx ' + latex(expr_L_inv_approx_dim)))\n",
    "# display(Math('\\\\Rightarrow H_{dim} \\\\approx ' + latex(expr_H_dim)))\n",
    "\n",
    "# effective coupling constant\n",
    "expr_g_1_1 = r * omega_1 / d * expr_q_0_zpf / 4 / sqrt(2)\n",
    "list_subs = [\n",
    "    (2 * sqrt(2) * expr_g_1_1, 2 * sqrt(2) * g_1_1), \n",
    "    (g_1_0, g_1 + g_1_1)\n",
    "]\n",
    "expr_H_dim = expr_H_dim.subs(list_subs).expand().collect([I * hbar * A_l, hbar * omega_0, hbar * omega_1])\n",
    "display(Math('g_{1}^{(1)} = ' + latex(expr_g_1_1) + ',\\\\quad g_{1} = g_{1}^{(0)} - g_{1}^{(1)}'))\n",
    "display(Math('\\\\Rightarrow H_{dim} \\\\approx ' + latex(expr_H_dim)))"
   ]
  },
  {
   "source": [
    "## Hamiltonian in terms of the Modes"
   ],
   "cell_type": "markdown",
   "metadata": {}
  },
  {
   "cell_type": "code",
   "execution_count": 7,
   "metadata": {},
   "outputs": [
    {
     "output_type": "display_data",
     "data": {
      "text/plain": "<IPython.core.display.Math object>",
      "text/latex": "$\\displaystyle H = \\hbar i A_{l} \\left(- \\hat{a}{\\left(t \\right)} + \\hat{a}{\\left(t \\right)}^{\\dagger}\\right) - \\hbar A_{v} \\left(\\hat{b}_{1}{\\left(t \\right)} + \\hat{b}_{1}{\\left(t \\right)}^{\\dagger}\\right) + \\hbar \\Delta^{(0)} \\hat{a}{\\left(t \\right)}^{\\dagger} \\hat{a}{\\left(t \\right)} + \\hbar \\omega_{0} \\hat{b}_{0}{\\left(t \\right)}^{\\dagger} \\hat{b}_{0}{\\left(t \\right)} + \\hbar \\omega_{1} \\hat{b}_{1}{\\left(t \\right)}^{\\dagger} \\hat{b}_{1}{\\left(t \\right)} - \\hbar g_{0} \\left(\\hat{b}_{0}{\\left(t \\right)} + \\hat{b}_{0}{\\left(t \\right)}^{\\dagger}\\right) \\hat{a}{\\left(t \\right)}^{\\dagger} \\hat{a}{\\left(t \\right)} - \\hbar g_{1} \\left(\\hat{b}_{0}{\\left(t \\right)} + \\hat{b}_{0}{\\left(t \\right)}^{\\dagger}\\right) \\left(\\hat{b}_{1}{\\left(t \\right)} + \\hat{b}_{1}{\\left(t \\right)}^{\\dagger}\\right)^{2}$"
     },
     "metadata": {}
    }
   ],
   "source": [
    "# energies and quadratures\n",
    "list_subs = [\n",
    "    (Q_0_t**2 / 2 + P_0_t**2 / 2, Dagger(b_0_t) * b_0_t),\n",
    "    (Q_1_t**2 / 2 + P_1_t**2 / 2, Dagger(b_1_t) * b_1_t),\n",
    "    (Q_0_t, (Dagger(b_0_t) + b_0_t) / sqrt(2)), \n",
    "    (P_0_t, I * (Dagger(b_0_t) - b_0_t) / sqrt(2)), \n",
    "    (Q_1_t, (Dagger(b_1_t) + b_1_t) / sqrt(2)), \n",
    "    (P_1_t, I * (Dagger(b_1_t) - b_1_t) / sqrt(2))\n",
    "]\n",
    "expr_H = expr_H_dim.subs(list_subs).collect([I * hbar * A_l, - hbar * A_v])\n",
    "display(Math('H = ' + latex(expr_H)))"
   ]
  },
  {
   "source": [
    "## Heisenberg Equations of Motion"
   ],
   "cell_type": "markdown",
   "metadata": {}
  },
  {
   "cell_type": "code",
   "execution_count": 53,
   "metadata": {},
   "outputs": [
    {
     "output_type": "display_data",
     "data": {
      "text/plain": "<IPython.core.display.Math object>",
      "text/latex": "$\\displaystyle \\frac{d\\dot{a}}{dt}(t) = A_{l} - i \\Delta^{(0)} \\hat{a}{\\left(t \\right)} + i g_{0} \\left(\\hat{b}_{0}{\\left(t \\right)} \\hat{a}{\\left(t \\right)} + \\hat{b}_{0}{\\left(t \\right)}^{\\dagger} \\hat{a}{\\left(t \\right)}\\right)$"
     },
     "metadata": {}
    },
    {
     "output_type": "display_data",
     "data": {
      "text/plain": "<IPython.core.display.Math object>",
      "text/latex": "$\\displaystyle \\frac{d\\dot{b}_0}{dt}(t) = - i \\omega_{0} \\hat{b}_{0}{\\left(t \\right)} + i g_{0} \\hat{a}{\\left(t \\right)}^{\\dagger} \\hat{a}{\\left(t \\right)} + i g_{1} \\left(1 + \\hat{b}_{1}^{2}{\\left(t \\right)} + 2 \\hat{b}_{1}{\\left(t \\right)}^{\\dagger} \\hat{b}_{1}{\\left(t \\right)} + \\left(\\hat{b}_{1}{\\left(t \\right)}^{\\dagger}\\right)^{2}\\right)$"
     },
     "metadata": {}
    },
    {
     "output_type": "display_data",
     "data": {
      "text/plain": "<IPython.core.display.Math object>",
      "text/latex": "$\\displaystyle \\frac{d\\dot{b}_1}{dt}(t) = i A_{v} - i \\omega_{1} \\hat{b}_{1}{\\left(t \\right)} + 2 i g_{1} \\left(\\hat{b}_{1}{\\left(t \\right)} \\hat{b}_{0}{\\left(t \\right)} + \\hat{b}_{1}{\\left(t \\right)} \\hat{b}_{0}{\\left(t \\right)}^{\\dagger} + \\hat{b}_{1}{\\left(t \\right)}^{\\dagger} \\hat{b}_{0}{\\left(t \\right)} + \\hat{b}_{1}{\\left(t \\right)}^{\\dagger} \\hat{b}_{0}{\\left(t \\right)}^{\\dagger}\\right)$"
     },
     "metadata": {}
    }
   ],
   "source": [
    "# mode rates\n",
    "expr_da_dt_t = (- I / hbar * Commutator(a_t, expr_H)).doit().expand()\n",
    "expr_db_0_dt_t = (- I / hbar * Commutator(b_0_t, expr_H)).doit().expand()\n",
    "expr_db_1_dt_t = (- I / hbar * Commutator(b_1_t, expr_H)).doit().expand()\n",
    "\n",
    "# commutation relations\n",
    "list_subs = [\n",
    "    (a_t * Dagger(a_t), 1 + Dagger(a_t) * a_t), \n",
    "    (a_t * b_0_t, b_0_t * a_t), \n",
    "    (a_t * Dagger(b_0_t), Dagger(b_0_t) * a_t), \n",
    "    (a_t * b_1_t, b_1_t * a_t), \n",
    "    (a_t * Dagger(b_1_t), Dagger(b_1_t) * a_t),\n",
    "    (Dagger(a_t) * b_0_t, b_0_t * Dagger(a_t)), \n",
    "    (Dagger(a_t) * Dagger(b_0_t), Dagger(b_0_t) * Dagger(a_t)), \n",
    "    (Dagger(a_t) * b_1_t, b_1_t * Dagger(a_t)), \n",
    "    (Dagger(a_t) * Dagger(b_1_t), Dagger(b_1_t) * Dagger(a_t)),\n",
    "    (b_0_t * Dagger(b_0_t), 1 + Dagger(b_0_t) * b_0_t),\n",
    "    (b_0_t * b_1_t, b_1_t * b_0_t), \n",
    "    (b_0_t * Dagger(b_1_t), Dagger(b_1_t) * b_0_t),\n",
    "    (Dagger(b_0_t) * b_1_t, b_1_t * Dagger(b_0_t)), \n",
    "    (Dagger(b_0_t) * Dagger(b_1_t), Dagger(b_1_t) * Dagger(b_0_t)),\n",
    "    (b_1_t * Dagger(b_1_t), 1 + Dagger(b_1_t) * b_1_t),\n",
    "]\n",
    "# cavity mode\n",
    "expr_da_dt_t = expr_da_dt_t.subs(list_subs).expand()\n",
    "expr_da_dt_t = expr_da_dt_t.subs(list_subs).expand().collect(I * g_0)\n",
    "display(Math('\\\\frac{d\\\\dot{a}}{dt}(t) = ' + latex(expr_da_dt_t)))\n",
    "# mechanical mode\n",
    "expr_db_0_dt_t = expr_db_0_dt_t.subs(list_subs).expand()\n",
    "expr_db_0_dt_t = expr_db_0_dt_t.subs(list_subs).expand()\n",
    "expr_db_0_dt_t = expr_db_0_dt_t.subs(list_subs).expand().collect(I * g_1)\n",
    "display(Math('\\\\frac{d\\\\dot{b}_0}{dt}(t) = ' + latex(expr_db_0_dt_t)))\n",
    "# LC circuit mode\n",
    "expr_db_1_dt_t = expr_db_1_dt_t.subs(list_subs).expand()\n",
    "expr_db_1_dt_t = expr_db_1_dt_t.subs(list_subs).expand()\n",
    "expr_db_1_dt_t = expr_db_1_dt_t.subs(list_subs).expand().collect(2 * I * g_1)\n",
    "display(Math('\\\\frac{d\\\\dot{b}_1}{dt}(t) = ' + latex(expr_db_1_dt_t)))"
   ]
  },
  {
   "source": [
    "## Quantum Langevin Equations"
   ],
   "cell_type": "markdown",
   "metadata": {}
  },
  {
   "cell_type": "code",
   "execution_count": 55,
   "metadata": {},
   "outputs": [
    {
     "output_type": "display_data",
     "data": {
      "text/plain": "<IPython.core.display.Math object>",
      "text/latex": "$\\displaystyle \\frac{d\\dot{a}}{dt}(t) = A_{l} - i \\Delta^{(0)} \\hat{a}{\\left(t \\right)} + \\sqrt{2} \\sqrt{\\kappa} \\hat{a}^{(in)}{\\left(t \\right)} - \\kappa \\hat{a}{\\left(t \\right)} + i g_{0} \\left(\\hat{b}_{0}{\\left(t \\right)} \\hat{a}{\\left(t \\right)} + \\hat{b}_{0}{\\left(t \\right)}^{\\dagger} \\hat{a}{\\left(t \\right)}\\right)$"
     },
     "metadata": {}
    },
    {
     "output_type": "display_data",
     "data": {
      "text/plain": "<IPython.core.display.Math object>",
      "text/latex": "$\\displaystyle \\frac{d\\dot{b}_0}{dt}(t) = \\sqrt{2} \\sqrt{\\gamma_{0}} \\hat{b}_{0}^{(in)}{\\left(t \\right)} - \\gamma_{0} \\hat{b}_{0}{\\left(t \\right)} - i \\omega_{0} \\hat{b}_{0}{\\left(t \\right)} + i g_{0} \\hat{a}{\\left(t \\right)}^{\\dagger} \\hat{a}{\\left(t \\right)} + i g_{1} \\left(1 + \\hat{b}_{1}^{2}{\\left(t \\right)} + 2 \\hat{b}_{1}{\\left(t \\right)}^{\\dagger} \\hat{b}_{1}{\\left(t \\right)} + \\left(\\hat{b}_{1}{\\left(t \\right)}^{\\dagger}\\right)^{2}\\right)$"
     },
     "metadata": {}
    },
    {
     "output_type": "display_data",
     "data": {
      "text/plain": "<IPython.core.display.Math object>",
      "text/latex": "$\\displaystyle \\frac{d\\dot{b}_1}{dt}(t) = i A_{v} + \\sqrt{2} \\sqrt{\\gamma_{1}} \\hat{b}_{1}^{(in)}{\\left(t \\right)} - \\gamma_{1} \\hat{b}_{1}{\\left(t \\right)} - i \\omega_{1} \\hat{b}_{1}{\\left(t \\right)} + 2 i g_{1} \\left(\\hat{b}_{1}{\\left(t \\right)} \\hat{b}_{0}{\\left(t \\right)} + \\hat{b}_{1}{\\left(t \\right)} \\hat{b}_{0}{\\left(t \\right)}^{\\dagger} + \\hat{b}_{1}{\\left(t \\right)}^{\\dagger} \\hat{b}_{0}{\\left(t \\right)} + \\hat{b}_{1}{\\left(t \\right)}^{\\dagger} \\hat{b}_{0}{\\left(t \\right)}^{\\dagger}\\right)$"
     },
     "metadata": {}
    }
   ],
   "source": [
    "# cavity decay and vaccum fluctuations\n",
    "expr_da_dt_t_io = expr_da_dt_t - kappa * a_t + sqrt(2 * kappa) * a_in_t\n",
    "display(Math('\\\\frac{d\\\\dot{a}}{dt}(t) = ' + latex(expr_da_dt_t_io)))\n",
    "# mechanical damping and thermal fluctuations\n",
    "expr_db_0_dt_t_io = expr_db_0_dt_t - gamma_0 * b_0_t + sqrt(2 * gamma_0) * b_0_in_t\n",
    "display(Math('\\\\frac{d\\\\dot{b}_0}{dt}(t) = ' + latex(expr_db_0_dt_t_io)))\n",
    "# electrical damping and thermal fluctuations\n",
    "expr_db_1_dt_t_io = expr_db_1_dt_t - gamma_1 * b_1_t + sqrt(2 * gamma_1) * b_1_in_t\n",
    "display(Math('\\\\frac{d\\\\dot{b}_1}{dt}(t) = ' + latex(expr_db_1_dt_t_io)))"
   ]
  }
 ]
}