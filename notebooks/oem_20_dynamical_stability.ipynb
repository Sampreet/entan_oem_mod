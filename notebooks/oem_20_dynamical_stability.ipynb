{
 "cells": [
  {
   "cell_type": "markdown",
   "metadata": {},
   "source": [
    "# Dynamical Stability of the OptoElectroMechanical System with multiple modulations (OEM_20)\n",
    "\n",
    "## Imports and Initialization"
   ]
  },
  {
   "cell_type": "code",
   "execution_count": 1,
   "metadata": {},
   "outputs": [],
   "source": [
    "# dependencies\n",
    "from IPython.display import display, Math\n",
    "from sympy import det, eye, latex, Matrix, sqrt, symbols"
   ]
  },
  {
   "cell_type": "code",
   "execution_count": 2,
   "metadata": {},
   "outputs": [],
   "source": [
    "# system parameters\n",
    "omega_0, omega_1, kappa, gamma_0, gamma_1 = symbols('\\\\omega_{0}, \\\\omega_{1}, \\\\kappa, \\\\gamma_{0}, \\\\gamma_{1}', real=True, positive=True)\n",
    "Delta, G_10, G_11, G_0R, G_0I = symbols('\\\\Delta, G_{10}, G_{11}, G_{0R}, G_{0I}', real=True)"
   ]
  },
  {
   "cell_type": "markdown",
   "metadata": {},
   "source": [
    "## Drift Matrix $A$"
   ]
  },
  {
   "cell_type": "code",
   "execution_count": 3,
   "metadata": {},
   "outputs": [
    {
     "data": {
      "text/latex": [
       "$\\displaystyle A = \\left[\\begin{matrix}- \\kappa & \\Delta & - 2 G_{0I} & 0 & 0 & 0\\\\- \\Delta & - \\kappa & 2 G_{0R} & 0 & 0 & 0\\\\0 & 0 & - \\gamma_{0} & \\omega_{0} & 0 & 0\\\\2 G_{0R} & 2 G_{0I} & - \\omega_{0} & - \\gamma_{0} & 4 G_{11} & 0\\\\0 & 0 & 0 & 0 & - \\gamma_{1} & \\omega_{1}\\\\0 & 0 & 4 G_{11} & 0 & 4 G_{10} - \\omega_{1} & - \\gamma_{1}\\end{matrix}\\right]$"
      ],
      "text/plain": [
       "<IPython.core.display.Math object>"
      ]
     },
     "metadata": {},
     "output_type": "display_data"
    }
   ],
   "source": [
    "# drift matrix\n",
    "A = [[- kappa, Delta, - 2 * G_0I, 0, 0, 0],\n",
    "    [- Delta, - kappa, 2 * G_0R, 0, 0, 0],\n",
    "    [0, 0, - gamma_0, omega_0, 0, 0],\n",
    "    [2 * G_0R, 2 * G_0I, - omega_0, - gamma_0, 4 * G_11, 0],\n",
    "    [0, 0, 0, 0, - gamma_1, omega_1],\n",
    "    [0, 0, 4 * G_11, 0, - omega_1 + 4 * G_10, - gamma_1]]\n",
    "A = Matrix(A)\n",
    "\n",
    "# remove Math function to display LaTeX script\n",
    "display(Math('A = ' + latex(A)))"
   ]
  },
  {
   "cell_type": "markdown",
   "metadata": {},
   "source": [
    "## Characteristic Equation and its Coefficients"
   ]
  },
  {
   "cell_type": "code",
   "execution_count": 4,
   "metadata": {},
   "outputs": [
    {
     "data": {
      "text/latex": [
       "$\\displaystyle 16 G_{0I}^{2} G_{10} \\Delta \\omega_{0} \\omega_{1} - 4 G_{0I}^{2} \\Delta \\gamma_{1}^{2} \\omega_{0} - 4 G_{0I}^{2} \\Delta \\omega_{0} \\omega_{1}^{2} + 16 G_{0R}^{2} G_{10} \\Delta \\omega_{0} \\omega_{1} - 4 G_{0R}^{2} \\Delta \\gamma_{1}^{2} \\omega_{0} - 4 G_{0R}^{2} \\Delta \\omega_{0} \\omega_{1}^{2} - 4 G_{10} \\Delta^{2} \\gamma_{0}^{2} \\omega_{1} - 4 G_{10} \\Delta^{2} \\omega_{0}^{2} \\omega_{1} - 4 G_{10} \\gamma_{0}^{2} \\kappa^{2} \\omega_{1} - 4 G_{10} \\kappa^{2} \\omega_{0}^{2} \\omega_{1} - 16 G_{11}^{2} \\Delta^{2} \\omega_{0} \\omega_{1} - 16 G_{11}^{2} \\kappa^{2} \\omega_{0} \\omega_{1} + \\Delta^{2} \\gamma_{0}^{2} \\gamma_{1}^{2} + \\Delta^{2} \\gamma_{0}^{2} \\omega_{1}^{2} + \\Delta^{2} \\gamma_{1}^{2} \\omega_{0}^{2} + \\Delta^{2} \\omega_{0}^{2} \\omega_{1}^{2} + \\gamma_{0}^{2} \\gamma_{1}^{2} \\kappa^{2} + \\gamma_{0}^{2} \\kappa^{2} \\omega_{1}^{2} + \\gamma_{1}^{2} \\kappa^{2} \\omega_{0}^{2} + \\kappa^{2} \\omega_{0}^{2} \\omega_{1}^{2} + \\lambda^{6} + \\lambda^{5} \\left(2 \\gamma_{0} + 2 \\gamma_{1} + 2 \\kappa\\right) + \\lambda^{4} \\left(- 4 G_{10} \\omega_{1} + \\Delta^{2} + \\gamma_{0}^{2} + 4 \\gamma_{0} \\gamma_{1} + 4 \\gamma_{0} \\kappa + \\gamma_{1}^{2} + 4 \\gamma_{1} \\kappa + \\kappa^{2} + \\omega_{0}^{2} + \\omega_{1}^{2}\\right) + \\lambda^{3} \\left(- 8 G_{10} \\gamma_{0} \\omega_{1} - 8 G_{10} \\kappa \\omega_{1} + 2 \\Delta^{2} \\gamma_{0} + 2 \\Delta^{2} \\gamma_{1} + 2 \\gamma_{0}^{2} \\gamma_{1} + 2 \\gamma_{0}^{2} \\kappa + 2 \\gamma_{0} \\gamma_{1}^{2} + 8 \\gamma_{0} \\gamma_{1} \\kappa + 2 \\gamma_{0} \\kappa^{2} + 2 \\gamma_{0} \\omega_{1}^{2} + 2 \\gamma_{1}^{2} \\kappa + 2 \\gamma_{1} \\kappa^{2} + 2 \\gamma_{1} \\omega_{0}^{2} + 2 \\kappa \\omega_{0}^{2} + 2 \\kappa \\omega_{1}^{2}\\right) + \\lambda^{2} \\left(- 4 G_{0I}^{2} \\Delta \\omega_{0} - 4 G_{0R}^{2} \\Delta \\omega_{0} - 4 G_{10} \\Delta^{2} \\omega_{1} - 4 G_{10} \\gamma_{0}^{2} \\omega_{1} - 16 G_{10} \\gamma_{0} \\kappa \\omega_{1} - 4 G_{10} \\kappa^{2} \\omega_{1} - 4 G_{10} \\omega_{0}^{2} \\omega_{1} - 16 G_{11}^{2} \\omega_{0} \\omega_{1} + \\Delta^{2} \\gamma_{0}^{2} + 4 \\Delta^{2} \\gamma_{0} \\gamma_{1} + \\Delta^{2} \\gamma_{1}^{2} + \\Delta^{2} \\omega_{0}^{2} + \\Delta^{2} \\omega_{1}^{2} + \\gamma_{0}^{2} \\gamma_{1}^{2} + 4 \\gamma_{0}^{2} \\gamma_{1} \\kappa + \\gamma_{0}^{2} \\kappa^{2} + \\gamma_{0}^{2} \\omega_{1}^{2} + 4 \\gamma_{0} \\gamma_{1}^{2} \\kappa + 4 \\gamma_{0} \\gamma_{1} \\kappa^{2} + 4 \\gamma_{0} \\kappa \\omega_{1}^{2} + \\gamma_{1}^{2} \\kappa^{2} + \\gamma_{1}^{2} \\omega_{0}^{2} + 4 \\gamma_{1} \\kappa \\omega_{0}^{2} + \\kappa^{2} \\omega_{0}^{2} + \\kappa^{2} \\omega_{1}^{2} + \\omega_{0}^{2} \\omega_{1}^{2}\\right) + \\lambda \\left(- 8 G_{0I}^{2} \\Delta \\gamma_{1} \\omega_{0} - 8 G_{0R}^{2} \\Delta \\gamma_{1} \\omega_{0} - 8 G_{10} \\Delta^{2} \\gamma_{0} \\omega_{1} - 8 G_{10} \\gamma_{0}^{2} \\kappa \\omega_{1} - 8 G_{10} \\gamma_{0} \\kappa^{2} \\omega_{1} - 8 G_{10} \\kappa \\omega_{0}^{2} \\omega_{1} - 32 G_{11}^{2} \\kappa \\omega_{0} \\omega_{1} + 2 \\Delta^{2} \\gamma_{0}^{2} \\gamma_{1} + 2 \\Delta^{2} \\gamma_{0} \\gamma_{1}^{2} + 2 \\Delta^{2} \\gamma_{0} \\omega_{1}^{2} + 2 \\Delta^{2} \\gamma_{1} \\omega_{0}^{2} + 2 \\gamma_{0}^{2} \\gamma_{1}^{2} \\kappa + 2 \\gamma_{0}^{2} \\gamma_{1} \\kappa^{2} + 2 \\gamma_{0}^{2} \\kappa \\omega_{1}^{2} + 2 \\gamma_{0} \\gamma_{1}^{2} \\kappa^{2} + 2 \\gamma_{0} \\kappa^{2} \\omega_{1}^{2} + 2 \\gamma_{1}^{2} \\kappa \\omega_{0}^{2} + 2 \\gamma_{1} \\kappa^{2} \\omega_{0}^{2} + 2 \\kappa \\omega_{0}^{2} \\omega_{1}^{2}\\right) = 0$"
      ],
      "text/plain": [
       "<IPython.core.display.Math object>"
      ]
     },
     "metadata": {},
     "output_type": "display_data"
    }
   ],
   "source": [
    "# eigenvalues\n",
    "lamb = symbols('\\\\lambda', complex=True)\n",
    "\n",
    "# eigenvalue equation\n",
    "eqtn_eig = lamb * eye(6) - A\n",
    "\n",
    "# characteristic equation\n",
    "eqtn_chr = det(eqtn_eig).expand().collect(lamb)\n",
    "\n",
    "# remove Math function to display LaTeX script\n",
    "display(Math(latex(eqtn_chr) + ' = 0'))"
   ]
  },
  {
   "cell_type": "code",
   "execution_count": 5,
   "metadata": {},
   "outputs": [
    {
     "data": {
      "text/latex": [
       "$\\displaystyle a_{0} = 1$"
      ],
      "text/plain": [
       "<IPython.core.display.Math object>"
      ]
     },
     "metadata": {},
     "output_type": "display_data"
    },
    {
     "data": {
      "text/latex": [
       "$\\displaystyle a_{1} = 2 \\gamma_{0} + 2 \\gamma_{1} + 2 \\kappa$"
      ],
      "text/plain": [
       "<IPython.core.display.Math object>"
      ]
     },
     "metadata": {},
     "output_type": "display_data"
    },
    {
     "data": {
      "text/latex": [
       "$\\displaystyle a_{2} = - 4 G_{10} \\omega_{1} + \\Delta^{2} + \\gamma_{0}^{2} + 4 \\gamma_{0} \\gamma_{1} + 4 \\gamma_{0} \\kappa + \\gamma_{1}^{2} + 4 \\gamma_{1} \\kappa + \\kappa^{2} + \\omega_{0}^{2} + \\omega_{1}^{2}$"
      ],
      "text/plain": [
       "<IPython.core.display.Math object>"
      ]
     },
     "metadata": {},
     "output_type": "display_data"
    },
    {
     "data": {
      "text/latex": [
       "$\\displaystyle a_{3} = - 8 G_{10} \\gamma_{0} \\omega_{1} - 8 G_{10} \\kappa \\omega_{1} + 2 \\Delta^{2} \\gamma_{0} + 2 \\Delta^{2} \\gamma_{1} + 2 \\gamma_{0}^{2} \\gamma_{1} + 2 \\gamma_{0}^{2} \\kappa + 2 \\gamma_{0} \\gamma_{1}^{2} + 8 \\gamma_{0} \\gamma_{1} \\kappa + 2 \\gamma_{0} \\kappa^{2} + 2 \\gamma_{0} \\omega_{1}^{2} + 2 \\gamma_{1}^{2} \\kappa + 2 \\gamma_{1} \\kappa^{2} + 2 \\gamma_{1} \\omega_{0}^{2} + 2 \\kappa \\omega_{0}^{2} + 2 \\kappa \\omega_{1}^{2}$"
      ],
      "text/plain": [
       "<IPython.core.display.Math object>"
      ]
     },
     "metadata": {},
     "output_type": "display_data"
    },
    {
     "data": {
      "text/latex": [
       "$\\displaystyle a_{4} = - 4 G_{0I}^{2} \\Delta \\omega_{0} - 4 G_{0R}^{2} \\Delta \\omega_{0} - 4 G_{10} \\Delta^{2} \\omega_{1} - 4 G_{10} \\gamma_{0}^{2} \\omega_{1} - 16 G_{10} \\gamma_{0} \\kappa \\omega_{1} - 4 G_{10} \\kappa^{2} \\omega_{1} - 4 G_{10} \\omega_{0}^{2} \\omega_{1} - 16 G_{11}^{2} \\omega_{0} \\omega_{1} + \\Delta^{2} \\gamma_{0}^{2} + 4 \\Delta^{2} \\gamma_{0} \\gamma_{1} + \\Delta^{2} \\gamma_{1}^{2} + \\Delta^{2} \\omega_{0}^{2} + \\Delta^{2} \\omega_{1}^{2} + \\gamma_{0}^{2} \\gamma_{1}^{2} + 4 \\gamma_{0}^{2} \\gamma_{1} \\kappa + \\gamma_{0}^{2} \\kappa^{2} + \\gamma_{0}^{2} \\omega_{1}^{2} + 4 \\gamma_{0} \\gamma_{1}^{2} \\kappa + 4 \\gamma_{0} \\gamma_{1} \\kappa^{2} + 4 \\gamma_{0} \\kappa \\omega_{1}^{2} + \\gamma_{1}^{2} \\kappa^{2} + \\gamma_{1}^{2} \\omega_{0}^{2} + 4 \\gamma_{1} \\kappa \\omega_{0}^{2} + \\kappa^{2} \\omega_{0}^{2} + \\kappa^{2} \\omega_{1}^{2} + \\omega_{0}^{2} \\omega_{1}^{2}$"
      ],
      "text/plain": [
       "<IPython.core.display.Math object>"
      ]
     },
     "metadata": {},
     "output_type": "display_data"
    },
    {
     "data": {
      "text/latex": [
       "$\\displaystyle a_{5} = - 8 G_{0I}^{2} \\Delta \\gamma_{1} \\omega_{0} - 8 G_{0R}^{2} \\Delta \\gamma_{1} \\omega_{0} - 8 G_{10} \\Delta^{2} \\gamma_{0} \\omega_{1} - 8 G_{10} \\gamma_{0}^{2} \\kappa \\omega_{1} - 8 G_{10} \\gamma_{0} \\kappa^{2} \\omega_{1} - 8 G_{10} \\kappa \\omega_{0}^{2} \\omega_{1} - 32 G_{11}^{2} \\kappa \\omega_{0} \\omega_{1} + 2 \\Delta^{2} \\gamma_{0}^{2} \\gamma_{1} + 2 \\Delta^{2} \\gamma_{0} \\gamma_{1}^{2} + 2 \\Delta^{2} \\gamma_{0} \\omega_{1}^{2} + 2 \\Delta^{2} \\gamma_{1} \\omega_{0}^{2} + 2 \\gamma_{0}^{2} \\gamma_{1}^{2} \\kappa + 2 \\gamma_{0}^{2} \\gamma_{1} \\kappa^{2} + 2 \\gamma_{0}^{2} \\kappa \\omega_{1}^{2} + 2 \\gamma_{0} \\gamma_{1}^{2} \\kappa^{2} + 2 \\gamma_{0} \\kappa^{2} \\omega_{1}^{2} + 2 \\gamma_{1}^{2} \\kappa \\omega_{0}^{2} + 2 \\gamma_{1} \\kappa^{2} \\omega_{0}^{2} + 2 \\kappa \\omega_{0}^{2} \\omega_{1}^{2}$"
      ],
      "text/plain": [
       "<IPython.core.display.Math object>"
      ]
     },
     "metadata": {},
     "output_type": "display_data"
    },
    {
     "data": {
      "text/latex": [
       "$\\displaystyle a_{6} = 16 G_{0I}^{2} G_{10} \\Delta \\omega_{0} \\omega_{1} - 4 G_{0I}^{2} \\Delta \\gamma_{1}^{2} \\omega_{0} - 4 G_{0I}^{2} \\Delta \\omega_{0} \\omega_{1}^{2} + 16 G_{0R}^{2} G_{10} \\Delta \\omega_{0} \\omega_{1} - 4 G_{0R}^{2} \\Delta \\gamma_{1}^{2} \\omega_{0} - 4 G_{0R}^{2} \\Delta \\omega_{0} \\omega_{1}^{2} - 4 G_{10} \\Delta^{2} \\gamma_{0}^{2} \\omega_{1} - 4 G_{10} \\Delta^{2} \\omega_{0}^{2} \\omega_{1} - 4 G_{10} \\gamma_{0}^{2} \\kappa^{2} \\omega_{1} - 4 G_{10} \\kappa^{2} \\omega_{0}^{2} \\omega_{1} - 16 G_{11}^{2} \\Delta^{2} \\omega_{0} \\omega_{1} - 16 G_{11}^{2} \\kappa^{2} \\omega_{0} \\omega_{1} + \\Delta^{2} \\gamma_{0}^{2} \\gamma_{1}^{2} + \\Delta^{2} \\gamma_{0}^{2} \\omega_{1}^{2} + \\Delta^{2} \\gamma_{1}^{2} \\omega_{0}^{2} + \\Delta^{2} \\omega_{0}^{2} \\omega_{1}^{2} + \\gamma_{0}^{2} \\gamma_{1}^{2} \\kappa^{2} + \\gamma_{0}^{2} \\kappa^{2} \\omega_{1}^{2} + \\gamma_{1}^{2} \\kappa^{2} \\omega_{0}^{2} + \\kappa^{2} \\omega_{0}^{2} \\omega_{1}^{2}$"
      ],
      "text/plain": [
       "<IPython.core.display.Math object>"
      ]
     },
     "metadata": {},
     "output_type": "display_data"
    }
   ],
   "source": [
    "# obtain the coefficients\n",
    "coeffs = list()\n",
    "temp = 0\n",
    "for i in range(6):\n",
    "    coeffs.append(eqtn_chr.coeff(lamb**(6 - i)))\n",
    "    temp += coeffs[i] * lamb**(6 - i)\n",
    "coeffs.append(eqtn_chr - temp)\n",
    "\n",
    "# remove Math function to display LaTeX script\n",
    "for i in range(len(coeffs)):\n",
    "    display(Math('a_{' + str(i) + '} = ' + latex(coeffs[i])))"
   ]
  },
  {
   "cell_type": "markdown",
   "metadata": {},
   "source": [
    "## Simplified Expressions"
   ]
  },
  {
   "cell_type": "code",
   "execution_count": 6,
   "metadata": {},
   "outputs": [
    {
     "data": {
      "text/latex": [
       "$\\displaystyle G = \\sqrt{G_{0I}^{2} + G_{0R}^{2}}\\quad \\Omega_{0} = \\sqrt{\\gamma_{0}^{2} + \\omega_{0}^{2}}\\quad \\Omega_{0} = \\sqrt{\\gamma_{1}^{2} + \\omega_{1} \\left(- 4 G_{10} + \\omega_{1}\\right)}\\quad D = \\sqrt{\\Delta^{2} + \\kappa^{2}}$"
      ],
      "text/plain": [
       "<IPython.core.display.Math object>"
      ]
     },
     "metadata": {},
     "output_type": "display_data"
    },
    {
     "data": {
      "text/latex": [
       "$\\displaystyle a_{0} = 1$"
      ],
      "text/plain": [
       "<IPython.core.display.Math object>"
      ]
     },
     "metadata": {},
     "output_type": "display_data"
    },
    {
     "data": {
      "text/latex": [
       "$\\displaystyle a_{1} = 2 \\gamma_{0} + 2 \\gamma_{1} + 2 \\kappa$"
      ],
      "text/plain": [
       "<IPython.core.display.Math object>"
      ]
     },
     "metadata": {},
     "output_type": "display_data"
    },
    {
     "data": {
      "text/latex": [
       "$\\displaystyle a_{2} = D^{2} + \\Omega_{0}^{2} + \\Omega_{1}^{2} + 4 \\gamma_{0} \\gamma_{1} + 4 \\gamma_{0} \\kappa + 4 \\gamma_{1} \\kappa$"
      ],
      "text/plain": [
       "<IPython.core.display.Math object>"
      ]
     },
     "metadata": {},
     "output_type": "display_data"
    },
    {
     "data": {
      "text/latex": [
       "$\\displaystyle a_{3} = 2 D^{2} \\gamma_{0} + 2 D^{2} \\gamma_{1} + 2 \\Omega_{0}^{2} \\gamma_{1} + 2 \\Omega_{0}^{2} \\kappa + 2 \\Omega_{1}^{2} \\gamma_{0} + 2 \\Omega_{1}^{2} \\kappa + 8 \\gamma_{0} \\gamma_{1} \\kappa$"
      ],
      "text/plain": [
       "<IPython.core.display.Math object>"
      ]
     },
     "metadata": {},
     "output_type": "display_data"
    },
    {
     "data": {
      "text/latex": [
       "$\\displaystyle a_{4} = D^{2} \\Omega_{0}^{2} + D^{2} \\Omega_{1}^{2} + 4 D^{2} \\gamma_{0} \\gamma_{1} - 4 G^{2} \\Delta \\omega_{0} - 16 G_{11}^{2} \\omega_{0} \\omega_{1} + \\Omega_{0}^{2} \\Omega_{1}^{2} + 4 \\Omega_{0}^{2} \\gamma_{1} \\kappa + 4 \\Omega_{1}^{2} \\gamma_{0} \\kappa$"
      ],
      "text/plain": [
       "<IPython.core.display.Math object>"
      ]
     },
     "metadata": {},
     "output_type": "display_data"
    },
    {
     "data": {
      "text/latex": [
       "$\\displaystyle a_{5} = 2 D^{2} \\Omega_{0}^{2} \\gamma_{1} + 2 D^{2} \\Omega_{1}^{2} \\gamma_{0} - 8 G^{2} \\Delta \\gamma_{1} \\omega_{0} - 32 G_{11}^{2} \\kappa \\omega_{0} \\omega_{1} + 2 \\Omega_{0}^{2} \\Omega_{1}^{2} \\kappa$"
      ],
      "text/plain": [
       "<IPython.core.display.Math object>"
      ]
     },
     "metadata": {},
     "output_type": "display_data"
    },
    {
     "data": {
      "text/latex": [
       "$\\displaystyle a_{6} = - 16 D^{2} G_{11}^{2} \\omega_{0} \\omega_{1} + D^{2} \\Omega_{0}^{2} \\Omega_{1}^{2} - 4 G^{2} \\Delta \\Omega_{1}^{2} \\omega_{0}$"
      ],
      "text/plain": [
       "<IPython.core.display.Math object>"
      ]
     },
     "metadata": {},
     "output_type": "display_data"
    },
    {
     "data": {
      "text/latex": [
       "$\\displaystyle \\lambda^{5} c_{0} + \\lambda^{4} c_{1} + \\lambda^{3} c_{2} + \\lambda^{2} c_{3} + \\lambda c_{4} + c_{5} = 0$"
      ],
      "text/plain": [
       "<IPython.core.display.Math object>"
      ]
     },
     "metadata": {},
     "output_type": "display_data"
    }
   ],
   "source": [
    "# simplified parameters\n",
    "G, Omega_0, Omega_1, D= symbols('G, \\\\Omega_{0}, \\\\Omega_{1}, D', real=True)\n",
    "expr_G = sqrt(G_0R**2 + G_0I**2)\n",
    "expr_Omega_0 = sqrt(gamma_0**2 + omega_0**2)\n",
    "expr_Omega_1 = sqrt(gamma_1**2 + omega_1 * (omega_1 - 4 * G_10))\n",
    "expr_D = sqrt(kappa**2 + Delta**2)\n",
    "# remove Math function to display LaTeX script\n",
    "display(Math('G = ' + latex(expr_G) + '\\quad \\\\Omega_{0} = ' + latex(expr_Omega_0) + '\\quad \\\\Omega_{0} = ' + latex(expr_Omega_1) + '\\quad D = ' + latex(expr_D)))\n",
    "\n",
    "# substitution list\n",
    "list_subs = [\n",
    "    (G_0I**2, G**2 - G_0R**2),\n",
    "    (kappa**2, D**2 - Delta**2),\n",
    "    (gamma_0**2, Omega_0**2 - omega_0**2),\n",
    "    (gamma_1**2, Omega_1**2 - omega_1 * (omega_1 - 4 * G_10)),\n",
    "    (sqrt(D**2 - Delta**2), kappa),\n",
    "    (sqrt(Omega_0**2 - omega_0**2), gamma_0),\n",
    "    (sqrt(Omega_1**2 - omega_1 * (omega_1 - 4 * G_10)), gamma_1)\n",
    "]\n",
    "# calculate coefficients\n",
    "coeffs_subs = list()\n",
    "for i in range(len(coeffs)):\n",
    "    coeffs_subs.append(coeffs[i].subs(list_subs).expand())\n",
    "    # remove Math function to display LaTeX script\n",
    "    display(Math('a_{' + str(i) + '} = ' + latex(coeffs_subs[i])))\n",
    "# display substituted equation\n",
    "expr_beta_0s_sum_poly_t = sum([symbols('c_{}'.format(n)) * symbols('\\\\lambda')**(5 - n) for n in range(6)])\n",
    "display(Math(latex(expr_beta_0s_sum_poly_t) + ' = 0'))"
   ]
  },
  {
   "cell_type": "code",
   "execution_count": 7,
   "metadata": {},
   "outputs": [
    {
     "data": {
      "text/latex": [
       "$\\displaystyle M = \\left[\\begin{matrix}a_{1} & a_{0} & 0 & 0 & 0 & 0\\\\a_{3} & a_{2} & a_{1} & a_{0} & 0 & 0\\\\a_{5} & a_{4} & a_{3} & a_{2} & a_{1} & a_{0}\\\\0 & a_{6} & a_{5} & a_{4} & a_{3} & a_{2}\\\\0 & 0 & 0 & a_{6} & a_{5} & a_{4}\\\\0 & 0 & 0 & 0 & 0 & a_{6}\\end{matrix}\\right]$"
      ],
      "text/plain": [
       "<IPython.core.display.Math object>"
      ]
     },
     "metadata": {},
     "output_type": "display_data"
    }
   ],
   "source": [
    "# coefficient matrix\n",
    "M = list()\n",
    "a_0, a_1, a_2, a_3, a_4, a_5, a_6 = symbols('a_0, a_1, a_2, a_3, a_4, a_5, a_6', real=True)\n",
    "temp_coeffs = [a_0, a_1, a_2, a_3, a_4, a_5, a_6]\n",
    "for i in range(6):\n",
    "    temp = list()\n",
    "    for j in range(6):\n",
    "        if 2 * i - j + 1 >=0 and 2 * i - j + 1 <= 6:\n",
    "            temp.append(temp_coeffs[2 * i - j + 1])\n",
    "        else: \n",
    "            temp.append(0)\n",
    "    M.append(temp)\n",
    "# convert to sympy matrix\n",
    "M = Matrix(M)\n",
    "\n",
    "# remove Math function to display LaTeX script\n",
    "display(Math('M = ' + latex(M)))"
   ]
  },
  {
   "cell_type": "code",
   "execution_count": 8,
   "metadata": {},
   "outputs": [
    {
     "data": {
      "text/latex": [
       "$\\displaystyle T_{0} = 1$"
      ],
      "text/plain": [
       "<IPython.core.display.Math object>"
      ]
     },
     "metadata": {},
     "output_type": "display_data"
    },
    {
     "data": {
      "text/latex": [
       "$\\displaystyle T_{1} = a_{1}$"
      ],
      "text/plain": [
       "<IPython.core.display.Math object>"
      ]
     },
     "metadata": {},
     "output_type": "display_data"
    },
    {
     "data": {
      "text/latex": [
       "$\\displaystyle T_{2} = - a_{0} a_{3} + a_{1} a_{2}$"
      ],
      "text/plain": [
       "<IPython.core.display.Math object>"
      ]
     },
     "metadata": {},
     "output_type": "display_data"
    },
    {
     "data": {
      "text/latex": [
       "$\\displaystyle T_{3} = a_{0} a_{1} a_{5} - a_{0} a_{3}^{2} - a_{1}^{2} a_{4} + a_{1} a_{2} a_{3}$"
      ],
      "text/plain": [
       "<IPython.core.display.Math object>"
      ]
     },
     "metadata": {},
     "output_type": "display_data"
    },
    {
     "data": {
      "text/latex": [
       "$\\displaystyle T_{4} = - a_{0}^{2} a_{5}^{2} - a_{0} a_{1} a_{3} a_{6} + 2 a_{0} a_{1} a_{4} a_{5} + a_{0} a_{2} a_{3} a_{5} - a_{0} a_{3}^{2} a_{4} + a_{1}^{2} a_{2} a_{6} - a_{1}^{2} a_{4}^{2} - a_{1} a_{2}^{2} a_{5} + a_{1} a_{2} a_{3} a_{4}$"
      ],
      "text/plain": [
       "<IPython.core.display.Math object>"
      ]
     },
     "metadata": {},
     "output_type": "display_data"
    },
    {
     "data": {
      "text/latex": [
       "$\\displaystyle T_{5} = - a_{0}^{2} a_{5}^{3} - 3 a_{0} a_{1} a_{3} a_{5} a_{6} + 2 a_{0} a_{1} a_{4} a_{5}^{2} + a_{0} a_{2} a_{3} a_{5}^{2} + a_{0} a_{3}^{3} a_{6} - a_{0} a_{3}^{2} a_{4} a_{5} - a_{1}^{3} a_{6}^{2} + 2 a_{1}^{2} a_{2} a_{5} a_{6} + a_{1}^{2} a_{3} a_{4} a_{6} - a_{1}^{2} a_{4}^{2} a_{5} - a_{1} a_{2}^{2} a_{5}^{2} - a_{1} a_{2} a_{3}^{2} a_{6} + a_{1} a_{2} a_{3} a_{4} a_{5}$"
      ],
      "text/plain": [
       "<IPython.core.display.Math object>"
      ]
     },
     "metadata": {},
     "output_type": "display_data"
    },
    {
     "data": {
      "text/latex": [
       "$\\displaystyle T_{6} = - a_{6} \\left(a_{0}^{2} a_{5}^{3} + 3 a_{0} a_{1} a_{3} a_{5} a_{6} - 2 a_{0} a_{1} a_{4} a_{5}^{2} - a_{0} a_{2} a_{3} a_{5}^{2} - a_{0} a_{3}^{3} a_{6} + a_{0} a_{3}^{2} a_{4} a_{5} + a_{1}^{3} a_{6}^{2} - 2 a_{1}^{2} a_{2} a_{5} a_{6} - a_{1}^{2} a_{3} a_{4} a_{6} + a_{1}^{2} a_{4}^{2} a_{5} + a_{1} a_{2}^{2} a_{5}^{2} + a_{1} a_{2} a_{3}^{2} a_{6} - a_{1} a_{2} a_{3} a_{4} a_{5}\\right)$"
      ],
      "text/plain": [
       "<IPython.core.display.Math object>"
      ]
     },
     "metadata": {},
     "output_type": "display_data"
    }
   ],
   "source": [
    "# sequence\n",
    "seq = list()\n",
    "seq.append(coeffs_subs[0])\n",
    "for i in range(1, 7):\n",
    "    sub_M = M[:i, :i]\n",
    "    seq.append(sub_M.det(method='berkowitz').expand().factor())\n",
    "\n",
    "# remove Math function to display LaTeX script\n",
    "for i in range(len(seq)):\n",
    "    display(Math('T_{' + str(i) + '} = ' + latex(seq[i])))"
   ]
  }
 ],
 "metadata": {
  "interpreter": {
   "hash": "b3ba2566441a7c06988d0923437866b63cedc61552a5af99d1f4fb67d367b25f"
  },
  "kernelspec": {
   "display_name": "Python 3.8.5 64-bit ('base': conda)",
   "language": "python",
   "name": "python3"
  },
  "language_info": {
   "codemirror_mode": {
    "name": "ipython",
    "version": 3
   },
   "file_extension": ".py",
   "mimetype": "text/x-python",
   "name": "python",
   "nbconvert_exporter": "python",
   "pygments_lexer": "ipython3",
   "version": "3.8.8"
  },
  "orig_nbformat": 2
 },
 "nbformat": 4,
 "nbformat_minor": 2
}
